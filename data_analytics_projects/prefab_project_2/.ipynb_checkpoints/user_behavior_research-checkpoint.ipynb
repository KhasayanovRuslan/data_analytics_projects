{
 "cells": [
  {
   "cell_type": "markdown",
   "metadata": {},
   "source": [
    "# Описание проекта"
   ]
  },
  {
   "cell_type": "markdown",
   "metadata": {},
   "source": [
    "Вы работаете в стартапе, который продаёт продукты питания. Нужно разобраться, как ведут себя пользователи вашего мобильного приложения. \n",
    "\n",
    "Изучите воронку продаж. Узнайте, как пользователи доходят до покупки. Сколько пользователей доходит до покупки, а сколько — «застревает» на предыдущих шагах? На каких именно?\n",
    "\n",
    "После этого исследуйте результаты A/A/B-эксперимента. Дизайнеры захотели поменять шрифты во всём приложении, а менеджеры испугались, что пользователям будет непривычно. Договорились принять решение по результатам A/A/B-теста. Пользователей разбили на 3 группы: 2 контрольные со старыми шрифтами и одну экспериментальную — с новыми. Выясните, какой шрифт лучше.\n",
    "\n",
    "Создание двух групп A вместо одной имеет определённые преимущества. Если две контрольные группы окажутся равны, вы можете быть уверены в точности проведенного тестирования. Если же между значениями A и A будут существенные различия, это поможет обнаружить факторы, которые привели к искажению результатов. Сравнение контрольных групп также помогает понять, сколько времени и данных потребуется для дальнейших тестов.\n",
    "\n",
    "В случае общей аналитики и A/A/B-эксперимента работайте с одними и теми же данными. В реальных проектах всегда идут эксперименты. Аналитики исследуют качество работы приложения по общим данным, не учитывая принадлежность пользователей к экспериментам.\n"
   ]
  },
  {
   "cell_type": "markdown",
   "metadata": {},
   "source": [
    "# Описание данных"
   ]
  },
  {
   "cell_type": "markdown",
   "metadata": {},
   "source": [
    "Каждая запись в логе — это действие пользователя, или событие. \n",
    "\n",
    "- EventName — название события;\n",
    "- DeviceIDHash — уникальный идентификатор пользователя;\n",
    "- EventTimestamp — время события;\n",
    "- ExpId — номер эксперимента: 246 и 247 — контрольные группы, а 248 — экспериментальная."
   ]
  },
  {
   "cell_type": "markdown",
   "metadata": {},
   "source": [
    "## Изучение общей информации"
   ]
  },
  {
   "cell_type": "code",
   "execution_count": 21,
   "metadata": {},
   "outputs": [],
   "source": [
    "import pandas as pd\n",
    "import datetime as dt\n",
    "from scipy import stats as st\n",
    "import numpy as np\n",
    "import math as mth"
   ]
  },
  {
   "cell_type": "code",
   "execution_count": 22,
   "metadata": {},
   "outputs": [
    {
     "data": {
      "text/html": [
       "<div>\n",
       "<style scoped>\n",
       "    .dataframe tbody tr th:only-of-type {\n",
       "        vertical-align: middle;\n",
       "    }\n",
       "\n",
       "    .dataframe tbody tr th {\n",
       "        vertical-align: top;\n",
       "    }\n",
       "\n",
       "    .dataframe thead th {\n",
       "        text-align: right;\n",
       "    }\n",
       "</style>\n",
       "<table border=\"1\" class=\"dataframe\">\n",
       "  <thead>\n",
       "    <tr style=\"text-align: right;\">\n",
       "      <th></th>\n",
       "      <th>EventName</th>\n",
       "      <th>DeviceIDHash</th>\n",
       "      <th>EventTimestamp</th>\n",
       "      <th>ExpId</th>\n",
       "    </tr>\n",
       "  </thead>\n",
       "  <tbody>\n",
       "    <tr>\n",
       "      <th>0</th>\n",
       "      <td>MainScreenAppear</td>\n",
       "      <td>4575588528974610257</td>\n",
       "      <td>1564029816</td>\n",
       "      <td>246</td>\n",
       "    </tr>\n",
       "    <tr>\n",
       "      <th>1</th>\n",
       "      <td>MainScreenAppear</td>\n",
       "      <td>7416695313311560658</td>\n",
       "      <td>1564053102</td>\n",
       "      <td>246</td>\n",
       "    </tr>\n",
       "    <tr>\n",
       "      <th>2</th>\n",
       "      <td>PaymentScreenSuccessful</td>\n",
       "      <td>3518123091307005509</td>\n",
       "      <td>1564054127</td>\n",
       "      <td>248</td>\n",
       "    </tr>\n",
       "    <tr>\n",
       "      <th>3</th>\n",
       "      <td>CartScreenAppear</td>\n",
       "      <td>3518123091307005509</td>\n",
       "      <td>1564054127</td>\n",
       "      <td>248</td>\n",
       "    </tr>\n",
       "    <tr>\n",
       "      <th>4</th>\n",
       "      <td>PaymentScreenSuccessful</td>\n",
       "      <td>6217807653094995999</td>\n",
       "      <td>1564055322</td>\n",
       "      <td>248</td>\n",
       "    </tr>\n",
       "  </tbody>\n",
       "</table>\n",
       "</div>"
      ],
      "text/plain": [
       "                 EventName         DeviceIDHash  EventTimestamp  ExpId\n",
       "0         MainScreenAppear  4575588528974610257      1564029816    246\n",
       "1         MainScreenAppear  7416695313311560658      1564053102    246\n",
       "2  PaymentScreenSuccessful  3518123091307005509      1564054127    248\n",
       "3         CartScreenAppear  3518123091307005509      1564054127    248\n",
       "4  PaymentScreenSuccessful  6217807653094995999      1564055322    248"
      ]
     },
     "execution_count": 22,
     "metadata": {},
     "output_type": "execute_result"
    }
   ],
   "source": [
    "logs_exp = pd.read_csv('/datasets/logs_exp.csv', sep='\\t')\n",
    "logs_exp.head()"
   ]
  },
  {
   "cell_type": "markdown",
   "metadata": {},
   "source": [
    "## Подготовка данных"
   ]
  },
  {
   "cell_type": "code",
   "execution_count": 23,
   "metadata": {},
   "outputs": [
    {
     "name": "stdout",
     "output_type": "stream",
     "text": [
      "<class 'pandas.core.frame.DataFrame'>\n",
      "RangeIndex: 244126 entries, 0 to 244125\n",
      "Data columns (total 4 columns):\n",
      " #   Column          Non-Null Count   Dtype \n",
      "---  ------          --------------   ----- \n",
      " 0   EventName       244126 non-null  object\n",
      " 1   DeviceIDHash    244126 non-null  int64 \n",
      " 2   EventTimestamp  244126 non-null  int64 \n",
      " 3   ExpId           244126 non-null  int64 \n",
      "dtypes: int64(3), object(1)\n",
      "memory usage: 7.5+ MB\n"
     ]
    }
   ],
   "source": [
    "logs_exp.info()"
   ]
  },
  {
   "cell_type": "code",
   "execution_count": 24,
   "metadata": {},
   "outputs": [
    {
     "data": {
      "text/plain": [
       "EventName         0\n",
       "DeviceIDHash      0\n",
       "EventTimestamp    0\n",
       "ExpId             0\n",
       "dtype: int64"
      ]
     },
     "execution_count": 24,
     "metadata": {},
     "output_type": "execute_result"
    }
   ],
   "source": [
    "# Проверка на пропуски\n",
    "logs_exp.isna().sum()"
   ]
  },
  {
   "cell_type": "code",
   "execution_count": 25,
   "metadata": {},
   "outputs": [
    {
     "data": {
      "text/plain": [
       "413"
      ]
     },
     "execution_count": 25,
     "metadata": {},
     "output_type": "execute_result"
    }
   ],
   "source": [
    "# Проверка на дубликаты\n",
    "logs_exp.duplicated().sum()"
   ]
  },
  {
   "cell_type": "code",
   "execution_count": 26,
   "metadata": {},
   "outputs": [
    {
     "data": {
      "text/html": [
       "<div>\n",
       "<style scoped>\n",
       "    .dataframe tbody tr th:only-of-type {\n",
       "        vertical-align: middle;\n",
       "    }\n",
       "\n",
       "    .dataframe tbody tr th {\n",
       "        vertical-align: top;\n",
       "    }\n",
       "\n",
       "    .dataframe thead th {\n",
       "        text-align: right;\n",
       "    }\n",
       "</style>\n",
       "<table border=\"1\" class=\"dataframe\">\n",
       "  <thead>\n",
       "    <tr style=\"text-align: right;\">\n",
       "      <th></th>\n",
       "      <th>event_name</th>\n",
       "      <th>user_id</th>\n",
       "      <th>event_timestamp</th>\n",
       "      <th>group_id</th>\n",
       "    </tr>\n",
       "  </thead>\n",
       "  <tbody>\n",
       "    <tr>\n",
       "      <th>0</th>\n",
       "      <td>MainScreenAppear</td>\n",
       "      <td>4575588528974610257</td>\n",
       "      <td>1564029816</td>\n",
       "      <td>246</td>\n",
       "    </tr>\n",
       "    <tr>\n",
       "      <th>1</th>\n",
       "      <td>MainScreenAppear</td>\n",
       "      <td>7416695313311560658</td>\n",
       "      <td>1564053102</td>\n",
       "      <td>246</td>\n",
       "    </tr>\n",
       "    <tr>\n",
       "      <th>2</th>\n",
       "      <td>PaymentScreenSuccessful</td>\n",
       "      <td>3518123091307005509</td>\n",
       "      <td>1564054127</td>\n",
       "      <td>248</td>\n",
       "    </tr>\n",
       "    <tr>\n",
       "      <th>3</th>\n",
       "      <td>CartScreenAppear</td>\n",
       "      <td>3518123091307005509</td>\n",
       "      <td>1564054127</td>\n",
       "      <td>248</td>\n",
       "    </tr>\n",
       "    <tr>\n",
       "      <th>4</th>\n",
       "      <td>PaymentScreenSuccessful</td>\n",
       "      <td>6217807653094995999</td>\n",
       "      <td>1564055322</td>\n",
       "      <td>248</td>\n",
       "    </tr>\n",
       "  </tbody>\n",
       "</table>\n",
       "</div>"
      ],
      "text/plain": [
       "                event_name              user_id  event_timestamp  group_id\n",
       "0         MainScreenAppear  4575588528974610257       1564029816       246\n",
       "1         MainScreenAppear  7416695313311560658       1564053102       246\n",
       "2  PaymentScreenSuccessful  3518123091307005509       1564054127       248\n",
       "3         CartScreenAppear  3518123091307005509       1564054127       248\n",
       "4  PaymentScreenSuccessful  6217807653094995999       1564055322       248"
      ]
     },
     "execution_count": 26,
     "metadata": {},
     "output_type": "execute_result"
    }
   ],
   "source": [
    "logs_exp = logs_exp.rename(columns={'EventName': 'event_name', 'DeviceIDHash': 'user_id',\\\n",
    "                                   'EventTimestamp': 'event_timestamp', 'ExpId': 'group_id'})\n",
    "logs_exp.head()"
   ]
  },
  {
   "cell_type": "code",
   "execution_count": 27,
   "metadata": {},
   "outputs": [
    {
     "data": {
      "text/html": [
       "<div>\n",
       "<style scoped>\n",
       "    .dataframe tbody tr th:only-of-type {\n",
       "        vertical-align: middle;\n",
       "    }\n",
       "\n",
       "    .dataframe tbody tr th {\n",
       "        vertical-align: top;\n",
       "    }\n",
       "\n",
       "    .dataframe thead th {\n",
       "        text-align: right;\n",
       "    }\n",
       "</style>\n",
       "<table border=\"1\" class=\"dataframe\">\n",
       "  <thead>\n",
       "    <tr style=\"text-align: right;\">\n",
       "      <th></th>\n",
       "      <th>event_name</th>\n",
       "      <th>user_id</th>\n",
       "      <th>event_timestamp</th>\n",
       "      <th>group_id</th>\n",
       "      <th>datetime</th>\n",
       "      <th>date</th>\n",
       "    </tr>\n",
       "  </thead>\n",
       "  <tbody>\n",
       "    <tr>\n",
       "      <th>0</th>\n",
       "      <td>MainScreenAppear</td>\n",
       "      <td>4575588528974610257</td>\n",
       "      <td>1564029816</td>\n",
       "      <td>246</td>\n",
       "      <td>2019-07-25 04:43:36</td>\n",
       "      <td>2019-07-25</td>\n",
       "    </tr>\n",
       "    <tr>\n",
       "      <th>1</th>\n",
       "      <td>MainScreenAppear</td>\n",
       "      <td>7416695313311560658</td>\n",
       "      <td>1564053102</td>\n",
       "      <td>246</td>\n",
       "      <td>2019-07-25 11:11:42</td>\n",
       "      <td>2019-07-25</td>\n",
       "    </tr>\n",
       "    <tr>\n",
       "      <th>2</th>\n",
       "      <td>PaymentScreenSuccessful</td>\n",
       "      <td>3518123091307005509</td>\n",
       "      <td>1564054127</td>\n",
       "      <td>248</td>\n",
       "      <td>2019-07-25 11:28:47</td>\n",
       "      <td>2019-07-25</td>\n",
       "    </tr>\n",
       "    <tr>\n",
       "      <th>3</th>\n",
       "      <td>CartScreenAppear</td>\n",
       "      <td>3518123091307005509</td>\n",
       "      <td>1564054127</td>\n",
       "      <td>248</td>\n",
       "      <td>2019-07-25 11:28:47</td>\n",
       "      <td>2019-07-25</td>\n",
       "    </tr>\n",
       "    <tr>\n",
       "      <th>4</th>\n",
       "      <td>PaymentScreenSuccessful</td>\n",
       "      <td>6217807653094995999</td>\n",
       "      <td>1564055322</td>\n",
       "      <td>248</td>\n",
       "      <td>2019-07-25 11:48:42</td>\n",
       "      <td>2019-07-25</td>\n",
       "    </tr>\n",
       "  </tbody>\n",
       "</table>\n",
       "</div>"
      ],
      "text/plain": [
       "                event_name              user_id  event_timestamp  group_id  \\\n",
       "0         MainScreenAppear  4575588528974610257       1564029816       246   \n",
       "1         MainScreenAppear  7416695313311560658       1564053102       246   \n",
       "2  PaymentScreenSuccessful  3518123091307005509       1564054127       248   \n",
       "3         CartScreenAppear  3518123091307005509       1564054127       248   \n",
       "4  PaymentScreenSuccessful  6217807653094995999       1564055322       248   \n",
       "\n",
       "             datetime        date  \n",
       "0 2019-07-25 04:43:36  2019-07-25  \n",
       "1 2019-07-25 11:11:42  2019-07-25  \n",
       "2 2019-07-25 11:28:47  2019-07-25  \n",
       "3 2019-07-25 11:28:47  2019-07-25  \n",
       "4 2019-07-25 11:48:42  2019-07-25  "
      ]
     },
     "execution_count": 27,
     "metadata": {},
     "output_type": "execute_result"
    }
   ],
   "source": [
    "# Добавление столбца даты и времени и столбца дат\n",
    "logs_exp['datetime'] = pd.to_datetime(logs_exp['event_timestamp'], unit='s')\n",
    "logs_exp['date'] = logs_exp['datetime'].dt.date\n",
    "logs_exp.head()"
   ]
  },
  {
   "cell_type": "code",
   "execution_count": 28,
   "metadata": {},
   "outputs": [],
   "source": [
    "# Удаляем дубликаты\n",
    "logs_exp = logs_exp.drop_duplicates().reset_index(drop=True)"
   ]
  },
  {
   "cell_type": "markdown",
   "metadata": {},
   "source": [
    "## Изучение и проверка данных"
   ]
  },
  {
   "cell_type": "code",
   "execution_count": 29,
   "metadata": {},
   "outputs": [
    {
     "data": {
      "text/plain": [
       "243713"
      ]
     },
     "execution_count": 29,
     "metadata": {},
     "output_type": "execute_result"
    }
   ],
   "source": [
    "# Сколько всего событий в логе?\n",
    "events_count = logs_exp['event_name'].count()\n",
    "events_count"
   ]
  },
  {
   "cell_type": "code",
   "execution_count": 30,
   "metadata": {},
   "outputs": [
    {
     "data": {
      "text/plain": [
       "7551"
      ]
     },
     "execution_count": 30,
     "metadata": {},
     "output_type": "execute_result"
    }
   ],
   "source": [
    "# Сколько всего пользователей в логе?\n",
    "users_count = logs_exp['user_id'].nunique()\n",
    "users_count"
   ]
  },
  {
   "cell_type": "code",
   "execution_count": 31,
   "metadata": {},
   "outputs": [
    {
     "data": {
      "text/plain": [
       "event_name    32.275593\n",
       "dtype: float64"
      ]
     },
     "execution_count": 31,
     "metadata": {},
     "output_type": "execute_result"
    }
   ],
   "source": [
    "# Сколько в среднем событий приходится на пользователя?\n",
    "logs_exp.groupby('user_id').agg({'event_name': 'count'}).mean()"
   ]
  },
  {
   "cell_type": "code",
   "execution_count": 32,
   "metadata": {},
   "outputs": [
    {
     "data": {
      "text/plain": [
       "datetime.date(2019, 8, 7)"
      ]
     },
     "metadata": {},
     "output_type": "display_data"
    },
    {
     "data": {
      "text/plain": [
       "datetime.date(2019, 7, 25)"
      ]
     },
     "metadata": {},
     "output_type": "display_data"
    }
   ],
   "source": [
    "# Данными за какой период вы располагаете?\n",
    "display(logs_exp['date'].max())\n",
    "display(logs_exp['date'].min())"
   ]
  },
  {
   "cell_type": "markdown",
   "metadata": {},
   "source": [
    "25 июля - 7 августа 2019"
   ]
  },
  {
   "cell_type": "code",
   "execution_count": 33,
   "metadata": {},
   "outputs": [
    {
     "data": {
      "text/plain": [
       "<AxesSubplot:>"
      ]
     },
     "execution_count": 33,
     "metadata": {},
     "output_type": "execute_result"
    },
    {
     "data": {
      "image/png": "[encoded data removed]",
      "text/plain": [
       "<Figure size 432x288 with 1 Axes>"
      ]
     },
     "metadata": {
      "needs_background": "light"
     },
     "output_type": "display_data"
    }
   ],
   "source": [
    "# Гистограмма по дате и времени\n",
    "logs_exp['datetime'].hist(xrot=60)"
   ]
  },
  {
   "cell_type": "code",
   "execution_count": 34,
   "metadata": {},
   "outputs": [
    {
     "data": {
      "image/png": "[encoded data removed]",
      "text/plain": [
       "<Figure size 1008x360 with 1 Axes>"
      ]
     },
     "metadata": {
      "needs_background": "light"
     },
     "output_type": "display_data"
    }
   ],
   "source": [
    "# код ревьюера\n",
    "logs_exp['datetime'].hist(bins=14*24, figsize=(14, 5));"
   ]
  },
  {
   "cell_type": "markdown",
   "metadata": {},
   "source": [
    "Можно ли быть уверенным, что у вас одинаково полные данные за весь период? \n",
    "\n",
    "Ответ: Быть уверенным, что наблюдаются одинаково полные данные за весь период, нельзя, так как мы видим \"перекос данных\" в сторону первой недели августа(технически в логи новых дней по некоторым пользователям могут «доезжать» события из прошлого)."
   ]
  },
  {
   "cell_type": "code",
   "execution_count": 35,
   "metadata": {},
   "outputs": [],
   "source": [
    "# Оставляем только полные данные\n",
    "logs_exp = logs_exp[logs_exp['date'] >= dt.date(2019, 8, 1)]"
   ]
  },
  {
   "cell_type": "code",
   "execution_count": 36,
   "metadata": {},
   "outputs": [
    {
     "data": {
      "text/plain": [
       "datetime.date(2019, 8, 7)"
      ]
     },
     "metadata": {},
     "output_type": "display_data"
    },
    {
     "data": {
      "text/plain": [
       "datetime.date(2019, 8, 1)"
      ]
     },
     "metadata": {},
     "output_type": "display_data"
    }
   ],
   "source": [
    "# Данными за какой период времени вы располагаете на самом деле?\n",
    "display(logs_exp['date'].max())\n",
    "display(logs_exp['date'].min())"
   ]
  },
  {
   "cell_type": "markdown",
   "metadata": {},
   "source": [
    "1-7 августа 2019"
   ]
  },
  {
   "cell_type": "code",
   "execution_count": 55,
   "metadata": {},
   "outputs": [
    {
     "data": {
      "text/plain": [
       "'Абсолютная разница количества потерянных событий'"
      ]
     },
     "metadata": {},
     "output_type": "display_data"
    },
    {
     "data": {
      "text/plain": [
       "2826"
      ]
     },
     "metadata": {},
     "output_type": "display_data"
    },
    {
     "data": {
      "text/plain": [
       "'Абсолютная разница количества потерянных пользователей'"
      ]
     },
     "metadata": {},
     "output_type": "display_data"
    },
    {
     "data": {
      "text/plain": [
       "17"
      ]
     },
     "metadata": {},
     "output_type": "display_data"
    },
    {
     "data": {
      "text/plain": [
       "'Относительная разница количества потерянных событий в процентах'"
      ]
     },
     "metadata": {},
     "output_type": "display_data"
    },
    {
     "data": {
      "text/plain": [
       "1.2"
      ]
     },
     "metadata": {},
     "output_type": "display_data"
    },
    {
     "data": {
      "text/plain": [
       "'Относительная разница количества потерянных пользователей в процентах'"
      ]
     },
     "metadata": {},
     "output_type": "display_data"
    },
    {
     "data": {
      "text/plain": [
       "0.2"
      ]
     },
     "metadata": {},
     "output_type": "display_data"
    }
   ],
   "source": [
    "# Много ли событий и пользователей вы потеряли, отбросив старые данные?\n",
    "# В начале шага 3 мы считали количество событий и пользователей.\n",
    "# Они равняются соответственно 243713 и 7551.\n",
    "# Посчитаем, сколько событий и пользователей мы потеряли.\n",
    "\n",
    "display('Абсолютная разница количества потерянных событий', events_count - logs_exp['event_name'].count())\n",
    "display('Абсолютная разница количества потерянных пользователей', users_count - logs_exp['user_id'].nunique())\n",
    "\n",
    "display('Относительная разница количества потерянных событий в процентах', (1 - logs_exp['event_name'].count() / events_count).round(3) * 100)\n",
    "display('Относительная разница количества потерянных пользователей в процентах', round((1 - logs_exp['user_id'].nunique() / users_count), 3) * 100)"
   ]
  },
  {
   "cell_type": "code",
   "execution_count": 56,
   "metadata": {},
   "outputs": [
    {
     "data": {
      "text/plain": [
       "array([246, 247, 248])"
      ]
     },
     "execution_count": 56,
     "metadata": {},
     "output_type": "execute_result"
    }
   ],
   "source": [
    "# Проверьте, что у вас есть пользователи из всех трёх экспериментальных групп.\n",
    "logs_exp['group_id'].unique()"
   ]
  },
  {
   "cell_type": "markdown",
   "metadata": {},
   "source": [
    "## Изучение воронки событий"
   ]
  },
  {
   "cell_type": "code",
   "execution_count": 57,
   "metadata": {},
   "outputs": [
    {
     "data": {
      "text/plain": [
       "MainScreenAppear           117328\n",
       "OffersScreenAppear          46333\n",
       "CartScreenAppear            42303\n",
       "PaymentScreenSuccessful     33918\n",
       "Tutorial                     1005\n",
       "Name: event_name, dtype: int64"
      ]
     },
     "execution_count": 57,
     "metadata": {},
     "output_type": "execute_result"
    }
   ],
   "source": [
    "# Посмотрите, какие события есть в логах, как часто они встречаются. \n",
    "# Отсортируйте события по частоте.\n",
    "logs_exp['event_name'].value_counts()"
   ]
  },
  {
   "cell_type": "code",
   "execution_count": 58,
   "metadata": {},
   "outputs": [
    {
     "data": {
      "text/html": [
       "<div>\n",
       "<style scoped>\n",
       "    .dataframe tbody tr th:only-of-type {\n",
       "        vertical-align: middle;\n",
       "    }\n",
       "\n",
       "    .dataframe tbody tr th {\n",
       "        vertical-align: top;\n",
       "    }\n",
       "\n",
       "    .dataframe thead th {\n",
       "        text-align: right;\n",
       "    }\n",
       "</style>\n",
       "<table border=\"1\" class=\"dataframe\">\n",
       "  <thead>\n",
       "    <tr style=\"text-align: right;\">\n",
       "      <th></th>\n",
       "      <th>event_name</th>\n",
       "      <th>users_count</th>\n",
       "    </tr>\n",
       "  </thead>\n",
       "  <tbody>\n",
       "    <tr>\n",
       "      <th>1</th>\n",
       "      <td>MainScreenAppear</td>\n",
       "      <td>7419</td>\n",
       "    </tr>\n",
       "    <tr>\n",
       "      <th>2</th>\n",
       "      <td>OffersScreenAppear</td>\n",
       "      <td>4593</td>\n",
       "    </tr>\n",
       "    <tr>\n",
       "      <th>0</th>\n",
       "      <td>CartScreenAppear</td>\n",
       "      <td>3734</td>\n",
       "    </tr>\n",
       "    <tr>\n",
       "      <th>3</th>\n",
       "      <td>PaymentScreenSuccessful</td>\n",
       "      <td>3539</td>\n",
       "    </tr>\n",
       "    <tr>\n",
       "      <th>4</th>\n",
       "      <td>Tutorial</td>\n",
       "      <td>840</td>\n",
       "    </tr>\n",
       "  </tbody>\n",
       "</table>\n",
       "</div>"
      ],
      "text/plain": [
       "                event_name  users_count\n",
       "1         MainScreenAppear         7419\n",
       "2       OffersScreenAppear         4593\n",
       "0         CartScreenAppear         3734\n",
       "3  PaymentScreenSuccessful         3539\n",
       "4                 Tutorial          840"
      ]
     },
     "execution_count": 58,
     "metadata": {},
     "output_type": "execute_result"
    }
   ],
   "source": [
    "# Посчитайте, сколько пользователей совершали каждое из этих событий.\n",
    "# Отсортируйте события по числу пользователей.\n",
    "events_users = logs_exp.groupby('event_name', as_index=False).agg({'user_id': 'nunique'})\\\n",
    ".sort_values(by='user_id', ascending=False).rename(columns={'user_id': 'users_count'})\n",
    "events_users"
   ]
  },
  {
   "cell_type": "code",
   "execution_count": 59,
   "metadata": {},
   "outputs": [
    {
     "data": {
      "text/html": [
       "<div>\n",
       "<style scoped>\n",
       "    .dataframe tbody tr th:only-of-type {\n",
       "        vertical-align: middle;\n",
       "    }\n",
       "\n",
       "    .dataframe tbody tr th {\n",
       "        vertical-align: top;\n",
       "    }\n",
       "\n",
       "    .dataframe thead th {\n",
       "        text-align: right;\n",
       "    }\n",
       "</style>\n",
       "<table border=\"1\" class=\"dataframe\">\n",
       "  <thead>\n",
       "    <tr style=\"text-align: right;\">\n",
       "      <th></th>\n",
       "      <th>event_name</th>\n",
       "      <th>users_count</th>\n",
       "      <th>share_users</th>\n",
       "    </tr>\n",
       "  </thead>\n",
       "  <tbody>\n",
       "    <tr>\n",
       "      <th>1</th>\n",
       "      <td>MainScreenAppear</td>\n",
       "      <td>7419</td>\n",
       "      <td>98.47</td>\n",
       "    </tr>\n",
       "    <tr>\n",
       "      <th>2</th>\n",
       "      <td>OffersScreenAppear</td>\n",
       "      <td>4593</td>\n",
       "      <td>60.96</td>\n",
       "    </tr>\n",
       "    <tr>\n",
       "      <th>0</th>\n",
       "      <td>CartScreenAppear</td>\n",
       "      <td>3734</td>\n",
       "      <td>49.56</td>\n",
       "    </tr>\n",
       "    <tr>\n",
       "      <th>3</th>\n",
       "      <td>PaymentScreenSuccessful</td>\n",
       "      <td>3539</td>\n",
       "      <td>46.97</td>\n",
       "    </tr>\n",
       "    <tr>\n",
       "      <th>4</th>\n",
       "      <td>Tutorial</td>\n",
       "      <td>840</td>\n",
       "      <td>11.15</td>\n",
       "    </tr>\n",
       "  </tbody>\n",
       "</table>\n",
       "</div>"
      ],
      "text/plain": [
       "                event_name  users_count  share_users\n",
       "1         MainScreenAppear         7419        98.47\n",
       "2       OffersScreenAppear         4593        60.96\n",
       "0         CartScreenAppear         3734        49.56\n",
       "3  PaymentScreenSuccessful         3539        46.97\n",
       "4                 Tutorial          840        11.15"
      ]
     },
     "execution_count": 59,
     "metadata": {},
     "output_type": "execute_result"
    }
   ],
   "source": [
    "# Посчитайте долю пользователей, которые хоть раз совершали событие.\n",
    "users_count = logs_exp['user_id'].nunique()\n",
    "events_users['share_users'] = (events_users['users_count'].div(users_count) * 100).round(2)\n",
    "events_users"
   ]
  },
  {
   "cell_type": "markdown",
   "metadata": {},
   "source": [
    "Предположите, в каком порядке происходят события. \n",
    "\n",
    "Ответ: Вероятно, порядок событий такой: Tutorial -> MainScreenAppear -> OffersScreenAppear -> CartScreenAppear -> PaymentScreenSuccessful\n",
    "\n",
    "Все ли они выстраиваются в последовательную цепочку?\n",
    "\n",
    "Ответ: Нет. Может не быть события Tutorial, если пользователь пропускает его и сразу переходит на главный экран.\n",
    "(Tutorial по условию можно не учитывать при расчёте воронки)"
   ]
  },
  {
   "cell_type": "code",
   "execution_count": 60,
   "metadata": {},
   "outputs": [
    {
     "data": {
      "text/html": [
       "<div>\n",
       "<style scoped>\n",
       "    .dataframe tbody tr th:only-of-type {\n",
       "        vertical-align: middle;\n",
       "    }\n",
       "\n",
       "    .dataframe tbody tr th {\n",
       "        vertical-align: top;\n",
       "    }\n",
       "\n",
       "    .dataframe thead th {\n",
       "        text-align: right;\n",
       "    }\n",
       "</style>\n",
       "<table border=\"1\" class=\"dataframe\">\n",
       "  <thead>\n",
       "    <tr style=\"text-align: right;\">\n",
       "      <th></th>\n",
       "      <th>event_name</th>\n",
       "      <th>users_count</th>\n",
       "      <th>share_users</th>\n",
       "      <th>conversion_per_step</th>\n",
       "    </tr>\n",
       "  </thead>\n",
       "  <tbody>\n",
       "    <tr>\n",
       "      <th>1</th>\n",
       "      <td>MainScreenAppear</td>\n",
       "      <td>7419</td>\n",
       "      <td>98.47</td>\n",
       "      <td>NaN</td>\n",
       "    </tr>\n",
       "    <tr>\n",
       "      <th>2</th>\n",
       "      <td>OffersScreenAppear</td>\n",
       "      <td>4593</td>\n",
       "      <td>60.96</td>\n",
       "      <td>62.0</td>\n",
       "    </tr>\n",
       "    <tr>\n",
       "      <th>0</th>\n",
       "      <td>CartScreenAppear</td>\n",
       "      <td>3734</td>\n",
       "      <td>49.56</td>\n",
       "      <td>81.0</td>\n",
       "    </tr>\n",
       "    <tr>\n",
       "      <th>3</th>\n",
       "      <td>PaymentScreenSuccessful</td>\n",
       "      <td>3539</td>\n",
       "      <td>46.97</td>\n",
       "      <td>95.0</td>\n",
       "    </tr>\n",
       "  </tbody>\n",
       "</table>\n",
       "</div>"
      ],
      "text/plain": [
       "                event_name  users_count  share_users  conversion_per_step\n",
       "1         MainScreenAppear         7419        98.47                  NaN\n",
       "2       OffersScreenAppear         4593        60.96                 62.0\n",
       "0         CartScreenAppear         3734        49.56                 81.0\n",
       "3  PaymentScreenSuccessful         3539        46.97                 95.0"
      ]
     },
     "execution_count": 60,
     "metadata": {},
     "output_type": "execute_result"
    }
   ],
   "source": [
    "# По воронке событий посчитайте, какая доля пользователей проходит \n",
    "# на следующий шаг воронки (от числа пользователей на предыдущем).\n",
    "events_users = events_users.drop(4)\n",
    "events_users['conversion_per_step'] = (events_users['users_count']/(events_users['users_count']).shift()).round(2) * 100\n",
    "events_users"
   ]
  },
  {
   "cell_type": "markdown",
   "metadata": {},
   "source": [
    "На каком шаге теряете больше всего пользователей?\n",
    "\n",
    "Ответ: Больше всего пользователей теряем при переходе с MainScreenAppear на OffersScreenAppear."
   ]
  },
  {
   "cell_type": "code",
   "execution_count": 61,
   "metadata": {},
   "outputs": [
    {
     "data": {
      "text/plain": [
       "48.0"
      ]
     },
     "execution_count": 61,
     "metadata": {},
     "output_type": "execute_result"
    }
   ],
   "source": [
    "# Какая доля пользователей доходит от первого события до оплаты?\n",
    "(events_users.loc[3, 'users_count']/events_users.loc[1, 'users_count']).round(2) * 100"
   ]
  },
  {
   "cell_type": "markdown",
   "metadata": {},
   "source": [
    "48% пользователей доходит от первого события до оплаты"
   ]
  },
  {
   "cell_type": "markdown",
   "metadata": {},
   "source": [
    "## Изучение результатов эксперимента"
   ]
  },
  {
   "cell_type": "code",
   "execution_count": 62,
   "metadata": {
    "scrolled": true
   },
   "outputs": [
    {
     "data": {
      "text/html": [
       "<div>\n",
       "<style scoped>\n",
       "    .dataframe tbody tr th:only-of-type {\n",
       "        vertical-align: middle;\n",
       "    }\n",
       "\n",
       "    .dataframe tbody tr th {\n",
       "        vertical-align: top;\n",
       "    }\n",
       "\n",
       "    .dataframe thead th {\n",
       "        text-align: right;\n",
       "    }\n",
       "</style>\n",
       "<table border=\"1\" class=\"dataframe\">\n",
       "  <thead>\n",
       "    <tr style=\"text-align: right;\">\n",
       "      <th></th>\n",
       "      <th>group_id</th>\n",
       "      <th>users_count</th>\n",
       "    </tr>\n",
       "  </thead>\n",
       "  <tbody>\n",
       "    <tr>\n",
       "      <th>0</th>\n",
       "      <td>246</td>\n",
       "      <td>2484</td>\n",
       "    </tr>\n",
       "    <tr>\n",
       "      <th>1</th>\n",
       "      <td>247</td>\n",
       "      <td>2513</td>\n",
       "    </tr>\n",
       "    <tr>\n",
       "      <th>2</th>\n",
       "      <td>248</td>\n",
       "      <td>2537</td>\n",
       "    </tr>\n",
       "  </tbody>\n",
       "</table>\n",
       "</div>"
      ],
      "text/plain": [
       "   group_id  users_count\n",
       "0       246         2484\n",
       "1       247         2513\n",
       "2       248         2537"
      ]
     },
     "execution_count": 62,
     "metadata": {},
     "output_type": "execute_result"
    }
   ],
   "source": [
    "# Сколько пользователей в каждой экспериментальной группе?\n",
    "users_count_by_groups = logs_exp.groupby('group_id', as_index=False).agg({'user_id': 'nunique'})\\\n",
    ".rename(columns={'user_id': 'users_count'})\n",
    "users_count_by_groups"
   ]
  },
  {
   "cell_type": "markdown",
   "metadata": {},
   "source": [
    "H_0: Доли пользователей, совершивших определенное событие, не имеют значимой разницы.\n",
    "\n",
    "H_1: Доли пользователей, совершивших определенное событие, являются разными."
   ]
  },
  {
   "cell_type": "code",
   "execution_count": 63,
   "metadata": {},
   "outputs": [
    {
     "data": {
      "text/html": [
       "<div>\n",
       "<style scoped>\n",
       "    .dataframe tbody tr th:only-of-type {\n",
       "        vertical-align: middle;\n",
       "    }\n",
       "\n",
       "    .dataframe tbody tr th {\n",
       "        vertical-align: top;\n",
       "    }\n",
       "\n",
       "    .dataframe thead th {\n",
       "        text-align: right;\n",
       "    }\n",
       "</style>\n",
       "<table border=\"1\" class=\"dataframe\">\n",
       "  <thead>\n",
       "    <tr style=\"text-align: right;\">\n",
       "      <th></th>\n",
       "      <th>group_id</th>\n",
       "      <th>event_name</th>\n",
       "      <th>users_count_by_event</th>\n",
       "    </tr>\n",
       "  </thead>\n",
       "  <tbody>\n",
       "    <tr>\n",
       "      <th>0</th>\n",
       "      <td>246</td>\n",
       "      <td>MainScreenAppear</td>\n",
       "      <td>2450</td>\n",
       "    </tr>\n",
       "    <tr>\n",
       "      <th>1</th>\n",
       "      <td>247</td>\n",
       "      <td>MainScreenAppear</td>\n",
       "      <td>2476</td>\n",
       "    </tr>\n",
       "  </tbody>\n",
       "</table>\n",
       "</div>"
      ],
      "text/plain": [
       "   group_id        event_name  users_count_by_event\n",
       "0       246  MainScreenAppear                  2450\n",
       "1       247  MainScreenAppear                  2476"
      ]
     },
     "execution_count": 63,
     "metadata": {},
     "output_type": "execute_result"
    }
   ],
   "source": [
    "# Выберите самое популярное событие. \n",
    "# Посчитайте число пользователей, совершивших это событие в каждой из контрольных групп.\n",
    "exp_AA = logs_exp.query('group_id == [246, 247] and event_name == \"MainScreenAppear\"')\n",
    "exp_AA = exp_AA.groupby(by=['group_id', 'event_name'], as_index=False).agg({'user_id': 'nunique'})\\\n",
    ".rename(columns={'user_id': 'users_count_by_event'})\n",
    "exp_AA"
   ]
  },
  {
   "cell_type": "code",
   "execution_count": 64,
   "metadata": {},
   "outputs": [
    {
     "data": {
      "text/html": [
       "<div>\n",
       "<style scoped>\n",
       "    .dataframe tbody tr th:only-of-type {\n",
       "        vertical-align: middle;\n",
       "    }\n",
       "\n",
       "    .dataframe tbody tr th {\n",
       "        vertical-align: top;\n",
       "    }\n",
       "\n",
       "    .dataframe thead th {\n",
       "        text-align: right;\n",
       "    }\n",
       "</style>\n",
       "<table border=\"1\" class=\"dataframe\">\n",
       "  <thead>\n",
       "    <tr style=\"text-align: right;\">\n",
       "      <th></th>\n",
       "      <th>group_id</th>\n",
       "      <th>event_name</th>\n",
       "      <th>users_count_by_event</th>\n",
       "      <th>users_count</th>\n",
       "      <th>users_share</th>\n",
       "    </tr>\n",
       "  </thead>\n",
       "  <tbody>\n",
       "    <tr>\n",
       "      <th>0</th>\n",
       "      <td>246</td>\n",
       "      <td>MainScreenAppear</td>\n",
       "      <td>2450</td>\n",
       "      <td>2484</td>\n",
       "      <td>98.6</td>\n",
       "    </tr>\n",
       "    <tr>\n",
       "      <th>1</th>\n",
       "      <td>247</td>\n",
       "      <td>MainScreenAppear</td>\n",
       "      <td>2476</td>\n",
       "      <td>2513</td>\n",
       "      <td>98.5</td>\n",
       "    </tr>\n",
       "  </tbody>\n",
       "</table>\n",
       "</div>"
      ],
      "text/plain": [
       "   group_id        event_name  users_count_by_event  users_count  users_share\n",
       "0       246  MainScreenAppear                  2450         2484         98.6\n",
       "1       247  MainScreenAppear                  2476         2513         98.5"
      ]
     },
     "execution_count": 64,
     "metadata": {},
     "output_type": "execute_result"
    }
   ],
   "source": [
    "# Посчитайте долю пользователей, совершивших это событие. \n",
    "exp_AA = exp_AA.merge(users_count_by_groups, on='group_id', how='inner')\n",
    "exp_AA['users_share'] = (exp_AA['users_count_by_event']/exp_AA['users_count']).round(3) * 100\n",
    "exp_AA"
   ]
  },
  {
   "cell_type": "code",
   "execution_count": 66,
   "metadata": {},
   "outputs": [],
   "source": [
    "#  Проделайте то же самое для всех других событий \n",
    "# (удобно обернуть проверку в отдельную функцию).\n",
    "\n",
    "def check(data, groups, alpha):\n",
    "    users_count_by_groups = data.groupby('group_id', as_index=False)\\\n",
    "    .agg({'user_id': 'nunique'})\\\n",
    "    .rename(columns={'user_id': 'users_count'})\n",
    "\n",
    "    events_list = data['event_name'].unique()\n",
    "        \n",
    "    for event in events_list:\n",
    "        if event == 'Tutorial':\n",
    "            continue\n",
    "            \n",
    "        exp = data.query('group_id == @groups and event_name == @event')\n",
    "        exp = exp.groupby(by=['group_id', 'event_name'], as_index=False)\\\n",
    "        .agg({'user_id': 'nunique'})\\\n",
    "        .rename(columns={'user_id': 'users_count_by_event'})   \n",
    "    \n",
    "        exp = exp.merge(users_count_by_groups, on='group_id', how='inner')\n",
    "        exp['users_share'] = (exp['users_count_by_event']/exp['users_count'])\\\n",
    "        .round(3) * 100\n",
    "\n",
    "        success1 = exp['users_count_by_event'].values[0]\n",
    "        success2 = exp['users_count_by_event'].values[1]\n",
    "        \n",
    "        trial1 = exp['users_count'].values[0]\n",
    "        trial2 = exp['users_count'].values[1]\n",
    "        \n",
    "        if len(groups) == 3:\n",
    "            success3 = exp['users_count_by_event'].values[2]\n",
    "            trial3 = exp['users_count'].values[2]\n",
    "            successes = np.array([success1+success2, success3])\n",
    "            trials = np.array([trial1+trial2, trial3])\n",
    "        else:\n",
    "            successes = np.array([success1, success2])\n",
    "            trials = np.array([trial1, trial2])\n",
    "\n",
    "        # пропорция успехов в первой группе:\n",
    "        p1 = successes[0]/trials[0]\n",
    "\n",
    "        # пропорция успехов во второй группе:\n",
    "        p2 = successes[1]/trials[1]\n",
    "\n",
    "        # пропорция успехов в комбинированном датасете:\n",
    "        p_combined = (successes[0] + successes[1]) / (trials[0] + trials[1])\n",
    "\n",
    "        # разница пропорций в датасетах\n",
    "        difference = p1 - p2\n",
    "\n",
    "        # считаем статистику в ст.отклонениях стандартного нормального распределения\n",
    "        z_value = difference / mth.sqrt(p_combined * (1 - p_combined) * (1/trials[0] + 1/trials[1]))\n",
    "\n",
    "        # задаем стандартное нормальное распределение (среднее 0, ст.отклонение 1)\n",
    "        distr = st.norm(0, 1)\n",
    "\n",
    "        p_value = (1 - distr.cdf(abs(z_value))) * 2\n",
    "\n",
    "        print('p-значение: ', p_value)\n",
    "\n",
    "        if p_value < alpha:\n",
    "            print('Отвергаем нулевую гипотезу: между долями есть значимая разница')\n",
    "        else:\n",
    "            print(\n",
    "                'Не получилось отвергнуть нулевую гипотезу, нет оснований считать доли разными'\n",
    "            ) \n"
   ]
  },
  {
   "cell_type": "code",
   "execution_count": 67,
   "metadata": {},
   "outputs": [],
   "source": [
    "alpha = .05  # критический уровень статистической значимости"
   ]
  },
  {
   "cell_type": "code",
   "execution_count": 68,
   "metadata": {},
   "outputs": [
    {
     "name": "stdout",
     "output_type": "stream",
     "text": [
      "p-значение:  0.7570597232046099\n",
      "Не получилось отвергнуть нулевую гипотезу, нет оснований считать доли разными\n",
      "p-значение:  0.2480954578522181\n",
      "Не получилось отвергнуть нулевую гипотезу, нет оснований считать доли разными\n",
      "p-значение:  0.22883372237997213\n",
      "Не получилось отвергнуть нулевую гипотезу, нет оснований считать доли разными\n",
      "p-значение:  0.11456679313141849\n",
      "Не получилось отвергнуть нулевую гипотезу, нет оснований считать доли разными\n"
     ]
    }
   ],
   "source": [
    "# A/A-testing\n",
    "groups = [246, 247]\n",
    "check(logs_exp, groups, alpha)"
   ]
  },
  {
   "cell_type": "markdown",
   "metadata": {},
   "source": [
    "Можно ли сказать, что разбиение на группы работает корректно?\n",
    "\n",
    "Ответ: Разбиение на группы работает корректно, так как A/A-тест показал, что значимой разницы между долями нет."
   ]
  },
  {
   "cell_type": "code",
   "execution_count": 69,
   "metadata": {},
   "outputs": [
    {
     "name": "stdout",
     "output_type": "stream",
     "text": [
      "p-значение:  0.2949721933554552\n",
      "Не получилось отвергнуть нулевую гипотезу, нет оснований считать доли разными\n",
      "p-значение:  0.20836205402738917\n",
      "Не получилось отвергнуть нулевую гипотезу, нет оснований считать доли разными\n",
      "p-значение:  0.07842923237520116\n",
      "Не получилось отвергнуть нулевую гипотезу, нет оснований считать доли разными\n",
      "p-значение:  0.2122553275697796\n",
      "Не получилось отвергнуть нулевую гипотезу, нет оснований считать доли разными\n"
     ]
    }
   ],
   "source": [
    "# A/B-testing\n",
    "groups = [246, 248]\n",
    "check(logs_exp, groups, alpha)"
   ]
  },
  {
   "cell_type": "code",
   "execution_count": 70,
   "metadata": {},
   "outputs": [
    {
     "name": "stdout",
     "output_type": "stream",
     "text": [
      "p-значение:  0.4587053616621515\n",
      "Не получилось отвергнуть нулевую гипотезу, нет оснований считать доли разными\n",
      "p-значение:  0.9197817830592261\n",
      "Не получилось отвергнуть нулевую гипотезу, нет оснований считать доли разными\n",
      "p-значение:  0.5786197879539783\n",
      "Не получилось отвергнуть нулевую гипотезу, нет оснований считать доли разными\n",
      "p-значение:  0.7373415053803964\n",
      "Не получилось отвергнуть нулевую гипотезу, нет оснований считать доли разными\n"
     ]
    }
   ],
   "source": [
    "# A/B-testing\n",
    "groups = [247, 248]\n",
    "check(logs_exp, groups, alpha)"
   ]
  },
  {
   "cell_type": "code",
   "execution_count": 71,
   "metadata": {},
   "outputs": [
    {
     "name": "stdout",
     "output_type": "stream",
     "text": [
      "p-значение:  0.29424526837179577\n",
      "Не получилось отвергнуть нулевую гипотезу, нет оснований считать доли разными\n",
      "p-значение:  0.43425549655188256\n",
      "Не получилось отвергнуть нулевую гипотезу, нет оснований считать доли разными\n",
      "p-значение:  0.18175875284404386\n",
      "Не получилось отвергнуть нулевую гипотезу, нет оснований считать доли разными\n",
      "p-значение:  0.6004294282308704\n",
      "Не получилось отвергнуть нулевую гипотезу, нет оснований считать доли разными\n"
     ]
    }
   ],
   "source": [
    "# A/B-testing: 246 и 247 объединяем в одну A-группу\n",
    "groups = [246, 247, 248]\n",
    "check(logs_exp, groups, alpha)"
   ]
  },
  {
   "cell_type": "markdown",
   "metadata": {},
   "source": [
    "Какие выводы из эксперимента можно сделать?\n",
    "\n",
    "Ответ: Результаты A/A/B-эксперимента показали, что значимой разницы между долями пользователей с новыми и старыми шрифтами нет. Поэтому опасения менеджеров о том, что пользователям будет непривычно при изменении шрифтов во всём приложении, не оправдались. Можно смело менять шрифты либо оставить прежние."
   ]
  },
  {
   "cell_type": "markdown",
   "metadata": {},
   "source": [
    "Какой уровень значимости вы выбрали при проверке статистических гипотез выше? \n",
    "\n",
    "Ответ: При проверке статистических гипотез выше было выбрано значение alpha = 0.05 .\n",
    "\n",
    "Посчитайте, сколько проверок статистических гипотез вы сделали. \n",
    "\n",
    "Ответ: Было сделано 16 проверок.\n",
    "\n",
    "При уровне значимости 0.1 каждый десятый раз можно получать ложный результат. Какой уровень значимости стоит применить? \n",
    "\n",
    "Ответ: Можно использовать метод Бонферрони. Тогда согласно этому методу необходимо разделить alpha на 16, так как было произведено 16 сравнений.\n",
    "\n",
    "Если вы хотите изменить его, проделайте предыдущие пункты и проверьте свои выводы."
   ]
  },
  {
   "cell_type": "code",
   "execution_count": 72,
   "metadata": {},
   "outputs": [],
   "source": [
    "# Изменим метод check, скорректировав значение alpha согласно методу Бонферрони\n",
    "def check(data, groups, aplha):\n",
    "    users_count_by_groups = data.groupby('group_id', as_index=False)\\\n",
    "    .agg({'user_id': 'nunique'})\\\n",
    "    .rename(columns={'user_id': 'users_count'})\n",
    "\n",
    "    events_list = data['event_name'].unique()\n",
    "    \n",
    "    bonferroni_alpha = alpha / 16\n",
    "    \n",
    "    for event in events_list:\n",
    "        if event == 'Tutorial':\n",
    "            continue\n",
    "            \n",
    "        exp = data.query('group_id == @groups and event_name == @event')\n",
    "        exp = exp.groupby(by=['group_id', 'event_name'], as_index=False)\\\n",
    "        .agg({'user_id': 'nunique'})\\\n",
    "        .rename(columns={'user_id': 'users_count_by_event'})   \n",
    "    \n",
    "        exp = exp.merge(users_count_by_groups, on='group_id', how='inner')\n",
    "        exp['users_share'] = (exp['users_count_by_event']/exp['users_count'])\\\n",
    "        .round(3) * 100\n",
    "\n",
    "        success1 = exp['users_count_by_event'].values[0]\n",
    "        success2 = exp['users_count_by_event'].values[1]\n",
    "        \n",
    "        trial1 = exp['users_count'].values[0]\n",
    "        trial2 = exp['users_count'].values[1]\n",
    "        \n",
    "        if len(groups) == 3:\n",
    "            success3 = exp['users_count_by_event'].values[2]\n",
    "            trial3 = exp['users_count'].values[2]\n",
    "            successes = np.array([success1+success2, success3])\n",
    "            trials = np.array([trial1+trial2, trial3])\n",
    "        else:\n",
    "            successes = np.array([success1, success2])\n",
    "            trials = np.array([trial1, trial2])\n",
    "\n",
    "        # пропорция успехов в первой группе:\n",
    "        p1 = successes[0]/trials[0]\n",
    "\n",
    "        # пропорция успехов во второй группе:\n",
    "        p2 = successes[1]/trials[1]\n",
    "\n",
    "        # пропорция успехов в комбинированном датасете:\n",
    "        p_combined = (successes[0] + successes[1]) / (trials[0] + trials[1])\n",
    "\n",
    "        # разница пропорций в датасетах\n",
    "        difference = p1 - p2\n",
    "\n",
    "        # считаем статистику в ст.отклонениях стандартного нормального распределения\n",
    "        z_value = difference / mth.sqrt(p_combined * (1 - p_combined) * (1/trials[0] + 1/trials[1]))\n",
    "\n",
    "        # задаем стандартное нормальное распределение (среднее 0, ст.отклонение 1)\n",
    "        distr = st.norm(0, 1)\n",
    "\n",
    "        p_value = (1 - distr.cdf(abs(z_value))) * 2\n",
    "\n",
    "        print('p-значение: ', p_value)\n",
    "\n",
    "        if p_value < bonferroni_alpha:\n",
    "            print('Отвергаем нулевую гипотезу: между долями есть значимая разница')\n",
    "        else:\n",
    "            print(\n",
    "                'Не получилось отвергнуть нулевую гипотезу, нет оснований считать доли разными'\n",
    "            ) "
   ]
  },
  {
   "cell_type": "code",
   "execution_count": 73,
   "metadata": {},
   "outputs": [
    {
     "name": "stdout",
     "output_type": "stream",
     "text": [
      "p-значение:  0.7570597232046099\n",
      "Не получилось отвергнуть нулевую гипотезу, нет оснований считать доли разными\n",
      "p-значение:  0.2480954578522181\n",
      "Не получилось отвергнуть нулевую гипотезу, нет оснований считать доли разными\n",
      "p-значение:  0.22883372237997213\n",
      "Не получилось отвергнуть нулевую гипотезу, нет оснований считать доли разными\n",
      "p-значение:  0.11456679313141849\n",
      "Не получилось отвергнуть нулевую гипотезу, нет оснований считать доли разными\n"
     ]
    }
   ],
   "source": [
    "# A/A-testing\n",
    "groups = [246, 247]\n",
    "check(logs_exp, groups, alpha)"
   ]
  },
  {
   "cell_type": "code",
   "execution_count": 74,
   "metadata": {},
   "outputs": [
    {
     "name": "stdout",
     "output_type": "stream",
     "text": [
      "p-значение:  0.2949721933554552\n",
      "Не получилось отвергнуть нулевую гипотезу, нет оснований считать доли разными\n",
      "p-значение:  0.20836205402738917\n",
      "Не получилось отвергнуть нулевую гипотезу, нет оснований считать доли разными\n",
      "p-значение:  0.07842923237520116\n",
      "Не получилось отвергнуть нулевую гипотезу, нет оснований считать доли разными\n",
      "p-значение:  0.2122553275697796\n",
      "Не получилось отвергнуть нулевую гипотезу, нет оснований считать доли разными\n"
     ]
    }
   ],
   "source": [
    "# A/B-testing\n",
    "groups = [246, 248]\n",
    "check(logs_exp, groups, alpha)"
   ]
  },
  {
   "cell_type": "code",
   "execution_count": 75,
   "metadata": {},
   "outputs": [
    {
     "name": "stdout",
     "output_type": "stream",
     "text": [
      "p-значение:  0.4587053616621515\n",
      "Не получилось отвергнуть нулевую гипотезу, нет оснований считать доли разными\n",
      "p-значение:  0.9197817830592261\n",
      "Не получилось отвергнуть нулевую гипотезу, нет оснований считать доли разными\n",
      "p-значение:  0.5786197879539783\n",
      "Не получилось отвергнуть нулевую гипотезу, нет оснований считать доли разными\n",
      "p-значение:  0.7373415053803964\n",
      "Не получилось отвергнуть нулевую гипотезу, нет оснований считать доли разными\n"
     ]
    }
   ],
   "source": [
    "# A/B-testing\n",
    "groups = [247, 248]\n",
    "check(logs_exp, groups, alpha)"
   ]
  },
  {
   "cell_type": "code",
   "execution_count": 76,
   "metadata": {},
   "outputs": [
    {
     "name": "stdout",
     "output_type": "stream",
     "text": [
      "p-значение:  0.29424526837179577\n",
      "Не получилось отвергнуть нулевую гипотезу, нет оснований считать доли разными\n",
      "p-значение:  0.43425549655188256\n",
      "Не получилось отвергнуть нулевую гипотезу, нет оснований считать доли разными\n",
      "p-значение:  0.18175875284404386\n",
      "Не получилось отвергнуть нулевую гипотезу, нет оснований считать доли разными\n",
      "p-значение:  0.6004294282308704\n",
      "Не получилось отвергнуть нулевую гипотезу, нет оснований считать доли разными\n"
     ]
    }
   ],
   "source": [
    "# A/B-testing: 246 и 247 объединяем в одну A-группу\n",
    "groups = [246, 247, 248]\n",
    "check(logs_exp, groups, alpha)"
   ]
  },
  {
   "cell_type": "markdown",
   "metadata": {},
   "source": [
    "Выводы из эксперимента остались прежними."
   ]
  },
  {
   "cell_type": "markdown",
   "metadata": {},
   "source": [
    "## Общий вывод по проекту"
   ]
  },
  {
   "cell_type": "markdown",
   "metadata": {},
   "source": [
    "Проделанная работа и полученные результаты:\n",
    "\n",
    "1. Изучена общая информация из файла /datasets/logs_exp.csv .\n",
    "\n",
    "2. Подготовлены данные:\n",
    "- заменены названия столбцов\n",
    "- проверено наличие пропусков и дубликатов\n",
    "- изменены типы данных\n",
    "- добавлены новые столбцы данных в датасет\n",
    "\n",
    "3. Изучены и проверены данные:\n",
    "- рассчитаны количество событий(243713) и пользователей(7551) в логе\n",
    "- вычислено, сколько в среднем событий приходится на пользователя(32)\n",
    "- выяснено, данными за какой период времени мы располагаем на самом деле(1-7 августа 2019)\n",
    "- вычислено, сколько событий и пользователей мы потеряли, отбросив старые данные(событий -- 2826 или 1,2%; пользователей -- 17 или 0,2%)\n",
    "- проверено, что у нас есть пользователи из всех трёх экспериментальных групп\n",
    "\n",
    "4. Изучена воронка событий:\n",
    "- выяснено, какие события есть в логах, как часто они встречаются:\n",
    "\n",
    "  Главный экран           117328\n",
    "  \n",
    "  Экран предложений       46333\n",
    "  \n",
    "  Корзина                 42303\n",
    "\n",
    "  Экран оплаты            33918\n",
    "\n",
    "  Справка                 1005\n",
    "  \n",
    "- вычислено, сколько пользователей совершали каждое из этих событий и отсортированы события по числу пользователей:\n",
    "\n",
    "  Главный экран\t7419\n",
    "  \n",
    "  Экран предложений\t4593\n",
    "  \n",
    "  Корзина\t3734\n",
    "  \n",
    "  Экран оплаты\t3539\n",
    "  \n",
    "  Справка\t840\n",
    "\n",
    "- рассчитаны доли пользователей, которые хоть раз совершали событие:\n",
    "\n",
    "  Главный экран\t98.47\n",
    "  \n",
    "  Экран предложений\t60.96\n",
    "  \n",
    "  Корзина\t49.56\n",
    "  \n",
    "  Экран оплаты\t46.97\n",
    "  \n",
    "  Справка\t\t11.15\n",
    "  \n",
    "- предположен порядок событий: Справка -> Главный экран -> Экран предложений -> Корзина -> Экран оплаты . Они не обязательно выстраиваются в последовательную цепочку. Ни один из шагов воронки не является обязательным. На сайт можно прийти из поисковой строки, рассылки или пуш-уведомления. Также товар в корзину можно отправить с главного экрана и т. д. \n",
    "\n",
    "- рассчитана, какая доля пользователей(в процентах) проходит на следующий шаг воронки (от числа пользователей на предыдущем): \n",
    " \n",
    "  Главный экран -> Экран предложений -- 62%\n",
    "\n",
    "  Экран предложений -> Корзина -- 81%\n",
    "\n",
    "  Корзина -> Экран оплаты -- 95%\n",
    "\n",
    "- выяснено, на каком шаге теряем больше всего пользователей: при переходе с главного экрана на экран предложений\n",
    "\n",
    "- выяснено, какая доля пользователей доходит от первого события до оплаты: 48%\n",
    "\n",
    "5. Изучены результаты эксперимента:\n",
    "\n",
    "   Было проведено A/A/B-тестирование. \n",
    "   \n",
    "- вычислено, сколько пользователей в каждой экспериментальной группе:\n",
    "\n",
    "  контрольная группа1 со старыми шрифтами -- 2484\n",
    "  \n",
    "  контрольная группа2 со старыми шрифтами -- 2513\n",
    "  \n",
    "  группа с новыми шрифтами -- 2537\n",
    "  \n",
    "- была создана функция, которая сравнивает результаты тестирования группы с новыми шрифтами с каждой из контрольных групп в отдельности по каждому событию, а также сравнивает результаты тестирования с объединённой контрольной группой(контрольная группа1+контрольная группа2); также проведено сравнение результатов между контрольными группами; всего осуществлено 16 сравнений и получены следующие выводы:\n",
    "\n",
    "  1. Разбиение на группы работает корректно, так как A/A-тест показал, что значимой разницы между долями нет.\n",
    "\n",
    "  2. Результаты A/A/B-эксперимента показали, что значимой разницы между долями пользователей с новыми и старыми шрифтами нет. Поэтому опасения менеджеров о том, что пользователям будет непривычно при изменении шрифтов во всём приложении, не оправдались. Можно смело менять шрифты либо оставить прежние.\n",
    "  \n",
    "  \n",
    "  \n",
    "Рекомендации:\n",
    "\n",
    "1. Изменить шрифты во всем приложении можно. Данное изменение никак не отразится на поведении пользователей.\n",
    "\n",
    "2. Стоит обратить особое внимание на конверсию перехода с главного экрана на экран предложений, так как на этом шаге мы теряем больше всего пользователей.\n",
    "\n",
    "3. Учитывая, что 48% пользователей доходит от первого события до оплаты, необходимо также обратить внимание и на другие шаги воронки с целью увеличения этого показателя.\n"
   ]
  }
 ],
 "metadata": {
  "ExecuteTimeLog": [
   {
    "duration": 395,
    "start_time": "2023-01-10T13:33:20.166Z"
   },
   {
    "duration": 417,
    "start_time": "2023-01-10T13:34:08.226Z"
   },
   {
    "duration": 182,
    "start_time": "2023-01-10T13:34:32.192Z"
   },
   {
    "duration": 24,
    "start_time": "2023-01-10T13:42:20.819Z"
   },
   {
    "duration": 18,
    "start_time": "2023-01-10T13:43:00.771Z"
   },
   {
    "duration": 60,
    "start_time": "2023-01-10T13:43:14.241Z"
   },
   {
    "duration": 32,
    "start_time": "2023-01-10T13:49:46.526Z"
   },
   {
    "duration": 20,
    "start_time": "2023-01-10T13:49:51.645Z"
   },
   {
    "duration": 64,
    "start_time": "2023-01-10T13:49:54.523Z"
   },
   {
    "duration": 341,
    "start_time": "2023-01-10T14:26:04.276Z"
   },
   {
    "duration": 265,
    "start_time": "2023-01-10T14:26:06.864Z"
   },
   {
    "duration": 25,
    "start_time": "2023-01-10T14:26:12.818Z"
   },
   {
    "duration": 16,
    "start_time": "2023-01-10T14:26:17.868Z"
   },
   {
    "duration": 58,
    "start_time": "2023-01-10T14:26:21.338Z"
   },
   {
    "duration": 11,
    "start_time": "2023-01-10T14:26:24.551Z"
   },
   {
    "duration": 61,
    "start_time": "2023-01-10T14:38:28.840Z"
   },
   {
    "duration": 47,
    "start_time": "2023-01-10T14:38:57.009Z"
   },
   {
    "duration": 23,
    "start_time": "2023-01-10T14:41:13.194Z"
   },
   {
    "duration": 3,
    "start_time": "2023-01-10T14:41:25.250Z"
   },
   {
    "duration": 157,
    "start_time": "2023-01-10T14:41:27.749Z"
   },
   {
    "duration": 19,
    "start_time": "2023-01-10T14:41:35.034Z"
   },
   {
    "duration": 15,
    "start_time": "2023-01-10T14:41:41.562Z"
   },
   {
    "duration": 55,
    "start_time": "2023-01-10T14:41:44.311Z"
   },
   {
    "duration": 13,
    "start_time": "2023-01-10T14:41:47.463Z"
   },
   {
    "duration": 19,
    "start_time": "2023-01-10T14:41:53.042Z"
   },
   {
    "duration": 72,
    "start_time": "2023-01-10T16:04:43.440Z"
   },
   {
    "duration": 115,
    "start_time": "2023-01-10T16:09:33.533Z"
   },
   {
    "duration": 28,
    "start_time": "2023-01-10T16:09:45.761Z"
   },
   {
    "duration": 23,
    "start_time": "2023-01-10T16:10:14.078Z"
   },
   {
    "duration": 85,
    "start_time": "2023-01-10T16:10:29.503Z"
   },
   {
    "duration": 9,
    "start_time": "2023-01-10T16:12:39.539Z"
   },
   {
    "duration": 20,
    "start_time": "2023-01-10T16:18:37.414Z"
   },
   {
    "duration": 23,
    "start_time": "2023-01-10T16:21:07.576Z"
   },
   {
    "duration": 33,
    "start_time": "2023-01-10T16:22:20.627Z"
   },
   {
    "duration": 36,
    "start_time": "2023-01-10T16:23:12.634Z"
   },
   {
    "duration": 13,
    "start_time": "2023-01-10T16:23:54.969Z"
   },
   {
    "duration": 4,
    "start_time": "2023-01-10T16:24:07.534Z"
   },
   {
    "duration": 15,
    "start_time": "2023-01-10T16:24:25.281Z"
   },
   {
    "duration": 9,
    "start_time": "2023-01-10T16:25:42.293Z"
   },
   {
    "duration": 69,
    "start_time": "2023-01-10T16:41:35.124Z"
   },
   {
    "duration": 14,
    "start_time": "2023-01-10T16:42:27.736Z"
   },
   {
    "duration": 23,
    "start_time": "2023-01-10T16:43:10.702Z"
   },
   {
    "duration": 35,
    "start_time": "2023-01-10T16:48:34.781Z"
   },
   {
    "duration": 23,
    "start_time": "2023-01-10T16:49:46.069Z"
   },
   {
    "duration": 21,
    "start_time": "2023-01-10T16:52:21.791Z"
   },
   {
    "duration": 21,
    "start_time": "2023-01-10T16:52:34.498Z"
   },
   {
    "duration": 9,
    "start_time": "2023-01-10T17:26:53.387Z"
   },
   {
    "duration": 43,
    "start_time": "2023-01-10T17:27:15.821Z"
   },
   {
    "duration": 46,
    "start_time": "2023-01-10T17:27:33.917Z"
   },
   {
    "duration": 44,
    "start_time": "2023-01-10T17:27:57.820Z"
   },
   {
    "duration": 913,
    "start_time": "2023-01-10T17:30:51.026Z"
   },
   {
    "duration": 182,
    "start_time": "2023-01-10T17:32:51.446Z"
   },
   {
    "duration": 263,
    "start_time": "2023-01-10T17:54:29.638Z"
   },
   {
    "duration": 3,
    "start_time": "2023-01-10T18:00:54.529Z"
   },
   {
    "duration": 10,
    "start_time": "2023-01-10T18:01:37.633Z"
   },
   {
    "duration": 3,
    "start_time": "2023-01-10T18:03:32.419Z"
   },
   {
    "duration": 23,
    "start_time": "2023-01-10T18:03:40.912Z"
   },
   {
    "duration": 30,
    "start_time": "2023-01-10T18:04:05.044Z"
   },
   {
    "duration": 31,
    "start_time": "2023-01-10T18:04:22.642Z"
   },
   {
    "duration": 30,
    "start_time": "2023-01-10T18:05:48.462Z"
   },
   {
    "duration": 19,
    "start_time": "2023-01-10T18:13:32.417Z"
   },
   {
    "duration": 26,
    "start_time": "2023-01-10T18:15:13.373Z"
   },
   {
    "duration": 5,
    "start_time": "2023-01-10T18:17:30.527Z"
   },
   {
    "duration": 22,
    "start_time": "2023-01-10T19:36:29.224Z"
   },
   {
    "duration": 27,
    "start_time": "2023-01-10T19:42:24.629Z"
   },
   {
    "duration": 58,
    "start_time": "2023-01-10T19:43:49.118Z"
   },
   {
    "duration": 354,
    "start_time": "2023-01-10T20:10:59.469Z"
   },
   {
    "duration": 847,
    "start_time": "2023-01-10T20:11:02.736Z"
   },
   {
    "duration": 19,
    "start_time": "2023-01-10T20:11:09.420Z"
   },
   {
    "duration": 14,
    "start_time": "2023-01-10T20:11:17.352Z"
   },
   {
    "duration": 59,
    "start_time": "2023-01-10T20:11:20.513Z"
   },
   {
    "duration": 12,
    "start_time": "2023-01-10T20:11:24.112Z"
   },
   {
    "duration": 79,
    "start_time": "2023-01-10T20:11:27.719Z"
   },
   {
    "duration": 117,
    "start_time": "2023-01-10T20:11:31.342Z"
   },
   {
    "duration": 11,
    "start_time": "2023-01-10T20:11:39.106Z"
   },
   {
    "duration": 9,
    "start_time": "2023-01-10T20:11:41.970Z"
   },
   {
    "duration": 20,
    "start_time": "2023-01-10T20:11:44.713Z"
   },
   {
    "duration": 27,
    "start_time": "2023-01-10T20:11:50.463Z"
   },
   {
    "duration": 645,
    "start_time": "2023-01-10T20:11:53.538Z"
   },
   {
    "duration": 24,
    "start_time": "2023-01-10T20:12:00.212Z"
   },
   {
    "duration": 26,
    "start_time": "2023-01-10T20:12:02.760Z"
   },
   {
    "duration": 18,
    "start_time": "2023-01-10T20:12:08.318Z"
   },
   {
    "duration": 6,
    "start_time": "2023-01-10T20:12:14.599Z"
   },
   {
    "duration": 19,
    "start_time": "2023-01-10T20:12:17.346Z"
   },
   {
    "duration": 58,
    "start_time": "2023-01-10T20:12:21.300Z"
   },
   {
    "duration": 6,
    "start_time": "2023-01-10T20:30:42.880Z"
   },
   {
    "duration": 50,
    "start_time": "2023-01-10T20:32:48.775Z"
   },
   {
    "duration": 12,
    "start_time": "2023-01-10T20:33:35.304Z"
   },
   {
    "duration": 12,
    "start_time": "2023-01-10T20:36:21.069Z"
   },
   {
    "duration": 390,
    "start_time": "2023-01-11T06:05:08.090Z"
   },
   {
    "duration": 871,
    "start_time": "2023-01-11T06:05:11.543Z"
   },
   {
    "duration": 23,
    "start_time": "2023-01-11T06:05:22.534Z"
   },
   {
    "duration": 15,
    "start_time": "2023-01-11T06:05:26.007Z"
   },
   {
    "duration": 69,
    "start_time": "2023-01-11T06:05:33.351Z"
   },
   {
    "duration": 11,
    "start_time": "2023-01-11T06:05:38.816Z"
   },
   {
    "duration": 96,
    "start_time": "2023-01-11T06:05:45.315Z"
   },
   {
    "duration": 139,
    "start_time": "2023-01-11T06:05:49.186Z"
   },
   {
    "duration": 14,
    "start_time": "2023-01-11T06:05:58.474Z"
   },
   {
    "duration": 10,
    "start_time": "2023-01-11T06:06:01.872Z"
   },
   {
    "duration": 23,
    "start_time": "2023-01-11T06:06:06.029Z"
   },
   {
    "duration": 33,
    "start_time": "2023-01-11T06:06:17.329Z"
   },
   {
    "duration": 680,
    "start_time": "2023-01-11T06:06:35.343Z"
   },
   {
    "duration": 28,
    "start_time": "2023-01-11T06:06:56.000Z"
   },
   {
    "duration": 34,
    "start_time": "2023-01-11T06:07:00.122Z"
   },
   {
    "duration": 23,
    "start_time": "2023-01-11T06:07:08.454Z"
   },
   {
    "duration": 5,
    "start_time": "2023-01-11T06:07:13.073Z"
   },
   {
    "duration": 25,
    "start_time": "2023-01-11T06:07:23.115Z"
   },
   {
    "duration": 59,
    "start_time": "2023-01-11T06:08:08.990Z"
   },
   {
    "duration": 16,
    "start_time": "2023-01-11T06:08:22.579Z"
   },
   {
    "duration": 1269,
    "start_time": "2023-01-11T08:25:24.866Z"
   },
   {
    "duration": 1209,
    "start_time": "2023-01-11T08:25:38.265Z"
   },
   {
    "duration": 67,
    "start_time": "2023-01-11T08:26:08.651Z"
   },
   {
    "duration": 24,
    "start_time": "2023-01-11T08:27:12.824Z"
   },
   {
    "duration": 11,
    "start_time": "2023-01-11T08:27:40.923Z"
   },
   {
    "duration": 17,
    "start_time": "2023-01-11T08:29:56.344Z"
   },
   {
    "duration": 12,
    "start_time": "2023-01-11T08:30:53.380Z"
   },
   {
    "duration": 16,
    "start_time": "2023-01-11T08:32:01.634Z"
   },
   {
    "duration": 76,
    "start_time": "2023-01-11T08:32:19.716Z"
   },
   {
    "duration": 13,
    "start_time": "2023-01-11T08:32:30.879Z"
   },
   {
    "duration": 5,
    "start_time": "2023-01-11T08:39:43.386Z"
   },
   {
    "duration": 10,
    "start_time": "2023-01-11T08:39:56.876Z"
   },
   {
    "duration": 12,
    "start_time": "2023-01-11T08:47:21.344Z"
   },
   {
    "duration": 11,
    "start_time": "2023-01-11T08:47:27.458Z"
   },
   {
    "duration": 20,
    "start_time": "2023-01-11T08:49:52.485Z"
   },
   {
    "duration": 83,
    "start_time": "2023-01-11T08:50:55.201Z"
   },
   {
    "duration": 17,
    "start_time": "2023-01-11T08:51:04.398Z"
   },
   {
    "duration": 13,
    "start_time": "2023-01-11T08:51:10.213Z"
   },
   {
    "duration": 1493,
    "start_time": "2023-01-11T09:19:36.501Z"
   },
   {
    "duration": 82,
    "start_time": "2023-01-11T09:25:58.018Z"
   },
   {
    "duration": 1762,
    "start_time": "2023-01-11T09:26:04.449Z"
   },
   {
    "duration": 57,
    "start_time": "2023-01-11T09:27:36.378Z"
   },
   {
    "duration": 14,
    "start_time": "2023-01-11T09:27:56.485Z"
   },
   {
    "duration": 19,
    "start_time": "2023-01-11T09:28:22.968Z"
   },
   {
    "duration": 13,
    "start_time": "2023-01-11T09:28:57.574Z"
   },
   {
    "duration": 9,
    "start_time": "2023-01-11T09:29:42.024Z"
   },
   {
    "duration": 15,
    "start_time": "2023-01-11T09:30:17.275Z"
   },
   {
    "duration": 12,
    "start_time": "2023-01-11T09:31:31.035Z"
   },
   {
    "duration": 29,
    "start_time": "2023-01-11T09:31:37.349Z"
   },
   {
    "duration": 23,
    "start_time": "2023-01-11T09:33:10.496Z"
   },
   {
    "duration": 11,
    "start_time": "2023-01-11T09:33:50.290Z"
   },
   {
    "duration": 77,
    "start_time": "2023-01-11T09:37:17.672Z"
   },
   {
    "duration": 11,
    "start_time": "2023-01-11T09:37:29.718Z"
   },
   {
    "duration": 1300,
    "start_time": "2023-01-11T09:39:54.194Z"
   },
   {
    "duration": 6,
    "start_time": "2023-01-11T09:40:16.427Z"
   },
   {
    "duration": 5,
    "start_time": "2023-01-11T09:40:37.723Z"
   },
   {
    "duration": 5,
    "start_time": "2023-01-11T09:40:48.988Z"
   },
   {
    "duration": 11,
    "start_time": "2023-01-11T09:46:35.173Z"
   },
   {
    "duration": 51,
    "start_time": "2023-01-11T09:48:49.032Z"
   },
   {
    "duration": 37,
    "start_time": "2023-01-11T09:49:43.498Z"
   },
   {
    "duration": 513,
    "start_time": "2023-01-11T12:12:55.441Z"
   },
   {
    "duration": 10,
    "start_time": "2023-01-11T14:33:18.117Z"
   },
   {
    "duration": 9,
    "start_time": "2023-01-11T14:34:49.609Z"
   },
   {
    "duration": 10,
    "start_time": "2023-01-11T14:35:44.291Z"
   },
   {
    "duration": 36,
    "start_time": "2023-01-11T14:39:07.047Z"
   },
   {
    "duration": 68,
    "start_time": "2023-01-11T14:42:10.124Z"
   },
   {
    "duration": 32,
    "start_time": "2023-01-11T14:43:51.709Z"
   },
   {
    "duration": 46,
    "start_time": "2023-01-11T14:44:10.208Z"
   },
   {
    "duration": 42,
    "start_time": "2023-01-11T14:47:09.387Z"
   },
   {
    "duration": 40,
    "start_time": "2023-01-11T14:54:41.844Z"
   },
   {
    "duration": 47,
    "start_time": "2023-01-11T14:55:58.728Z"
   },
   {
    "duration": 53,
    "start_time": "2023-01-11T14:56:40.740Z"
   },
   {
    "duration": 45,
    "start_time": "2023-01-11T14:57:03.303Z"
   },
   {
    "duration": 45,
    "start_time": "2023-01-11T14:57:22.280Z"
   },
   {
    "duration": 46,
    "start_time": "2023-01-11T14:57:42.522Z"
   },
   {
    "duration": 66,
    "start_time": "2023-01-11T15:03:50.914Z"
   },
   {
    "duration": 11,
    "start_time": "2023-01-11T15:15:58.006Z"
   },
   {
    "duration": 11,
    "start_time": "2023-01-11T15:16:11.565Z"
   },
   {
    "duration": 12,
    "start_time": "2023-01-11T15:17:02.578Z"
   },
   {
    "duration": 44,
    "start_time": "2023-01-11T15:17:36.749Z"
   },
   {
    "duration": 12,
    "start_time": "2023-01-11T15:17:44.273Z"
   },
   {
    "duration": 45,
    "start_time": "2023-01-11T15:18:20.982Z"
   },
   {
    "duration": 14,
    "start_time": "2023-01-11T15:19:41.521Z"
   },
   {
    "duration": 52,
    "start_time": "2023-01-11T15:20:17.761Z"
   },
   {
    "duration": 17,
    "start_time": "2023-01-11T15:20:21.081Z"
   },
   {
    "duration": 52,
    "start_time": "2023-01-11T15:21:21.023Z"
   },
   {
    "duration": 14,
    "start_time": "2023-01-11T15:21:27.563Z"
   },
   {
    "duration": 45,
    "start_time": "2023-01-11T15:21:58.094Z"
   },
   {
    "duration": 15,
    "start_time": "2023-01-11T15:22:01.510Z"
   },
   {
    "duration": 5,
    "start_time": "2023-01-11T16:18:08.451Z"
   },
   {
    "duration": 13,
    "start_time": "2023-01-11T16:27:29.789Z"
   },
   {
    "duration": 19,
    "start_time": "2023-01-11T16:46:47.600Z"
   },
   {
    "duration": 32,
    "start_time": "2023-01-11T16:47:10.522Z"
   },
   {
    "duration": 20,
    "start_time": "2023-01-11T16:49:33.329Z"
   },
   {
    "duration": 13,
    "start_time": "2023-01-11T18:13:43.545Z"
   },
   {
    "duration": 189,
    "start_time": "2023-01-11T18:14:48.665Z"
   },
   {
    "duration": 208,
    "start_time": "2023-01-11T18:18:37.810Z"
   },
   {
    "duration": 204,
    "start_time": "2023-01-11T18:18:45.138Z"
   },
   {
    "duration": 21,
    "start_time": "2023-01-11T18:34:14.955Z"
   },
   {
    "duration": 225,
    "start_time": "2023-01-11T18:34:24.744Z"
   },
   {
    "duration": 213,
    "start_time": "2023-01-11T18:34:38.031Z"
   },
   {
    "duration": 221,
    "start_time": "2023-01-11T18:34:52.834Z"
   },
   {
    "duration": 136,
    "start_time": "2023-01-11T18:35:13.476Z"
   },
   {
    "duration": 11,
    "start_time": "2023-01-11T18:36:16.690Z"
   },
   {
    "duration": 141,
    "start_time": "2023-01-11T18:36:31.252Z"
   },
   {
    "duration": 3,
    "start_time": "2023-01-11T18:49:14.085Z"
   },
   {
    "duration": 195,
    "start_time": "2023-01-11T18:49:17.177Z"
   },
   {
    "duration": 34,
    "start_time": "2023-01-11T18:49:25.096Z"
   },
   {
    "duration": 18,
    "start_time": "2023-01-11T18:49:36.183Z"
   },
   {
    "duration": 63,
    "start_time": "2023-01-11T18:49:44.238Z"
   },
   {
    "duration": 13,
    "start_time": "2023-01-11T18:49:46.868Z"
   },
   {
    "duration": 84,
    "start_time": "2023-01-11T18:49:52.658Z"
   },
   {
    "duration": 128,
    "start_time": "2023-01-11T18:49:55.978Z"
   },
   {
    "duration": 14,
    "start_time": "2023-01-11T18:50:04.665Z"
   },
   {
    "duration": 9,
    "start_time": "2023-01-11T18:50:07.698Z"
   },
   {
    "duration": 22,
    "start_time": "2023-01-11T18:50:11.219Z"
   },
   {
    "duration": 36,
    "start_time": "2023-01-11T18:50:17.280Z"
   },
   {
    "duration": 195,
    "start_time": "2023-01-11T18:50:24.544Z"
   },
   {
    "duration": 31,
    "start_time": "2023-01-11T18:50:31.988Z"
   },
   {
    "duration": 37,
    "start_time": "2023-01-11T18:50:35.373Z"
   },
   {
    "duration": 21,
    "start_time": "2023-01-11T18:50:42.907Z"
   },
   {
    "duration": 6,
    "start_time": "2023-01-11T18:50:46.186Z"
   },
   {
    "duration": 39,
    "start_time": "2023-01-11T18:50:52.773Z"
   },
   {
    "duration": 62,
    "start_time": "2023-01-11T18:50:56.164Z"
   },
   {
    "duration": 15,
    "start_time": "2023-01-11T18:51:03.053Z"
   },
   {
    "duration": 15,
    "start_time": "2023-01-11T18:51:10.158Z"
   },
   {
    "duration": 6,
    "start_time": "2023-01-11T18:51:16.568Z"
   },
   {
    "duration": 49,
    "start_time": "2023-01-11T18:51:22.537Z"
   },
   {
    "duration": 46,
    "start_time": "2023-01-11T18:51:30.056Z"
   },
   {
    "duration": 13,
    "start_time": "2023-01-11T18:51:44.220Z"
   },
   {
    "duration": 9,
    "start_time": "2023-01-11T18:51:56.133Z"
   },
   {
    "duration": 10,
    "start_time": "2023-01-11T18:52:08.399Z"
   },
   {
    "duration": 206,
    "start_time": "2023-01-11T18:52:12.345Z"
   },
   {
    "duration": 7,
    "start_time": "2023-01-11T19:00:24.143Z"
   },
   {
    "duration": 8,
    "start_time": "2023-01-11T19:01:14.245Z"
   },
   {
    "duration": 7,
    "start_time": "2023-01-11T19:01:27.361Z"
   },
   {
    "duration": 6,
    "start_time": "2023-01-11T19:03:52.548Z"
   },
   {
    "duration": 5,
    "start_time": "2023-01-11T19:04:05.691Z"
   },
   {
    "duration": 10,
    "start_time": "2023-01-11T19:07:51.450Z"
   },
   {
    "duration": 182,
    "start_time": "2023-01-11T19:07:58.021Z"
   },
   {
    "duration": 208,
    "start_time": "2023-01-11T19:08:13.227Z"
   },
   {
    "duration": 170,
    "start_time": "2023-01-11T19:08:23.438Z"
   },
   {
    "duration": 239,
    "start_time": "2023-01-11T19:09:01.047Z"
   },
   {
    "duration": 11,
    "start_time": "2023-01-11T19:52:56.639Z"
   },
   {
    "duration": 226,
    "start_time": "2023-01-11T19:52:59.661Z"
   },
   {
    "duration": 200,
    "start_time": "2023-01-11T19:53:04.846Z"
   },
   {
    "duration": 176,
    "start_time": "2023-01-11T19:53:10.881Z"
   },
   {
    "duration": 191,
    "start_time": "2023-01-11T19:53:14.708Z"
   },
   {
    "duration": 14,
    "start_time": "2023-01-11T19:54:45.063Z"
   },
   {
    "duration": 189,
    "start_time": "2023-01-11T19:55:16.579Z"
   },
   {
    "duration": 199,
    "start_time": "2023-01-11T19:55:57.470Z"
   },
   {
    "duration": 181,
    "start_time": "2023-01-11T19:56:36.503Z"
   },
   {
    "duration": 210,
    "start_time": "2023-01-11T19:57:08.860Z"
   },
   {
    "duration": 892,
    "start_time": "2023-01-11T22:00:27.625Z"
   },
   {
    "duration": 277,
    "start_time": "2023-01-11T22:00:28.520Z"
   },
   {
    "duration": 20,
    "start_time": "2023-01-11T22:00:28.798Z"
   },
   {
    "duration": 14,
    "start_time": "2023-01-11T22:00:28.820Z"
   },
   {
    "duration": 65,
    "start_time": "2023-01-11T22:00:28.836Z"
   },
   {
    "duration": 22,
    "start_time": "2023-01-11T22:00:28.903Z"
   },
   {
    "duration": 90,
    "start_time": "2023-01-11T22:00:28.926Z"
   },
   {
    "duration": 108,
    "start_time": "2023-01-11T22:00:29.017Z"
   },
   {
    "duration": 12,
    "start_time": "2023-01-11T22:00:29.127Z"
   },
   {
    "duration": 8,
    "start_time": "2023-01-11T22:00:29.141Z"
   },
   {
    "duration": 21,
    "start_time": "2023-01-11T22:00:29.151Z"
   },
   {
    "duration": 53,
    "start_time": "2023-01-11T22:00:29.173Z"
   },
   {
    "duration": 616,
    "start_time": "2023-01-11T22:00:29.228Z"
   },
   {
    "duration": 24,
    "start_time": "2023-01-11T22:00:29.847Z"
   },
   {
    "duration": 45,
    "start_time": "2023-01-11T22:00:29.872Z"
   },
   {
    "duration": 18,
    "start_time": "2023-01-11T22:00:29.918Z"
   },
   {
    "duration": 5,
    "start_time": "2023-01-11T22:00:29.938Z"
   },
   {
    "duration": 24,
    "start_time": "2023-01-11T22:00:29.944Z"
   },
   {
    "duration": 77,
    "start_time": "2023-01-11T22:00:29.970Z"
   },
   {
    "duration": 21,
    "start_time": "2023-01-11T22:00:30.049Z"
   },
   {
    "duration": 13,
    "start_time": "2023-01-11T22:00:30.072Z"
   },
   {
    "duration": 53,
    "start_time": "2023-01-11T22:00:30.086Z"
   },
   {
    "duration": 72,
    "start_time": "2023-01-11T22:00:30.140Z"
   },
   {
    "duration": 39,
    "start_time": "2023-01-11T22:00:30.214Z"
   },
   {
    "duration": 13,
    "start_time": "2023-01-11T22:00:30.254Z"
   },
   {
    "duration": 40,
    "start_time": "2023-01-11T22:00:30.268Z"
   },
   {
    "duration": 55,
    "start_time": "2023-01-11T22:00:30.310Z"
   },
   {
    "duration": 221,
    "start_time": "2023-01-11T22:00:30.367Z"
   },
   {
    "duration": 156,
    "start_time": "2023-01-11T22:00:30.590Z"
   },
   {
    "duration": 170,
    "start_time": "2023-01-11T22:00:30.747Z"
   },
   {
    "duration": 177,
    "start_time": "2023-01-11T22:00:30.918Z"
   },
   {
    "duration": 18,
    "start_time": "2023-01-11T22:00:31.097Z"
   },
   {
    "duration": 184,
    "start_time": "2023-01-11T22:00:31.117Z"
   },
   {
    "duration": 154,
    "start_time": "2023-01-11T22:00:31.302Z"
   },
   {
    "duration": 160,
    "start_time": "2023-01-11T22:00:31.457Z"
   },
   {
    "duration": 173,
    "start_time": "2023-01-11T22:00:31.619Z"
   },
   {
    "duration": 11,
    "start_time": "2023-01-11T22:04:38.387Z"
   },
   {
    "duration": 539,
    "start_time": "2023-01-11T22:04:42.760Z"
   },
   {
    "duration": 968,
    "start_time": "2023-01-12T08:09:56.371Z"
   },
   {
    "duration": 308,
    "start_time": "2023-01-12T08:10:08.761Z"
   },
   {
    "duration": 24,
    "start_time": "2023-01-12T08:10:16.670Z"
   },
   {
    "duration": 25,
    "start_time": "2023-01-12T08:10:23.422Z"
   },
   {
    "duration": 64,
    "start_time": "2023-01-12T08:10:26.836Z"
   },
   {
    "duration": 20,
    "start_time": "2023-01-12T08:10:42.200Z"
   },
   {
    "duration": 128,
    "start_time": "2023-01-12T08:10:54.617Z"
   },
   {
    "duration": 115,
    "start_time": "2023-01-12T08:15:21.439Z"
   },
   {
    "duration": 11,
    "start_time": "2023-01-12T08:45:39.673Z"
   },
   {
    "duration": 7,
    "start_time": "2023-01-12T08:45:43.425Z"
   },
   {
    "duration": 20,
    "start_time": "2023-01-12T08:45:56.821Z"
   },
   {
    "duration": 27,
    "start_time": "2023-01-12T08:46:33.605Z"
   },
   {
    "duration": 670,
    "start_time": "2023-01-12T08:46:44.047Z"
   },
   {
    "duration": 597,
    "start_time": "2023-01-12T08:50:34.272Z"
   },
   {
    "duration": 24,
    "start_time": "2023-01-12T08:51:07.588Z"
   },
   {
    "duration": 28,
    "start_time": "2023-01-12T08:51:17.808Z"
   },
   {
    "duration": 14,
    "start_time": "2023-01-12T08:54:18.497Z"
   },
   {
    "duration": 7,
    "start_time": "2023-01-12T08:54:21.287Z"
   },
   {
    "duration": 35,
    "start_time": "2023-01-12T08:56:48.834Z"
   },
   {
    "duration": 11,
    "start_time": "2023-01-12T08:57:44.458Z"
   },
   {
    "duration": 2,
    "start_time": "2023-01-12T08:58:20.649Z"
   },
   {
    "duration": 174,
    "start_time": "2023-01-12T08:58:24.263Z"
   },
   {
    "duration": 17,
    "start_time": "2023-01-12T08:58:31.289Z"
   },
   {
    "duration": 14,
    "start_time": "2023-01-12T08:58:34.499Z"
   },
   {
    "duration": 47,
    "start_time": "2023-01-12T08:58:40.925Z"
   },
   {
    "duration": 11,
    "start_time": "2023-01-12T08:58:44.463Z"
   },
   {
    "duration": 78,
    "start_time": "2023-01-12T08:58:50.588Z"
   },
   {
    "duration": 111,
    "start_time": "2023-01-12T08:58:54.153Z"
   },
   {
    "duration": 12,
    "start_time": "2023-01-12T08:59:02.444Z"
   },
   {
    "duration": 9,
    "start_time": "2023-01-12T08:59:05.877Z"
   },
   {
    "duration": 21,
    "start_time": "2023-01-12T08:59:13.265Z"
   },
   {
    "duration": 30,
    "start_time": "2023-01-12T08:59:21.403Z"
   },
   {
    "duration": 185,
    "start_time": "2023-01-12T08:59:24.648Z"
   },
   {
    "duration": 714,
    "start_time": "2023-01-12T08:59:31.829Z"
   },
   {
    "duration": 26,
    "start_time": "2023-01-12T08:59:39.205Z"
   },
   {
    "duration": 36,
    "start_time": "2023-01-12T08:59:45.995Z"
   },
   {
    "duration": 34,
    "start_time": "2023-01-12T08:59:54.925Z"
   },
   {
    "duration": 54,
    "start_time": "2023-01-12T09:03:55.171Z"
   },
   {
    "duration": 59,
    "start_time": "2023-01-12T09:04:18.860Z"
   },
   {
    "duration": 124,
    "start_time": "2023-01-12T09:04:39.381Z"
   },
   {
    "duration": 41,
    "start_time": "2023-01-12T09:05:47.567Z"
   },
   {
    "duration": 46,
    "start_time": "2023-01-12T09:07:20.161Z"
   },
   {
    "duration": 50,
    "start_time": "2023-01-12T09:07:58.148Z"
   },
   {
    "duration": 40,
    "start_time": "2023-01-12T09:10:42.374Z"
   },
   {
    "duration": 29,
    "start_time": "2023-01-12T09:11:01.633Z"
   },
   {
    "duration": 47,
    "start_time": "2023-01-12T09:11:14.176Z"
   },
   {
    "duration": 52,
    "start_time": "2023-01-12T09:12:21.165Z"
   },
   {
    "duration": 48,
    "start_time": "2023-01-12T09:15:40.207Z"
   },
   {
    "duration": 28,
    "start_time": "2023-01-12T09:22:21.294Z"
   },
   {
    "duration": 45,
    "start_time": "2023-01-12T09:22:32.033Z"
   },
   {
    "duration": 36,
    "start_time": "2023-01-12T09:23:29.121Z"
   },
   {
    "duration": 33,
    "start_time": "2023-01-12T09:27:58.632Z"
   },
   {
    "duration": 39,
    "start_time": "2023-01-12T09:28:07.821Z"
   },
   {
    "duration": 34,
    "start_time": "2023-01-12T09:28:17.633Z"
   },
   {
    "duration": 33,
    "start_time": "2023-01-12T09:28:48.349Z"
   },
   {
    "duration": 5,
    "start_time": "2023-01-12T09:30:04.336Z"
   },
   {
    "duration": 22,
    "start_time": "2023-01-12T09:30:16.928Z"
   },
   {
    "duration": 56,
    "start_time": "2023-01-12T09:30:23.957Z"
   },
   {
    "duration": 14,
    "start_time": "2023-01-12T09:30:31.245Z"
   },
   {
    "duration": 13,
    "start_time": "2023-01-12T09:32:53.687Z"
   },
   {
    "duration": 5,
    "start_time": "2023-01-12T09:33:05.433Z"
   },
   {
    "duration": 35,
    "start_time": "2023-01-12T09:34:39.702Z"
   },
   {
    "duration": 42,
    "start_time": "2023-01-12T09:37:11.184Z"
   },
   {
    "duration": 14,
    "start_time": "2023-01-12T09:37:15.864Z"
   },
   {
    "duration": 9,
    "start_time": "2023-01-12T09:39:52.798Z"
   },
   {
    "duration": 9,
    "start_time": "2023-01-12T09:40:19.936Z"
   },
   {
    "duration": 3,
    "start_time": "2023-01-12T09:41:58.198Z"
   },
   {
    "duration": 160,
    "start_time": "2023-01-12T09:42:35.317Z"
   },
   {
    "duration": 165,
    "start_time": "2023-01-12T09:42:48.669Z"
   },
   {
    "duration": 201,
    "start_time": "2023-01-12T09:42:59.274Z"
   },
   {
    "duration": 167,
    "start_time": "2023-01-12T09:43:09.460Z"
   },
   {
    "duration": 9,
    "start_time": "2023-01-12T09:49:39.513Z"
   },
   {
    "duration": 175,
    "start_time": "2023-01-12T09:49:59.090Z"
   },
   {
    "duration": 159,
    "start_time": "2023-01-12T09:50:04.305Z"
   },
   {
    "duration": 157,
    "start_time": "2023-01-12T09:50:17.881Z"
   },
   {
    "duration": 179,
    "start_time": "2023-01-12T09:50:26.305Z"
   }
  ],
  "kernelspec": {
   "display_name": "Python 3 (ipykernel)",
   "language": "python",
   "name": "python3"
  },
  "language_info": {
   "codemirror_mode": {
    "name": "ipython",
    "version": 3
   },
   "file_extension": ".py",
   "mimetype": "text/x-python",
   "name": "python",
   "nbconvert_exporter": "python",
   "pygments_lexer": "ipython3",
   "version": "3.10.6"
  },
  "toc": {
   "base_numbering": 1,
   "nav_menu": {},
   "number_sections": false,
   "sideBar": true,
   "skip_h1_title": false,
   "title_cell": "Table of Contents",
   "title_sidebar": "Contents",
   "toc_cell": false,
   "toc_position": {
    "height": "calc(100% - 180px)",
    "left": "10px",
    "top": "150px",
    "width": "241px"
   },
   "toc_section_display": true,
   "toc_window_display": true
  }
 },
 "nbformat": 4,
 "nbformat_minor": 2
}
