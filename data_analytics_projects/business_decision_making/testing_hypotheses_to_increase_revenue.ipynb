{
 "cells": [
  {
   "cell_type": "markdown",
   "metadata": {},
   "source": [
    "# Описание данных"
   ]
  },
  {
   "cell_type": "markdown",
   "metadata": {},
   "source": [
    "1. Данные для первой части. \n",
    "\n",
    "Файл /datasets/hypothesis.csv \n",
    "- Hypothesis — краткое описание гипотезы;\n",
    "- Reach — охват пользователей по 10-балльной шкале;\n",
    "- Impact — влияние на пользователей по 10-балльной шкале;\n",
    "- Confidence — уверенность в гипотезе по 10-балльной шкале;\n",
    "- Efforts — затраты ресурсов на проверку гипотезы по 10-балльной шкале. Чем больше значение Efforts, тем дороже проверка гипотезы.\n",
    "\n",
    "\n",
    "2. Данные для второй части. \n",
    "\n",
    "Файл /datasets/orders.csv\n",
    "- transactionId — идентификатор заказа;\n",
    "- visitorId — идентификатор пользователя, совершившего заказ;\n",
    "- date — дата, когда был совершён заказ;\n",
    "- revenue — выручка заказа;\n",
    "- group — группа A/B-теста, в которую попал заказ.\n",
    "\n",
    "Файл /datasets/visitors.csv\n",
    "- date — дата;\n",
    "- group — группа A/B-теста;\n",
    "- visitors — количество пользователей в указанную дату в указанной группе A/B-теста"
   ]
  },
  {
   "cell_type": "markdown",
   "metadata": {},
   "source": [
    "# Описание проекта"
   ]
  },
  {
   "cell_type": "markdown",
   "metadata": {},
   "source": [
    "Контекст:\n",
    "\n",
    "Вы — аналитик крупного интернет-магазина. Вместе с отделом маркетинга вы подготовили список гипотез для увеличения выручки.\n",
    "Приоритизируйте гипотезы, запустите A/B-тест и проанализируйте результаты. \n"
   ]
  },
  {
   "cell_type": "markdown",
   "metadata": {},
   "source": [
    "## Приоритизация гипотез"
   ]
  },
  {
   "cell_type": "markdown",
   "metadata": {},
   "source": [
    "### Применение фреймворка ICE"
   ]
  },
  {
   "cell_type": "code",
   "execution_count": 1,
   "metadata": {},
   "outputs": [],
   "source": [
    "import pandas as pd\n",
    "import numpy as np\n",
    "import matplotlib.pyplot as plt\n",
    "import scipy.stats as stats"
   ]
  },
  {
   "cell_type": "code",
   "execution_count": 2,
   "metadata": {},
   "outputs": [
    {
     "data": {
      "text/html": [
       "<div>\n",
       "<style scoped>\n",
       "    .dataframe tbody tr th:only-of-type {\n",
       "        vertical-align: middle;\n",
       "    }\n",
       "\n",
       "    .dataframe tbody tr th {\n",
       "        vertical-align: top;\n",
       "    }\n",
       "\n",
       "    .dataframe thead th {\n",
       "        text-align: right;\n",
       "    }\n",
       "</style>\n",
       "<table border=\"1\" class=\"dataframe\">\n",
       "  <thead>\n",
       "    <tr style=\"text-align: right;\">\n",
       "      <th></th>\n",
       "      <th>Hypothesis</th>\n",
       "      <th>Reach</th>\n",
       "      <th>Impact</th>\n",
       "      <th>Confidence</th>\n",
       "      <th>Efforts</th>\n",
       "    </tr>\n",
       "  </thead>\n",
       "  <tbody>\n",
       "    <tr>\n",
       "      <th>0</th>\n",
       "      <td>Добавить два новых канала привлечения трафика, что позволит привлекать на 30% больше пользователей</td>\n",
       "      <td>3</td>\n",
       "      <td>10</td>\n",
       "      <td>8</td>\n",
       "      <td>6</td>\n",
       "    </tr>\n",
       "    <tr>\n",
       "      <th>1</th>\n",
       "      <td>Запустить собственную службу доставки, что сократит срок доставки заказов</td>\n",
       "      <td>2</td>\n",
       "      <td>5</td>\n",
       "      <td>4</td>\n",
       "      <td>10</td>\n",
       "    </tr>\n",
       "    <tr>\n",
       "      <th>2</th>\n",
       "      <td>Добавить блоки рекомендаций товаров на сайт интернет магазина, чтобы повысить конверсию и средний чек заказа</td>\n",
       "      <td>8</td>\n",
       "      <td>3</td>\n",
       "      <td>7</td>\n",
       "      <td>3</td>\n",
       "    </tr>\n",
       "    <tr>\n",
       "      <th>3</th>\n",
       "      <td>Изменить структура категорий, что увеличит конверсию, т.к. пользователи быстрее найдут нужный товар</td>\n",
       "      <td>8</td>\n",
       "      <td>3</td>\n",
       "      <td>3</td>\n",
       "      <td>8</td>\n",
       "    </tr>\n",
       "    <tr>\n",
       "      <th>4</th>\n",
       "      <td>Изменить цвет фона главной страницы, чтобы увеличить вовлеченность пользователей</td>\n",
       "      <td>3</td>\n",
       "      <td>1</td>\n",
       "      <td>1</td>\n",
       "      <td>1</td>\n",
       "    </tr>\n",
       "    <tr>\n",
       "      <th>5</th>\n",
       "      <td>Добавить страницу отзывов клиентов о магазине, что позволит увеличить количество заказов</td>\n",
       "      <td>3</td>\n",
       "      <td>2</td>\n",
       "      <td>2</td>\n",
       "      <td>3</td>\n",
       "    </tr>\n",
       "    <tr>\n",
       "      <th>6</th>\n",
       "      <td>Показать на главной странице баннеры с актуальными акциями и распродажами, чтобы увеличить конверсию</td>\n",
       "      <td>5</td>\n",
       "      <td>3</td>\n",
       "      <td>8</td>\n",
       "      <td>3</td>\n",
       "    </tr>\n",
       "    <tr>\n",
       "      <th>7</th>\n",
       "      <td>Добавить форму подписки на все основные страницы, чтобы собрать базу клиентов для email-рассылок</td>\n",
       "      <td>10</td>\n",
       "      <td>7</td>\n",
       "      <td>8</td>\n",
       "      <td>5</td>\n",
       "    </tr>\n",
       "    <tr>\n",
       "      <th>8</th>\n",
       "      <td>Запустить акцию, дающую скидку на товар в день рождения</td>\n",
       "      <td>1</td>\n",
       "      <td>9</td>\n",
       "      <td>9</td>\n",
       "      <td>5</td>\n",
       "    </tr>\n",
       "  </tbody>\n",
       "</table>\n",
       "</div>"
      ],
      "text/plain": [
       "                                                                                                     Hypothesis  \\\n",
       "0            Добавить два новых канала привлечения трафика, что позволит привлекать на 30% больше пользователей   \n",
       "1                                     Запустить собственную службу доставки, что сократит срок доставки заказов   \n",
       "2  Добавить блоки рекомендаций товаров на сайт интернет магазина, чтобы повысить конверсию и средний чек заказа   \n",
       "3           Изменить структура категорий, что увеличит конверсию, т.к. пользователи быстрее найдут нужный товар   \n",
       "4                              Изменить цвет фона главной страницы, чтобы увеличить вовлеченность пользователей   \n",
       "5                      Добавить страницу отзывов клиентов о магазине, что позволит увеличить количество заказов   \n",
       "6          Показать на главной странице баннеры с актуальными акциями и распродажами, чтобы увеличить конверсию   \n",
       "7              Добавить форму подписки на все основные страницы, чтобы собрать базу клиентов для email-рассылок   \n",
       "8                                                       Запустить акцию, дающую скидку на товар в день рождения   \n",
       "\n",
       "   Reach  Impact  Confidence  Efforts  \n",
       "0      3      10           8        6  \n",
       "1      2       5           4       10  \n",
       "2      8       3           7        3  \n",
       "3      8       3           3        8  \n",
       "4      3       1           1        1  \n",
       "5      3       2           2        3  \n",
       "6      5       3           8        3  \n",
       "7     10       7           8        5  \n",
       "8      1       9           9        5  "
      ]
     },
     "execution_count": 2,
     "metadata": {},
     "output_type": "execute_result"
    }
   ],
   "source": [
    "data = pd.read_csv('/datasets/hypothesis.csv', sep=',')\n",
    "pd.options.display.max_colwidth = 130\n",
    "data"
   ]
  },
  {
   "cell_type": "code",
   "execution_count": 3,
   "metadata": {},
   "outputs": [
    {
     "data": {
      "text/html": [
       "<div>\n",
       "<style scoped>\n",
       "    .dataframe tbody tr th:only-of-type {\n",
       "        vertical-align: middle;\n",
       "    }\n",
       "\n",
       "    .dataframe tbody tr th {\n",
       "        vertical-align: top;\n",
       "    }\n",
       "\n",
       "    .dataframe thead th {\n",
       "        text-align: right;\n",
       "    }\n",
       "</style>\n",
       "<table border=\"1\" class=\"dataframe\">\n",
       "  <thead>\n",
       "    <tr style=\"text-align: right;\">\n",
       "      <th></th>\n",
       "      <th>Hypothesis</th>\n",
       "      <th>ICE</th>\n",
       "    </tr>\n",
       "  </thead>\n",
       "  <tbody>\n",
       "    <tr>\n",
       "      <th>8</th>\n",
       "      <td>Запустить акцию, дающую скидку на товар в день рождения</td>\n",
       "      <td>16.20</td>\n",
       "    </tr>\n",
       "    <tr>\n",
       "      <th>0</th>\n",
       "      <td>Добавить два новых канала привлечения трафика, что позволит привлекать на 30% больше пользователей</td>\n",
       "      <td>13.33</td>\n",
       "    </tr>\n",
       "    <tr>\n",
       "      <th>7</th>\n",
       "      <td>Добавить форму подписки на все основные страницы, чтобы собрать базу клиентов для email-рассылок</td>\n",
       "      <td>11.20</td>\n",
       "    </tr>\n",
       "    <tr>\n",
       "      <th>6</th>\n",
       "      <td>Показать на главной странице баннеры с актуальными акциями и распродажами, чтобы увеличить конверсию</td>\n",
       "      <td>8.00</td>\n",
       "    </tr>\n",
       "    <tr>\n",
       "      <th>2</th>\n",
       "      <td>Добавить блоки рекомендаций товаров на сайт интернет магазина, чтобы повысить конверсию и средний чек заказа</td>\n",
       "      <td>7.00</td>\n",
       "    </tr>\n",
       "    <tr>\n",
       "      <th>1</th>\n",
       "      <td>Запустить собственную службу доставки, что сократит срок доставки заказов</td>\n",
       "      <td>2.00</td>\n",
       "    </tr>\n",
       "    <tr>\n",
       "      <th>5</th>\n",
       "      <td>Добавить страницу отзывов клиентов о магазине, что позволит увеличить количество заказов</td>\n",
       "      <td>1.33</td>\n",
       "    </tr>\n",
       "    <tr>\n",
       "      <th>3</th>\n",
       "      <td>Изменить структура категорий, что увеличит конверсию, т.к. пользователи быстрее найдут нужный товар</td>\n",
       "      <td>1.12</td>\n",
       "    </tr>\n",
       "    <tr>\n",
       "      <th>4</th>\n",
       "      <td>Изменить цвет фона главной страницы, чтобы увеличить вовлеченность пользователей</td>\n",
       "      <td>1.00</td>\n",
       "    </tr>\n",
       "  </tbody>\n",
       "</table>\n",
       "</div>"
      ],
      "text/plain": [
       "                                                                                                     Hypothesis  \\\n",
       "8                                                       Запустить акцию, дающую скидку на товар в день рождения   \n",
       "0            Добавить два новых канала привлечения трафика, что позволит привлекать на 30% больше пользователей   \n",
       "7              Добавить форму подписки на все основные страницы, чтобы собрать базу клиентов для email-рассылок   \n",
       "6          Показать на главной странице баннеры с актуальными акциями и распродажами, чтобы увеличить конверсию   \n",
       "2  Добавить блоки рекомендаций товаров на сайт интернет магазина, чтобы повысить конверсию и средний чек заказа   \n",
       "1                                     Запустить собственную службу доставки, что сократит срок доставки заказов   \n",
       "5                      Добавить страницу отзывов клиентов о магазине, что позволит увеличить количество заказов   \n",
       "3           Изменить структура категорий, что увеличит конверсию, т.к. пользователи быстрее найдут нужный товар   \n",
       "4                              Изменить цвет фона главной страницы, чтобы увеличить вовлеченность пользователей   \n",
       "\n",
       "     ICE  \n",
       "8  16.20  \n",
       "0  13.33  \n",
       "7  11.20  \n",
       "6   8.00  \n",
       "2   7.00  \n",
       "1   2.00  \n",
       "5   1.33  \n",
       "3   1.12  \n",
       "4   1.00  "
      ]
     },
     "execution_count": 3,
     "metadata": {},
     "output_type": "execute_result"
    }
   ],
   "source": [
    "data['ICE'] = (data['Impact'] * data['Confidence']) / data['Efforts']\n",
    "data.sort_values(by='ICE', ascending=False)[['Hypothesis', 'ICE']].round(2)"
   ]
  },
  {
   "cell_type": "markdown",
   "metadata": {},
   "source": [
    "### Применение фреймворка RICE"
   ]
  },
  {
   "cell_type": "code",
   "execution_count": 4,
   "metadata": {},
   "outputs": [
    {
     "data": {
      "text/html": [
       "<div>\n",
       "<style scoped>\n",
       "    .dataframe tbody tr th:only-of-type {\n",
       "        vertical-align: middle;\n",
       "    }\n",
       "\n",
       "    .dataframe tbody tr th {\n",
       "        vertical-align: top;\n",
       "    }\n",
       "\n",
       "    .dataframe thead th {\n",
       "        text-align: right;\n",
       "    }\n",
       "</style>\n",
       "<table border=\"1\" class=\"dataframe\">\n",
       "  <thead>\n",
       "    <tr style=\"text-align: right;\">\n",
       "      <th></th>\n",
       "      <th>Hypothesis</th>\n",
       "      <th>RICE</th>\n",
       "    </tr>\n",
       "  </thead>\n",
       "  <tbody>\n",
       "    <tr>\n",
       "      <th>7</th>\n",
       "      <td>Добавить форму подписки на все основные страницы, чтобы собрать базу клиентов для email-рассылок</td>\n",
       "      <td>112.0</td>\n",
       "    </tr>\n",
       "    <tr>\n",
       "      <th>2</th>\n",
       "      <td>Добавить блоки рекомендаций товаров на сайт интернет магазина, чтобы повысить конверсию и средний чек заказа</td>\n",
       "      <td>56.0</td>\n",
       "    </tr>\n",
       "    <tr>\n",
       "      <th>0</th>\n",
       "      <td>Добавить два новых канала привлечения трафика, что позволит привлекать на 30% больше пользователей</td>\n",
       "      <td>40.0</td>\n",
       "    </tr>\n",
       "    <tr>\n",
       "      <th>6</th>\n",
       "      <td>Показать на главной странице баннеры с актуальными акциями и распродажами, чтобы увеличить конверсию</td>\n",
       "      <td>40.0</td>\n",
       "    </tr>\n",
       "    <tr>\n",
       "      <th>8</th>\n",
       "      <td>Запустить акцию, дающую скидку на товар в день рождения</td>\n",
       "      <td>16.2</td>\n",
       "    </tr>\n",
       "    <tr>\n",
       "      <th>3</th>\n",
       "      <td>Изменить структура категорий, что увеличит конверсию, т.к. пользователи быстрее найдут нужный товар</td>\n",
       "      <td>9.0</td>\n",
       "    </tr>\n",
       "    <tr>\n",
       "      <th>1</th>\n",
       "      <td>Запустить собственную службу доставки, что сократит срок доставки заказов</td>\n",
       "      <td>4.0</td>\n",
       "    </tr>\n",
       "    <tr>\n",
       "      <th>5</th>\n",
       "      <td>Добавить страницу отзывов клиентов о магазине, что позволит увеличить количество заказов</td>\n",
       "      <td>4.0</td>\n",
       "    </tr>\n",
       "    <tr>\n",
       "      <th>4</th>\n",
       "      <td>Изменить цвет фона главной страницы, чтобы увеличить вовлеченность пользователей</td>\n",
       "      <td>3.0</td>\n",
       "    </tr>\n",
       "  </tbody>\n",
       "</table>\n",
       "</div>"
      ],
      "text/plain": [
       "                                                                                                     Hypothesis  \\\n",
       "7              Добавить форму подписки на все основные страницы, чтобы собрать базу клиентов для email-рассылок   \n",
       "2  Добавить блоки рекомендаций товаров на сайт интернет магазина, чтобы повысить конверсию и средний чек заказа   \n",
       "0            Добавить два новых канала привлечения трафика, что позволит привлекать на 30% больше пользователей   \n",
       "6          Показать на главной странице баннеры с актуальными акциями и распродажами, чтобы увеличить конверсию   \n",
       "8                                                       Запустить акцию, дающую скидку на товар в день рождения   \n",
       "3           Изменить структура категорий, что увеличит конверсию, т.к. пользователи быстрее найдут нужный товар   \n",
       "1                                     Запустить собственную службу доставки, что сократит срок доставки заказов   \n",
       "5                      Добавить страницу отзывов клиентов о магазине, что позволит увеличить количество заказов   \n",
       "4                              Изменить цвет фона главной страницы, чтобы увеличить вовлеченность пользователей   \n",
       "\n",
       "    RICE  \n",
       "7  112.0  \n",
       "2   56.0  \n",
       "0   40.0  \n",
       "6   40.0  \n",
       "8   16.2  \n",
       "3    9.0  \n",
       "1    4.0  \n",
       "5    4.0  \n",
       "4    3.0  "
      ]
     },
     "execution_count": 4,
     "metadata": {},
     "output_type": "execute_result"
    }
   ],
   "source": [
    "data['RICE'] = (data['Reach'] * data['Impact'] * data['Confidence']) / data['Efforts']\n",
    "data.sort_values(by='RICE', ascending=False)[['Hypothesis', 'RICE']]"
   ]
  },
  {
   "cell_type": "markdown",
   "metadata": {},
   "source": [
    "### Какие изменения приоритизации гипотез при применении RICE вместо ICE возникли и почему:"
   ]
  },
  {
   "cell_type": "markdown",
   "metadata": {},
   "source": [
    "1. При применении разных фреймворков возникли следующие изменения в приоритетах гипотез:\n",
    "\n",
    "  - Гипотезы 0, 7 и 6 остались в первой четверке гипотез, но поменялся их порядок:\n",
    "  \n",
    "  0 - Добавить два новых канала привлечения трафика, что позволит привлекать на 30% больше пользователей\n",
    "  \n",
    "  7 - Добавить форму подписки на все основные страницы, чтобы собрать базу клиентов для email-рассылок\n",
    "  \n",
    "  6 - Показать на главной странице баннеры с актуальными акциями и распродажами, чтобы увеличить конверсию\n",
    "  \n",
    "  - Также гипотезы 3, 1 и 5 остались в последней четверке гипотез, но с разным их порядком:\n",
    "  \n",
    "  3 - Изменить структура категорий, что увеличит конверсию, т.к. пользователи быстрее найдут нужный товар\n",
    "  \n",
    "  1 - Запустить собственную службу доставки, что сократит срок доставки заказов\n",
    "  \n",
    "  5 - Добавить страницу отзывов клиентов о магазине, что позволит увеличить количество заказов\n",
    "  \n",
    "  - Гипотеза номер 4 осталась на последнем, 9-ом месте:\n",
    "  \n",
    "  4 - Изменить цвет фона главной страницы, чтобы увеличить вовлеченность пользователей\n",
    "  \n",
    "  - Гипотеза номер 6 осталась на 4-ом месте:\n",
    "  \n",
    "  6 - Показать на главной странице баннеры с актуальными акциями и распродажами, чтобы увеличить конверсию\n",
    "  \n",
    "  \n",
    "2. Лидеры(сверху вниз):\n",
    "\n",
    "  - по ICE: 8, 0, 7; \n",
    "  - по RICE: 7, 2, 0.\n",
    "  \n",
    "  0 - Добавить два новых канала привлечения трафика, что позволит привлекать на 30% больше пользователей\n",
    "  \n",
    "  7 - Добавить форму подписки на все основные страницы, чтобы собрать базу клиентов для email-рассылок\n",
    "  \n",
    "  8 - Запустить акцию, дающую скидку на товар в день рождения\n",
    "  \n",
    "  2 - Добавить блоки рекомендаций товаров на сайт интернет магазина, чтобы повысить конверсию и средний чек заказа\t\n",
    "  \n",
    "  \n",
    "3. Почему: Данные изменения связаны с параметром Reach.\n",
    "\n",
    "- Например, Reach у гипотезы 7(Добавить форму подписки на все основные страницы, чтобы собрать базу клиентов для email-рассылок) равен 10, а у гипотезы 8(Запустить акцию, дающую скидку на товар в день рождения) равен 1. \n",
    "\n",
    "- Также у гипотезы 2(Добавить блоки рекомендаций товаров на сайт интернет магазина, чтобы повысить конверсию и средний чек заказа) Reach=8, у гипотезы 0(Добавить два новых канала привлечения трафика, что позволит привлекать на 30% больше пользователей) Reach=3."
   ]
  },
  {
   "cell_type": "markdown",
   "metadata": {},
   "source": [
    "## Анализ A/B-теста"
   ]
  },
  {
   "cell_type": "markdown",
   "metadata": {},
   "source": [
    "### Кумулятивная выручка по группам"
   ]
  },
  {
   "cell_type": "markdown",
   "metadata": {},
   "source": [
    "График"
   ]
  },
  {
   "cell_type": "code",
   "execution_count": 5,
   "metadata": {},
   "outputs": [
    {
     "data": {
      "text/html": [
       "<div>\n",
       "<style scoped>\n",
       "    .dataframe tbody tr th:only-of-type {\n",
       "        vertical-align: middle;\n",
       "    }\n",
       "\n",
       "    .dataframe tbody tr th {\n",
       "        vertical-align: top;\n",
       "    }\n",
       "\n",
       "    .dataframe thead th {\n",
       "        text-align: right;\n",
       "    }\n",
       "</style>\n",
       "<table border=\"1\" class=\"dataframe\">\n",
       "  <thead>\n",
       "    <tr style=\"text-align: right;\">\n",
       "      <th></th>\n",
       "      <th>transactionId</th>\n",
       "      <th>visitorId</th>\n",
       "      <th>date</th>\n",
       "      <th>revenue</th>\n",
       "      <th>group</th>\n",
       "    </tr>\n",
       "  </thead>\n",
       "  <tbody>\n",
       "    <tr>\n",
       "      <th>0</th>\n",
       "      <td>3667963787</td>\n",
       "      <td>3312258926</td>\n",
       "      <td>2019-08-15</td>\n",
       "      <td>1650</td>\n",
       "      <td>B</td>\n",
       "    </tr>\n",
       "    <tr>\n",
       "      <th>1</th>\n",
       "      <td>2804400009</td>\n",
       "      <td>3642806036</td>\n",
       "      <td>2019-08-15</td>\n",
       "      <td>730</td>\n",
       "      <td>B</td>\n",
       "    </tr>\n",
       "    <tr>\n",
       "      <th>2</th>\n",
       "      <td>2961555356</td>\n",
       "      <td>4069496402</td>\n",
       "      <td>2019-08-15</td>\n",
       "      <td>400</td>\n",
       "      <td>A</td>\n",
       "    </tr>\n",
       "    <tr>\n",
       "      <th>3</th>\n",
       "      <td>3797467345</td>\n",
       "      <td>1196621759</td>\n",
       "      <td>2019-08-15</td>\n",
       "      <td>9759</td>\n",
       "      <td>B</td>\n",
       "    </tr>\n",
       "    <tr>\n",
       "      <th>4</th>\n",
       "      <td>2282983706</td>\n",
       "      <td>2322279887</td>\n",
       "      <td>2019-08-15</td>\n",
       "      <td>2308</td>\n",
       "      <td>B</td>\n",
       "    </tr>\n",
       "  </tbody>\n",
       "</table>\n",
       "</div>"
      ],
      "text/plain": [
       "   transactionId   visitorId        date  revenue group\n",
       "0     3667963787  3312258926  2019-08-15     1650     B\n",
       "1     2804400009  3642806036  2019-08-15      730     B\n",
       "2     2961555356  4069496402  2019-08-15      400     A\n",
       "3     3797467345  1196621759  2019-08-15     9759     B\n",
       "4     2282983706  2322279887  2019-08-15     2308     B"
      ]
     },
     "execution_count": 5,
     "metadata": {},
     "output_type": "execute_result"
    }
   ],
   "source": [
    "orders = pd.read_csv('/datasets/orders.csv', sep=',')\n",
    "orders.head()"
   ]
  },
  {
   "cell_type": "code",
   "execution_count": 6,
   "metadata": {
    "scrolled": true
   },
   "outputs": [
    {
     "data": {
      "text/html": [
       "<div>\n",
       "<style scoped>\n",
       "    .dataframe tbody tr th:only-of-type {\n",
       "        vertical-align: middle;\n",
       "    }\n",
       "\n",
       "    .dataframe tbody tr th {\n",
       "        vertical-align: top;\n",
       "    }\n",
       "\n",
       "    .dataframe thead th {\n",
       "        text-align: right;\n",
       "    }\n",
       "</style>\n",
       "<table border=\"1\" class=\"dataframe\">\n",
       "  <thead>\n",
       "    <tr style=\"text-align: right;\">\n",
       "      <th></th>\n",
       "      <th>date</th>\n",
       "      <th>group</th>\n",
       "      <th>visitors</th>\n",
       "    </tr>\n",
       "  </thead>\n",
       "  <tbody>\n",
       "    <tr>\n",
       "      <th>0</th>\n",
       "      <td>2019-08-01</td>\n",
       "      <td>A</td>\n",
       "      <td>719</td>\n",
       "    </tr>\n",
       "    <tr>\n",
       "      <th>1</th>\n",
       "      <td>2019-08-02</td>\n",
       "      <td>A</td>\n",
       "      <td>619</td>\n",
       "    </tr>\n",
       "    <tr>\n",
       "      <th>2</th>\n",
       "      <td>2019-08-03</td>\n",
       "      <td>A</td>\n",
       "      <td>507</td>\n",
       "    </tr>\n",
       "    <tr>\n",
       "      <th>3</th>\n",
       "      <td>2019-08-04</td>\n",
       "      <td>A</td>\n",
       "      <td>717</td>\n",
       "    </tr>\n",
       "    <tr>\n",
       "      <th>4</th>\n",
       "      <td>2019-08-05</td>\n",
       "      <td>A</td>\n",
       "      <td>756</td>\n",
       "    </tr>\n",
       "  </tbody>\n",
       "</table>\n",
       "</div>"
      ],
      "text/plain": [
       "         date group  visitors\n",
       "0  2019-08-01     A       719\n",
       "1  2019-08-02     A       619\n",
       "2  2019-08-03     A       507\n",
       "3  2019-08-04     A       717\n",
       "4  2019-08-05     A       756"
      ]
     },
     "execution_count": 6,
     "metadata": {},
     "output_type": "execute_result"
    }
   ],
   "source": [
    "visitors = pd.read_csv('/datasets/visitors.csv', sep=',')\n",
    "visitors.head()"
   ]
  },
  {
   "cell_type": "markdown",
   "metadata": {},
   "source": [
    "Проведем предобработку данных:"
   ]
  },
  {
   "cell_type": "code",
   "execution_count": 7,
   "metadata": {},
   "outputs": [
    {
     "name": "stdout",
     "output_type": "stream",
     "text": [
      "<class 'pandas.core.frame.DataFrame'>\n",
      "RangeIndex: 1197 entries, 0 to 1196\n",
      "Data columns (total 5 columns):\n",
      " #   Column         Non-Null Count  Dtype \n",
      "---  ------         --------------  ----- \n",
      " 0   transactionId  1197 non-null   int64 \n",
      " 1   visitorId      1197 non-null   int64 \n",
      " 2   date           1197 non-null   object\n",
      " 3   revenue        1197 non-null   int64 \n",
      " 4   group          1197 non-null   object\n",
      "dtypes: int64(3), object(2)\n",
      "memory usage: 46.9+ KB\n"
     ]
    }
   ],
   "source": [
    "orders.info()"
   ]
  },
  {
   "cell_type": "code",
   "execution_count": 8,
   "metadata": {},
   "outputs": [
    {
     "name": "stdout",
     "output_type": "stream",
     "text": [
      "<class 'pandas.core.frame.DataFrame'>\n",
      "RangeIndex: 62 entries, 0 to 61\n",
      "Data columns (total 3 columns):\n",
      " #   Column    Non-Null Count  Dtype \n",
      "---  ------    --------------  ----- \n",
      " 0   date      62 non-null     object\n",
      " 1   group     62 non-null     object\n",
      " 2   visitors  62 non-null     int64 \n",
      "dtypes: int64(1), object(2)\n",
      "memory usage: 1.6+ KB\n"
     ]
    }
   ],
   "source": [
    "visitors.info()"
   ]
  },
  {
   "cell_type": "code",
   "execution_count": 9,
   "metadata": {},
   "outputs": [],
   "source": [
    "# Приведем поле date в обоих датафреймах к типу datetime\n",
    "orders['date'] = pd.to_datetime(orders['date'])\n",
    "visitors['date'] = pd.to_datetime(visitors['date'])"
   ]
  },
  {
   "cell_type": "code",
   "execution_count": 10,
   "metadata": {},
   "outputs": [
    {
     "data": {
      "text/plain": [
       "transactionId    0\n",
       "visitorId        0\n",
       "date             0\n",
       "revenue          0\n",
       "group            0\n",
       "dtype: int64"
      ]
     },
     "execution_count": 10,
     "metadata": {},
     "output_type": "execute_result"
    }
   ],
   "source": [
    "orders.isna().sum()"
   ]
  },
  {
   "cell_type": "code",
   "execution_count": 11,
   "metadata": {},
   "outputs": [
    {
     "data": {
      "text/plain": [
       "date        0\n",
       "group       0\n",
       "visitors    0\n",
       "dtype: int64"
      ]
     },
     "execution_count": 11,
     "metadata": {},
     "output_type": "execute_result"
    }
   ],
   "source": [
    "visitors.isna().sum()"
   ]
  },
  {
   "cell_type": "code",
   "execution_count": 12,
   "metadata": {},
   "outputs": [
    {
     "data": {
      "text/plain": [
       "0"
      ]
     },
     "execution_count": 12,
     "metadata": {},
     "output_type": "execute_result"
    }
   ],
   "source": [
    "orders.duplicated().sum()"
   ]
  },
  {
   "cell_type": "code",
   "execution_count": 13,
   "metadata": {},
   "outputs": [
    {
     "data": {
      "text/plain": [
       "0"
      ]
     },
     "execution_count": 13,
     "metadata": {},
     "output_type": "execute_result"
    }
   ],
   "source": [
    "visitors.duplicated().sum()"
   ]
  },
  {
   "cell_type": "markdown",
   "metadata": {},
   "source": [
    "Дубликатов и пропусков нет."
   ]
  },
  {
   "cell_type": "code",
   "execution_count": 15,
   "metadata": {},
   "outputs": [
    {
     "data": {
      "image/png": "[encoded data removed]",
      "text/plain": [
       "<Figure size 432x288 with 1 Axes>"
      ]
     },
     "metadata": {
      "needs_background": "light"
     },
     "output_type": "display_data"
    }
   ],
   "source": [
    "dates_groups = orders[['date', 'group']].drop_duplicates()\n",
    "\n",
    "orders_aggregated = dates_groups.apply(\n",
    "    lambda x: orders[\n",
    "        np.logical_and(\n",
    "            orders['date'] <= x['date'], orders['group'] == x['group']\n",
    "        )\n",
    "    ].agg(\n",
    "        {\n",
    "            'date': 'max',\n",
    "            'group': 'max',\n",
    "            'transactionId': 'nunique',\n",
    "            'visitorId': 'nunique',\n",
    "            'revenue': 'sum',\n",
    "        }\n",
    "    ),\n",
    "    axis=1\n",
    ").sort_values(by=['date', 'group'])\n",
    "\n",
    "visitors_aggregated = dates_groups.apply(\n",
    "    lambda x: visitors[\n",
    "        np.logical_and(\n",
    "            visitors['date'] <= x['date'], visitors['group'] == x['group']\n",
    "        )\n",
    "    ].agg({'date': 'max', 'group': 'max', 'visitors': 'sum'}),\n",
    "    axis=1\n",
    ").sort_values(by=['date', 'group'])\n",
    "\n",
    "cumulative_data = orders_aggregated.merge(\n",
    "    visitors_aggregated, left_on=['date', 'group'], right_on=['date', 'group']\n",
    ")\n",
    "\n",
    "cumulative_data.columns = [\n",
    "    'date',\n",
    "    'group',\n",
    "    'orders',\n",
    "    'buyers',\n",
    "    'revenue',\n",
    "    'visitors',\n",
    "]\n",
    "\n",
    "cumulative_revenue_A = cumulative_data[cumulative_data['group'] == 'A'][['date', 'revenue', 'orders']]\n",
    "cumulative_revenue_B = cumulative_data[cumulative_data['group'] == 'B'][['date', 'revenue', 'orders']]\n",
    "\n",
    "plt.plot(cumulative_revenue_A['date'], cumulative_revenue_A['revenue'], label='A')\n",
    "plt.plot(cumulative_revenue_B['date'], cumulative_revenue_B['revenue'], label='B')\n",
    "\n",
    "plt.legend()\n",
    "plt.xlabel('дата заказа')\n",
    "plt.ylabel('кумулятивная выручка')\n",
    "#plt.figure(figsize=(30, 10)) не работает почему-то; изменить масштаб, \n",
    "# чтобы были видны даты по оси абсцисс, не получается; с чем это может быть связано?\n",
    "# Для решения этой проблемы решил повернуть подписи дат.\n",
    "plt.xticks(rotation=60)\n",
    "plt.title('кумулятивная выручка по группам')\n",
    "plt.show()"
   ]
  },
  {
   "cell_type": "markdown",
   "metadata": {},
   "source": [
    "Выводы и предположения\n",
    "- Выручка в обеих группах с течением времени растет.\n",
    "- В группе \"B\" близко к середине теста наблюдается резкий скачок выручки. Возможно, это связано с аномально большими заказами и/или увеличением количества заказов.\n",
    "- Выручка группы \"B\" выше группы \"A\"."
   ]
  },
  {
   "cell_type": "markdown",
   "metadata": {},
   "source": [
    "### Кумулятивный средний чек по группам"
   ]
  },
  {
   "cell_type": "markdown",
   "metadata": {},
   "source": [
    "График"
   ]
  },
  {
   "cell_type": "code",
   "execution_count": 16,
   "metadata": {},
   "outputs": [
    {
     "data": {
      "image/png": "[encoded data removed]",
      "text/plain": [
       "<Figure size 432x288 with 1 Axes>"
      ]
     },
     "metadata": {
      "needs_background": "light"
     },
     "output_type": "display_data"
    }
   ],
   "source": [
    "plt.plot(cumulative_revenue_A['date'], cumulative_revenue_A['revenue']/cumulative_revenue_A['orders'], label='A')\n",
    "plt.plot(cumulative_revenue_B['date'], cumulative_revenue_B['revenue']/cumulative_revenue_B['orders'], label='B')\n",
    "\n",
    "plt.legend()\n",
    "plt.xlabel('дата заказа')\n",
    "plt.ylabel('кумулятивный средний чек')\n",
    "plt.xticks(rotation=60)\n",
    "plt.title('Кумулятивный средний чек по группам')\n",
    "plt.show()"
   ]
  },
  {
   "cell_type": "markdown",
   "metadata": {},
   "source": [
    "Выводы и предположения\n",
    "- Группа \"A\": в первой половине теста наблюдаются колебания, после середины теста происходит стабилизация и небольшое увеличение к концу теста показателей среднего чека.\n",
    "- Группа \"B\": в первой половине теста наблюдаются колебания, близко к середине теста резкий скачок(возможно, аномально большие заказы) и к концу теста снижение показателей среднего чека."
   ]
  },
  {
   "cell_type": "markdown",
   "metadata": {},
   "source": [
    "### Относительное изменение кумулятивного среднего чека группы B к группе A"
   ]
  },
  {
   "cell_type": "markdown",
   "metadata": {},
   "source": [
    "График"
   ]
  },
  {
   "cell_type": "code",
   "execution_count": 18,
   "metadata": {},
   "outputs": [
    {
     "data": {
      "image/png": "[encoded data removed]",
      "text/plain": [
       "<Figure size 432x288 with 1 Axes>"
      ]
     },
     "metadata": {
      "needs_background": "light"
     },
     "output_type": "display_data"
    }
   ],
   "source": [
    "merged_cumulative_revenue = cumulative_revenue_A.merge(cumulative_revenue_B, right_on='date', left_on='date', how='left', suffixes=['A', 'B'])\n",
    "\n",
    "plt.plot(merged_cumulative_revenue['date'], (merged_cumulative_revenue['revenueB']/merged_cumulative_revenue['ordersB'])/(merged_cumulative_revenue['revenueA']/merged_cumulative_revenue['ordersA']) - 1)\n",
    "\n",
    "plt.axhline(y=0, color='black', linestyle='--')\n",
    "\n",
    "plt.xlabel('дата заказа')\n",
    "plt.ylabel('относительное изменение кумулятивного среднего чека')\n",
    "plt.xticks(rotation=60)\n",
    "plt.title('кумулятивный средний чек группы B к группе A')\n",
    "plt.show()"
   ]
  },
  {
   "cell_type": "markdown",
   "metadata": {},
   "source": [
    "Выводы и предположения\n",
    "- Наблюдаются колебания относительного различия кумулятивного среднего чека группы B к группе A. Вероятно, они вызваны аномально большими заказами."
   ]
  },
  {
   "cell_type": "markdown",
   "metadata": {},
   "source": [
    "### Кумулятивное среднее количество заказов на посетителя по группам"
   ]
  },
  {
   "cell_type": "markdown",
   "metadata": {},
   "source": [
    "График"
   ]
  },
  {
   "cell_type": "code",
   "execution_count": 19,
   "metadata": {},
   "outputs": [
    {
     "data": {
      "image/png": "[encoded data removed]",
      "text/plain": [
       "<Figure size 432x288 with 1 Axes>"
      ]
     },
     "metadata": {
      "needs_background": "light"
     },
     "output_type": "display_data"
    }
   ],
   "source": [
    "cumulative_data['conversion'] = cumulative_data['orders']/cumulative_data['visitors']\n",
    "\n",
    "cumulative_data_A = cumulative_data[cumulative_data['group'] == 'A']\n",
    "cumulative_data_B = cumulative_data[cumulative_data['group'] == 'B']\n",
    "\n",
    "plt.plot(cumulative_data_A['date'], cumulative_data_A['conversion'], label='A')\n",
    "plt.plot(cumulative_data_B['date'], cumulative_data_B['conversion'], label='B')\n",
    "\n",
    "plt.legend()\n",
    "plt.xlabel('дата заказа')\n",
    "plt.ylabel('кумулятивная конверсия')\n",
    "plt.xticks(rotation=60)\n",
    "plt.title('Кумулятивное среднее количество заказов на посетителя по группам')\n",
    "plt.show()"
   ]
  },
  {
   "cell_type": "markdown",
   "metadata": {},
   "source": [
    "Выводы и предположения\n",
    "- В обеих группах наблюдаются колебания показателей кумулятивного среднего количества заказов на посетителя, особенно резкие колебания в начале теста у группы \"B\".\n",
    "- В обеих группах к концу теста наблюдается понижение показателей.\n",
    "- Количество заказов группы \"B\" на протяжении большей части теста больше количества заказов группы \"A\"."
   ]
  },
  {
   "cell_type": "markdown",
   "metadata": {},
   "source": [
    "### Относительное изменение кумулятивного среднего количества заказов на посетителя группы B к группе A"
   ]
  },
  {
   "cell_type": "markdown",
   "metadata": {},
   "source": [
    "График"
   ]
  },
  {
   "cell_type": "code",
   "execution_count": 21,
   "metadata": {},
   "outputs": [
    {
     "data": {
      "image/png": "[encoded data removed]",
      "text/plain": [
       "<Figure size 432x288 with 1 Axes>"
      ]
     },
     "metadata": {
      "needs_background": "light"
     },
     "output_type": "display_data"
    }
   ],
   "source": [
    "merged_cumulative_conversions = cumulative_data_A[['date', 'conversion']]\\\n",
    ".merge(cumulative_data_B[['date', 'conversion']], right_on='date', left_on='date',\\\n",
    "       how='left', suffixes=['A', 'B'])\n",
    "\n",
    "plt.plot(merged_cumulative_conversions['date'],\\\n",
    "         merged_cumulative_conversions['conversionB']/merged_cumulative_conversions['conversionA'] - 1)\n",
    "\n",
    "plt.axhline(y=0, color='black', linestyle='--')\n",
    "\n",
    "plt.xlabel('дата заказа')\n",
    "plt.ylabel('относительное изменение кумулятивной конверсии')\n",
    "plt.xticks(rotation=60)\n",
    "plt.title('среднее количество заказов на посетителя группы B к группе A')\n",
    "plt.show()"
   ]
  },
  {
   "cell_type": "markdown",
   "metadata": {},
   "source": [
    "Выводы и предположения\n",
    "- Большую часть теста конверсия группы \"B\" больше конверсии группы \"A\" на 10-20%."
   ]
  },
  {
   "cell_type": "markdown",
   "metadata": {},
   "source": [
    "### Количество заказов по пользователям"
   ]
  },
  {
   "cell_type": "markdown",
   "metadata": {},
   "source": [
    "График"
   ]
  },
  {
   "cell_type": "code",
   "execution_count": 22,
   "metadata": {},
   "outputs": [
    {
     "data": {
      "text/html": [
       "<div>\n",
       "<style scoped>\n",
       "    .dataframe tbody tr th:only-of-type {\n",
       "        vertical-align: middle;\n",
       "    }\n",
       "\n",
       "    .dataframe tbody tr th {\n",
       "        vertical-align: top;\n",
       "    }\n",
       "\n",
       "    .dataframe thead th {\n",
       "        text-align: right;\n",
       "    }\n",
       "</style>\n",
       "<table border=\"1\" class=\"dataframe\">\n",
       "  <thead>\n",
       "    <tr style=\"text-align: right;\">\n",
       "      <th></th>\n",
       "      <th>visitorId</th>\n",
       "      <th>orders</th>\n",
       "    </tr>\n",
       "  </thead>\n",
       "  <tbody>\n",
       "    <tr>\n",
       "      <th>1023</th>\n",
       "      <td>4256040402</td>\n",
       "      <td>11</td>\n",
       "    </tr>\n",
       "    <tr>\n",
       "      <th>591</th>\n",
       "      <td>2458001652</td>\n",
       "      <td>11</td>\n",
       "    </tr>\n",
       "    <tr>\n",
       "      <th>569</th>\n",
       "      <td>2378935119</td>\n",
       "      <td>9</td>\n",
       "    </tr>\n",
       "    <tr>\n",
       "      <th>487</th>\n",
       "      <td>2038680547</td>\n",
       "      <td>8</td>\n",
       "    </tr>\n",
       "    <tr>\n",
       "      <th>44</th>\n",
       "      <td>199603092</td>\n",
       "      <td>5</td>\n",
       "    </tr>\n",
       "    <tr>\n",
       "      <th>744</th>\n",
       "      <td>3062433592</td>\n",
       "      <td>5</td>\n",
       "    </tr>\n",
       "    <tr>\n",
       "      <th>55</th>\n",
       "      <td>237748145</td>\n",
       "      <td>5</td>\n",
       "    </tr>\n",
       "    <tr>\n",
       "      <th>917</th>\n",
       "      <td>3803269165</td>\n",
       "      <td>5</td>\n",
       "    </tr>\n",
       "    <tr>\n",
       "      <th>299</th>\n",
       "      <td>1230306981</td>\n",
       "      <td>5</td>\n",
       "    </tr>\n",
       "    <tr>\n",
       "      <th>897</th>\n",
       "      <td>3717692402</td>\n",
       "      <td>5</td>\n",
       "    </tr>\n",
       "  </tbody>\n",
       "</table>\n",
       "</div>"
      ],
      "text/plain": [
       "       visitorId  orders\n",
       "1023  4256040402      11\n",
       "591   2458001652      11\n",
       "569   2378935119       9\n",
       "487   2038680547       8\n",
       "44     199603092       5\n",
       "744   3062433592       5\n",
       "55     237748145       5\n",
       "917   3803269165       5\n",
       "299   1230306981       5\n",
       "897   3717692402       5"
      ]
     },
     "metadata": {},
     "output_type": "display_data"
    },
    {
     "data": {
      "image/png": "[encoded data removed]",
      "text/plain": [
       "<Figure size 432x288 with 1 Axes>"
      ]
     },
     "metadata": {
      "needs_background": "light"
     },
     "output_type": "display_data"
    }
   ],
   "source": [
    "orders_by_users = (\n",
    "    orders.groupby('visitorId', as_index=False)\n",
    "    .agg({'transactionId': 'nunique'})\n",
    ")\n",
    "\n",
    "orders_by_users.columns = ['visitorId', 'orders']\n",
    "\n",
    "display(orders_by_users.sort_values(by='orders', ascending=False).head(10))\n",
    "\n",
    "# серия из чисел от 0 до количества наблюдений в orders_by_users\n",
    "x_values = pd.Series(range(0, len(orders_by_users)))\n",
    "\n",
    "plt.scatter(x_values, orders_by_users['orders'])\n",
    "\n",
    "plt.xlabel('количество пользователей')\n",
    "plt.ylabel('количество заказов')\n",
    "plt.title('Количество заказов по пользователям')\n",
    "plt.show()"
   ]
  },
  {
   "cell_type": "markdown",
   "metadata": {},
   "source": [
    "Выводы и предположения\n",
    "- Количество пользователей, сделавших 8 и более заказов, очень мало. Вероятно, такие пользователи являются аномальными."
   ]
  },
  {
   "cell_type": "markdown",
   "metadata": {},
   "source": [
    "### 95-й и 99-й перцентили количества заказов на пользователя"
   ]
  },
  {
   "cell_type": "code",
   "execution_count": 20,
   "metadata": {},
   "outputs": [
    {
     "data": {
      "text/plain": [
       "array([2., 4.])"
      ]
     },
     "execution_count": 20,
     "metadata": {},
     "output_type": "execute_result"
    }
   ],
   "source": [
    "np.percentile(orders_by_users['orders'], [95, 99])"
   ]
  },
  {
   "cell_type": "markdown",
   "metadata": {},
   "source": [
    "Выводы\n",
    "- Не более 5% пользователей совершали больше 2 заказов.\n",
    "- И не более 1% пользователей -- более 4 заказов.\n",
    "\n",
    "Можно выбрать такую границу для определения аномальных пользователей -- пользователи, совершившие 4 и более заказов, будут аномальными. "
   ]
  },
  {
   "cell_type": "markdown",
   "metadata": {},
   "source": [
    "### Стоимости заказов"
   ]
  },
  {
   "cell_type": "markdown",
   "metadata": {},
   "source": [
    "График"
   ]
  },
  {
   "cell_type": "code",
   "execution_count": 23,
   "metadata": {},
   "outputs": [
    {
     "data": {
      "image/png": "[encoded data removed]",
      "text/plain": [
       "<Figure size 432x288 with 1 Axes>"
      ]
     },
     "metadata": {
      "needs_background": "light"
     },
     "output_type": "display_data"
    }
   ],
   "source": [
    "x_values = pd.Series(range(0, len(orders['revenue'])))\n",
    "\n",
    "plt.scatter(x_values, orders['revenue'])\n",
    "\n",
    "plt.xlabel('количество заказов')\n",
    "plt.ylabel('стоимость заказов')\n",
    "plt.title('Стоимость заказов в зависимости от количества')\n",
    "plt.show()"
   ]
  },
  {
   "cell_type": "markdown",
   "metadata": {},
   "source": [
    "Выводы и предположения\n",
    "- Заказов стоимостью свыше 50 000 мало. Вероятно, такие заказы являются аномальными. Особенно аномальным выглядит заказ на сумму в 1 200 000."
   ]
  },
  {
   "cell_type": "markdown",
   "metadata": {},
   "source": [
    "### 95-й и 99-й перцентили стоимости заказов"
   ]
  },
  {
   "cell_type": "code",
   "execution_count": 22,
   "metadata": {},
   "outputs": [
    {
     "data": {
      "text/plain": [
       "array([28000. , 58233.2])"
      ]
     },
     "execution_count": 22,
     "metadata": {},
     "output_type": "execute_result"
    }
   ],
   "source": [
    "np.percentile(orders['revenue'], [95, 99])"
   ]
  },
  {
   "cell_type": "markdown",
   "metadata": {},
   "source": [
    "Выводы\n",
    "- Не более 5% заказов имеют чек дороже 28 000.\n",
    "- Не более 1% заказов -- дороже 58 234.\n",
    "\n",
    "Можно выбрать такую границу для определения аномальных заказов -- заказы, которые имеют чек дороже 28 000, будут аномальными."
   ]
  },
  {
   "cell_type": "markdown",
   "metadata": {},
   "source": [
    "### Статистическая значимость различий в среднем количестве заказов на посетителя между группами по «сырым» данным"
   ]
  },
  {
   "cell_type": "code",
   "execution_count": 23,
   "metadata": {},
   "outputs": [
    {
     "name": "stdout",
     "output_type": "stream",
     "text": [
      "        date  orders_per_dateA  revenue_per_dateA  orders_per_dateB  \\\n",
      "0 2019-08-01                24             148579                21   \n",
      "1 2019-08-02                20              93822                24   \n",
      "2 2019-08-03                24             112473                16   \n",
      "3 2019-08-04                16              70825                17   \n",
      "4 2019-08-05                25             124218                23   \n",
      "\n",
      "   revenue_per_dateB  orders_cummulativeA  revenue_cummulativeA  \\\n",
      "0             101217                   24                148579   \n",
      "1             165531                   44                242401   \n",
      "2             114248                   68                354874   \n",
      "3             108571                   84                425699   \n",
      "4              92428                  109                549917   \n",
      "\n",
      "   orders_cummulativeB  revenue_cummulativeB  visitors_per_dateA  \\\n",
      "0                   21                101217                 719   \n",
      "1                   45                266748                 619   \n",
      "2                   61                380996                 507   \n",
      "3                   78                489567                 717   \n",
      "4                  101                581995                 756   \n",
      "\n",
      "   visitors_per_dateB  visitors_cummulativeA  visitors_cummulativeB  \n",
      "0                 713                    719                    713  \n",
      "1                 581                   1338                   1294  \n",
      "2                 509                   1845                   1803  \n",
      "3                 770                   2562                   2573  \n",
      "4                 707                   3318                   3280  \n"
     ]
    }
   ],
   "source": [
    "# Подготовка данных\n",
    "visitorsA_daily = visitors[visitors['group'] == 'A'][['date', 'visitors']]\n",
    "visitorsA_daily.columns = ['date', 'visitors_per_dateA']\n",
    "\n",
    "visitorsA_cummulative = visitorsA_daily.apply(\n",
    "    lambda x: visitorsA_daily[visitorsA_daily['date'] <= x['date']].agg(\n",
    "        {'date': 'max', 'visitors_per_dateA': 'sum'}\n",
    "    ),\n",
    "    axis=1\n",
    ")\n",
    "visitorsA_cummulative.columns = ['date', 'visitors_cummulativeA']\n",
    "\n",
    "visitorsB_daily = visitors[visitors['group'] == 'B'][['date', 'visitors']]\n",
    "visitorsB_daily.columns = ['date', 'visitors_per_dateB']\n",
    "\n",
    "visitorsB_cummulative = visitorsB_daily.apply(\n",
    "    lambda x: visitorsB_daily[visitorsB_daily['date'] <= x['date']].agg(\n",
    "        {'date': 'max', 'visitors_per_dateB': 'sum'}\n",
    "    ),\n",
    "    axis=1\n",
    ")\n",
    "visitorsB_cummulative.columns = ['date', 'visitors_cummulativeB']\n",
    "\n",
    "ordersA_daily = (\n",
    "    orders[orders['group'] == 'A'][['date', 'transactionId', 'visitorId', 'revenue']]\n",
    "    .groupby('date', as_index=False)\n",
    "    .agg({'transactionId': pd.Series.nunique, 'revenue': 'sum'})\n",
    ")\n",
    "ordersA_daily.columns = ['date', 'orders_per_dateA', 'revenue_per_dateA']\n",
    "\n",
    "ordersA_cummulative = ordersA_daily.apply(\n",
    "    lambda x: ordersA_daily[ordersA_daily['date'] <= x['date']].agg(\n",
    "        {'date': 'max', 'orders_per_dateA': 'sum', 'revenue_per_dateA': 'sum'}\n",
    "    ),\n",
    "    axis=1\n",
    ").sort_values(by=['date'])\n",
    "ordersA_cummulative.columns = [\n",
    "    'date',\n",
    "    'orders_cummulativeA',\n",
    "    'revenue_cummulativeA',\n",
    "]\n",
    "\n",
    "ordersB_daily = (\n",
    "    orders[orders['group'] == 'B'][['date', 'transactionId', 'visitorId', 'revenue']]\n",
    "    .groupby('date', as_index=False)\n",
    "    .agg({'transactionId': pd.Series.nunique, 'revenue': 'sum'})\n",
    ")\n",
    "ordersB_daily.columns = ['date', 'orders_per_dateB', 'revenue_per_dateB']\n",
    "\n",
    "ordersB_cummulative = ordersB_daily.apply(\n",
    "    lambda x: ordersB_daily[ordersB_daily['date'] <= x['date']].agg(\n",
    "        {'date': 'max', 'orders_per_dateB': 'sum', 'revenue_per_dateB': 'sum'}\n",
    "    ),\n",
    "    axis=1\n",
    ").sort_values(by=['date'])\n",
    "ordersB_cummulative.columns = [\n",
    "    'date',\n",
    "    'orders_cummulativeB',\n",
    "    'revenue_cummulativeB',\n",
    "]\n",
    "\n",
    "data = (\n",
    "    ordersA_daily.merge(\n",
    "        ordersB_daily, left_on='date', right_on='date', how='left'\n",
    "    )\n",
    "    .merge(ordersA_cummulative, left_on='date', right_on='date', how='left')\n",
    "    .merge(ordersB_cummulative, left_on='date', right_on='date', how='left')\n",
    "    .merge(visitorsA_daily, left_on='date', right_on='date', how='left')\n",
    "    .merge(visitorsB_daily, left_on='date', right_on='date', how='left')\n",
    "    .merge(visitorsA_cummulative, left_on='date', right_on='date', how='left')\n",
    "    .merge(visitorsB_cummulative, left_on='date', right_on='date', how='left')\n",
    ")\n",
    "\n",
    "print(data.head(5))"
   ]
  },
  {
   "cell_type": "markdown",
   "metadata": {},
   "source": [
    "H_0: Статистическая значимость различий в среднем количестве заказов на посетителя между группами нет.\n",
    "\n",
    "H_1: Статистическая значимость различий в среднем количестве заказов на посетителя между группами есть."
   ]
  },
  {
   "cell_type": "code",
   "execution_count": 24,
   "metadata": {},
   "outputs": [],
   "source": [
    "alpha = .05"
   ]
  },
  {
   "cell_type": "code",
   "execution_count": 25,
   "metadata": {},
   "outputs": [
    {
     "data": {
      "text/plain": [
       "'0.01679'"
      ]
     },
     "metadata": {},
     "output_type": "display_data"
    },
    {
     "data": {
      "text/plain": [
       "'0.138'"
      ]
     },
     "metadata": {},
     "output_type": "display_data"
    },
    {
     "data": {
      "text/plain": [
       "'Отвергаем нулевую гипотезу: между группами есть значимая разница'"
      ]
     },
     "metadata": {},
     "output_type": "display_data"
    }
   ],
   "source": [
    "orders_by_visitorsA = (\n",
    "    orders[orders['group'] == 'A']\n",
    "    .groupby('visitorId', as_index=False)\n",
    "    .agg({'transactionId': 'nunique'})\n",
    ")\n",
    "orders_by_visitorsA.columns = ['visitorId', 'orders']\n",
    "\n",
    "orders_by_visitorsB = (\n",
    "    orders[orders['group'] == 'B']\n",
    "    .groupby('visitorId', as_index=False)\n",
    "    .agg({'transactionId': 'nunique'})\n",
    ")\n",
    "orders_by_visitorsB.columns = ['visitorId', 'orders']\n",
    "\n",
    "sampleA = pd.concat([orders_by_visitorsA['orders'], pd.Series(0, index=np.arange(data['visitors_per_dateA'].sum() - len(orders_by_visitorsA['orders'])), name='orders')], axis=0)\n",
    "sampleB = pd.concat([orders_by_visitorsB['orders'], pd.Series(0, index=np.arange(data['visitors_per_dateB'].sum() - len(orders_by_visitorsB['orders'])), name='orders')], axis=0) \n",
    "\n",
    "p_value = \"{:.5f}\".format(stats.mannwhitneyu(sampleA, sampleB)[1])\n",
    "display(p_value)\n",
    "display(\"{:.3f}\".format((data['orders_per_dateB'].sum()/data['visitors_per_dateB'].sum())/(data['orders_per_dateA'].sum()/data['visitors_per_dateA'].sum()) - 1))\n",
    "\n",
    "if float(p_value) < alpha:\n",
    "    display('Отвергаем нулевую гипотезу: между группами есть значимая разница')\n",
    "else:\n",
    "    display('Не получилось отвергнуть нулевую гипотезу, нет оснований считать группы разными')"
   ]
  },
  {
   "cell_type": "markdown",
   "metadata": {},
   "source": [
    "Выводы и предположения\n",
    "- P-value меньше 0.05, потому нулевую гипотезу отвергаем. Анализ \"сырых данных\" сообщает, что в среднем количестве заказов на посетителя между группами есть статистически значимые различия. \n",
    "- Относительный прирост конверсии группы \"B\" к конверсии группы \"A\" равен 13.8%."
   ]
  },
  {
   "cell_type": "markdown",
   "metadata": {},
   "source": [
    "### Cтатистическая значимость различий в среднем чеке заказа между группами по «сырым» данным"
   ]
  },
  {
   "cell_type": "markdown",
   "metadata": {},
   "source": [
    "H_0: Статистическая значимость различий в среднем чеке заказа между группами нет.\n",
    "\n",
    "H_1: Статистическая значимость различий в среднем чеке заказа между группами есть."
   ]
  },
  {
   "cell_type": "code",
   "execution_count": 26,
   "metadata": {},
   "outputs": [
    {
     "data": {
      "text/plain": [
       "'0.729'"
      ]
     },
     "metadata": {},
     "output_type": "display_data"
    },
    {
     "data": {
      "text/plain": [
       "'0.259'"
      ]
     },
     "metadata": {},
     "output_type": "display_data"
    },
    {
     "data": {
      "text/plain": [
       "'Не получилось отвергнуть нулевую гипотезу, нет оснований считать группы разными'"
      ]
     },
     "metadata": {},
     "output_type": "display_data"
    }
   ],
   "source": [
    "p_value = \"{:.3f}\".format(stats.mannwhitneyu(orders[orders['group'] == 'A']['revenue'], orders[orders['group'] == 'B']['revenue'])[1])\n",
    "display(p_value)\n",
    "display(\"{:.3f}\".format(orders[orders['group'] == 'B']['revenue'].mean()/orders[orders['group'] == 'A']['revenue'].mean()-1))\n",
    "\n",
    "if float(p_value) < alpha:\n",
    "    display('Отвергаем нулевую гипотезу: между группами есть значимая разница')\n",
    "else:\n",
    "    display('Не получилось отвергнуть нулевую гипотезу, нет оснований считать группы разными')"
   ]
  },
  {
   "cell_type": "markdown",
   "metadata": {},
   "source": [
    "Выводы и предположения\n",
    "- P-value больше 0.05 -- статистически значимых отличий в среднем чеке между группами нет.\n",
    "- Относительное различие среднего чека между сегментами равняется 25.9%."
   ]
  },
  {
   "cell_type": "markdown",
   "metadata": {},
   "source": [
    "### Статистическая значимость различий в среднем количестве заказов на посетителя между группами по «очищенным» данным"
   ]
  },
  {
   "cell_type": "markdown",
   "metadata": {},
   "source": [
    "H_0: Статистическая значимость различий в среднем количестве заказов на посетителя между группами нет.\n",
    "\n",
    "H_1: Статистическая значимость различий в среднем количестве заказов на посетителя между группами есть."
   ]
  },
  {
   "cell_type": "code",
   "execution_count": 27,
   "metadata": {},
   "outputs": [
    {
     "data": {
      "text/plain": [
       "1099    148427295\n",
       "18      199603092\n",
       "928     204675465\n",
       "23      237748145\n",
       "684     358944393\n",
       "Name: visitorId, dtype: int64"
      ]
     },
     "metadata": {},
     "output_type": "display_data"
    }
   ],
   "source": [
    "# Формирование аномальных пользователей\n",
    "\n",
    "visitors_with_many_orders = pd.concat(\n",
    "    [\n",
    "        orders_by_visitorsA[orders_by_visitorsA['orders'] > 3]['visitorId'],\n",
    "        orders_by_visitorsB[orders_by_visitorsB['orders'] > 3]['visitorId']\n",
    "    ],\n",
    "    axis=0\n",
    ")\n",
    "\n",
    "visitors_with_expensive_orders = orders[orders['revenue'] > 28000]['visitorId']\n",
    "\n",
    "abnormal_visitors = (\n",
    "    pd.concat([visitors_with_many_orders, visitors_with_expensive_orders], axis=0)\n",
    "    .drop_duplicates()\n",
    "    .sort_values()\n",
    ")\n",
    "\n",
    "display(abnormal_visitors.head())"
   ]
  },
  {
   "cell_type": "code",
   "execution_count": 28,
   "metadata": {},
   "outputs": [
    {
     "data": {
      "text/plain": [
       "'0.01794'"
      ]
     },
     "metadata": {},
     "output_type": "display_data"
    },
    {
     "data": {
      "text/plain": [
       "'0.148'"
      ]
     },
     "metadata": {},
     "output_type": "display_data"
    },
    {
     "data": {
      "text/plain": [
       "'Отвергаем нулевую гипотезу: между группами есть значимая разница'"
      ]
     },
     "metadata": {},
     "output_type": "display_data"
    }
   ],
   "source": [
    "sampleA_filtered = pd.concat(\n",
    "    [\n",
    "        orders_by_visitorsA[\n",
    "            np.logical_not(orders_by_visitorsA['visitorId'].isin(abnormal_visitors))\n",
    "        ]['orders'],\n",
    "        pd.Series(\n",
    "            0,\n",
    "            index=np.arange(data['visitors_per_dateA'].sum() - len(orders_by_visitorsA['orders'])),\n",
    "            name='orders'\n",
    "        )\n",
    "    ],\n",
    "    axis=0\n",
    ")\n",
    "\n",
    "sampleB_filtered = pd.concat(\n",
    "    [\n",
    "        orders_by_visitorsB[\n",
    "            np.logical_not(orders_by_visitorsB['visitorId'].isin(abnormal_visitors))\n",
    "        ]['orders'],\n",
    "        pd.Series(\n",
    "            0,\n",
    "            index=np.arange(data['visitors_per_dateB'].sum() - len(orders_by_visitorsB['orders'])),\n",
    "            name='orders'\n",
    "        )\n",
    "    ],\n",
    "    axis=0\n",
    ")\n",
    "\n",
    "p_value = \"{:.5f}\".format(stats.mannwhitneyu(sampleA_filtered, sampleB_filtered)[1])\n",
    "display(p_value)\n",
    "display(\"{:.3f}\".format(sampleB_filtered.mean()/sampleA_filtered.mean()-1))\n",
    "\n",
    "if float(p_value) < alpha:\n",
    "    display('Отвергаем нулевую гипотезу: между группами есть значимая разница')\n",
    "else:\n",
    "    display('Не получилось отвергнуть нулевую гипотезу, нет оснований считать группы разными')"
   ]
  },
  {
   "cell_type": "markdown",
   "metadata": {},
   "source": [
    "Выводы и предположения\n",
    "- P-value меньше 0.05, потому нулевую гипотезу отвергаем. Анализ \"очищенных данных\" сообщает, что в среднем количестве заказов на посетителя между группами есть статистически значимые различия(P-value по \"очищенным данным\" -- 0.01794, по \"сырым данным\" -- 0.01679). \n",
    "- Относительный прирост конверсии группы \"B\" к конверсии группы \"A\" равен 14.8%(по \"сырым данным\" -- 13.8%)."
   ]
  },
  {
   "cell_type": "markdown",
   "metadata": {},
   "source": [
    "### Статистическая значимость различий в среднем чеке заказа между группами по «очищенным» данным"
   ]
  },
  {
   "cell_type": "markdown",
   "metadata": {},
   "source": [
    "H_0: Статистическая значимость различий в среднем чеке заказа между группами нет.\n",
    "\n",
    "H_1: Статистическая значимость различий в среднем чеке заказа между группами есть."
   ]
  },
  {
   "cell_type": "code",
   "execution_count": 29,
   "metadata": {},
   "outputs": [
    {
     "data": {
      "text/plain": [
       "'0.977'"
      ]
     },
     "metadata": {},
     "output_type": "display_data"
    },
    {
     "data": {
      "text/plain": [
       "'-0.017'"
      ]
     },
     "metadata": {},
     "output_type": "display_data"
    },
    {
     "data": {
      "text/plain": [
       "'Не получилось отвергнуть нулевую гипотезу, нет оснований считать группы разными'"
      ]
     },
     "metadata": {},
     "output_type": "display_data"
    }
   ],
   "source": [
    "p_value = '{:.3f}'.format(\n",
    "        stats.mannwhitneyu(\n",
    "            orders[\n",
    "                np.logical_and(\n",
    "                    orders['group'] == 'A',\n",
    "                    np.logical_not(orders['visitorId'].isin(abnormal_visitors))\n",
    "                )\n",
    "            ]['revenue'],\n",
    "            orders[\n",
    "                np.logical_and(\n",
    "                    orders['group'] == 'B',\n",
    "                    np.logical_not(orders['visitorId'].isin(abnormal_visitors))\n",
    "                )\n",
    "            ]['revenue']\n",
    "        )[1]\n",
    "    )\n",
    "\n",
    "display(p_value)\n",
    "\n",
    "display(\n",
    "    '{:.3f}'.format(\n",
    "        orders[\n",
    "            np.logical_and(\n",
    "                orders['group'] == 'B',\n",
    "                np.logical_not(orders['visitorId'].isin(abnormal_visitors))\n",
    "            )\n",
    "        ]['revenue'].mean()\n",
    "        / orders[\n",
    "            np.logical_and(\n",
    "                orders['group'] == 'A',\n",
    "                np.logical_not(orders['visitorId'].isin(abnormal_visitors))\n",
    "            )\n",
    "        ]['revenue'].mean()\n",
    "        - 1\n",
    "    )\n",
    ")\n",
    "\n",
    "if float(p_value) < alpha:\n",
    "    display('Отвергаем нулевую гипотезу: между группами есть значимая разница')\n",
    "else:\n",
    "    display('Не получилось отвергнуть нулевую гипотезу, нет оснований считать группы разными')"
   ]
  },
  {
   "cell_type": "markdown",
   "metadata": {},
   "source": [
    "Выводы и предположения\n",
    "- P-value больше 0.05 -- статистически значимых отличий в среднем чеке между группами нет.  Но P-value сильно вырос после удаления аномальных данных с 0.729 до 0.977 .\n",
    "- Относительное различие среднего чека между сегментами равняется -1.7%. Относительный прирост среднего чека после удаления аномальных пользователей превратился из положительного(25.9%) в отрицательный(-1.7%)."
   ]
  },
  {
   "cell_type": "markdown",
   "metadata": {},
   "source": [
    "###  Решение по результатам теста и его объяснение"
   ]
  },
  {
   "cell_type": "markdown",
   "metadata": {},
   "source": [
    "Решение: \n",
    "\n",
    "Тест необходимо остановить и зафиксировать победу группы \"B\"."
   ]
  },
  {
   "cell_type": "markdown",
   "metadata": {},
   "source": [
    "Объяснение:\n",
    "- Есть статистически значимое различие по конверсии между группами как по сырым данным, так и после фильтрации аномалий(P-value по \"очищенным данным\" -- 0.01794, по \"сырым данным\" -- 0.01679).\n",
    "- Нет статистически значимого различия по среднему чеку между группами как по сырым данным, так и после фильтрации аномалий. Но P-value сильно вырос после удаления аномальных данных с 0.729 до 0.977 .\n",
    "- После удаления аномальных данных относительный прирост конверсии группы \"B\" к конверсии группы \"A\" вырос на 1%(с 13.8% до 14.8%).\n",
    "- Относительный прирост среднего чека после удаления аномальных пользователей превратился из положительного(25.9%) в отрицательный(-1.7%).\n",
    "\n",
    "Таким образом, можно сделать вывод, что конверсия группы \"B\" увеличилась на 14.8%. Это очень значимое отличие от группы \"A\". Поэтому группа \"B\" побеждает в тесте."
   ]
  }
 ],
 "metadata": {
  "ExecuteTimeLog": [
   {
    "duration": 444,
    "start_time": "2023-01-06T07:49:41.449Z"
   },
   {
    "duration": 63,
    "start_time": "2023-01-06T07:51:26.188Z"
   },
   {
    "duration": 41,
    "start_time": "2023-01-06T07:51:32.067Z"
   },
   {
    "duration": 33,
    "start_time": "2023-01-06T07:52:20.149Z"
   },
   {
    "duration": 874,
    "start_time": "2023-01-06T07:56:01.063Z"
   },
   {
    "duration": 15,
    "start_time": "2023-01-06T07:56:59.037Z"
   },
   {
    "duration": 13,
    "start_time": "2023-01-06T07:59:57.107Z"
   },
   {
    "duration": 860,
    "start_time": "2023-01-06T09:49:58.572Z"
   },
   {
    "duration": 2,
    "start_time": "2023-01-06T09:59:54.140Z"
   },
   {
    "duration": 153,
    "start_time": "2023-01-06T10:01:10.503Z"
   },
   {
    "duration": 61,
    "start_time": "2023-01-06T10:01:56.771Z"
   },
   {
    "duration": 56,
    "start_time": "2023-01-06T10:02:06.633Z"
   },
   {
    "duration": 32,
    "start_time": "2023-01-06T10:02:17.409Z"
   },
   {
    "duration": 13,
    "start_time": "2023-01-06T10:03:08.092Z"
   },
   {
    "duration": 354,
    "start_time": "2023-01-06T13:20:28.288Z"
   },
   {
    "duration": 506,
    "start_time": "2023-01-06T13:21:01.944Z"
   },
   {
    "duration": 529,
    "start_time": "2023-01-06T13:24:58.802Z"
   },
   {
    "duration": 544,
    "start_time": "2023-01-06T13:25:15.381Z"
   },
   {
    "duration": 526,
    "start_time": "2023-01-06T13:25:29.329Z"
   },
   {
    "duration": 496,
    "start_time": "2023-01-06T13:25:38.986Z"
   },
   {
    "duration": 512,
    "start_time": "2023-01-06T13:25:49.338Z"
   },
   {
    "duration": 498,
    "start_time": "2023-01-06T13:26:00.110Z"
   },
   {
    "duration": 323,
    "start_time": "2023-01-06T13:44:20.067Z"
   },
   {
    "duration": 434,
    "start_time": "2023-01-06T14:38:39.633Z"
   },
   {
    "duration": 266,
    "start_time": "2023-01-06T15:03:26.897Z"
   },
   {
    "duration": 58,
    "start_time": "2023-01-06T17:23:45.878Z"
   },
   {
    "duration": 348,
    "start_time": "2023-01-06T17:24:07.644Z"
   },
   {
    "duration": 339,
    "start_time": "2023-01-06T17:24:49.785Z"
   },
   {
    "duration": 8,
    "start_time": "2023-01-06T17:39:21.970Z"
   },
   {
    "duration": 139,
    "start_time": "2023-01-06T17:47:16.733Z"
   },
   {
    "duration": 132,
    "start_time": "2023-01-06T17:47:43.754Z"
   },
   {
    "duration": 131,
    "start_time": "2023-01-06T17:49:10.757Z"
   },
   {
    "duration": 122,
    "start_time": "2023-01-06T17:49:16.925Z"
   },
   {
    "duration": 6,
    "start_time": "2023-01-06T18:19:28.711Z"
   },
   {
    "duration": 9,
    "start_time": "2023-01-06T18:31:42.394Z"
   },
   {
    "duration": 126,
    "start_time": "2023-01-06T18:33:20.188Z"
   },
   {
    "duration": 5,
    "start_time": "2023-01-06T18:40:42.629Z"
   },
   {
    "duration": 56,
    "start_time": "2023-01-06T19:43:49.435Z"
   },
   {
    "duration": 385,
    "start_time": "2023-01-06T19:44:48.018Z"
   },
   {
    "duration": 74,
    "start_time": "2023-01-06T19:44:51.120Z"
   },
   {
    "duration": 17,
    "start_time": "2023-01-06T19:44:55.221Z"
   },
   {
    "duration": 17,
    "start_time": "2023-01-06T19:45:02.905Z"
   },
   {
    "duration": 858,
    "start_time": "2023-01-06T19:45:15.888Z"
   },
   {
    "duration": 98,
    "start_time": "2023-01-06T19:45:19.466Z"
   },
   {
    "duration": 68,
    "start_time": "2023-01-06T19:45:23.611Z"
   },
   {
    "duration": 503,
    "start_time": "2023-01-06T19:45:27.050Z"
   },
   {
    "duration": 241,
    "start_time": "2023-01-06T19:45:37.034Z"
   },
   {
    "duration": 422,
    "start_time": "2023-01-06T19:45:45.055Z"
   },
   {
    "duration": 268,
    "start_time": "2023-01-06T19:45:51.659Z"
   },
   {
    "duration": 379,
    "start_time": "2023-01-06T19:45:58.112Z"
   },
   {
    "duration": 114,
    "start_time": "2023-01-06T19:46:04.364Z"
   },
   {
    "duration": 8,
    "start_time": "2023-01-06T19:46:10.112Z"
   },
   {
    "duration": 138,
    "start_time": "2023-01-06T19:46:16.815Z"
   },
   {
    "duration": 6,
    "start_time": "2023-01-06T19:46:23.054Z"
   },
   {
    "duration": 203,
    "start_time": "2023-01-06T19:46:28.926Z"
   },
   {
    "duration": 36,
    "start_time": "2023-01-06T20:28:30.468Z"
   },
   {
    "duration": 11,
    "start_time": "2023-01-06T21:43:14.782Z"
   },
   {
    "duration": 425,
    "start_time": "2023-01-07T07:21:20.462Z"
   },
   {
    "duration": 82,
    "start_time": "2023-01-07T07:21:22.989Z"
   },
   {
    "duration": 12,
    "start_time": "2023-01-07T07:21:28.096Z"
   },
   {
    "duration": 12,
    "start_time": "2023-01-07T07:21:40.673Z"
   },
   {
    "duration": 1086,
    "start_time": "2023-01-07T07:21:51.971Z"
   },
   {
    "duration": 113,
    "start_time": "2023-01-07T07:21:55.590Z"
   },
   {
    "duration": 89,
    "start_time": "2023-01-07T07:21:59.018Z"
   },
   {
    "duration": 724,
    "start_time": "2023-01-07T07:22:02.191Z"
   },
   {
    "duration": 329,
    "start_time": "2023-01-07T07:22:09.555Z"
   },
   {
    "duration": 446,
    "start_time": "2023-01-07T07:22:16.236Z"
   },
   {
    "duration": 348,
    "start_time": "2023-01-07T07:22:21.968Z"
   },
   {
    "duration": 459,
    "start_time": "2023-01-07T07:22:27.657Z"
   },
   {
    "duration": 129,
    "start_time": "2023-01-07T07:22:33.276Z"
   },
   {
    "duration": 6,
    "start_time": "2023-01-07T07:22:41.072Z"
   },
   {
    "duration": 159,
    "start_time": "2023-01-07T07:22:47.059Z"
   },
   {
    "duration": 7,
    "start_time": "2023-01-07T07:23:01.359Z"
   },
   {
    "duration": 282,
    "start_time": "2023-01-07T07:23:32.392Z"
   },
   {
    "duration": 59,
    "start_time": "2023-01-07T07:23:43.720Z"
   },
   {
    "duration": 11,
    "start_time": "2023-01-07T07:23:53.070Z"
   },
   {
    "duration": 14,
    "start_time": "2023-01-07T07:39:57.957Z"
   },
   {
    "duration": 36,
    "start_time": "2023-01-07T07:49:17.097Z"
   },
   {
    "duration": 24,
    "start_time": "2023-01-07T07:49:44.153Z"
   },
   {
    "duration": 16,
    "start_time": "2023-01-07T07:50:16.465Z"
   },
   {
    "duration": 61,
    "start_time": "2023-01-07T07:56:35.393Z"
   },
   {
    "duration": 72,
    "start_time": "2023-01-07T07:56:51.256Z"
   },
   {
    "duration": 13,
    "start_time": "2023-01-07T08:12:35.195Z"
   },
   {
    "duration": 431,
    "start_time": "2023-01-07T09:48:48.252Z"
   },
   {
    "duration": 38,
    "start_time": "2023-01-07T09:48:48.686Z"
   },
   {
    "duration": 28,
    "start_time": "2023-01-07T09:48:48.726Z"
   },
   {
    "duration": 29,
    "start_time": "2023-01-07T09:48:48.762Z"
   },
   {
    "duration": 853,
    "start_time": "2023-01-07T09:48:48.793Z"
   },
   {
    "duration": 62,
    "start_time": "2023-01-07T09:48:49.648Z"
   },
   {
    "duration": 37,
    "start_time": "2023-01-07T09:48:49.712Z"
   },
   {
    "duration": 655,
    "start_time": "2023-01-07T09:48:49.751Z"
   },
   {
    "duration": 307,
    "start_time": "2023-01-07T09:48:50.408Z"
   },
   {
    "duration": 402,
    "start_time": "2023-01-07T09:48:50.718Z"
   },
   {
    "duration": 336,
    "start_time": "2023-01-07T09:48:51.122Z"
   },
   {
    "duration": 384,
    "start_time": "2023-01-07T09:48:51.459Z"
   },
   {
    "duration": 161,
    "start_time": "2023-01-07T09:48:51.845Z"
   },
   {
    "duration": 6,
    "start_time": "2023-01-07T09:48:52.008Z"
   },
   {
    "duration": 197,
    "start_time": "2023-01-07T09:48:52.017Z"
   },
   {
    "duration": 6,
    "start_time": "2023-01-07T09:48:52.217Z"
   },
   {
    "duration": 292,
    "start_time": "2023-01-07T09:48:52.235Z"
   },
   {
    "duration": 77,
    "start_time": "2023-01-07T09:48:52.529Z"
   },
   {
    "duration": 15,
    "start_time": "2023-01-07T09:48:52.608Z"
   },
   {
    "duration": 21,
    "start_time": "2023-01-07T09:48:52.625Z"
   },
   {
    "duration": 97,
    "start_time": "2023-01-07T09:48:52.655Z"
   },
   {
    "duration": 25,
    "start_time": "2023-01-07T09:48:52.757Z"
   },
   {
    "duration": 452,
    "start_time": "2023-01-07T12:38:56.054Z"
   },
   {
    "duration": 1041,
    "start_time": "2023-01-07T12:40:10.223Z"
   },
   {
    "duration": 86,
    "start_time": "2023-01-07T12:40:16.002Z"
   },
   {
    "duration": 16,
    "start_time": "2023-01-07T12:47:25.316Z"
   },
   {
    "duration": 14,
    "start_time": "2023-01-07T12:49:35.642Z"
   },
   {
    "duration": 11,
    "start_time": "2023-01-07T12:49:48.485Z"
   },
   {
    "duration": 114,
    "start_time": "2023-01-07T13:51:25.469Z"
   },
   {
    "duration": 96,
    "start_time": "2023-01-07T13:51:38.389Z"
   },
   {
    "duration": 79,
    "start_time": "2023-01-07T13:51:42.369Z"
   },
   {
    "duration": 13,
    "start_time": "2023-01-07T13:52:01.069Z"
   },
   {
    "duration": 12,
    "start_time": "2023-01-07T13:56:49.519Z"
   },
   {
    "duration": 8,
    "start_time": "2023-01-07T13:59:59.241Z"
   },
   {
    "duration": 12,
    "start_time": "2023-01-07T14:00:26.476Z"
   },
   {
    "duration": 11,
    "start_time": "2023-01-07T14:00:36.821Z"
   },
   {
    "duration": 10,
    "start_time": "2023-01-07T14:01:21.607Z"
   },
   {
    "duration": 6,
    "start_time": "2023-01-07T14:07:22.034Z"
   },
   {
    "duration": 7,
    "start_time": "2023-01-07T14:07:46.364Z"
   },
   {
    "duration": 8,
    "start_time": "2023-01-07T14:08:04.225Z"
   },
   {
    "duration": 5,
    "start_time": "2023-01-07T14:08:23.630Z"
   },
   {
    "duration": 569,
    "start_time": "2023-01-07T14:12:00.256Z"
   },
   {
    "duration": 462,
    "start_time": "2023-01-07T14:21:50.694Z"
   },
   {
    "duration": 597,
    "start_time": "2023-01-07T14:23:19.500Z"
   },
   {
    "duration": 484,
    "start_time": "2023-01-07T14:23:32.572Z"
   },
   {
    "duration": 560,
    "start_time": "2023-01-07T14:23:44.529Z"
   },
   {
    "duration": 487,
    "start_time": "2023-01-07T14:23:56.069Z"
   },
   {
    "duration": 517,
    "start_time": "2023-01-07T14:29:09.938Z"
   },
   {
    "duration": 477,
    "start_time": "2023-01-07T14:29:21.563Z"
   },
   {
    "duration": 561,
    "start_time": "2023-01-07T14:29:33.471Z"
   },
   {
    "duration": 480,
    "start_time": "2023-01-07T14:33:24.919Z"
   },
   {
    "duration": 209,
    "start_time": "2023-01-07T14:53:15.464Z"
   },
   {
    "duration": 338,
    "start_time": "2023-01-07T14:55:45.983Z"
   },
   {
    "duration": 225,
    "start_time": "2023-01-07T14:57:41.321Z"
   },
   {
    "duration": 358,
    "start_time": "2023-01-07T14:59:11.999Z"
   },
   {
    "duration": 144,
    "start_time": "2023-01-07T15:03:46.807Z"
   },
   {
    "duration": 162,
    "start_time": "2023-01-07T15:05:20.569Z"
   },
   {
    "duration": 6,
    "start_time": "2023-01-07T15:06:14.683Z"
   },
   {
    "duration": 7,
    "start_time": "2023-01-07T15:06:23.738Z"
   },
   {
    "duration": 2,
    "start_time": "2023-01-07T15:21:23.159Z"
   },
   {
    "duration": 231,
    "start_time": "2023-01-07T15:21:32.513Z"
   },
   {
    "duration": 3,
    "start_time": "2023-01-07T15:21:42.181Z"
   },
   {
    "duration": 49,
    "start_time": "2023-01-07T15:28:49.420Z"
   },
   {
    "duration": 48,
    "start_time": "2023-01-07T15:30:29.852Z"
   },
   {
    "duration": 53,
    "start_time": "2023-01-07T15:30:55.716Z"
   },
   {
    "duration": 41,
    "start_time": "2023-01-07T15:32:54.744Z"
   },
   {
    "duration": 15,
    "start_time": "2023-01-07T15:41:54.912Z"
   },
   {
    "duration": 14,
    "start_time": "2023-01-07T15:42:26.716Z"
   },
   {
    "duration": 12,
    "start_time": "2023-01-07T15:46:05.435Z"
   },
   {
    "duration": 10,
    "start_time": "2023-01-07T15:46:15.768Z"
   },
   {
    "duration": 33,
    "start_time": "2023-01-07T15:47:19.410Z"
   },
   {
    "duration": 23,
    "start_time": "2023-01-07T15:49:29.008Z"
   },
   {
    "duration": 1230,
    "start_time": "2023-01-08T06:44:36.362Z"
   },
   {
    "duration": 74,
    "start_time": "2023-01-08T06:44:37.594Z"
   },
   {
    "duration": 15,
    "start_time": "2023-01-08T06:44:37.670Z"
   },
   {
    "duration": 11,
    "start_time": "2023-01-08T06:44:37.687Z"
   },
   {
    "duration": 92,
    "start_time": "2023-01-08T06:44:37.699Z"
   },
   {
    "duration": 59,
    "start_time": "2023-01-08T06:44:37.793Z"
   },
   {
    "duration": 11,
    "start_time": "2023-01-08T06:44:37.853Z"
   },
   {
    "duration": 12,
    "start_time": "2023-01-08T06:44:37.866Z"
   },
   {
    "duration": 8,
    "start_time": "2023-01-08T06:44:37.879Z"
   },
   {
    "duration": 7,
    "start_time": "2023-01-08T06:44:37.890Z"
   },
   {
    "duration": 8,
    "start_time": "2023-01-08T06:44:37.898Z"
   },
   {
    "duration": 6,
    "start_time": "2023-01-08T06:44:37.908Z"
   },
   {
    "duration": 5,
    "start_time": "2023-01-08T06:44:37.916Z"
   },
   {
    "duration": 555,
    "start_time": "2023-01-08T06:44:37.923Z"
   },
   {
    "duration": 195,
    "start_time": "2023-01-08T06:44:38.479Z"
   },
   {
    "duration": 370,
    "start_time": "2023-01-08T06:44:38.676Z"
   },
   {
    "duration": 207,
    "start_time": "2023-01-08T06:44:39.047Z"
   },
   {
    "duration": 276,
    "start_time": "2023-01-08T06:44:39.256Z"
   },
   {
    "duration": 147,
    "start_time": "2023-01-08T06:44:39.533Z"
   },
   {
    "duration": 6,
    "start_time": "2023-01-08T06:44:39.682Z"
   },
   {
    "duration": 156,
    "start_time": "2023-01-08T06:44:39.690Z"
   },
   {
    "duration": 6,
    "start_time": "2023-01-08T06:44:39.848Z"
   },
   {
    "duration": 241,
    "start_time": "2023-01-08T06:44:39.855Z"
   },
   {
    "duration": 3,
    "start_time": "2023-01-08T06:44:40.098Z"
   },
   {
    "duration": 41,
    "start_time": "2023-01-08T06:44:40.103Z"
   },
   {
    "duration": 14,
    "start_time": "2023-01-08T06:44:40.145Z"
   },
   {
    "duration": 9,
    "start_time": "2023-01-08T06:44:40.160Z"
   },
   {
    "duration": 64,
    "start_time": "2023-01-08T06:44:40.172Z"
   },
   {
    "duration": 17,
    "start_time": "2023-01-08T06:44:40.238Z"
   },
   {
    "duration": 388,
    "start_time": "2023-01-08T06:45:13.071Z"
   },
   {
    "duration": 277,
    "start_time": "2023-01-08T06:45:24.982Z"
   },
   {
    "duration": 211,
    "start_time": "2023-01-08T06:45:36.069Z"
   },
   {
    "duration": 1170,
    "start_time": "2023-01-08T07:12:55.771Z"
   },
   {
    "duration": 72,
    "start_time": "2023-01-08T07:12:58.103Z"
   },
   {
    "duration": 14,
    "start_time": "2023-01-08T07:13:04.447Z"
   },
   {
    "duration": 11,
    "start_time": "2023-01-08T07:13:10.212Z"
   },
   {
    "duration": 108,
    "start_time": "2023-01-08T07:13:23.169Z"
   },
   {
    "duration": 72,
    "start_time": "2023-01-08T07:13:27.433Z"
   },
   {
    "duration": 12,
    "start_time": "2023-01-08T07:13:36.588Z"
   },
   {
    "duration": 10,
    "start_time": "2023-01-08T07:13:41.357Z"
   },
   {
    "duration": 6,
    "start_time": "2023-01-08T07:13:49.339Z"
   },
   {
    "duration": 6,
    "start_time": "2023-01-08T07:13:52.909Z"
   },
   {
    "duration": 5,
    "start_time": "2023-01-08T07:13:54.605Z"
   },
   {
    "duration": 5,
    "start_time": "2023-01-08T07:13:56.128Z"
   },
   {
    "duration": 5,
    "start_time": "2023-01-08T07:13:57.925Z"
   },
   {
    "duration": 531,
    "start_time": "2023-01-08T07:14:05.287Z"
   },
   {
    "duration": 429,
    "start_time": "2023-01-08T07:16:07.757Z"
   },
   {
    "duration": 172,
    "start_time": "2023-01-08T07:16:55.586Z"
   },
   {
    "duration": 359,
    "start_time": "2023-01-08T07:17:25.493Z"
   },
   {
    "duration": 309,
    "start_time": "2023-01-08T07:19:09.193Z"
   },
   {
    "duration": 192,
    "start_time": "2023-01-08T07:19:46.860Z"
   },
   {
    "duration": 286,
    "start_time": "2023-01-08T07:21:10.660Z"
   },
   {
    "duration": 337,
    "start_time": "2023-01-08T07:21:26.182Z"
   },
   {
    "duration": 191,
    "start_time": "2023-01-08T07:22:07.196Z"
   },
   {
    "duration": 137,
    "start_time": "2023-01-08T07:24:04.148Z"
   }
  ],
  "kernelspec": {
   "display_name": "Python 3 (ipykernel)",
   "language": "python",
   "name": "python3"
  },
  "language_info": {
   "codemirror_mode": {
    "name": "ipython",
    "version": 3
   },
   "file_extension": ".py",
   "mimetype": "text/x-python",
   "name": "python",
   "nbconvert_exporter": "python",
   "pygments_lexer": "ipython3",
   "version": "3.10.6"
  },
  "toc": {
   "base_numbering": 1,
   "nav_menu": {},
   "number_sections": true,
   "sideBar": true,
   "skip_h1_title": true,
   "title_cell": "Table of Contents",
   "title_sidebar": "Contents",
   "toc_cell": false,
   "toc_position": {},
   "toc_section_display": true,
   "toc_window_display": false
  }
 },
 "nbformat": 4,
 "nbformat_minor": 2
}
