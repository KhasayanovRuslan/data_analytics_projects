{
 "cells": [
  {
   "cell_type": "markdown",
   "metadata": {},
   "source": [
    "# Исследование успешности игры"
   ]
  },
  {
   "cell_type": "markdown",
   "metadata": {},
   "source": [
    "# Описание проекта\n",
    "Вы работаете в интернет-магазине «Стримчик», который продаёт по всему миру компьютерные игры. Из открытых источников доступны исторические данные о продажах игр, оценки пользователей и экспертов, жанры и платформы (например, Xbox или PlayStation). Вам нужно выявить определяющие успешность игры закономерности. Это позволит сделать ставку на потенциально популярный продукт и спланировать рекламные кампании.\n",
    "\n",
    "Перед вами данные до 2016 года. Представим, что сейчас декабрь 2016 г., и вы планируете кампанию на 2017-й. Нужно отработать принцип работы с данными. Неважно, прогнозируете ли вы продажи на 2017 год по данным 2016-го или же 2027-й — по данным 2026 года.\n",
    "\n",
    "В наборе данных попадается аббревиатура ESRB (Entertainment Software Rating Board) — это ассоциация, определяющая возрастной рейтинг компьютерных игр. ESRB оценивает игровой контент и присваивает ему подходящую возрастную категорию, например, «Для взрослых», «Для детей младшего возраста» или «Для подростков»."
   ]
  },
  {
   "cell_type": "markdown",
   "metadata": {},
   "source": [
    "## Открытие файла с данными и изучение общей информации"
   ]
  },
  {
   "cell_type": "code",
   "execution_count": 1,
   "metadata": {},
   "outputs": [],
   "source": [
    "import pandas as pd"
   ]
  },
  {
   "cell_type": "code",
   "execution_count": 2,
   "metadata": {},
   "outputs": [],
   "source": [
    "games = pd.read_csv('/datasets/games.csv')"
   ]
  },
  {
   "cell_type": "code",
   "execution_count": 3,
   "metadata": {},
   "outputs": [
    {
     "data": {
      "text/html": [
       "<div>\n",
       "<style scoped>\n",
       "    .dataframe tbody tr th:only-of-type {\n",
       "        vertical-align: middle;\n",
       "    }\n",
       "\n",
       "    .dataframe tbody tr th {\n",
       "        vertical-align: top;\n",
       "    }\n",
       "\n",
       "    .dataframe thead th {\n",
       "        text-align: right;\n",
       "    }\n",
       "</style>\n",
       "<table border=\"1\" class=\"dataframe\">\n",
       "  <thead>\n",
       "    <tr style=\"text-align: right;\">\n",
       "      <th></th>\n",
       "      <th>Name</th>\n",
       "      <th>Platform</th>\n",
       "      <th>Year_of_Release</th>\n",
       "      <th>Genre</th>\n",
       "      <th>NA_sales</th>\n",
       "      <th>EU_sales</th>\n",
       "      <th>JP_sales</th>\n",
       "      <th>Other_sales</th>\n",
       "      <th>Critic_Score</th>\n",
       "      <th>User_Score</th>\n",
       "      <th>Rating</th>\n",
       "    </tr>\n",
       "  </thead>\n",
       "  <tbody>\n",
       "    <tr>\n",
       "      <th>0</th>\n",
       "      <td>Wii Sports</td>\n",
       "      <td>Wii</td>\n",
       "      <td>2006.0</td>\n",
       "      <td>Sports</td>\n",
       "      <td>41.36</td>\n",
       "      <td>28.96</td>\n",
       "      <td>3.77</td>\n",
       "      <td>8.45</td>\n",
       "      <td>76.0</td>\n",
       "      <td>8</td>\n",
       "      <td>E</td>\n",
       "    </tr>\n",
       "    <tr>\n",
       "      <th>1</th>\n",
       "      <td>Super Mario Bros.</td>\n",
       "      <td>NES</td>\n",
       "      <td>1985.0</td>\n",
       "      <td>Platform</td>\n",
       "      <td>29.08</td>\n",
       "      <td>3.58</td>\n",
       "      <td>6.81</td>\n",
       "      <td>0.77</td>\n",
       "      <td>NaN</td>\n",
       "      <td>NaN</td>\n",
       "      <td>NaN</td>\n",
       "    </tr>\n",
       "    <tr>\n",
       "      <th>2</th>\n",
       "      <td>Mario Kart Wii</td>\n",
       "      <td>Wii</td>\n",
       "      <td>2008.0</td>\n",
       "      <td>Racing</td>\n",
       "      <td>15.68</td>\n",
       "      <td>12.76</td>\n",
       "      <td>3.79</td>\n",
       "      <td>3.29</td>\n",
       "      <td>82.0</td>\n",
       "      <td>8.3</td>\n",
       "      <td>E</td>\n",
       "    </tr>\n",
       "    <tr>\n",
       "      <th>3</th>\n",
       "      <td>Wii Sports Resort</td>\n",
       "      <td>Wii</td>\n",
       "      <td>2009.0</td>\n",
       "      <td>Sports</td>\n",
       "      <td>15.61</td>\n",
       "      <td>10.93</td>\n",
       "      <td>3.28</td>\n",
       "      <td>2.95</td>\n",
       "      <td>80.0</td>\n",
       "      <td>8</td>\n",
       "      <td>E</td>\n",
       "    </tr>\n",
       "    <tr>\n",
       "      <th>4</th>\n",
       "      <td>Pokemon Red/Pokemon Blue</td>\n",
       "      <td>GB</td>\n",
       "      <td>1996.0</td>\n",
       "      <td>Role-Playing</td>\n",
       "      <td>11.27</td>\n",
       "      <td>8.89</td>\n",
       "      <td>10.22</td>\n",
       "      <td>1.00</td>\n",
       "      <td>NaN</td>\n",
       "      <td>NaN</td>\n",
       "      <td>NaN</td>\n",
       "    </tr>\n",
       "    <tr>\n",
       "      <th>5</th>\n",
       "      <td>Tetris</td>\n",
       "      <td>GB</td>\n",
       "      <td>1989.0</td>\n",
       "      <td>Puzzle</td>\n",
       "      <td>23.20</td>\n",
       "      <td>2.26</td>\n",
       "      <td>4.22</td>\n",
       "      <td>0.58</td>\n",
       "      <td>NaN</td>\n",
       "      <td>NaN</td>\n",
       "      <td>NaN</td>\n",
       "    </tr>\n",
       "    <tr>\n",
       "      <th>6</th>\n",
       "      <td>New Super Mario Bros.</td>\n",
       "      <td>DS</td>\n",
       "      <td>2006.0</td>\n",
       "      <td>Platform</td>\n",
       "      <td>11.28</td>\n",
       "      <td>9.14</td>\n",
       "      <td>6.50</td>\n",
       "      <td>2.88</td>\n",
       "      <td>89.0</td>\n",
       "      <td>8.5</td>\n",
       "      <td>E</td>\n",
       "    </tr>\n",
       "    <tr>\n",
       "      <th>7</th>\n",
       "      <td>Wii Play</td>\n",
       "      <td>Wii</td>\n",
       "      <td>2006.0</td>\n",
       "      <td>Misc</td>\n",
       "      <td>13.96</td>\n",
       "      <td>9.18</td>\n",
       "      <td>2.93</td>\n",
       "      <td>2.84</td>\n",
       "      <td>58.0</td>\n",
       "      <td>6.6</td>\n",
       "      <td>E</td>\n",
       "    </tr>\n",
       "    <tr>\n",
       "      <th>8</th>\n",
       "      <td>New Super Mario Bros. Wii</td>\n",
       "      <td>Wii</td>\n",
       "      <td>2009.0</td>\n",
       "      <td>Platform</td>\n",
       "      <td>14.44</td>\n",
       "      <td>6.94</td>\n",
       "      <td>4.70</td>\n",
       "      <td>2.24</td>\n",
       "      <td>87.0</td>\n",
       "      <td>8.4</td>\n",
       "      <td>E</td>\n",
       "    </tr>\n",
       "    <tr>\n",
       "      <th>9</th>\n",
       "      <td>Duck Hunt</td>\n",
       "      <td>NES</td>\n",
       "      <td>1984.0</td>\n",
       "      <td>Shooter</td>\n",
       "      <td>26.93</td>\n",
       "      <td>0.63</td>\n",
       "      <td>0.28</td>\n",
       "      <td>0.47</td>\n",
       "      <td>NaN</td>\n",
       "      <td>NaN</td>\n",
       "      <td>NaN</td>\n",
       "    </tr>\n",
       "    <tr>\n",
       "      <th>10</th>\n",
       "      <td>Nintendogs</td>\n",
       "      <td>DS</td>\n",
       "      <td>2005.0</td>\n",
       "      <td>Simulation</td>\n",
       "      <td>9.05</td>\n",
       "      <td>10.95</td>\n",
       "      <td>1.93</td>\n",
       "      <td>2.74</td>\n",
       "      <td>NaN</td>\n",
       "      <td>NaN</td>\n",
       "      <td>NaN</td>\n",
       "    </tr>\n",
       "    <tr>\n",
       "      <th>11</th>\n",
       "      <td>Mario Kart DS</td>\n",
       "      <td>DS</td>\n",
       "      <td>2005.0</td>\n",
       "      <td>Racing</td>\n",
       "      <td>9.71</td>\n",
       "      <td>7.47</td>\n",
       "      <td>4.13</td>\n",
       "      <td>1.90</td>\n",
       "      <td>91.0</td>\n",
       "      <td>8.6</td>\n",
       "      <td>E</td>\n",
       "    </tr>\n",
       "    <tr>\n",
       "      <th>12</th>\n",
       "      <td>Pokemon Gold/Pokemon Silver</td>\n",
       "      <td>GB</td>\n",
       "      <td>1999.0</td>\n",
       "      <td>Role-Playing</td>\n",
       "      <td>9.00</td>\n",
       "      <td>6.18</td>\n",
       "      <td>7.20</td>\n",
       "      <td>0.71</td>\n",
       "      <td>NaN</td>\n",
       "      <td>NaN</td>\n",
       "      <td>NaN</td>\n",
       "    </tr>\n",
       "    <tr>\n",
       "      <th>13</th>\n",
       "      <td>Wii Fit</td>\n",
       "      <td>Wii</td>\n",
       "      <td>2007.0</td>\n",
       "      <td>Sports</td>\n",
       "      <td>8.92</td>\n",
       "      <td>8.03</td>\n",
       "      <td>3.60</td>\n",
       "      <td>2.15</td>\n",
       "      <td>80.0</td>\n",
       "      <td>7.7</td>\n",
       "      <td>E</td>\n",
       "    </tr>\n",
       "    <tr>\n",
       "      <th>14</th>\n",
       "      <td>Kinect Adventures!</td>\n",
       "      <td>X360</td>\n",
       "      <td>2010.0</td>\n",
       "      <td>Misc</td>\n",
       "      <td>15.00</td>\n",
       "      <td>4.89</td>\n",
       "      <td>0.24</td>\n",
       "      <td>1.69</td>\n",
       "      <td>61.0</td>\n",
       "      <td>6.3</td>\n",
       "      <td>E</td>\n",
       "    </tr>\n",
       "    <tr>\n",
       "      <th>15</th>\n",
       "      <td>Wii Fit Plus</td>\n",
       "      <td>Wii</td>\n",
       "      <td>2009.0</td>\n",
       "      <td>Sports</td>\n",
       "      <td>9.01</td>\n",
       "      <td>8.49</td>\n",
       "      <td>2.53</td>\n",
       "      <td>1.77</td>\n",
       "      <td>80.0</td>\n",
       "      <td>7.4</td>\n",
       "      <td>E</td>\n",
       "    </tr>\n",
       "    <tr>\n",
       "      <th>16</th>\n",
       "      <td>Grand Theft Auto V</td>\n",
       "      <td>PS3</td>\n",
       "      <td>2013.0</td>\n",
       "      <td>Action</td>\n",
       "      <td>7.02</td>\n",
       "      <td>9.09</td>\n",
       "      <td>0.98</td>\n",
       "      <td>3.96</td>\n",
       "      <td>97.0</td>\n",
       "      <td>8.2</td>\n",
       "      <td>M</td>\n",
       "    </tr>\n",
       "    <tr>\n",
       "      <th>17</th>\n",
       "      <td>Grand Theft Auto: San Andreas</td>\n",
       "      <td>PS2</td>\n",
       "      <td>2004.0</td>\n",
       "      <td>Action</td>\n",
       "      <td>9.43</td>\n",
       "      <td>0.40</td>\n",
       "      <td>0.41</td>\n",
       "      <td>10.57</td>\n",
       "      <td>95.0</td>\n",
       "      <td>9</td>\n",
       "      <td>M</td>\n",
       "    </tr>\n",
       "    <tr>\n",
       "      <th>18</th>\n",
       "      <td>Super Mario World</td>\n",
       "      <td>SNES</td>\n",
       "      <td>1990.0</td>\n",
       "      <td>Platform</td>\n",
       "      <td>12.78</td>\n",
       "      <td>3.75</td>\n",
       "      <td>3.54</td>\n",
       "      <td>0.55</td>\n",
       "      <td>NaN</td>\n",
       "      <td>NaN</td>\n",
       "      <td>NaN</td>\n",
       "    </tr>\n",
       "    <tr>\n",
       "      <th>19</th>\n",
       "      <td>Brain Age: Train Your Brain in Minutes a Day</td>\n",
       "      <td>DS</td>\n",
       "      <td>2005.0</td>\n",
       "      <td>Misc</td>\n",
       "      <td>4.74</td>\n",
       "      <td>9.20</td>\n",
       "      <td>4.16</td>\n",
       "      <td>2.04</td>\n",
       "      <td>77.0</td>\n",
       "      <td>7.9</td>\n",
       "      <td>E</td>\n",
       "    </tr>\n",
       "  </tbody>\n",
       "</table>\n",
       "</div>"
      ],
      "text/plain": [
       "                                            Name Platform  Year_of_Release  \\\n",
       "0                                     Wii Sports      Wii           2006.0   \n",
       "1                              Super Mario Bros.      NES           1985.0   \n",
       "2                                 Mario Kart Wii      Wii           2008.0   \n",
       "3                              Wii Sports Resort      Wii           2009.0   \n",
       "4                       Pokemon Red/Pokemon Blue       GB           1996.0   \n",
       "5                                         Tetris       GB           1989.0   \n",
       "6                          New Super Mario Bros.       DS           2006.0   \n",
       "7                                       Wii Play      Wii           2006.0   \n",
       "8                      New Super Mario Bros. Wii      Wii           2009.0   \n",
       "9                                      Duck Hunt      NES           1984.0   \n",
       "10                                    Nintendogs       DS           2005.0   \n",
       "11                                 Mario Kart DS       DS           2005.0   \n",
       "12                   Pokemon Gold/Pokemon Silver       GB           1999.0   \n",
       "13                                       Wii Fit      Wii           2007.0   \n",
       "14                            Kinect Adventures!     X360           2010.0   \n",
       "15                                  Wii Fit Plus      Wii           2009.0   \n",
       "16                            Grand Theft Auto V      PS3           2013.0   \n",
       "17                 Grand Theft Auto: San Andreas      PS2           2004.0   \n",
       "18                             Super Mario World     SNES           1990.0   \n",
       "19  Brain Age: Train Your Brain in Minutes a Day       DS           2005.0   \n",
       "\n",
       "           Genre  NA_sales  EU_sales  JP_sales  Other_sales  Critic_Score  \\\n",
       "0         Sports     41.36     28.96      3.77         8.45          76.0   \n",
       "1       Platform     29.08      3.58      6.81         0.77           NaN   \n",
       "2         Racing     15.68     12.76      3.79         3.29          82.0   \n",
       "3         Sports     15.61     10.93      3.28         2.95          80.0   \n",
       "4   Role-Playing     11.27      8.89     10.22         1.00           NaN   \n",
       "5         Puzzle     23.20      2.26      4.22         0.58           NaN   \n",
       "6       Platform     11.28      9.14      6.50         2.88          89.0   \n",
       "7           Misc     13.96      9.18      2.93         2.84          58.0   \n",
       "8       Platform     14.44      6.94      4.70         2.24          87.0   \n",
       "9        Shooter     26.93      0.63      0.28         0.47           NaN   \n",
       "10    Simulation      9.05     10.95      1.93         2.74           NaN   \n",
       "11        Racing      9.71      7.47      4.13         1.90          91.0   \n",
       "12  Role-Playing      9.00      6.18      7.20         0.71           NaN   \n",
       "13        Sports      8.92      8.03      3.60         2.15          80.0   \n",
       "14          Misc     15.00      4.89      0.24         1.69          61.0   \n",
       "15        Sports      9.01      8.49      2.53         1.77          80.0   \n",
       "16        Action      7.02      9.09      0.98         3.96          97.0   \n",
       "17        Action      9.43      0.40      0.41        10.57          95.0   \n",
       "18      Platform     12.78      3.75      3.54         0.55           NaN   \n",
       "19          Misc      4.74      9.20      4.16         2.04          77.0   \n",
       "\n",
       "   User_Score Rating  \n",
       "0           8      E  \n",
       "1         NaN    NaN  \n",
       "2         8.3      E  \n",
       "3           8      E  \n",
       "4         NaN    NaN  \n",
       "5         NaN    NaN  \n",
       "6         8.5      E  \n",
       "7         6.6      E  \n",
       "8         8.4      E  \n",
       "9         NaN    NaN  \n",
       "10        NaN    NaN  \n",
       "11        8.6      E  \n",
       "12        NaN    NaN  \n",
       "13        7.7      E  \n",
       "14        6.3      E  \n",
       "15        7.4      E  \n",
       "16        8.2      M  \n",
       "17          9      M  \n",
       "18        NaN    NaN  \n",
       "19        7.9      E  "
      ]
     },
     "execution_count": 3,
     "metadata": {},
     "output_type": "execute_result"
    }
   ],
   "source": [
    "games.head(20)"
   ]
  },
  {
   "cell_type": "code",
   "execution_count": 4,
   "metadata": {},
   "outputs": [
    {
     "name": "stdout",
     "output_type": "stream",
     "text": [
      "<class 'pandas.core.frame.DataFrame'>\n",
      "RangeIndex: 16715 entries, 0 to 16714\n",
      "Data columns (total 11 columns):\n",
      " #   Column           Non-Null Count  Dtype  \n",
      "---  ------           --------------  -----  \n",
      " 0   Name             16713 non-null  object \n",
      " 1   Platform         16715 non-null  object \n",
      " 2   Year_of_Release  16446 non-null  float64\n",
      " 3   Genre            16713 non-null  object \n",
      " 4   NA_sales         16715 non-null  float64\n",
      " 5   EU_sales         16715 non-null  float64\n",
      " 6   JP_sales         16715 non-null  float64\n",
      " 7   Other_sales      16715 non-null  float64\n",
      " 8   Critic_Score     8137 non-null   float64\n",
      " 9   User_Score       10014 non-null  object \n",
      " 10  Rating           9949 non-null   object \n",
      "dtypes: float64(6), object(5)\n",
      "memory usage: 1.4+ MB\n"
     ]
    }
   ],
   "source": [
    "games.info()"
   ]
  },
  {
   "cell_type": "markdown",
   "metadata": {},
   "source": [
    "## Подготовка данных"
   ]
  },
  {
   "cell_type": "markdown",
   "metadata": {},
   "source": [
    "### Замена названий столбцов(приведение к нижнему регистру)"
   ]
  },
  {
   "cell_type": "code",
   "execution_count": 5,
   "metadata": {},
   "outputs": [],
   "source": [
    "games.columns = games.columns.str.lower()"
   ]
  },
  {
   "cell_type": "code",
   "execution_count": 6,
   "metadata": {},
   "outputs": [
    {
     "name": "stdout",
     "output_type": "stream",
     "text": [
      "<class 'pandas.core.frame.DataFrame'>\n",
      "RangeIndex: 16715 entries, 0 to 16714\n",
      "Data columns (total 11 columns):\n",
      " #   Column           Non-Null Count  Dtype  \n",
      "---  ------           --------------  -----  \n",
      " 0   name             16713 non-null  object \n",
      " 1   platform         16715 non-null  object \n",
      " 2   year_of_release  16446 non-null  float64\n",
      " 3   genre            16713 non-null  object \n",
      " 4   na_sales         16715 non-null  float64\n",
      " 5   eu_sales         16715 non-null  float64\n",
      " 6   jp_sales         16715 non-null  float64\n",
      " 7   other_sales      16715 non-null  float64\n",
      " 8   critic_score     8137 non-null   float64\n",
      " 9   user_score       10014 non-null  object \n",
      " 10  rating           9949 non-null   object \n",
      "dtypes: float64(6), object(5)\n",
      "memory usage: 1.4+ MB\n"
     ]
    }
   ],
   "source": [
    "games.info()"
   ]
  },
  {
   "cell_type": "markdown",
   "metadata": {},
   "source": [
    "### Изменение типов данных"
   ]
  },
  {
   "cell_type": "code",
   "execution_count": 7,
   "metadata": {
    "scrolled": false
   },
   "outputs": [],
   "source": [
    "pd.options.mode.chained_assignment = None  # default='warn'\n",
    "\n",
    "# Удаляем записи со значением NA в столбце year_of_release,\n",
    "# так как они составляют всего лишь 1,6 % от общего числа записей.\n",
    "games = games.dropna(subset=['year_of_release'])\n",
    "\n",
    "# Заменим 'tbd'(to be determined) в столбце user_score на значение None\n",
    "games['user_score'] = games['user_score'].replace('tbd', None)\n",
    "\n",
    "# Меняем тип данных\n",
    "games['year_of_release'] = games['year_of_release'].astype('int')\n",
    "games['user_score'] = games['user_score'].astype('float')"
   ]
  },
  {
   "cell_type": "markdown",
   "metadata": {},
   "source": [
    "Столбцы, в которых потребовалось изменить тип данных, и почему:\n",
    "- year_of_release: поменяли тип с float64 на int64; год не может быть представлен в виде дробного числа\n",
    "- user_score: поменяли тип с object на float64; подходящий тип для оценки пользователей(максимум 10) float64, так как она может быть представлена дробным числом"
   ]
  },
  {
   "cell_type": "markdown",
   "metadata": {},
   "source": [
    "### Обработка пропусков и дубликатов"
   ]
  },
  {
   "cell_type": "code",
   "execution_count": 8,
   "metadata": {},
   "outputs": [
    {
     "data": {
      "text/plain": [
       "name                  2\n",
       "platform              0\n",
       "year_of_release       0\n",
       "genre                 2\n",
       "na_sales              0\n",
       "eu_sales              0\n",
       "jp_sales              0\n",
       "other_sales           0\n",
       "critic_score       8463\n",
       "user_score         7836\n",
       "rating             6678\n",
       "dtype: int64"
      ]
     },
     "execution_count": 8,
     "metadata": {},
     "output_type": "execute_result"
    }
   ],
   "source": [
    "games.isna().sum()"
   ]
  },
  {
   "cell_type": "code",
   "execution_count": 9,
   "metadata": {},
   "outputs": [],
   "source": [
    "games = games.dropna(subset=['name', 'genre'])"
   ]
  },
  {
   "cell_type": "markdown",
   "metadata": {},
   "source": [
    "В каких столбцах наблюдаются пропуски и что было с ними сделано:\n",
    "- name, year_of_release, genre: процент записей со значением NA в данных столбцах очень мал, поэтому записи с такими значениями удалены(записи для year_of_release удалены в предыдущем задании)\n",
    "- critic_score, user_score, rating: пропуски в данных столбцах оставлены, так как невозможно каким-либо способом правильно вычислить оценки критиков и пользователей, а также рейтинг от организации ESRB         "
   ]
  },
  {
   "cell_type": "markdown",
   "metadata": {},
   "source": [
    "Причины пропусков:\n",
    "- столбцы не заполнены случайно\n",
    "- нет точных данных(например, для года выпуска)\n",
    "- жанр не определен\n",
    "- игра еще не оценена критиками и/или пользователями\n",
    "- рейтинг еще не установлен организацией ESRB"
   ]
  },
  {
   "cell_type": "markdown",
   "metadata": {},
   "source": [
    "Значение 'tbd' в столбце с оценкой пользователей.\n",
    "- Данная аббревиатура означает \"to be determined(будет определено)\". Для обработки этого значения можно заменить его на значение None(что было сделано в предыдущем задании с целью приведения типа). Значение None визуально отличимо от значения NaN. И поэтому его также условно(предварительно договорившись для чего мы его используем) можно использовать в смысле \"to be determined\"."
   ]
  },
  {
   "cell_type": "code",
   "execution_count": 10,
   "metadata": {},
   "outputs": [
    {
     "data": {
      "text/plain": [
       "0"
      ]
     },
     "execution_count": 10,
     "metadata": {},
     "output_type": "execute_result"
    }
   ],
   "source": [
    "games.duplicated().sum()"
   ]
  },
  {
   "cell_type": "markdown",
   "metadata": {},
   "source": [
    "### Расчет суммарных продаж"
   ]
  },
  {
   "cell_type": "code",
   "execution_count": 11,
   "metadata": {},
   "outputs": [],
   "source": [
    "games['sales'] = games[['na_sales', 'eu_sales', 'jp_sales', 'other_sales']].sum(axis=1)"
   ]
  },
  {
   "cell_type": "markdown",
   "metadata": {},
   "source": [
    "## Исследовательский анализ данных"
   ]
  },
  {
   "cell_type": "markdown",
   "metadata": {},
   "source": [
    "### Выпуск игр в разные годы"
   ]
  },
  {
   "cell_type": "code",
   "execution_count": 12,
   "metadata": {},
   "outputs": [
    {
     "data": {
      "text/plain": [
       "<AxesSubplot:xlabel='year_of_release'>"
      ]
     },
     "execution_count": 12,
     "metadata": {},
     "output_type": "execute_result"
    },
    {
     "data": {
      "image/png": "[encoded data removed]",
      "text/plain": [
       "<Figure size 576x432 with 1 Axes>"
      ]
     },
     "metadata": {
      "needs_background": "light"
     },
     "output_type": "display_data"
    }
   ],
   "source": [
    "games.pivot_table(index='year_of_release', values='name', aggfunc='count')\\\n",
    ".rename(columns={'name': 'number_of_games'}).plot(style='o-', figsize=(8, 6), grid=True)"
   ]
  },
  {
   "cell_type": "markdown",
   "metadata": {},
   "source": [
    "Важны ли данные за все периоды? \n",
    "- Учитывая, что количество выпускаемых игр в разные годы колеблется(то увеличивается, то уменьшается), лучше смотреть данные за какой-то определенный период. Например, за 5 или 10 лет."
   ]
  },
  {
   "cell_type": "markdown",
   "metadata": {},
   "source": [
    "### Продажи по платформам"
   ]
  },
  {
   "cell_type": "code",
   "execution_count": 13,
   "metadata": {},
   "outputs": [
    {
     "data": {
      "text/html": [
       "<div>\n",
       "<style scoped>\n",
       "    .dataframe tbody tr th:only-of-type {\n",
       "        vertical-align: middle;\n",
       "    }\n",
       "\n",
       "    .dataframe tbody tr th {\n",
       "        vertical-align: top;\n",
       "    }\n",
       "\n",
       "    .dataframe thead th {\n",
       "        text-align: right;\n",
       "    }\n",
       "</style>\n",
       "<table border=\"1\" class=\"dataframe\">\n",
       "  <thead>\n",
       "    <tr style=\"text-align: right;\">\n",
       "      <th></th>\n",
       "      <th>sales</th>\n",
       "    </tr>\n",
       "    <tr>\n",
       "      <th>platform</th>\n",
       "      <th></th>\n",
       "    </tr>\n",
       "  </thead>\n",
       "  <tbody>\n",
       "    <tr>\n",
       "      <th>PS2</th>\n",
       "      <td>1233.56</td>\n",
       "    </tr>\n",
       "    <tr>\n",
       "      <th>X360</th>\n",
       "      <td>961.24</td>\n",
       "    </tr>\n",
       "    <tr>\n",
       "      <th>PS3</th>\n",
       "      <td>931.34</td>\n",
       "    </tr>\n",
       "    <tr>\n",
       "      <th>Wii</th>\n",
       "      <td>891.18</td>\n",
       "    </tr>\n",
       "    <tr>\n",
       "      <th>DS</th>\n",
       "      <td>802.78</td>\n",
       "    </tr>\n",
       "    <tr>\n",
       "      <th>PS</th>\n",
       "      <td>727.58</td>\n",
       "    </tr>\n",
       "    <tr>\n",
       "      <th>PS4</th>\n",
       "      <td>314.14</td>\n",
       "    </tr>\n",
       "    <tr>\n",
       "      <th>GBA</th>\n",
       "      <td>312.88</td>\n",
       "    </tr>\n",
       "    <tr>\n",
       "      <th>PSP</th>\n",
       "      <td>289.53</td>\n",
       "    </tr>\n",
       "    <tr>\n",
       "      <th>3DS</th>\n",
       "      <td>257.81</td>\n",
       "    </tr>\n",
       "  </tbody>\n",
       "</table>\n",
       "</div>"
      ],
      "text/plain": [
       "            sales\n",
       "platform         \n",
       "PS2       1233.56\n",
       "X360       961.24\n",
       "PS3        931.34\n",
       "Wii        891.18\n",
       "DS         802.78\n",
       "PS         727.58\n",
       "PS4        314.14\n",
       "GBA        312.88\n",
       "PSP        289.53\n",
       "3DS        257.81"
      ]
     },
     "execution_count": 13,
     "metadata": {},
     "output_type": "execute_result"
    }
   ],
   "source": [
    "sales_platform = games.groupby('platform').agg({'sales': 'sum'})\\\n",
    ".sort_values(by='sales', ascending=False)\\\n",
    ".head(10)\n",
    "sales_platform"
   ]
  },
  {
   "cell_type": "code",
   "execution_count": 14,
   "metadata": {},
   "outputs": [
    {
     "data": {
      "text/plain": [
       "Index(['PS2', 'X360', 'PS3', 'Wii', 'DS', 'PS', 'PS4', 'GBA', 'PSP', '3DS'], dtype='object', name='platform')"
      ]
     },
     "execution_count": 14,
     "metadata": {},
     "output_type": "execute_result"
    }
   ],
   "source": [
    "sales_platform.index"
   ]
  },
  {
   "cell_type": "code",
   "execution_count": 15,
   "metadata": {
    "scrolled": false
   },
   "outputs": [
    {
     "data": {
      "text/html": [
       "<div>\n",
       "<style scoped>\n",
       "    .dataframe tbody tr th:only-of-type {\n",
       "        vertical-align: middle;\n",
       "    }\n",
       "\n",
       "    .dataframe tbody tr th {\n",
       "        vertical-align: top;\n",
       "    }\n",
       "\n",
       "    .dataframe thead th {\n",
       "        text-align: right;\n",
       "    }\n",
       "</style>\n",
       "<table border=\"1\" class=\"dataframe\">\n",
       "  <thead>\n",
       "    <tr style=\"text-align: right;\">\n",
       "      <th>platform</th>\n",
       "      <th>PS2</th>\n",
       "      <th>X360</th>\n",
       "      <th>PS3</th>\n",
       "      <th>Wii</th>\n",
       "      <th>DS</th>\n",
       "      <th>PS</th>\n",
       "      <th>PS4</th>\n",
       "      <th>GBA</th>\n",
       "      <th>PSP</th>\n",
       "      <th>3DS</th>\n",
       "    </tr>\n",
       "    <tr>\n",
       "      <th>year_of_release</th>\n",
       "      <th></th>\n",
       "      <th></th>\n",
       "      <th></th>\n",
       "      <th></th>\n",
       "      <th></th>\n",
       "      <th></th>\n",
       "      <th></th>\n",
       "      <th></th>\n",
       "      <th></th>\n",
       "      <th></th>\n",
       "    </tr>\n",
       "  </thead>\n",
       "  <tbody>\n",
       "    <tr>\n",
       "      <th>1980</th>\n",
       "      <td>NaN</td>\n",
       "      <td>NaN</td>\n",
       "      <td>NaN</td>\n",
       "      <td>NaN</td>\n",
       "      <td>NaN</td>\n",
       "      <td>NaN</td>\n",
       "      <td>NaN</td>\n",
       "      <td>NaN</td>\n",
       "      <td>NaN</td>\n",
       "      <td>NaN</td>\n",
       "    </tr>\n",
       "    <tr>\n",
       "      <th>1981</th>\n",
       "      <td>NaN</td>\n",
       "      <td>NaN</td>\n",
       "      <td>NaN</td>\n",
       "      <td>NaN</td>\n",
       "      <td>NaN</td>\n",
       "      <td>NaN</td>\n",
       "      <td>NaN</td>\n",
       "      <td>NaN</td>\n",
       "      <td>NaN</td>\n",
       "      <td>NaN</td>\n",
       "    </tr>\n",
       "    <tr>\n",
       "      <th>1982</th>\n",
       "      <td>NaN</td>\n",
       "      <td>NaN</td>\n",
       "      <td>NaN</td>\n",
       "      <td>NaN</td>\n",
       "      <td>NaN</td>\n",
       "      <td>NaN</td>\n",
       "      <td>NaN</td>\n",
       "      <td>NaN</td>\n",
       "      <td>NaN</td>\n",
       "      <td>NaN</td>\n",
       "    </tr>\n",
       "    <tr>\n",
       "      <th>1983</th>\n",
       "      <td>NaN</td>\n",
       "      <td>NaN</td>\n",
       "      <td>NaN</td>\n",
       "      <td>NaN</td>\n",
       "      <td>NaN</td>\n",
       "      <td>NaN</td>\n",
       "      <td>NaN</td>\n",
       "      <td>NaN</td>\n",
       "      <td>NaN</td>\n",
       "      <td>NaN</td>\n",
       "    </tr>\n",
       "    <tr>\n",
       "      <th>1984</th>\n",
       "      <td>NaN</td>\n",
       "      <td>NaN</td>\n",
       "      <td>NaN</td>\n",
       "      <td>NaN</td>\n",
       "      <td>NaN</td>\n",
       "      <td>NaN</td>\n",
       "      <td>NaN</td>\n",
       "      <td>NaN</td>\n",
       "      <td>NaN</td>\n",
       "      <td>NaN</td>\n",
       "    </tr>\n",
       "    <tr>\n",
       "      <th>1985</th>\n",
       "      <td>NaN</td>\n",
       "      <td>NaN</td>\n",
       "      <td>NaN</td>\n",
       "      <td>NaN</td>\n",
       "      <td>0.02</td>\n",
       "      <td>NaN</td>\n",
       "      <td>NaN</td>\n",
       "      <td>NaN</td>\n",
       "      <td>NaN</td>\n",
       "      <td>NaN</td>\n",
       "    </tr>\n",
       "    <tr>\n",
       "      <th>1986</th>\n",
       "      <td>NaN</td>\n",
       "      <td>NaN</td>\n",
       "      <td>NaN</td>\n",
       "      <td>NaN</td>\n",
       "      <td>NaN</td>\n",
       "      <td>NaN</td>\n",
       "      <td>NaN</td>\n",
       "      <td>NaN</td>\n",
       "      <td>NaN</td>\n",
       "      <td>NaN</td>\n",
       "    </tr>\n",
       "    <tr>\n",
       "      <th>1987</th>\n",
       "      <td>NaN</td>\n",
       "      <td>NaN</td>\n",
       "      <td>NaN</td>\n",
       "      <td>NaN</td>\n",
       "      <td>NaN</td>\n",
       "      <td>NaN</td>\n",
       "      <td>NaN</td>\n",
       "      <td>NaN</td>\n",
       "      <td>NaN</td>\n",
       "      <td>NaN</td>\n",
       "    </tr>\n",
       "    <tr>\n",
       "      <th>1988</th>\n",
       "      <td>NaN</td>\n",
       "      <td>NaN</td>\n",
       "      <td>NaN</td>\n",
       "      <td>NaN</td>\n",
       "      <td>NaN</td>\n",
       "      <td>NaN</td>\n",
       "      <td>NaN</td>\n",
       "      <td>NaN</td>\n",
       "      <td>NaN</td>\n",
       "      <td>NaN</td>\n",
       "    </tr>\n",
       "    <tr>\n",
       "      <th>1989</th>\n",
       "      <td>NaN</td>\n",
       "      <td>NaN</td>\n",
       "      <td>NaN</td>\n",
       "      <td>NaN</td>\n",
       "      <td>NaN</td>\n",
       "      <td>NaN</td>\n",
       "      <td>NaN</td>\n",
       "      <td>NaN</td>\n",
       "      <td>NaN</td>\n",
       "      <td>NaN</td>\n",
       "    </tr>\n",
       "    <tr>\n",
       "      <th>1990</th>\n",
       "      <td>NaN</td>\n",
       "      <td>NaN</td>\n",
       "      <td>NaN</td>\n",
       "      <td>NaN</td>\n",
       "      <td>NaN</td>\n",
       "      <td>NaN</td>\n",
       "      <td>NaN</td>\n",
       "      <td>NaN</td>\n",
       "      <td>NaN</td>\n",
       "      <td>NaN</td>\n",
       "    </tr>\n",
       "    <tr>\n",
       "      <th>1991</th>\n",
       "      <td>NaN</td>\n",
       "      <td>NaN</td>\n",
       "      <td>NaN</td>\n",
       "      <td>NaN</td>\n",
       "      <td>NaN</td>\n",
       "      <td>NaN</td>\n",
       "      <td>NaN</td>\n",
       "      <td>NaN</td>\n",
       "      <td>NaN</td>\n",
       "      <td>NaN</td>\n",
       "    </tr>\n",
       "    <tr>\n",
       "      <th>1992</th>\n",
       "      <td>NaN</td>\n",
       "      <td>NaN</td>\n",
       "      <td>NaN</td>\n",
       "      <td>NaN</td>\n",
       "      <td>NaN</td>\n",
       "      <td>NaN</td>\n",
       "      <td>NaN</td>\n",
       "      <td>NaN</td>\n",
       "      <td>NaN</td>\n",
       "      <td>NaN</td>\n",
       "    </tr>\n",
       "    <tr>\n",
       "      <th>1993</th>\n",
       "      <td>NaN</td>\n",
       "      <td>NaN</td>\n",
       "      <td>NaN</td>\n",
       "      <td>NaN</td>\n",
       "      <td>NaN</td>\n",
       "      <td>NaN</td>\n",
       "      <td>NaN</td>\n",
       "      <td>NaN</td>\n",
       "      <td>NaN</td>\n",
       "      <td>NaN</td>\n",
       "    </tr>\n",
       "    <tr>\n",
       "      <th>1994</th>\n",
       "      <td>NaN</td>\n",
       "      <td>NaN</td>\n",
       "      <td>NaN</td>\n",
       "      <td>NaN</td>\n",
       "      <td>NaN</td>\n",
       "      <td>6.03</td>\n",
       "      <td>NaN</td>\n",
       "      <td>NaN</td>\n",
       "      <td>NaN</td>\n",
       "      <td>NaN</td>\n",
       "    </tr>\n",
       "    <tr>\n",
       "      <th>1995</th>\n",
       "      <td>NaN</td>\n",
       "      <td>NaN</td>\n",
       "      <td>NaN</td>\n",
       "      <td>NaN</td>\n",
       "      <td>NaN</td>\n",
       "      <td>35.96</td>\n",
       "      <td>NaN</td>\n",
       "      <td>NaN</td>\n",
       "      <td>NaN</td>\n",
       "      <td>NaN</td>\n",
       "    </tr>\n",
       "    <tr>\n",
       "      <th>1996</th>\n",
       "      <td>NaN</td>\n",
       "      <td>NaN</td>\n",
       "      <td>NaN</td>\n",
       "      <td>NaN</td>\n",
       "      <td>NaN</td>\n",
       "      <td>94.70</td>\n",
       "      <td>NaN</td>\n",
       "      <td>NaN</td>\n",
       "      <td>NaN</td>\n",
       "      <td>NaN</td>\n",
       "    </tr>\n",
       "    <tr>\n",
       "      <th>1997</th>\n",
       "      <td>NaN</td>\n",
       "      <td>NaN</td>\n",
       "      <td>NaN</td>\n",
       "      <td>NaN</td>\n",
       "      <td>NaN</td>\n",
       "      <td>136.17</td>\n",
       "      <td>NaN</td>\n",
       "      <td>NaN</td>\n",
       "      <td>NaN</td>\n",
       "      <td>NaN</td>\n",
       "    </tr>\n",
       "    <tr>\n",
       "      <th>1998</th>\n",
       "      <td>NaN</td>\n",
       "      <td>NaN</td>\n",
       "      <td>NaN</td>\n",
       "      <td>NaN</td>\n",
       "      <td>NaN</td>\n",
       "      <td>169.49</td>\n",
       "      <td>NaN</td>\n",
       "      <td>NaN</td>\n",
       "      <td>NaN</td>\n",
       "      <td>NaN</td>\n",
       "    </tr>\n",
       "    <tr>\n",
       "      <th>1999</th>\n",
       "      <td>NaN</td>\n",
       "      <td>NaN</td>\n",
       "      <td>NaN</td>\n",
       "      <td>NaN</td>\n",
       "      <td>NaN</td>\n",
       "      <td>144.53</td>\n",
       "      <td>NaN</td>\n",
       "      <td>NaN</td>\n",
       "      <td>NaN</td>\n",
       "      <td>NaN</td>\n",
       "    </tr>\n",
       "    <tr>\n",
       "      <th>2000</th>\n",
       "      <td>39.17</td>\n",
       "      <td>NaN</td>\n",
       "      <td>NaN</td>\n",
       "      <td>NaN</td>\n",
       "      <td>NaN</td>\n",
       "      <td>96.37</td>\n",
       "      <td>NaN</td>\n",
       "      <td>0.07</td>\n",
       "      <td>NaN</td>\n",
       "      <td>NaN</td>\n",
       "    </tr>\n",
       "    <tr>\n",
       "      <th>2001</th>\n",
       "      <td>166.43</td>\n",
       "      <td>NaN</td>\n",
       "      <td>NaN</td>\n",
       "      <td>NaN</td>\n",
       "      <td>NaN</td>\n",
       "      <td>35.59</td>\n",
       "      <td>NaN</td>\n",
       "      <td>61.53</td>\n",
       "      <td>NaN</td>\n",
       "      <td>NaN</td>\n",
       "    </tr>\n",
       "    <tr>\n",
       "      <th>2002</th>\n",
       "      <td>205.38</td>\n",
       "      <td>NaN</td>\n",
       "      <td>NaN</td>\n",
       "      <td>NaN</td>\n",
       "      <td>NaN</td>\n",
       "      <td>6.67</td>\n",
       "      <td>NaN</td>\n",
       "      <td>74.16</td>\n",
       "      <td>NaN</td>\n",
       "      <td>NaN</td>\n",
       "    </tr>\n",
       "    <tr>\n",
       "      <th>2003</th>\n",
       "      <td>184.31</td>\n",
       "      <td>NaN</td>\n",
       "      <td>NaN</td>\n",
       "      <td>NaN</td>\n",
       "      <td>NaN</td>\n",
       "      <td>2.07</td>\n",
       "      <td>NaN</td>\n",
       "      <td>56.67</td>\n",
       "      <td>NaN</td>\n",
       "      <td>NaN</td>\n",
       "    </tr>\n",
       "    <tr>\n",
       "      <th>2004</th>\n",
       "      <td>211.81</td>\n",
       "      <td>NaN</td>\n",
       "      <td>NaN</td>\n",
       "      <td>NaN</td>\n",
       "      <td>17.27</td>\n",
       "      <td>NaN</td>\n",
       "      <td>NaN</td>\n",
       "      <td>77.91</td>\n",
       "      <td>7.06</td>\n",
       "      <td>NaN</td>\n",
       "    </tr>\n",
       "    <tr>\n",
       "      <th>2005</th>\n",
       "      <td>160.66</td>\n",
       "      <td>8.25</td>\n",
       "      <td>NaN</td>\n",
       "      <td>NaN</td>\n",
       "      <td>130.14</td>\n",
       "      <td>NaN</td>\n",
       "      <td>NaN</td>\n",
       "      <td>33.86</td>\n",
       "      <td>43.84</td>\n",
       "      <td>NaN</td>\n",
       "    </tr>\n",
       "    <tr>\n",
       "      <th>2006</th>\n",
       "      <td>103.42</td>\n",
       "      <td>51.62</td>\n",
       "      <td>20.96</td>\n",
       "      <td>137.15</td>\n",
       "      <td>119.81</td>\n",
       "      <td>NaN</td>\n",
       "      <td>NaN</td>\n",
       "      <td>5.28</td>\n",
       "      <td>55.32</td>\n",
       "      <td>NaN</td>\n",
       "    </tr>\n",
       "    <tr>\n",
       "      <th>2007</th>\n",
       "      <td>75.99</td>\n",
       "      <td>95.41</td>\n",
       "      <td>73.19</td>\n",
       "      <td>152.77</td>\n",
       "      <td>146.94</td>\n",
       "      <td>NaN</td>\n",
       "      <td>NaN</td>\n",
       "      <td>3.40</td>\n",
       "      <td>46.93</td>\n",
       "      <td>NaN</td>\n",
       "    </tr>\n",
       "    <tr>\n",
       "      <th>2008</th>\n",
       "      <td>53.90</td>\n",
       "      <td>135.26</td>\n",
       "      <td>118.52</td>\n",
       "      <td>171.32</td>\n",
       "      <td>145.31</td>\n",
       "      <td>NaN</td>\n",
       "      <td>NaN</td>\n",
       "      <td>NaN</td>\n",
       "      <td>34.55</td>\n",
       "      <td>NaN</td>\n",
       "    </tr>\n",
       "    <tr>\n",
       "      <th>2009</th>\n",
       "      <td>26.40</td>\n",
       "      <td>120.29</td>\n",
       "      <td>130.93</td>\n",
       "      <td>206.97</td>\n",
       "      <td>119.54</td>\n",
       "      <td>NaN</td>\n",
       "      <td>NaN</td>\n",
       "      <td>NaN</td>\n",
       "      <td>37.78</td>\n",
       "      <td>NaN</td>\n",
       "    </tr>\n",
       "    <tr>\n",
       "      <th>2010</th>\n",
       "      <td>5.64</td>\n",
       "      <td>170.03</td>\n",
       "      <td>142.17</td>\n",
       "      <td>127.95</td>\n",
       "      <td>85.02</td>\n",
       "      <td>NaN</td>\n",
       "      <td>NaN</td>\n",
       "      <td>NaN</td>\n",
       "      <td>35.04</td>\n",
       "      <td>NaN</td>\n",
       "    </tr>\n",
       "    <tr>\n",
       "      <th>2011</th>\n",
       "      <td>0.45</td>\n",
       "      <td>143.84</td>\n",
       "      <td>156.78</td>\n",
       "      <td>59.65</td>\n",
       "      <td>26.18</td>\n",
       "      <td>NaN</td>\n",
       "      <td>NaN</td>\n",
       "      <td>NaN</td>\n",
       "      <td>17.82</td>\n",
       "      <td>63.20</td>\n",
       "    </tr>\n",
       "    <tr>\n",
       "      <th>2012</th>\n",
       "      <td>NaN</td>\n",
       "      <td>99.74</td>\n",
       "      <td>107.36</td>\n",
       "      <td>21.71</td>\n",
       "      <td>11.01</td>\n",
       "      <td>NaN</td>\n",
       "      <td>NaN</td>\n",
       "      <td>NaN</td>\n",
       "      <td>7.69</td>\n",
       "      <td>51.36</td>\n",
       "    </tr>\n",
       "    <tr>\n",
       "      <th>2013</th>\n",
       "      <td>NaN</td>\n",
       "      <td>88.58</td>\n",
       "      <td>113.25</td>\n",
       "      <td>8.59</td>\n",
       "      <td>1.54</td>\n",
       "      <td>NaN</td>\n",
       "      <td>25.99</td>\n",
       "      <td>NaN</td>\n",
       "      <td>3.14</td>\n",
       "      <td>56.57</td>\n",
       "    </tr>\n",
       "    <tr>\n",
       "      <th>2014</th>\n",
       "      <td>NaN</td>\n",
       "      <td>34.74</td>\n",
       "      <td>47.76</td>\n",
       "      <td>3.75</td>\n",
       "      <td>NaN</td>\n",
       "      <td>NaN</td>\n",
       "      <td>100.00</td>\n",
       "      <td>NaN</td>\n",
       "      <td>0.24</td>\n",
       "      <td>43.76</td>\n",
       "    </tr>\n",
       "    <tr>\n",
       "      <th>2015</th>\n",
       "      <td>NaN</td>\n",
       "      <td>11.96</td>\n",
       "      <td>16.82</td>\n",
       "      <td>1.14</td>\n",
       "      <td>NaN</td>\n",
       "      <td>NaN</td>\n",
       "      <td>118.90</td>\n",
       "      <td>NaN</td>\n",
       "      <td>0.12</td>\n",
       "      <td>27.78</td>\n",
       "    </tr>\n",
       "    <tr>\n",
       "      <th>2016</th>\n",
       "      <td>NaN</td>\n",
       "      <td>1.52</td>\n",
       "      <td>3.60</td>\n",
       "      <td>0.18</td>\n",
       "      <td>NaN</td>\n",
       "      <td>NaN</td>\n",
       "      <td>69.25</td>\n",
       "      <td>NaN</td>\n",
       "      <td>NaN</td>\n",
       "      <td>15.14</td>\n",
       "    </tr>\n",
       "  </tbody>\n",
       "</table>\n",
       "</div>"
      ],
      "text/plain": [
       "platform            PS2    X360     PS3     Wii      DS      PS     PS4  \\\n",
       "year_of_release                                                           \n",
       "1980                NaN     NaN     NaN     NaN     NaN     NaN     NaN   \n",
       "1981                NaN     NaN     NaN     NaN     NaN     NaN     NaN   \n",
       "1982                NaN     NaN     NaN     NaN     NaN     NaN     NaN   \n",
       "1983                NaN     NaN     NaN     NaN     NaN     NaN     NaN   \n",
       "1984                NaN     NaN     NaN     NaN     NaN     NaN     NaN   \n",
       "1985                NaN     NaN     NaN     NaN    0.02     NaN     NaN   \n",
       "1986                NaN     NaN     NaN     NaN     NaN     NaN     NaN   \n",
       "1987                NaN     NaN     NaN     NaN     NaN     NaN     NaN   \n",
       "1988                NaN     NaN     NaN     NaN     NaN     NaN     NaN   \n",
       "1989                NaN     NaN     NaN     NaN     NaN     NaN     NaN   \n",
       "1990                NaN     NaN     NaN     NaN     NaN     NaN     NaN   \n",
       "1991                NaN     NaN     NaN     NaN     NaN     NaN     NaN   \n",
       "1992                NaN     NaN     NaN     NaN     NaN     NaN     NaN   \n",
       "1993                NaN     NaN     NaN     NaN     NaN     NaN     NaN   \n",
       "1994                NaN     NaN     NaN     NaN     NaN    6.03     NaN   \n",
       "1995                NaN     NaN     NaN     NaN     NaN   35.96     NaN   \n",
       "1996                NaN     NaN     NaN     NaN     NaN   94.70     NaN   \n",
       "1997                NaN     NaN     NaN     NaN     NaN  136.17     NaN   \n",
       "1998                NaN     NaN     NaN     NaN     NaN  169.49     NaN   \n",
       "1999                NaN     NaN     NaN     NaN     NaN  144.53     NaN   \n",
       "2000              39.17     NaN     NaN     NaN     NaN   96.37     NaN   \n",
       "2001             166.43     NaN     NaN     NaN     NaN   35.59     NaN   \n",
       "2002             205.38     NaN     NaN     NaN     NaN    6.67     NaN   \n",
       "2003             184.31     NaN     NaN     NaN     NaN    2.07     NaN   \n",
       "2004             211.81     NaN     NaN     NaN   17.27     NaN     NaN   \n",
       "2005             160.66    8.25     NaN     NaN  130.14     NaN     NaN   \n",
       "2006             103.42   51.62   20.96  137.15  119.81     NaN     NaN   \n",
       "2007              75.99   95.41   73.19  152.77  146.94     NaN     NaN   \n",
       "2008              53.90  135.26  118.52  171.32  145.31     NaN     NaN   \n",
       "2009              26.40  120.29  130.93  206.97  119.54     NaN     NaN   \n",
       "2010               5.64  170.03  142.17  127.95   85.02     NaN     NaN   \n",
       "2011               0.45  143.84  156.78   59.65   26.18     NaN     NaN   \n",
       "2012                NaN   99.74  107.36   21.71   11.01     NaN     NaN   \n",
       "2013                NaN   88.58  113.25    8.59    1.54     NaN   25.99   \n",
       "2014                NaN   34.74   47.76    3.75     NaN     NaN  100.00   \n",
       "2015                NaN   11.96   16.82    1.14     NaN     NaN  118.90   \n",
       "2016                NaN    1.52    3.60    0.18     NaN     NaN   69.25   \n",
       "\n",
       "platform           GBA    PSP    3DS  \n",
       "year_of_release                       \n",
       "1980               NaN    NaN    NaN  \n",
       "1981               NaN    NaN    NaN  \n",
       "1982               NaN    NaN    NaN  \n",
       "1983               NaN    NaN    NaN  \n",
       "1984               NaN    NaN    NaN  \n",
       "1985               NaN    NaN    NaN  \n",
       "1986               NaN    NaN    NaN  \n",
       "1987               NaN    NaN    NaN  \n",
       "1988               NaN    NaN    NaN  \n",
       "1989               NaN    NaN    NaN  \n",
       "1990               NaN    NaN    NaN  \n",
       "1991               NaN    NaN    NaN  \n",
       "1992               NaN    NaN    NaN  \n",
       "1993               NaN    NaN    NaN  \n",
       "1994               NaN    NaN    NaN  \n",
       "1995               NaN    NaN    NaN  \n",
       "1996               NaN    NaN    NaN  \n",
       "1997               NaN    NaN    NaN  \n",
       "1998               NaN    NaN    NaN  \n",
       "1999               NaN    NaN    NaN  \n",
       "2000              0.07    NaN    NaN  \n",
       "2001             61.53    NaN    NaN  \n",
       "2002             74.16    NaN    NaN  \n",
       "2003             56.67    NaN    NaN  \n",
       "2004             77.91   7.06    NaN  \n",
       "2005             33.86  43.84    NaN  \n",
       "2006              5.28  55.32    NaN  \n",
       "2007              3.40  46.93    NaN  \n",
       "2008               NaN  34.55    NaN  \n",
       "2009               NaN  37.78    NaN  \n",
       "2010               NaN  35.04    NaN  \n",
       "2011               NaN  17.82  63.20  \n",
       "2012               NaN   7.69  51.36  \n",
       "2013               NaN   3.14  56.57  \n",
       "2014               NaN   0.24  43.76  \n",
       "2015               NaN   0.12  27.78  \n",
       "2016               NaN    NaN  15.14  "
      ]
     },
     "execution_count": 15,
     "metadata": {},
     "output_type": "execute_result"
    }
   ],
   "source": [
    "sales_platform_years = games\\\n",
    ".pivot_table(index='year_of_release', columns='platform', values='sales', aggfunc='sum')\n",
    "sales_platform_years = sales_platform_years[sales_platform.index]\n",
    "sales_platform_years"
   ]
  },
  {
   "cell_type": "code",
   "execution_count": 16,
   "metadata": {},
   "outputs": [],
   "source": [
    "import matplotlib.pyplot as plt"
   ]
  },
  {
   "cell_type": "code",
   "execution_count": 17,
   "metadata": {},
   "outputs": [
    {
     "data": {
      "image/png": "[encoded data removed]",
      "text/plain": [
       "<Figure size 1080x504 with 1 Axes>"
      ]
     },
     "metadata": {
      "needs_background": "light"
     },
     "output_type": "display_data"
    }
   ],
   "source": [
    "sales_platform_years.plot(style='o-', figsize=(15, 7), grid=True)\n",
    "plt.xlim(1993, 2017)\n",
    "plt.show()"
   ]
  },
  {
   "cell_type": "markdown",
   "metadata": {},
   "source": [
    "За какой характерный срок появляются новые и исчезают старые платформы?\n",
    "- По данным графика за 8-12 лет, в среднем за 10 лет."
   ]
  },
  {
   "cell_type": "markdown",
   "metadata": {},
   "source": [
    "### Определение актуального периода и анализ платформ по продажам"
   ]
  },
  {
   "cell_type": "markdown",
   "metadata": {},
   "source": [
    "Учитывая данные и график выше, а также развитие ниши gamedev и IT-отрасли в целом, необходимость прогноза на 2017 год, \"актуальным периодом\" будем считать период с 2010 по 2016 года."
   ]
  },
  {
   "cell_type": "code",
   "execution_count": 18,
   "metadata": {
    "scrolled": false
   },
   "outputs": [
    {
     "data": {
      "text/plain": [
       "<AxesSubplot:xlabel='year_of_release'>"
      ]
     },
     "execution_count": 18,
     "metadata": {},
     "output_type": "execute_result"
    },
    {
     "data": {
      "image/png": "[encoded data removed]",
      "text/plain": [
       "<Figure size 720x576 with 1 Axes>"
      ]
     },
     "metadata": {
      "needs_background": "light"
     },
     "output_type": "display_data"
    }
   ],
   "source": [
    "report = games.query('year_of_release >= 2014')\n",
    "report = report\\\n",
    ".pivot_table(index='year_of_release', columns='platform', values='sales', aggfunc='sum')\n",
    "report.plot(style='o-', figsize=(10, 8), grid=True)"
   ]
  },
  {
   "cell_type": "markdown",
   "metadata": {},
   "source": [
    "Какие платформы лидируют по продажам, растут или падают?\n",
    "- рост продаж наблюдался с 2014 по 2015 гг. у двух платформ -- PS4 и XOne , затем падение в 2015-2016 гг. \n",
    "- у остальных платформ в период с 2014 по 2016 гг. в основном наблюдается падение показателей продаж; меньше всех продажи у платформ PSP и Wii\n",
    "\n",
    "Потенциально прибыльные платформы: PS4 и XOne."
   ]
  },
  {
   "cell_type": "markdown",
   "metadata": {},
   "source": [
    "### Глобальные продажи игр "
   ]
  },
  {
   "cell_type": "code",
   "execution_count": 19,
   "metadata": {
    "scrolled": false
   },
   "outputs": [
    {
     "data": {
      "text/plain": [
       "<AxesSubplot:ylabel='Количество продаж, млн. копий'>"
      ]
     },
     "execution_count": 19,
     "metadata": {},
     "output_type": "execute_result"
    },
    {
     "data": {
      "image/png": "[encoded data removed]",
      "text/plain": [
       "<Figure size 1296x720 with 1 Axes>"
      ]
     },
     "metadata": {
      "needs_background": "light"
     },
     "output_type": "display_data"
    }
   ],
   "source": [
    "report.plot(kind='box', figsize=(18, 10), grid=True, ylabel='Количество продаж, млн. копий')"
   ]
  },
  {
   "cell_type": "code",
   "execution_count": 20,
   "metadata": {},
   "outputs": [
    {
     "data": {
      "text/html": [
       "<div>\n",
       "<style scoped>\n",
       "    .dataframe tbody tr th:only-of-type {\n",
       "        vertical-align: middle;\n",
       "    }\n",
       "\n",
       "    .dataframe tbody tr th {\n",
       "        vertical-align: top;\n",
       "    }\n",
       "\n",
       "    .dataframe thead th {\n",
       "        text-align: right;\n",
       "    }\n",
       "</style>\n",
       "<table border=\"1\" class=\"dataframe\">\n",
       "  <thead>\n",
       "    <tr style=\"text-align: right;\">\n",
       "      <th>platform</th>\n",
       "      <th>3DS</th>\n",
       "      <th>PC</th>\n",
       "      <th>PS3</th>\n",
       "      <th>PS4</th>\n",
       "      <th>PSP</th>\n",
       "      <th>PSV</th>\n",
       "      <th>Wii</th>\n",
       "      <th>WiiU</th>\n",
       "      <th>X360</th>\n",
       "      <th>XOne</th>\n",
       "    </tr>\n",
       "  </thead>\n",
       "  <tbody>\n",
       "    <tr>\n",
       "      <th>count</th>\n",
       "      <td>3.000000</td>\n",
       "      <td>3.000000</td>\n",
       "      <td>3.000000</td>\n",
       "      <td>3.000000</td>\n",
       "      <td>2.000000</td>\n",
       "      <td>3.000000</td>\n",
       "      <td>3.000000</td>\n",
       "      <td>3.000000</td>\n",
       "      <td>3.000000</td>\n",
       "      <td>3.000000</td>\n",
       "    </tr>\n",
       "    <tr>\n",
       "      <th>mean</th>\n",
       "      <td>28.893333</td>\n",
       "      <td>9.016667</td>\n",
       "      <td>22.726667</td>\n",
       "      <td>96.050000</td>\n",
       "      <td>0.180000</td>\n",
       "      <td>7.466667</td>\n",
       "      <td>1.690000</td>\n",
       "      <td>14.326667</td>\n",
       "      <td>16.073333</td>\n",
       "      <td>46.786667</td>\n",
       "    </tr>\n",
       "    <tr>\n",
       "      <th>std</th>\n",
       "      <td>14.342445</td>\n",
       "      <td>4.037974</td>\n",
       "      <td>22.664795</td>\n",
       "      <td>25.059579</td>\n",
       "      <td>0.084853</td>\n",
       "      <td>3.967472</td>\n",
       "      <td>1.847458</td>\n",
       "      <td>8.889411</td>\n",
       "      <td>16.987694</td>\n",
       "      <td>18.127748</td>\n",
       "    </tr>\n",
       "    <tr>\n",
       "      <th>min</th>\n",
       "      <td>15.140000</td>\n",
       "      <td>5.250000</td>\n",
       "      <td>3.600000</td>\n",
       "      <td>69.250000</td>\n",
       "      <td>0.120000</td>\n",
       "      <td>4.250000</td>\n",
       "      <td>0.180000</td>\n",
       "      <td>4.600000</td>\n",
       "      <td>1.520000</td>\n",
       "      <td>26.150000</td>\n",
       "    </tr>\n",
       "    <tr>\n",
       "      <th>25%</th>\n",
       "      <td>21.460000</td>\n",
       "      <td>6.885000</td>\n",
       "      <td>10.210000</td>\n",
       "      <td>84.625000</td>\n",
       "      <td>0.150000</td>\n",
       "      <td>5.250000</td>\n",
       "      <td>0.660000</td>\n",
       "      <td>10.475000</td>\n",
       "      <td>6.740000</td>\n",
       "      <td>40.110000</td>\n",
       "    </tr>\n",
       "    <tr>\n",
       "      <th>50%</th>\n",
       "      <td>27.780000</td>\n",
       "      <td>8.520000</td>\n",
       "      <td>16.820000</td>\n",
       "      <td>100.000000</td>\n",
       "      <td>0.180000</td>\n",
       "      <td>6.250000</td>\n",
       "      <td>1.140000</td>\n",
       "      <td>16.350000</td>\n",
       "      <td>11.960000</td>\n",
       "      <td>54.070000</td>\n",
       "    </tr>\n",
       "    <tr>\n",
       "      <th>75%</th>\n",
       "      <td>35.770000</td>\n",
       "      <td>10.900000</td>\n",
       "      <td>32.290000</td>\n",
       "      <td>109.450000</td>\n",
       "      <td>0.210000</td>\n",
       "      <td>9.075000</td>\n",
       "      <td>2.445000</td>\n",
       "      <td>19.190000</td>\n",
       "      <td>23.350000</td>\n",
       "      <td>57.105000</td>\n",
       "    </tr>\n",
       "    <tr>\n",
       "      <th>max</th>\n",
       "      <td>43.760000</td>\n",
       "      <td>13.280000</td>\n",
       "      <td>47.760000</td>\n",
       "      <td>118.900000</td>\n",
       "      <td>0.240000</td>\n",
       "      <td>11.900000</td>\n",
       "      <td>3.750000</td>\n",
       "      <td>22.030000</td>\n",
       "      <td>34.740000</td>\n",
       "      <td>60.140000</td>\n",
       "    </tr>\n",
       "  </tbody>\n",
       "</table>\n",
       "</div>"
      ],
      "text/plain": [
       "platform        3DS         PC        PS3         PS4       PSP        PSV  \\\n",
       "count      3.000000   3.000000   3.000000    3.000000  2.000000   3.000000   \n",
       "mean      28.893333   9.016667  22.726667   96.050000  0.180000   7.466667   \n",
       "std       14.342445   4.037974  22.664795   25.059579  0.084853   3.967472   \n",
       "min       15.140000   5.250000   3.600000   69.250000  0.120000   4.250000   \n",
       "25%       21.460000   6.885000  10.210000   84.625000  0.150000   5.250000   \n",
       "50%       27.780000   8.520000  16.820000  100.000000  0.180000   6.250000   \n",
       "75%       35.770000  10.900000  32.290000  109.450000  0.210000   9.075000   \n",
       "max       43.760000  13.280000  47.760000  118.900000  0.240000  11.900000   \n",
       "\n",
       "platform       Wii       WiiU       X360       XOne  \n",
       "count     3.000000   3.000000   3.000000   3.000000  \n",
       "mean      1.690000  14.326667  16.073333  46.786667  \n",
       "std       1.847458   8.889411  16.987694  18.127748  \n",
       "min       0.180000   4.600000   1.520000  26.150000  \n",
       "25%       0.660000  10.475000   6.740000  40.110000  \n",
       "50%       1.140000  16.350000  11.960000  54.070000  \n",
       "75%       2.445000  19.190000  23.350000  57.105000  \n",
       "max       3.750000  22.030000  34.740000  60.140000  "
      ]
     },
     "execution_count": 20,
     "metadata": {},
     "output_type": "execute_result"
    }
   ],
   "source": [
    "report.describe()"
   ]
  },
  {
   "cell_type": "code",
   "execution_count": 21,
   "metadata": {},
   "outputs": [],
   "source": [
    "import seaborn as sns"
   ]
  },
  {
   "cell_type": "code",
   "execution_count": 22,
   "metadata": {},
   "outputs": [],
   "source": [
    "report = games.query('year_of_release >= 2014')"
   ]
  },
  {
   "cell_type": "code",
   "execution_count": 23,
   "metadata": {
    "scrolled": false
   },
   "outputs": [
    {
     "data": {
      "text/plain": [
       "<AxesSubplot:xlabel='platform', ylabel='sales'>"
      ]
     },
     "execution_count": 23,
     "metadata": {},
     "output_type": "execute_result"
    },
    {
     "data": {
      "image/png": "[encoded data removed]",
      "text/plain": [
       "<Figure size 864x720 with 1 Axes>"
      ]
     },
     "metadata": {
      "needs_background": "light"
     },
     "output_type": "display_data"
    }
   ],
   "source": [
    "plt.figure(figsize=(12, 10))\n",
    "plt.ylim(-0.1, 2.5)\n",
    "sns.boxplot(x='platform', y='sales', data=report)"
   ]
  },
  {
   "cell_type": "markdown",
   "metadata": {},
   "source": [
    "Описание результата:\n",
    "1. больше всего продаж наблюдается по платформам PS3 и XOne:\n",
    "- медиана у этих 2 платформ 100 и 57 млн. копий соответственно\n",
    "- имеют сдвиг распределения в отрицательную сторону(нижний \"ус\" длиннее верхнего)\n",
    "2. меньше всего продаж у платформы PSP и Wii: медианы соответственно 180000 и 1140000 копий"
   ]
  },
  {
   "cell_type": "markdown",
   "metadata": {},
   "source": [
    "### Влияние на продажи отзывов пользователей и критиков"
   ]
  },
  {
   "cell_type": "markdown",
   "metadata": {},
   "source": [
    "Самой популярной платформой(по проведенным выше исследованиям по актуальному периоду) является PS3."
   ]
  },
  {
   "cell_type": "code",
   "execution_count": 24,
   "metadata": {},
   "outputs": [],
   "source": [
    "ps3_data = games.query('platform == \"PS3\"')"
   ]
  },
  {
   "cell_type": "code",
   "execution_count": 25,
   "metadata": {},
   "outputs": [
    {
     "data": {
      "text/plain": [
       "<AxesSubplot:xlabel='critic_score', ylabel='sales'>"
      ]
     },
     "execution_count": 25,
     "metadata": {},
     "output_type": "execute_result"
    },
    {
     "data": {
      "image/png": "[encoded data removed]",
      "text/plain": [
       "<Figure size 1008x576 with 1 Axes>"
      ]
     },
     "metadata": {
      "needs_background": "light"
     },
     "output_type": "display_data"
    }
   ],
   "source": [
    "ax1 = ps3_data.plot(x='critic_score', y='sales', kind='scatter', figsize=(14, 8))\n",
    "ps3_data_median1 = ps3_data.pivot_table(index='critic_score', values='sales', aggfunc='median')\n",
    "ps3_data_median1.plot(ax=ax1, color='green')"
   ]
  },
  {
   "cell_type": "code",
   "execution_count": 26,
   "metadata": {},
   "outputs": [
    {
     "data": {
      "text/plain": [
       "<AxesSubplot:xlabel='user_score', ylabel='sales'>"
      ]
     },
     "execution_count": 26,
     "metadata": {},
     "output_type": "execute_result"
    },
    {
     "data": {
      "image/png": "[encoded data removed]",
      "text/plain": [
       "<Figure size 1008x576 with 1 Axes>"
      ]
     },
     "metadata": {
      "needs_background": "light"
     },
     "output_type": "display_data"
    }
   ],
   "source": [
    "ax2 = ps3_data.plot(x='user_score', y='sales', kind='scatter', figsize=(14, 8))\n",
    "ps3_data_median2 = ps3_data.pivot_table(index='user_score', values='sales', aggfunc='median')\n",
    "ps3_data_median2.plot(ax=ax2, color='green')"
   ]
  },
  {
   "cell_type": "code",
   "execution_count": 27,
   "metadata": {},
   "outputs": [
    {
     "data": {
      "text/plain": [
       "0.4327589578997135"
      ]
     },
     "execution_count": 27,
     "metadata": {},
     "output_type": "execute_result"
    }
   ],
   "source": [
    "ps3_data['sales'].corr(ps3_data['critic_score'])"
   ]
  },
  {
   "cell_type": "code",
   "execution_count": 28,
   "metadata": {},
   "outputs": [
    {
     "data": {
      "text/plain": [
       "0.12328238779204483"
      ]
     },
     "execution_count": 28,
     "metadata": {},
     "output_type": "execute_result"
    }
   ],
   "source": [
    "ps3_data['sales'].corr(ps3_data['user_score'])"
   ]
  },
  {
   "cell_type": "markdown",
   "metadata": {},
   "source": [
    "Выводы:\n",
    "- коэффициенты корреляции показывают, что связь есть, но не сильно выражена в обоих случаях(хотя связь между оценкой критиков и продажами сильнее, чем связь между оценкой пользователей и продажами)\n",
    "- графики: при оценке критиков больше 70 и при оценке пользователей больше 6 количество продаж заметно увеличивается по сравнению с более низкими соответствующими оценками -- это показывают и диаграмма рассеяния, и график медианы продаж(исключая, конечно, некоторые единичные выбросы)"
   ]
  },
  {
   "cell_type": "markdown",
   "metadata": {},
   "source": [
    "Соотнесем выводы с продажами игр на других платформах. Для этого построим диаграммы рассеяния и вычислим коэффициенты корреляции для менее популярных платформ, например, XOne и DS(взяты из графика \"ящик с усами\" по актуальному периоду)."
   ]
  },
  {
   "cell_type": "code",
   "execution_count": 29,
   "metadata": {},
   "outputs": [],
   "source": [
    "xone_data = games.query('platform == \"XOne\"')"
   ]
  },
  {
   "cell_type": "code",
   "execution_count": 30,
   "metadata": {},
   "outputs": [
    {
     "data": {
      "text/plain": [
       "<AxesSubplot:xlabel='critic_score', ylabel='sales'>"
      ]
     },
     "execution_count": 30,
     "metadata": {},
     "output_type": "execute_result"
    },
    {
     "data": {
      "image/png": "[encoded data removed]",
      "text/plain": [
       "<Figure size 1008x576 with 1 Axes>"
      ]
     },
     "metadata": {
      "needs_background": "light"
     },
     "output_type": "display_data"
    }
   ],
   "source": [
    "ax3 = xone_data.plot(x='critic_score', y='sales', kind='scatter', figsize=(14, 8))\n",
    "xone_data_median1 = xone_data.pivot_table(index='critic_score', values='sales', aggfunc='median')\n",
    "xone_data_median1.plot(ax=ax3, color='green')"
   ]
  },
  {
   "cell_type": "code",
   "execution_count": 31,
   "metadata": {},
   "outputs": [
    {
     "data": {
      "text/plain": [
       "<AxesSubplot:xlabel='user_score', ylabel='sales'>"
      ]
     },
     "execution_count": 31,
     "metadata": {},
     "output_type": "execute_result"
    },
    {
     "data": {
      "image/png": "[encoded data removed]",
      "text/plain": [
       "<Figure size 1008x576 with 1 Axes>"
      ]
     },
     "metadata": {
      "needs_background": "light"
     },
     "output_type": "display_data"
    }
   ],
   "source": [
    "ax4 = xone_data.plot(x='user_score', y='sales', kind='scatter', figsize=(14, 8))\n",
    "xone_data_median2 = xone_data.pivot_table(index='user_score', values='sales', aggfunc='median')\n",
    "xone_data_median2.plot(ax=ax4, color='green')"
   ]
  },
  {
   "cell_type": "code",
   "execution_count": 32,
   "metadata": {},
   "outputs": [
    {
     "data": {
      "text/plain": [
       "0.41699832800840175"
      ]
     },
     "execution_count": 32,
     "metadata": {},
     "output_type": "execute_result"
    }
   ],
   "source": [
    "xone_data['sales'].corr(xone_data['critic_score'])"
   ]
  },
  {
   "cell_type": "code",
   "execution_count": 33,
   "metadata": {},
   "outputs": [
    {
     "data": {
      "text/plain": [
       "-0.07050537515177652"
      ]
     },
     "execution_count": 33,
     "metadata": {},
     "output_type": "execute_result"
    }
   ],
   "source": [
    "xone_data['sales'].corr(xone_data['user_score'])"
   ]
  },
  {
   "cell_type": "code",
   "execution_count": 34,
   "metadata": {},
   "outputs": [],
   "source": [
    "ds_data = games.query('platform == \"DS\"')"
   ]
  },
  {
   "cell_type": "code",
   "execution_count": 35,
   "metadata": {},
   "outputs": [
    {
     "data": {
      "text/plain": [
       "<AxesSubplot:xlabel='critic_score', ylabel='sales'>"
      ]
     },
     "execution_count": 35,
     "metadata": {},
     "output_type": "execute_result"
    },
    {
     "data": {
      "image/png": "[encoded data removed]",
      "text/plain": [
       "<Figure size 1008x576 with 1 Axes>"
      ]
     },
     "metadata": {
      "needs_background": "light"
     },
     "output_type": "display_data"
    }
   ],
   "source": [
    "ax5 = ds_data.plot(x='critic_score', y='sales', kind='scatter', figsize=(14, 8))\n",
    "ds_data_median1 = ds_data.pivot_table(index='critic_score', values='sales', aggfunc='median')\n",
    "ds_data_median1.plot(ax=ax5, color='green')"
   ]
  },
  {
   "cell_type": "code",
   "execution_count": 36,
   "metadata": {},
   "outputs": [
    {
     "data": {
      "text/plain": [
       "<AxesSubplot:xlabel='user_score', ylabel='sales'>"
      ]
     },
     "execution_count": 36,
     "metadata": {},
     "output_type": "execute_result"
    },
    {
     "data": {
      "image/png": "[encoded data removed]",
      "text/plain": [
       "<Figure size 1008x576 with 1 Axes>"
      ]
     },
     "metadata": {
      "needs_background": "light"
     },
     "output_type": "display_data"
    }
   ],
   "source": [
    "ax6 = ds_data.plot(x='user_score', y='sales', kind='scatter', figsize=(14, 8))\n",
    "ds_data_median2 = ds_data.pivot_table(index='user_score', values='sales', aggfunc='median')\n",
    "ds_data_median2.plot(ax=ax6, color='green')"
   ]
  },
  {
   "cell_type": "code",
   "execution_count": 37,
   "metadata": {},
   "outputs": [
    {
     "data": {
      "text/plain": [
       "0.23754579854113453"
      ]
     },
     "execution_count": 37,
     "metadata": {},
     "output_type": "execute_result"
    }
   ],
   "source": [
    "ds_data['sales'].corr(ds_data['critic_score'])"
   ]
  },
  {
   "cell_type": "code",
   "execution_count": 38,
   "metadata": {},
   "outputs": [
    {
     "data": {
      "text/plain": [
       "0.1035571638053429"
      ]
     },
     "execution_count": 38,
     "metadata": {},
     "output_type": "execute_result"
    }
   ],
   "source": [
    "ds_data['sales'].corr(ds_data['user_score'])"
   ]
  },
  {
   "cell_type": "markdown",
   "metadata": {},
   "source": [
    "Анализ платформ XOne и DS подтвердил выводы, которые были сделаны по платформе PS3. Это говорит о том, что выводы имеют более общий характер и распространяются на все платформы."
   ]
  },
  {
   "cell_type": "markdown",
   "metadata": {},
   "source": [
    "### Исследование жанров игр"
   ]
  },
  {
   "cell_type": "code",
   "execution_count": 39,
   "metadata": {},
   "outputs": [],
   "source": [
    "report = games.query('year_of_release >= 2014')"
   ]
  },
  {
   "cell_type": "code",
   "execution_count": 40,
   "metadata": {},
   "outputs": [
    {
     "data": {
      "text/plain": [
       "<AxesSubplot:ylabel='number_of_games'>"
      ]
     },
     "execution_count": 40,
     "metadata": {},
     "output_type": "execute_result"
    },
    {
     "data": {
      "image/png": "[encoded data removed]",
      "text/plain": [
       "<Figure size 648x648 with 1 Axes>"
      ]
     },
     "metadata": {},
     "output_type": "display_data"
    }
   ],
   "source": [
    "report\\\n",
    ".pivot_table(index='genre', values='name', aggfunc='count')\\\n",
    ".rename(columns={'name': 'number_of_games'})\\\n",
    ".plot(kind='pie', y='number_of_games', figsize=(9, 9))"
   ]
  },
  {
   "cell_type": "code",
   "execution_count": 41,
   "metadata": {},
   "outputs": [
    {
     "data": {
      "text/plain": [
       "<AxesSubplot:ylabel='sales'>"
      ]
     },
     "execution_count": 41,
     "metadata": {},
     "output_type": "execute_result"
    },
    {
     "data": {
      "image/png": "[encoded data removed]",
      "text/plain": [
       "<Figure size 648x648 with 1 Axes>"
      ]
     },
     "metadata": {},
     "output_type": "display_data"
    }
   ],
   "source": [
    "report\\\n",
    ".pivot_table(index='genre', values='sales', aggfunc='sum')\\\n",
    ".plot(kind='pie', y='sales', figsize=(9, 9))"
   ]
  },
  {
   "cell_type": "markdown",
   "metadata": {},
   "source": [
    "Что можно сказать о самых прибыльных жанрах? Выделяются ли жанры с высокими и низкими продажами?\n",
    "- высокие продажи у жанров \"Action\" и \"Shooter\", они же являются самыми прибыльными жанрами; в данные жанры игр играют большее количество людей и их чаще покупают\n",
    "- низкие продажи у жанров \"Puzzle\" и \"Strategy\"\n",
    "- также можно предположить, что люди предпочитают более зрелищные и активные игры, чем интеллектуальные"
   ]
  },
  {
   "cell_type": "markdown",
   "metadata": {},
   "source": [
    "## Портрет пользователя каждого региона"
   ]
  },
  {
   "cell_type": "markdown",
   "metadata": {},
   "source": [
    "### Самые популярные платформы (топ-5)"
   ]
  },
  {
   "cell_type": "markdown",
   "metadata": {},
   "source": [
    "Для Северной Америки:"
   ]
  },
  {
   "cell_type": "code",
   "execution_count": 42,
   "metadata": {},
   "outputs": [
    {
     "data": {
      "text/plain": [
       "<AxesSubplot:ylabel='na_sales'>"
      ]
     },
     "execution_count": 42,
     "metadata": {},
     "output_type": "execute_result"
    },
    {
     "data": {
      "image/png": "[encoded data removed]",
      "text/plain": [
       "<Figure size 648x648 with 1 Axes>"
      ]
     },
     "metadata": {},
     "output_type": "display_data"
    }
   ],
   "source": [
    "report\\\n",
    ".pivot_table(index='platform', values='na_sales', aggfunc='sum')\\\n",
    ".sort_values(by='na_sales', ascending=False)\\\n",
    ".head()\\\n",
    ".plot(kind='pie', y='na_sales', figsize=(9, 9))"
   ]
  },
  {
   "cell_type": "markdown",
   "metadata": {},
   "source": [
    "Для Европы:"
   ]
  },
  {
   "cell_type": "code",
   "execution_count": 43,
   "metadata": {},
   "outputs": [
    {
     "data": {
      "text/plain": [
       "<AxesSubplot:ylabel='eu_sales'>"
      ]
     },
     "execution_count": 43,
     "metadata": {},
     "output_type": "execute_result"
    },
    {
     "data": {
      "image/png": "[encoded data removed]",
      "text/plain": [
       "<Figure size 648x648 with 1 Axes>"
      ]
     },
     "metadata": {},
     "output_type": "display_data"
    }
   ],
   "source": [
    "report\\\n",
    ".pivot_table(index='platform', values='eu_sales', aggfunc='sum')\\\n",
    ".sort_values(by='eu_sales', ascending=False)\\\n",
    ".head()\\\n",
    ".plot(kind='pie', y='eu_sales', figsize=(9, 9))"
   ]
  },
  {
   "cell_type": "markdown",
   "metadata": {},
   "source": [
    "Для Японии:"
   ]
  },
  {
   "cell_type": "code",
   "execution_count": 44,
   "metadata": {
    "scrolled": false
   },
   "outputs": [
    {
     "data": {
      "text/plain": [
       "<AxesSubplot:ylabel='jp_sales'>"
      ]
     },
     "execution_count": 44,
     "metadata": {},
     "output_type": "execute_result"
    },
    {
     "data": {
      "image/png": "[encoded data removed]",
      "text/plain": [
       "<Figure size 648x648 with 1 Axes>"
      ]
     },
     "metadata": {},
     "output_type": "display_data"
    }
   ],
   "source": [
    "report\\\n",
    ".pivot_table(index='platform', values='jp_sales', aggfunc='sum')\\\n",
    ".sort_values(by='jp_sales', ascending=False)\\\n",
    ".head()\\\n",
    ".plot(kind='pie', y='jp_sales', figsize=(9, 9))"
   ]
  },
  {
   "cell_type": "markdown",
   "metadata": {},
   "source": [
    "Опиcание различий в долях продаж.\n",
    "- Построенные графики показывают следующие рейтинги платформ по долям продаж от большего значения к меньшему:\n",
    "1. Для Северной Америки: PS4, XOne, X360, PS3=3DS\n",
    "2. Для Европы: PS4, XOne, PS3, 3DS=PC\n",
    "3. Для Японии: 3DS, PS4, PSV, PS3, WiiU"
   ]
  },
  {
   "cell_type": "code",
   "execution_count": 46,
   "metadata": {},
   "outputs": [
    {
     "data": {
      "image/png": "[encoded data removed]",
      "text/plain": [
       "<Figure size 1080x360 with 3 Axes>"
      ]
     },
     "metadata": {},
     "output_type": "display_data"
    }
   ],
   "source": [
    "# задаем список регионов\n",
    "countries = report.columns[4:7]\n",
    "# начертим круговую диаграмму для каждого региона\n",
    "fig, axs = plt.subplots(1, 3, figsize=(15, 5))\n",
    "fig.suptitle('ТОП-5 платформ в регионах')\n",
    "for i in range(3):\n",
    "  # выберем 5 самых продающих платформ\n",
    "  df_i = (report.groupby('platform')[countries[i]].sum().\n",
    "             reset_index().\n",
    "             sort_values(countries[i], ascending = False, ignore_index = True).\n",
    "             head(5))\n",
    "  # занесем все остальыне продажи в Other_platforms\n",
    "  df_i = df_i.append({'platform': 'Other_platforms', countries[i]: report[countries[i]].sum() - df_i[countries[i]].sum()}, ignore_index= True)\n",
    "  axs[i].pie(df_i[countries[i]], labels = df_i['platform'])\n",
    "\n",
    "  # Зададим название региона.\n",
    "  axs[i].set_title(df_i.columns[1].split('_')[0].upper())\n",
    "plt.show()"
   ]
  },
  {
   "cell_type": "markdown",
   "metadata": {},
   "source": [
    "### Самые популярные жанры (топ-5)"
   ]
  },
  {
   "cell_type": "markdown",
   "metadata": {},
   "source": [
    "Для Северной Америки:"
   ]
  },
  {
   "cell_type": "code",
   "execution_count": null,
   "metadata": {
    "scrolled": false
   },
   "outputs": [],
   "source": [
    "report\\\n",
    ".pivot_table(index='genre', values='na_sales', aggfunc='sum')\\\n",
    ".sort_values(by='na_sales', ascending=False)\\\n",
    ".head()\\\n",
    ".plot(kind='bar', figsize=(10, 6))"
   ]
  },
  {
   "cell_type": "markdown",
   "metadata": {},
   "source": [
    "Для Европы:"
   ]
  },
  {
   "cell_type": "code",
   "execution_count": null,
   "metadata": {},
   "outputs": [],
   "source": [
    "report\\\n",
    ".pivot_table(index='genre', values='eu_sales', aggfunc='sum')\\\n",
    ".sort_values(by='eu_sales', ascending=False)\\\n",
    ".head()\\\n",
    ".plot(kind='bar', figsize=(10, 6))"
   ]
  },
  {
   "cell_type": "markdown",
   "metadata": {},
   "source": [
    "Для Японии:"
   ]
  },
  {
   "cell_type": "code",
   "execution_count": null,
   "metadata": {},
   "outputs": [],
   "source": [
    "report\\\n",
    ".pivot_table(index='genre', values='jp_sales', aggfunc='sum')\\\n",
    ".sort_values(by='jp_sales', ascending=False)\\\n",
    ".head()\\\n",
    ".plot(kind='bar', figsize=(10, 6))"
   ]
  },
  {
   "cell_type": "markdown",
   "metadata": {},
   "source": [
    "В рейтингах самых популярных жанров наблюдается следующая картина(от наиболее популярного жанра к наименее):\n",
    "- Для Северной Америки: Shooter, Action, Sports, Role-Playing, Misc\n",
    "- Для Европы: Action, Shooter, Sports, Role-Playing, Racing\n",
    "- Для Японии: Role-Playing, Action, Fighting, Misc, Shooter"
   ]
  },
  {
   "cell_type": "markdown",
   "metadata": {},
   "source": [
    "###  Рейтинг ESRB "
   ]
  },
  {
   "cell_type": "code",
   "execution_count": null,
   "metadata": {},
   "outputs": [],
   "source": [
    "report['rating'] = report['rating'].fillna('no_rating')"
   ]
  },
  {
   "cell_type": "markdown",
   "metadata": {},
   "source": [
    "Для Северной Америки:"
   ]
  },
  {
   "cell_type": "code",
   "execution_count": null,
   "metadata": {},
   "outputs": [],
   "source": [
    "report\\\n",
    ".pivot_table(index='rating', values='na_sales', aggfunc='median')\\\n",
    ".plot(style='o-', figsize=(10, 4), grid=True)"
   ]
  },
  {
   "cell_type": "markdown",
   "metadata": {},
   "source": [
    "Для Европы:"
   ]
  },
  {
   "cell_type": "code",
   "execution_count": null,
   "metadata": {},
   "outputs": [],
   "source": [
    "report\\\n",
    ".pivot_table(index='rating', values='eu_sales', aggfunc='median')\\\n",
    ".plot(style='o-', figsize=(10, 4), grid=True)"
   ]
  },
  {
   "cell_type": "markdown",
   "metadata": {},
   "source": [
    "Для Японии:"
   ]
  },
  {
   "cell_type": "code",
   "execution_count": null,
   "metadata": {},
   "outputs": [],
   "source": [
    "report\\\n",
    ".pivot_table(index='rating', values='jp_sales', aggfunc='median')\\\n",
    ".plot(style='o-', figsize=(10, 4), grid=True)"
   ]
  },
  {
   "cell_type": "markdown",
   "metadata": {},
   "source": [
    "Влияет ли рейтинг ESRB на продажи в отдельном регионе?\n",
    "- Северная Америка: влияет; наибольшие продажи у рейтинга \"M\", наименьшие -- у \"no_rating\"\n",
    "- Европа: влияет; наибольшие продажи у рейтинга \"M\", наименьшие -- у \"no_rating\"\n",
    "- Япония: влияет; наибольшие продажи у рейтинга \"no_rating\", наименьшие -- у \"E\", \"E10+\", \"M\""
   ]
  },
  {
   "cell_type": "markdown",
   "metadata": {},
   "source": [
    "## Проверка гипотез"
   ]
  },
  {
   "cell_type": "markdown",
   "metadata": {},
   "source": [
    "### Средние пользовательские рейтинги платформ Xbox One и PC одинаковые"
   ]
  },
  {
   "cell_type": "code",
   "execution_count": null,
   "metadata": {},
   "outputs": [],
   "source": [
    "from scipy import stats as st"
   ]
  },
  {
   "cell_type": "markdown",
   "metadata": {},
   "source": [
    "H_0: Средние пользовательские рейтинги платформ Xbox One и PC равны\n",
    "\n",
    "H_1: Средние пользовательские рейтинги платформ Xbox One и PC не равны"
   ]
  },
  {
   "cell_type": "code",
   "execution_count": null,
   "metadata": {
    "scrolled": false
   },
   "outputs": [],
   "source": [
    "report = report.dropna(subset=['user_score'])\n",
    "\n",
    "xone_user_score = report.query('platform == \"XOne\"')['user_score']\n",
    "pc_user_score = report.query('platform == \"PC\"')['user_score']\n",
    "\n",
    "alpha = .05\n",
    "\n",
    "results = st.ttest_ind(\n",
    "    xone_user_score, \n",
    "    pc_user_score,\n",
    "    equal_var=False\n",
    ")\n",
    "\n",
    "print('p-значение:', results.pvalue)\n",
    "\n",
    "if results.pvalue < alpha:\n",
    "    print('Отвергаем нулевую гипотезу')\n",
    "else:\n",
    "    print('Не отвергаем нулевую гипотезу')\n",
    "    "
   ]
  },
  {
   "cell_type": "markdown",
   "metadata": {},
   "source": [
    "### Средние пользовательские рейтинги жанров Action и Sports разные"
   ]
  },
  {
   "cell_type": "markdown",
   "metadata": {},
   "source": [
    "H_0: Средние пользовательские рейтинги жанров Action и Sports не равны\n",
    "\n",
    "H_1: Средние пользовательские рейтинги жанров Action и Sports равны"
   ]
  },
  {
   "cell_type": "code",
   "execution_count": null,
   "metadata": {},
   "outputs": [],
   "source": [
    "action_user_score = report.query('genre == \"Action\"')['user_score']\n",
    "sports_user_score = report.query('genre == \"Sports\"')['user_score']\n",
    "\n",
    "alpha = .05\n",
    "\n",
    "results = st.ttest_ind(\n",
    "    action_user_score, \n",
    "    sports_user_score,\n",
    "    equal_var=False\n",
    ")\n",
    "\n",
    "print('p-значение:', results.pvalue)\n",
    "\n",
    "if results.pvalue < alpha:\n",
    "    print('Отвергаем нулевую гипотезу')\n",
    "else:\n",
    "    print('Не отвергаем нулевую гипотезу')"
   ]
  },
  {
   "cell_type": "markdown",
   "metadata": {},
   "source": [
    "Как вы сформулировали нулевую и альтернативную гипотезы\n",
    "1. В первой задаче нам необходимо проверить гипотезу \"Средние пользовательские рейтинги платформ Xbox One и PC одинаковые\". Значит, нулевая гипотеза будет говорить о равенстве средних пользовательских рейтингов этих платформ. Альтернативная гипотеза, наоборот, -- о неравенстве.\n",
    "2. Во второй задаче нам необходимо проверить гипотезу \"Средние пользовательские рейтинги жанров Action и Sports разные\". Значит, нулевая гипотеза будет говорить о неравенстве средних пользовательских рейтингов этих жанров. Альтернативная гипотеза, наоборот, -- о равенстве. "
   ]
  },
  {
   "cell_type": "markdown",
   "metadata": {},
   "source": [
    "Какой критерий применили для проверки гипотез и почему\n",
    "1. Для проверки гипотез было применено пороговое значение alpha в 0.05. Это одно из общепринятых значений. Если уровень значимости(pvalue) меньше alpha, то отвергаем нулевую гипотезу. То есть считаем, что эмпирически полученные данные противоречат нулевой гипотезе.\n",
    "2. Был использован такой критерий, потому что уровень значимости статистического теста показывает вероятность ошибки первого рода(ложноположительного решения, false positive), то есть вероятность отклонить нулевую гипотезу, когда на самом деле она верна."
   ]
  },
  {
   "cell_type": "markdown",
   "metadata": {},
   "source": [
    "## Общий вывод"
   ]
  },
  {
   "cell_type": "markdown",
   "metadata": {},
   "source": [
    "В ходе исследования была проведена следующая работа:\n",
    "\n",
    "1. Изучена общая информация из полученного файла с данными.\n",
    "2. Подготовлены данные для исследования:\n",
    "- заменены названия столбцов(приведение к нижнему регистру)\n",
    "- изменены типы данных: year_of_release -- поменяли тип с float64 на int64; user_score -- поменяли тип с object на float64\n",
    "- обработаны пропуски в столбцах: name, year_of_release, genre -- удалены; critic_score, user_score, rating -- изучены и оставлены\n",
    "- заменено значение 'tbd'(to be determined) в столбце user_score на значение None\n",
    "- прозведен расчет суммарных продаж\n",
    "3. Осуществлен исследовательский анализ данных:\n",
    "- изучено, сколько игр выпускалось в разные годы\n",
    "- выяснено, как менялись продажи по платформам: построено распределение по годам и определено, за какой характерный срок появляются новые и исчезают старые платформы\n",
    "- определен актуальный период, по которому можно строить прогнозы на будущее, и проведен анализ платформ по продажам\n",
    "- построен график «ящик с усами» по глобальным продажам игр в разбивке по платформам\n",
    "- определено влияние на продажи внутри одной популярной платформы отзывов пользователей и критиков: построена диаграмма рассеяния и посчитана корреляция между отзывами и продажами\n",
    "- исследованы жанры игр: построено распределение игр по жанрам, определены самые прибыльные жанры, выделены жанры с высокими и низкими продажами\n",
    "4. Составлен портрет пользователя каждого региона(Северная Америка, Европа, Япония):\n",
    "- определены самые популярные платформы(топ-5)\n",
    "- определены самые популярные жанры(топ-5)\n",
    "- выяснено, влияет ли рейтинг ESRB на продажи в отдельном регионе\n",
    "5. Проверены гипотезы:\n",
    "- Первая гипотеза: средние пользовательские рейтинги платформ Xbox One и PC одинаковые\n",
    "- Вторая гипотеза: средние пользовательские рейтинги жанров Action и Sports разные\n",
    "\n",
    "Наблюдения:\n",
    "\n",
    "- за 8-12 лет, в среднем за 10 лет появляются новые и исчезают старые платформы\n",
    "- рост продаж наблюдался с 2014 по 2015 гг. у двух платформ -- PS4 и XOne , затем падение в 2015-2016 гг.\n",
    "- у остальных платформ в период с 2014 по 2016 гг. в основном наблюдается падение показателей продаж; меньше всех продажи у платформ PSP и Wii\n",
    "- потенциально прибыльные платформы: PS4 и XOne\n",
    "- глобальные продажи игр:\n",
    "1. больше всего продаж наблюдается по платформам PS3 и XOne: медиана у этих 2 платформ 100 и 57 млн. копий соответственно\n",
    "2. меньше всего продаж у платформы PSP и Wii: медианы соответственно 180000 и 1140000 копий\n",
    "- при оценке критиков больше 70 и при оценке пользователей больше 6 количество продаж заметно увеличивается по сравнению с более низкими соответствующими оценками\n",
    "- высокие продажи у жанров \"Action\" и \"Shooter\", они же являются самыми прибыльными жанрами; в данные жанры игр играют большее количество людей и их чаще покупают\n",
    "- низкие продажи у жанров \"Puzzle\" и \"Strategy\"\n",
    "- также можно предположить, что люди предпочитают более зрелищные и активные игры, чем интеллектуальные\n",
    "- самые популярные платформы(топ-5):\n",
    "1. Для Северной Америки: PS4, XOne, X360, PS3=3DS\n",
    "2. Для Европы: PS4, XOne, PS3, 3DS=PC\n",
    "3. Для Японии: 3DS, PS4, PSV, PS3, WiiU\n",
    "- самые популярные жанры(топ-5):\n",
    "1. Для Северной Америки: Shooter, Action, Sports, Role-Playing, Misc\n",
    "2. Для Европы: Action, Shooter, Sports, Role-Playing, Racing\n",
    "3. Для Японии: Role-Playing, Action, Fighting, Misc, Shooter\n",
    "- влияние рейтинга ESRB на продажи:\n",
    "1. Северная Америка: влияет; наибольшие продажи у рейтинга \"M\", наименьшие -- у \"no_rating\"\n",
    "2. Европа: влияет; наибольшие продажи у рейтинга \"M\", наименьшие -- у \"no_rating\"\n",
    "3. Япония: влияет; наибольшие продажи у рейтинга \"no_rating\", наименьшие -- у \"E\", \"E10+\", \"M\"\n",
    "- Средние пользовательские рейтинги платформ Xbox One и PC одинаковые\n",
    "- Средние пользовательские рейтинги жанров Action и Sports одинаковые"
   ]
  },
  {
   "cell_type": "markdown",
   "metadata": {},
   "source": [
    "<div class=> \n",
    "<b>Общий комментарий ревьюера </b> \n",
    "    \n",
    "Отличный проект, тобою проделана большая работа, ты молодец!\n",
    "\n",
    "Хвалю за наличие хороших промежуточных (и общего) выводов, комментариев и рассуждений - твой проект интересно проверять. Также очень хорошее оформление проекта (в том числе наличие вступления). Сделано все именно так, как требуется. По коду вопросов тоже нет.\n",
    "\n",
    "Что обязательно стоит изменить: \n",
    "    \n",
    "1. Изменить актуальный период\n",
    "2. Посмотреть наличие дубликатов\n",
    "3. Включить игры без рейтинга от ESRB в анализ.\n",
    "\n",
    "Также, я оставил некоторое количество желтых комментариев. Думаю, они будут полезны и ты также что-либо поменяешь, потому что это сделает твой проект лучше.\n",
    "\n",
    "Буду ждать доработок :)\n",
    "    \n",
    "Удачи!"
   ]
  }
 ],
 "metadata": {
  "ExecuteTimeLog": [
   {
    "duration": 387,
    "start_time": "2022-10-25T10:52:01.468Z"
   },
   {
    "duration": 202,
    "start_time": "2022-10-25T10:53:00.797Z"
   },
   {
    "duration": 30,
    "start_time": "2022-10-25T11:04:19.982Z"
   },
   {
    "duration": 14,
    "start_time": "2022-10-25T11:04:31.957Z"
   },
   {
    "duration": 1228,
    "start_time": "2022-10-25T11:11:09.349Z"
   },
   {
    "duration": 5,
    "start_time": "2022-10-25T11:21:50.484Z"
   },
   {
    "duration": 89,
    "start_time": "2022-10-25T11:23:35.179Z"
   },
   {
    "duration": 4,
    "start_time": "2022-10-25T11:27:45.846Z"
   },
   {
    "duration": 14,
    "start_time": "2022-10-25T11:28:27.794Z"
   },
   {
    "duration": 3,
    "start_time": "2022-10-25T11:29:57.682Z"
   },
   {
    "duration": 16,
    "start_time": "2022-10-25T11:30:00.770Z"
   },
   {
    "duration": 4,
    "start_time": "2022-10-25T11:30:12.153Z"
   },
   {
    "duration": 15,
    "start_time": "2022-10-25T11:30:14.750Z"
   },
   {
    "duration": 15,
    "start_time": "2022-10-25T11:35:08.530Z"
   },
   {
    "duration": 28,
    "start_time": "2022-10-25T11:37:29.685Z"
   },
   {
    "duration": 15,
    "start_time": "2022-10-25T12:07:36.116Z"
   },
   {
    "duration": 16,
    "start_time": "2022-10-25T12:32:18.289Z"
   },
   {
    "duration": 17,
    "start_time": "2022-10-25T12:34:31.138Z"
   },
   {
    "duration": 19,
    "start_time": "2022-10-25T12:45:37.019Z"
   },
   {
    "duration": 29,
    "start_time": "2022-10-25T13:04:25.985Z"
   },
   {
    "duration": 26,
    "start_time": "2022-10-25T14:35:10.190Z"
   },
   {
    "duration": 6,
    "start_time": "2022-10-25T15:08:55.439Z"
   },
   {
    "duration": 12,
    "start_time": "2022-10-25T15:45:07.832Z"
   },
   {
    "duration": 9,
    "start_time": "2022-10-25T15:46:18.143Z"
   },
   {
    "duration": 14,
    "start_time": "2022-10-25T15:48:31.041Z"
   },
   {
    "duration": 14,
    "start_time": "2022-10-25T15:48:45.952Z"
   },
   {
    "duration": 13,
    "start_time": "2022-10-25T15:49:54.969Z"
   },
   {
    "duration": 10,
    "start_time": "2022-10-25T16:00:24.003Z"
   },
   {
    "duration": 10,
    "start_time": "2022-10-25T16:10:23.767Z"
   },
   {
    "duration": 9,
    "start_time": "2022-10-25T16:10:29.095Z"
   },
   {
    "duration": 11,
    "start_time": "2022-10-25T16:10:31.570Z"
   },
   {
    "duration": 15,
    "start_time": "2022-10-25T16:11:33.558Z"
   },
   {
    "duration": 14,
    "start_time": "2022-10-25T16:54:32.852Z"
   },
   {
    "duration": 4,
    "start_time": "2022-10-25T17:02:49.454Z"
   },
   {
    "duration": 13,
    "start_time": "2022-10-25T17:02:52.250Z"
   },
   {
    "duration": 15,
    "start_time": "2022-10-25T17:52:21.858Z"
   },
   {
    "duration": 26,
    "start_time": "2022-10-25T17:55:23.007Z"
   },
   {
    "duration": 14,
    "start_time": "2022-10-25T18:04:55.944Z"
   },
   {
    "duration": 15,
    "start_time": "2022-10-25T18:09:38.843Z"
   },
   {
    "duration": 15,
    "start_time": "2022-10-25T18:09:53.350Z"
   },
   {
    "duration": 21,
    "start_time": "2022-10-25T18:10:58.273Z"
   },
   {
    "duration": 12,
    "start_time": "2022-10-25T19:17:48.802Z"
   },
   {
    "duration": 13,
    "start_time": "2022-10-25T19:19:37.222Z"
   },
   {
    "duration": 14,
    "start_time": "2022-10-25T19:20:25.523Z"
   },
   {
    "duration": 15,
    "start_time": "2022-10-25T19:32:21.846Z"
   },
   {
    "duration": 12,
    "start_time": "2022-10-25T19:41:15.011Z"
   },
   {
    "duration": 16,
    "start_time": "2022-10-25T19:41:27.397Z"
   },
   {
    "duration": 22,
    "start_time": "2022-10-25T19:44:08.466Z"
   },
   {
    "duration": 362,
    "start_time": "2022-10-26T03:21:32.906Z"
   },
   {
    "duration": 112,
    "start_time": "2022-10-26T03:21:35.555Z"
   },
   {
    "duration": 42,
    "start_time": "2022-10-26T03:21:39.712Z"
   },
   {
    "duration": 14,
    "start_time": "2022-10-26T03:21:44.685Z"
   },
   {
    "duration": 4,
    "start_time": "2022-10-26T03:21:56.804Z"
   },
   {
    "duration": 16,
    "start_time": "2022-10-26T03:21:59.643Z"
   },
   {
    "duration": 13,
    "start_time": "2022-10-26T03:22:05.859Z"
   },
   {
    "duration": 9,
    "start_time": "2022-10-26T03:22:10.676Z"
   },
   {
    "duration": 9,
    "start_time": "2022-10-26T03:22:14.643Z"
   },
   {
    "duration": 5,
    "start_time": "2022-10-26T03:22:19.682Z"
   },
   {
    "duration": 15,
    "start_time": "2022-10-26T03:22:37.112Z"
   },
   {
    "duration": 15,
    "start_time": "2022-10-26T03:24:10.189Z"
   },
   {
    "duration": 561,
    "start_time": "2022-10-26T03:27:35.576Z"
   },
   {
    "duration": 20,
    "start_time": "2022-10-26T04:27:51.361Z"
   },
   {
    "duration": 2,
    "start_time": "2022-10-26T04:28:46.134Z"
   },
   {
    "duration": 54,
    "start_time": "2022-10-26T04:28:48.908Z"
   },
   {
    "duration": 21,
    "start_time": "2022-10-26T04:28:53.676Z"
   },
   {
    "duration": 17,
    "start_time": "2022-10-26T04:28:58.627Z"
   },
   {
    "duration": 4,
    "start_time": "2022-10-26T04:29:03.371Z"
   },
   {
    "duration": 15,
    "start_time": "2022-10-26T04:29:05.252Z"
   },
   {
    "duration": 15,
    "start_time": "2022-10-26T04:29:09.802Z"
   },
   {
    "duration": 12,
    "start_time": "2022-10-26T04:29:12.427Z"
   },
   {
    "duration": 11,
    "start_time": "2022-10-26T04:29:16.041Z"
   },
   {
    "duration": 6,
    "start_time": "2022-10-26T04:29:19.385Z"
   },
   {
    "duration": 20,
    "start_time": "2022-10-26T04:29:23.994Z"
   },
   {
    "duration": 21,
    "start_time": "2022-10-26T04:29:35.167Z"
   },
   {
    "duration": 129,
    "start_time": "2022-10-26T04:29:48.192Z"
   },
   {
    "duration": 21,
    "start_time": "2022-10-26T04:54:52.586Z"
   },
   {
    "duration": 20,
    "start_time": "2022-10-26T04:55:05.617Z"
   },
   {
    "duration": 788,
    "start_time": "2022-10-26T04:56:39.349Z"
   },
   {
    "duration": 15,
    "start_time": "2022-10-26T04:59:51.015Z"
   },
   {
    "duration": 15,
    "start_time": "2022-10-26T05:03:25.386Z"
   },
   {
    "duration": 15,
    "start_time": "2022-10-26T05:03:35.570Z"
   },
   {
    "duration": 803,
    "start_time": "2022-10-26T05:04:33.810Z"
   },
   {
    "duration": 17,
    "start_time": "2022-10-26T05:05:37.387Z"
   },
   {
    "duration": 69,
    "start_time": "2022-10-26T05:05:46.489Z"
   },
   {
    "duration": 9,
    "start_time": "2022-10-26T05:27:03.924Z"
   },
   {
    "duration": 8,
    "start_time": "2022-10-26T05:27:08.371Z"
   },
   {
    "duration": 23,
    "start_time": "2022-10-26T05:27:21.481Z"
   },
   {
    "duration": 28,
    "start_time": "2022-10-26T05:29:13.148Z"
   },
   {
    "duration": 17,
    "start_time": "2022-10-26T05:34:06.551Z"
   },
   {
    "duration": 20,
    "start_time": "2022-10-26T05:35:57.896Z"
   },
   {
    "duration": 17,
    "start_time": "2022-10-26T05:38:14.598Z"
   },
   {
    "duration": 709,
    "start_time": "2022-10-26T05:40:12.057Z"
   },
   {
    "duration": 242,
    "start_time": "2022-10-26T06:13:11.342Z"
   },
   {
    "duration": 187,
    "start_time": "2022-10-26T06:14:27.912Z"
   },
   {
    "duration": 23,
    "start_time": "2022-10-26T06:18:37.515Z"
   },
   {
    "duration": 266,
    "start_time": "2022-10-26T06:19:49.591Z"
   },
   {
    "duration": 189,
    "start_time": "2022-10-26T06:20:29.571Z"
   },
   {
    "duration": 735,
    "start_time": "2022-10-26T06:22:43.200Z"
   },
   {
    "duration": 194,
    "start_time": "2022-10-26T06:24:35.956Z"
   },
   {
    "duration": 34,
    "start_time": "2022-10-26T06:53:05.099Z"
   },
   {
    "duration": 12,
    "start_time": "2022-10-26T06:54:02.182Z"
   },
   {
    "duration": 8,
    "start_time": "2022-10-26T07:36:12.586Z"
   },
   {
    "duration": 17,
    "start_time": "2022-10-26T07:42:02.074Z"
   },
   {
    "duration": 14,
    "start_time": "2022-10-26T07:44:34.010Z"
   },
   {
    "duration": 735,
    "start_time": "2022-10-26T07:52:44.061Z"
   },
   {
    "duration": 16,
    "start_time": "2022-10-26T07:53:25.954Z"
   },
   {
    "duration": 12,
    "start_time": "2022-10-26T07:53:56.865Z"
   },
   {
    "duration": 26,
    "start_time": "2022-10-26T07:55:43.153Z"
   },
   {
    "duration": 187,
    "start_time": "2022-10-26T08:04:03.802Z"
   },
   {
    "duration": 23,
    "start_time": "2022-10-26T08:04:18.445Z"
   },
   {
    "duration": 22,
    "start_time": "2022-10-26T08:04:45.778Z"
   },
   {
    "duration": 19,
    "start_time": "2022-10-26T08:05:31.249Z"
   },
   {
    "duration": 20,
    "start_time": "2022-10-26T08:08:53.053Z"
   },
   {
    "duration": 29,
    "start_time": "2022-10-26T08:22:08.948Z"
   },
   {
    "duration": 13,
    "start_time": "2022-10-26T09:20:56.889Z"
   },
   {
    "duration": 14,
    "start_time": "2022-10-26T09:22:50.680Z"
   },
   {
    "duration": 18,
    "start_time": "2022-10-26T09:23:16.851Z"
   },
   {
    "duration": 13,
    "start_time": "2022-10-26T09:23:36.733Z"
   },
   {
    "duration": 17,
    "start_time": "2022-10-26T09:23:52.048Z"
   },
   {
    "duration": 17,
    "start_time": "2022-10-26T09:24:05.087Z"
   },
   {
    "duration": 14,
    "start_time": "2022-10-26T09:24:38.440Z"
   },
   {
    "duration": 47,
    "start_time": "2022-10-26T10:00:32.735Z"
   },
   {
    "duration": 71,
    "start_time": "2022-10-26T10:00:40.643Z"
   },
   {
    "duration": 66,
    "start_time": "2022-10-26T10:01:37.245Z"
   },
   {
    "duration": 67,
    "start_time": "2022-10-26T10:02:36.420Z"
   },
   {
    "duration": 40,
    "start_time": "2022-10-26T10:03:53.984Z"
   },
   {
    "duration": 34,
    "start_time": "2022-10-26T10:04:00.463Z"
   },
   {
    "duration": 30,
    "start_time": "2022-10-26T10:04:39.075Z"
   },
   {
    "duration": 44,
    "start_time": "2022-10-26T10:05:11.471Z"
   },
   {
    "duration": 24,
    "start_time": "2022-10-26T10:08:05.942Z"
   },
   {
    "duration": 8,
    "start_time": "2022-10-26T10:36:12.024Z"
   },
   {
    "duration": 13,
    "start_time": "2022-10-26T10:36:22.555Z"
   },
   {
    "duration": 4,
    "start_time": "2022-10-26T10:39:33.824Z"
   },
   {
    "duration": 18,
    "start_time": "2022-10-26T10:41:17.481Z"
   },
   {
    "duration": 24,
    "start_time": "2022-10-26T10:42:34.802Z"
   },
   {
    "duration": 5,
    "start_time": "2022-10-26T10:42:49.348Z"
   },
   {
    "duration": 16,
    "start_time": "2022-10-26T10:43:03.095Z"
   },
   {
    "duration": 777,
    "start_time": "2022-10-26T10:44:35.353Z"
   },
   {
    "duration": 14,
    "start_time": "2022-10-26T10:46:01.748Z"
   },
   {
    "duration": 6,
    "start_time": "2022-10-26T10:46:10.005Z"
   },
   {
    "duration": 33,
    "start_time": "2022-10-26T10:46:52.386Z"
   },
   {
    "duration": 15,
    "start_time": "2022-10-26T12:04:13.257Z"
   },
   {
    "duration": 83,
    "start_time": "2022-10-26T12:11:14.397Z"
   },
   {
    "duration": 806,
    "start_time": "2022-10-26T12:13:50.122Z"
   },
   {
    "duration": 4,
    "start_time": "2022-10-26T12:14:41.210Z"
   },
   {
    "duration": 747,
    "start_time": "2022-10-26T12:14:58.192Z"
   },
   {
    "duration": 16,
    "start_time": "2022-10-26T12:17:26.774Z"
   },
   {
    "duration": 950,
    "start_time": "2022-10-26T12:18:31.443Z"
   },
   {
    "duration": 5,
    "start_time": "2022-10-26T12:18:40.715Z"
   },
   {
    "duration": 969,
    "start_time": "2022-10-26T12:19:24.480Z"
   },
   {
    "duration": 42,
    "start_time": "2022-10-26T12:21:41.124Z"
   },
   {
    "duration": 48,
    "start_time": "2022-10-26T12:21:55.320Z"
   },
   {
    "duration": 44,
    "start_time": "2022-10-26T12:22:31.310Z"
   },
   {
    "duration": 739,
    "start_time": "2022-10-26T12:22:54.768Z"
   },
   {
    "duration": 14,
    "start_time": "2022-10-26T12:34:59.704Z"
   },
   {
    "duration": 31,
    "start_time": "2022-10-26T12:35:09.708Z"
   },
   {
    "duration": 220,
    "start_time": "2022-10-26T12:37:04.093Z"
   },
   {
    "duration": 214,
    "start_time": "2022-10-26T12:40:17.536Z"
   },
   {
    "duration": 224,
    "start_time": "2022-10-26T12:40:27.795Z"
   },
   {
    "duration": 224,
    "start_time": "2022-10-26T12:40:35.843Z"
   },
   {
    "duration": 230,
    "start_time": "2022-10-26T12:40:45.016Z"
   },
   {
    "duration": 284,
    "start_time": "2022-10-26T12:41:01.473Z"
   },
   {
    "duration": 243,
    "start_time": "2022-10-26T12:41:16.365Z"
   },
   {
    "duration": 261,
    "start_time": "2022-10-26T12:41:25.413Z"
   },
   {
    "duration": 234,
    "start_time": "2022-10-26T12:41:36.052Z"
   },
   {
    "duration": 221,
    "start_time": "2022-10-26T12:41:43.273Z"
   },
   {
    "duration": 224,
    "start_time": "2022-10-26T12:41:53.857Z"
   },
   {
    "duration": 233,
    "start_time": "2022-10-26T12:42:15.330Z"
   },
   {
    "duration": 278,
    "start_time": "2022-10-26T12:42:31.284Z"
   },
   {
    "duration": 241,
    "start_time": "2022-10-26T12:42:40.846Z"
   },
   {
    "duration": 12,
    "start_time": "2022-10-26T12:44:27.135Z"
   },
   {
    "duration": 5,
    "start_time": "2022-10-26T12:44:32.292Z"
   },
   {
    "duration": 33,
    "start_time": "2022-10-26T12:44:54.781Z"
   },
   {
    "duration": 301,
    "start_time": "2022-10-26T12:45:41.419Z"
   },
   {
    "duration": 1141,
    "start_time": "2022-10-26T12:52:40.955Z"
   },
   {
    "duration": 598,
    "start_time": "2022-10-26T12:53:05.719Z"
   },
   {
    "duration": 615,
    "start_time": "2022-10-26T12:54:24.643Z"
   },
   {
    "duration": 12,
    "start_time": "2022-10-26T14:19:21.954Z"
   },
   {
    "duration": 4,
    "start_time": "2022-10-26T14:19:26.002Z"
   },
   {
    "duration": 52,
    "start_time": "2022-10-26T14:19:29.582Z"
   },
   {
    "duration": 322,
    "start_time": "2022-10-26T14:19:34.991Z"
   },
   {
    "duration": 13,
    "start_time": "2022-10-26T14:19:58.756Z"
   },
   {
    "duration": 5,
    "start_time": "2022-10-26T14:20:02.644Z"
   },
   {
    "duration": 41,
    "start_time": "2022-10-26T14:20:06.479Z"
   },
   {
    "duration": 258,
    "start_time": "2022-10-26T14:20:13.091Z"
   },
   {
    "duration": 17,
    "start_time": "2022-10-26T14:29:58.353Z"
   },
   {
    "duration": 11,
    "start_time": "2022-10-26T14:32:17.934Z"
   },
   {
    "duration": 8,
    "start_time": "2022-10-26T14:32:51.569Z"
   },
   {
    "duration": 3,
    "start_time": "2022-10-26T14:52:20.959Z"
   },
   {
    "duration": 53,
    "start_time": "2022-10-26T14:52:24.900Z"
   },
   {
    "duration": 22,
    "start_time": "2022-10-26T14:52:27.024Z"
   },
   {
    "duration": 14,
    "start_time": "2022-10-26T14:52:35.775Z"
   },
   {
    "duration": 3,
    "start_time": "2022-10-26T14:52:42.331Z"
   },
   {
    "duration": 24,
    "start_time": "2022-10-26T14:52:44.272Z"
   },
   {
    "duration": 17,
    "start_time": "2022-10-26T14:52:49.696Z"
   },
   {
    "duration": 13,
    "start_time": "2022-10-26T14:52:52.879Z"
   },
   {
    "duration": 12,
    "start_time": "2022-10-26T14:52:56.223Z"
   },
   {
    "duration": 7,
    "start_time": "2022-10-26T14:53:00.057Z"
   },
   {
    "duration": 183,
    "start_time": "2022-10-26T14:53:04.275Z"
   },
   {
    "duration": 15,
    "start_time": "2022-10-26T14:53:10.483Z"
   },
   {
    "duration": 5,
    "start_time": "2022-10-26T14:53:17.573Z"
   },
   {
    "duration": 62,
    "start_time": "2022-10-26T14:53:21.623Z"
   },
   {
    "duration": 275,
    "start_time": "2022-10-26T14:53:28.994Z"
   },
   {
    "duration": 555,
    "start_time": "2022-10-26T14:55:29.491Z"
   },
   {
    "duration": 329,
    "start_time": "2022-10-26T15:07:07.606Z"
   },
   {
    "duration": 319,
    "start_time": "2022-10-26T15:07:34.862Z"
   },
   {
    "duration": 311,
    "start_time": "2022-10-26T15:07:43.913Z"
   },
   {
    "duration": 327,
    "start_time": "2022-10-26T15:07:51.717Z"
   },
   {
    "duration": 317,
    "start_time": "2022-10-26T15:08:00.261Z"
   },
   {
    "duration": 317,
    "start_time": "2022-10-26T15:08:08.832Z"
   },
   {
    "duration": 264,
    "start_time": "2022-10-26T18:24:41.853Z"
   },
   {
    "duration": 114,
    "start_time": "2022-10-26T18:26:25.669Z"
   },
   {
    "duration": 323,
    "start_time": "2022-10-26T18:32:40.714Z"
   },
   {
    "duration": 516,
    "start_time": "2022-10-26T19:04:48.087Z"
   },
   {
    "duration": 559,
    "start_time": "2022-10-26T19:09:59.574Z"
   },
   {
    "duration": 1198,
    "start_time": "2022-10-26T19:10:21.242Z"
   },
   {
    "duration": 575,
    "start_time": "2022-10-26T19:10:31.175Z"
   },
   {
    "duration": 534,
    "start_time": "2022-10-26T19:10:45.246Z"
   },
   {
    "duration": 615,
    "start_time": "2022-10-26T19:17:55.929Z"
   },
   {
    "duration": 635,
    "start_time": "2022-10-26T19:21:36.887Z"
   },
   {
    "duration": 632,
    "start_time": "2022-10-26T19:21:52.945Z"
   },
   {
    "duration": 432,
    "start_time": "2022-10-27T04:29:44.080Z"
   },
   {
    "duration": 179,
    "start_time": "2022-10-27T04:29:47.363Z"
   },
   {
    "duration": 24,
    "start_time": "2022-10-27T04:29:50.853Z"
   },
   {
    "duration": 13,
    "start_time": "2022-10-27T04:29:54.371Z"
   },
   {
    "duration": 3,
    "start_time": "2022-10-27T04:29:57.307Z"
   },
   {
    "duration": 13,
    "start_time": "2022-10-27T04:29:59.306Z"
   },
   {
    "duration": 12,
    "start_time": "2022-10-27T04:30:02.369Z"
   },
   {
    "duration": 9,
    "start_time": "2022-10-27T04:30:05.824Z"
   },
   {
    "duration": 8,
    "start_time": "2022-10-27T04:30:08.915Z"
   },
   {
    "duration": 5,
    "start_time": "2022-10-27T04:30:12.024Z"
   },
   {
    "duration": 632,
    "start_time": "2022-10-27T04:30:15.149Z"
   },
   {
    "duration": 11,
    "start_time": "2022-10-27T04:30:19.554Z"
   },
   {
    "duration": 4,
    "start_time": "2022-10-27T04:30:22.872Z"
   },
   {
    "duration": 54,
    "start_time": "2022-10-27T04:30:25.179Z"
   },
   {
    "duration": 345,
    "start_time": "2022-10-27T04:30:30.943Z"
   },
   {
    "duration": 340,
    "start_time": "2022-10-27T04:30:39.651Z"
   },
   {
    "duration": 690,
    "start_time": "2022-10-27T04:30:49.117Z"
   },
   {
    "duration": 87,
    "start_time": "2022-10-27T04:41:23.289Z"
   },
   {
    "duration": 13,
    "start_time": "2022-10-27T04:42:20.056Z"
   },
   {
    "duration": 245,
    "start_time": "2022-10-27T04:52:06.708Z"
   },
   {
    "duration": 278,
    "start_time": "2022-10-27T04:53:40.795Z"
   },
   {
    "duration": 271,
    "start_time": "2022-10-27T04:53:56.080Z"
   },
   {
    "duration": 273,
    "start_time": "2022-10-27T04:56:14.395Z"
   },
   {
    "duration": 347,
    "start_time": "2022-10-27T04:56:29.097Z"
   },
   {
    "duration": 278,
    "start_time": "2022-10-27T04:56:40.797Z"
   },
   {
    "duration": 286,
    "start_time": "2022-10-27T04:56:49.909Z"
   },
   {
    "duration": 299,
    "start_time": "2022-10-27T04:56:57.970Z"
   },
   {
    "duration": 420,
    "start_time": "2022-10-27T04:57:42.759Z"
   },
   {
    "duration": 397,
    "start_time": "2022-10-27T04:58:01.327Z"
   },
   {
    "duration": 342,
    "start_time": "2022-10-27T05:48:24.530Z"
   },
   {
    "duration": 313,
    "start_time": "2022-10-27T05:48:45.440Z"
   },
   {
    "duration": 327,
    "start_time": "2022-10-27T05:50:44.809Z"
   },
   {
    "duration": 327,
    "start_time": "2022-10-27T05:50:53.667Z"
   },
   {
    "duration": 291,
    "start_time": "2022-10-27T05:51:11.050Z"
   },
   {
    "duration": 47,
    "start_time": "2022-10-27T06:04:21.794Z"
   },
   {
    "duration": 435,
    "start_time": "2022-10-27T06:35:57.232Z"
   },
   {
    "duration": 49,
    "start_time": "2022-10-27T06:36:01.877Z"
   },
   {
    "duration": 19,
    "start_time": "2022-10-27T07:32:07.209Z"
   },
   {
    "duration": 8,
    "start_time": "2022-10-27T07:35:26.816Z"
   },
   {
    "duration": 26,
    "start_time": "2022-10-27T07:35:30.969Z"
   },
   {
    "duration": 6,
    "start_time": "2022-10-27T07:35:46.346Z"
   },
   {
    "duration": 19,
    "start_time": "2022-10-27T07:35:50.421Z"
   },
   {
    "duration": 133,
    "start_time": "2022-10-27T07:38:03.299Z"
   },
   {
    "duration": 131,
    "start_time": "2022-10-27T07:40:54.632Z"
   },
   {
    "duration": 162,
    "start_time": "2022-10-27T07:41:07.548Z"
   },
   {
    "duration": 167,
    "start_time": "2022-10-27T07:41:15.476Z"
   },
   {
    "duration": 163,
    "start_time": "2022-10-27T07:41:24.078Z"
   },
   {
    "duration": 184,
    "start_time": "2022-10-27T07:41:42.114Z"
   },
   {
    "duration": 204,
    "start_time": "2022-10-27T07:41:50.317Z"
   },
   {
    "duration": 176,
    "start_time": "2022-10-27T07:42:00.087Z"
   },
   {
    "duration": 156,
    "start_time": "2022-10-27T07:42:07.207Z"
   },
   {
    "duration": 190,
    "start_time": "2022-10-27T07:45:59.081Z"
   },
   {
    "duration": 205,
    "start_time": "2022-10-27T07:46:31.157Z"
   },
   {
    "duration": 198,
    "start_time": "2022-10-27T07:51:06.057Z"
   },
   {
    "duration": 161,
    "start_time": "2022-10-27T07:52:30.675Z"
   },
   {
    "duration": 203,
    "start_time": "2022-10-27T07:54:58.433Z"
   },
   {
    "duration": 184,
    "start_time": "2022-10-27T07:55:50.889Z"
   },
   {
    "duration": 190,
    "start_time": "2022-10-27T07:55:58.886Z"
   },
   {
    "duration": 6,
    "start_time": "2022-10-27T07:58:39.944Z"
   },
   {
    "duration": 10,
    "start_time": "2022-10-27T07:58:50.999Z"
   },
   {
    "duration": 5,
    "start_time": "2022-10-27T07:58:55.019Z"
   },
   {
    "duration": 6,
    "start_time": "2022-10-27T08:33:25.016Z"
   },
   {
    "duration": 34,
    "start_time": "2022-10-27T08:33:36.761Z"
   },
   {
    "duration": 8,
    "start_time": "2022-10-27T08:35:14.755Z"
   },
   {
    "duration": 6,
    "start_time": "2022-10-27T08:35:25.035Z"
   },
   {
    "duration": 5,
    "start_time": "2022-10-27T08:36:28.956Z"
   },
   {
    "duration": 5,
    "start_time": "2022-10-27T08:36:49.345Z"
   },
   {
    "duration": 12,
    "start_time": "2022-10-27T08:37:59.102Z"
   },
   {
    "duration": 260,
    "start_time": "2022-10-27T08:40:16.761Z"
   },
   {
    "duration": 227,
    "start_time": "2022-10-27T08:41:13.488Z"
   },
   {
    "duration": 212,
    "start_time": "2022-10-27T08:42:18.328Z"
   },
   {
    "duration": 247,
    "start_time": "2022-10-27T08:42:46.729Z"
   },
   {
    "duration": 7,
    "start_time": "2022-10-27T08:43:18.307Z"
   },
   {
    "duration": 6,
    "start_time": "2022-10-27T08:43:20.412Z"
   },
   {
    "duration": 6,
    "start_time": "2022-10-27T08:44:05.320Z"
   },
   {
    "duration": 237,
    "start_time": "2022-10-27T08:45:34.511Z"
   },
   {
    "duration": 203,
    "start_time": "2022-10-27T08:46:34.680Z"
   },
   {
    "duration": 5,
    "start_time": "2022-10-27T08:47:04.315Z"
   },
   {
    "duration": 5,
    "start_time": "2022-10-27T08:47:22.084Z"
   },
   {
    "duration": 13,
    "start_time": "2022-10-27T10:38:12.395Z"
   },
   {
    "duration": 21,
    "start_time": "2022-10-27T10:44:47.254Z"
   },
   {
    "duration": 15,
    "start_time": "2022-10-27T10:46:09.637Z"
   },
   {
    "duration": 2584,
    "start_time": "2022-10-27T10:47:16.763Z"
   },
   {
    "duration": 16,
    "start_time": "2022-10-27T10:51:00.691Z"
   },
   {
    "duration": 45,
    "start_time": "2022-10-27T10:59:40.278Z"
   },
   {
    "duration": 15,
    "start_time": "2022-10-27T11:00:04.245Z"
   },
   {
    "duration": 11,
    "start_time": "2022-10-27T11:00:22.108Z"
   },
   {
    "duration": 22,
    "start_time": "2022-10-27T11:01:44.390Z"
   },
   {
    "duration": 19,
    "start_time": "2022-10-27T11:03:06.759Z"
   },
   {
    "duration": 14,
    "start_time": "2022-10-27T11:03:19.068Z"
   },
   {
    "duration": 15,
    "start_time": "2022-10-27T11:09:05.904Z"
   },
   {
    "duration": 299,
    "start_time": "2022-10-27T11:11:32.744Z"
   },
   {
    "duration": 334,
    "start_time": "2022-10-27T11:12:02.343Z"
   },
   {
    "duration": 323,
    "start_time": "2022-10-27T11:12:10.335Z"
   },
   {
    "duration": 291,
    "start_time": "2022-10-27T11:12:20.753Z"
   },
   {
    "duration": 323,
    "start_time": "2022-10-27T11:12:25.999Z"
   },
   {
    "duration": 352,
    "start_time": "2022-10-27T11:12:36.225Z"
   },
   {
    "duration": 330,
    "start_time": "2022-10-27T11:12:52.529Z"
   },
   {
    "duration": 355,
    "start_time": "2022-10-27T11:13:09.061Z"
   },
   {
    "duration": 372,
    "start_time": "2022-10-27T11:13:20.468Z"
   },
   {
    "duration": 321,
    "start_time": "2022-10-27T11:13:39.081Z"
   },
   {
    "duration": 340,
    "start_time": "2022-10-27T11:13:47.874Z"
   },
   {
    "duration": 324,
    "start_time": "2022-10-27T11:13:57.456Z"
   },
   {
    "duration": 305,
    "start_time": "2022-10-27T11:14:10.281Z"
   },
   {
    "duration": 346,
    "start_time": "2022-10-27T11:14:19.490Z"
   },
   {
    "duration": 517,
    "start_time": "2022-10-27T11:14:29.239Z"
   },
   {
    "duration": 365,
    "start_time": "2022-10-27T11:14:38.694Z"
   },
   {
    "duration": 365,
    "start_time": "2022-10-27T11:14:50.809Z"
   },
   {
    "duration": 456,
    "start_time": "2022-10-27T11:17:23.998Z"
   },
   {
    "duration": 452,
    "start_time": "2022-10-27T11:17:57.022Z"
   },
   {
    "duration": 426,
    "start_time": "2022-10-27T11:20:04.776Z"
   },
   {
    "duration": 327,
    "start_time": "2022-10-27T11:20:55.785Z"
   },
   {
    "duration": 328,
    "start_time": "2022-10-27T11:23:38.781Z"
   },
   {
    "duration": 16,
    "start_time": "2022-10-27T12:19:16.338Z"
   },
   {
    "duration": 22,
    "start_time": "2022-10-27T12:30:03.187Z"
   },
   {
    "duration": 18,
    "start_time": "2022-10-27T12:35:20.177Z"
   },
   {
    "duration": 7,
    "start_time": "2022-10-27T12:35:39.120Z"
   },
   {
    "duration": 356,
    "start_time": "2022-10-27T12:35:54.814Z"
   },
   {
    "duration": 447,
    "start_time": "2022-10-27T12:36:26.492Z"
   },
   {
    "duration": 298,
    "start_time": "2022-10-27T12:45:12.816Z"
   },
   {
    "duration": 322,
    "start_time": "2022-10-27T12:45:38.741Z"
   },
   {
    "duration": 75,
    "start_time": "2022-10-27T12:46:58.921Z"
   },
   {
    "duration": 212,
    "start_time": "2022-10-27T12:47:04.926Z"
   },
   {
    "duration": 15,
    "start_time": "2022-10-27T12:47:50.712Z"
   },
   {
    "duration": 15,
    "start_time": "2022-10-27T12:48:25.513Z"
   },
   {
    "duration": 323,
    "start_time": "2022-10-27T12:48:43.853Z"
   },
   {
    "duration": 200,
    "start_time": "2022-10-27T12:49:00.116Z"
   },
   {
    "duration": 216,
    "start_time": "2022-10-27T12:51:26.306Z"
   },
   {
    "duration": 219,
    "start_time": "2022-10-27T12:51:30.318Z"
   },
   {
    "duration": 162,
    "start_time": "2022-10-27T13:22:27.504Z"
   },
   {
    "duration": 167,
    "start_time": "2022-10-27T13:22:38.401Z"
   },
   {
    "duration": 167,
    "start_time": "2022-10-27T13:22:50.276Z"
   },
   {
    "duration": 156,
    "start_time": "2022-10-27T13:28:14.310Z"
   },
   {
    "duration": 173,
    "start_time": "2022-10-27T13:28:26.082Z"
   },
   {
    "duration": 158,
    "start_time": "2022-10-27T13:28:35.976Z"
   },
   {
    "duration": 15,
    "start_time": "2022-10-27T13:36:01.963Z"
   },
   {
    "duration": 7,
    "start_time": "2022-10-27T13:36:54.621Z"
   },
   {
    "duration": 112,
    "start_time": "2022-10-27T13:44:53.411Z"
   },
   {
    "duration": 136,
    "start_time": "2022-10-27T13:45:10.824Z"
   },
   {
    "duration": 135,
    "start_time": "2022-10-27T13:45:53.613Z"
   },
   {
    "duration": 353,
    "start_time": "2022-10-27T13:46:03.873Z"
   },
   {
    "duration": 175,
    "start_time": "2022-10-27T13:46:16.196Z"
   },
   {
    "duration": 152,
    "start_time": "2022-10-27T13:46:25.864Z"
   },
   {
    "duration": 159,
    "start_time": "2022-10-27T13:48:38.134Z"
   },
   {
    "duration": 147,
    "start_time": "2022-10-27T13:48:55.512Z"
   },
   {
    "duration": 435,
    "start_time": "2022-10-27T14:34:14.687Z"
   },
   {
    "duration": 6,
    "start_time": "2022-10-27T14:35:40.828Z"
   },
   {
    "duration": 14,
    "start_time": "2022-10-27T15:04:23.776Z"
   },
   {
    "duration": 8,
    "start_time": "2022-10-27T15:08:36.855Z"
   },
   {
    "duration": 5,
    "start_time": "2022-10-27T15:09:16.533Z"
   },
   {
    "duration": 5,
    "start_time": "2022-10-27T15:10:50.596Z"
   },
   {
    "duration": 61,
    "start_time": "2022-10-27T15:14:56.673Z"
   },
   {
    "duration": 45,
    "start_time": "2022-10-27T15:15:55.377Z"
   },
   {
    "duration": 13,
    "start_time": "2022-10-27T15:17:13.648Z"
   },
   {
    "duration": 4,
    "start_time": "2022-10-27T15:19:53.151Z"
   },
   {
    "duration": 12,
    "start_time": "2022-10-27T15:21:38.016Z"
   },
   {
    "duration": 75,
    "start_time": "2022-10-27T17:37:49.747Z"
   },
   {
    "duration": 414,
    "start_time": "2022-10-27T17:46:27.294Z"
   },
   {
    "duration": 180,
    "start_time": "2022-10-27T17:46:27.710Z"
   },
   {
    "duration": 32,
    "start_time": "2022-10-27T17:46:27.891Z"
   },
   {
    "duration": 16,
    "start_time": "2022-10-27T17:46:27.925Z"
   },
   {
    "duration": 3,
    "start_time": "2022-10-27T17:46:27.943Z"
   },
   {
    "duration": 21,
    "start_time": "2022-10-27T17:46:27.948Z"
   },
   {
    "duration": 14,
    "start_time": "2022-10-27T17:46:27.991Z"
   },
   {
    "duration": 10,
    "start_time": "2022-10-27T17:46:28.007Z"
   },
   {
    "duration": 11,
    "start_time": "2022-10-27T17:46:28.019Z"
   },
   {
    "duration": 7,
    "start_time": "2022-10-27T17:46:28.033Z"
   },
   {
    "duration": 625,
    "start_time": "2022-10-27T17:46:28.042Z"
   },
   {
    "duration": 24,
    "start_time": "2022-10-27T17:46:28.669Z"
   },
   {
    "duration": 4,
    "start_time": "2022-10-27T17:46:28.695Z"
   },
   {
    "duration": 40,
    "start_time": "2022-10-27T17:46:28.701Z"
   },
   {
    "duration": 300,
    "start_time": "2022-10-27T17:46:28.743Z"
   },
   {
    "duration": 316,
    "start_time": "2022-10-27T17:46:29.045Z"
   },
   {
    "duration": 377,
    "start_time": "2022-10-27T17:46:29.363Z"
   },
   {
    "duration": 51,
    "start_time": "2022-10-27T17:46:29.741Z"
   },
   {
    "duration": 5,
    "start_time": "2022-10-27T17:46:29.794Z"
   },
   {
    "duration": 193,
    "start_time": "2022-10-27T17:46:29.800Z"
   },
   {
    "duration": 196,
    "start_time": "2022-10-27T17:46:29.995Z"
   },
   {
    "duration": 5,
    "start_time": "2022-10-27T17:46:30.193Z"
   },
   {
    "duration": 15,
    "start_time": "2022-10-27T17:46:30.200Z"
   },
   {
    "duration": 16,
    "start_time": "2022-10-27T17:46:30.216Z"
   },
   {
    "duration": 217,
    "start_time": "2022-10-27T17:46:30.234Z"
   },
   {
    "duration": 207,
    "start_time": "2022-10-27T17:46:30.453Z"
   },
   {
    "duration": 6,
    "start_time": "2022-10-27T17:46:30.661Z"
   },
   {
    "duration": 22,
    "start_time": "2022-10-27T17:46:30.670Z"
   },
   {
    "duration": 17,
    "start_time": "2022-10-27T17:46:30.693Z"
   },
   {
    "duration": 215,
    "start_time": "2022-10-27T17:46:30.711Z"
   },
   {
    "duration": 219,
    "start_time": "2022-10-27T17:46:30.928Z"
   },
   {
    "duration": 6,
    "start_time": "2022-10-27T17:46:31.149Z"
   },
   {
    "duration": 31,
    "start_time": "2022-10-27T17:46:31.156Z"
   },
   {
    "duration": 32,
    "start_time": "2022-10-27T17:46:31.190Z"
   },
   {
    "duration": 352,
    "start_time": "2022-10-27T17:46:31.224Z"
   },
   {
    "duration": 343,
    "start_time": "2022-10-27T17:46:31.578Z"
   },
   {
    "duration": 200,
    "start_time": "2022-10-27T17:46:31.922Z"
   },
   {
    "duration": 198,
    "start_time": "2022-10-27T17:46:32.125Z"
   },
   {
    "duration": 277,
    "start_time": "2022-10-27T17:46:32.324Z"
   },
   {
    "duration": 160,
    "start_time": "2022-10-27T17:46:32.603Z"
   },
   {
    "duration": 168,
    "start_time": "2022-10-27T17:46:32.764Z"
   },
   {
    "duration": 172,
    "start_time": "2022-10-27T17:46:32.934Z"
   },
   {
    "duration": 144,
    "start_time": "2022-10-27T17:46:33.108Z"
   },
   {
    "duration": 162,
    "start_time": "2022-10-27T17:46:33.253Z"
   },
   {
    "duration": 146,
    "start_time": "2022-10-27T17:46:33.417Z"
   },
   {
    "duration": 511,
    "start_time": "2022-10-27T17:46:33.565Z"
   },
   {
    "duration": 18,
    "start_time": "2022-10-27T17:46:34.077Z"
   },
   {
    "duration": 10,
    "start_time": "2022-10-27T17:46:34.097Z"
   },
   {
    "duration": 145,
    "start_time": "2022-10-27T17:47:43.864Z"
   },
   {
    "duration": 132,
    "start_time": "2022-10-27T17:48:03.464Z"
   },
   {
    "duration": 92,
    "start_time": "2022-10-27T17:48:07.545Z"
   },
   {
    "duration": 15,
    "start_time": "2022-10-27T17:48:16.986Z"
   },
   {
    "duration": 14,
    "start_time": "2022-10-27T17:48:26.764Z"
   },
   {
    "duration": 154,
    "start_time": "2022-10-27T17:48:51.425Z"
   },
   {
    "duration": 150,
    "start_time": "2022-10-27T17:49:07.705Z"
   },
   {
    "duration": 134,
    "start_time": "2022-10-27T17:49:13.938Z"
   },
   {
    "duration": 145,
    "start_time": "2022-10-27T17:51:14.562Z"
   },
   {
    "duration": 137,
    "start_time": "2022-10-27T17:51:21.884Z"
   },
   {
    "duration": 409,
    "start_time": "2022-10-27T18:28:32.417Z"
   },
   {
    "duration": 99,
    "start_time": "2022-10-27T18:28:34.939Z"
   },
   {
    "duration": 29,
    "start_time": "2022-10-27T18:28:39.773Z"
   },
   {
    "duration": 15,
    "start_time": "2022-10-27T18:28:44.409Z"
   },
   {
    "duration": 4,
    "start_time": "2022-10-27T18:28:48.209Z"
   },
   {
    "duration": 21,
    "start_time": "2022-10-27T18:28:50.265Z"
   },
   {
    "duration": 18,
    "start_time": "2022-10-27T18:28:55.570Z"
   },
   {
    "duration": 15,
    "start_time": "2022-10-27T18:29:08.448Z"
   },
   {
    "duration": 12,
    "start_time": "2022-10-27T18:29:11.821Z"
   },
   {
    "duration": 22,
    "start_time": "2022-10-27T18:39:12.244Z"
   },
   {
    "duration": 19,
    "start_time": "2022-10-27T18:39:26.050Z"
   },
   {
    "duration": 6,
    "start_time": "2022-10-27T18:44:38.006Z"
   },
   {
    "duration": 5,
    "start_time": "2022-10-27T18:50:05.366Z"
   },
   {
    "duration": 605,
    "start_time": "2022-10-27T18:51:58.450Z"
   },
   {
    "duration": 13,
    "start_time": "2022-10-27T18:52:04.338Z"
   },
   {
    "duration": 5,
    "start_time": "2022-10-27T18:52:08.800Z"
   },
   {
    "duration": 55,
    "start_time": "2022-10-27T18:53:21.952Z"
   },
   {
    "duration": 308,
    "start_time": "2022-10-27T18:53:29.741Z"
   },
   {
    "duration": 4,
    "start_time": "2022-10-27T19:47:27.560Z"
   },
   {
    "duration": 584,
    "start_time": "2022-10-27T19:47:32.388Z"
   },
   {
    "duration": 447,
    "start_time": "2022-10-27T19:50:24.677Z"
   },
   {
    "duration": 442,
    "start_time": "2022-10-27T20:01:03.015Z"
   },
   {
    "duration": 421,
    "start_time": "2022-10-27T20:01:14.690Z"
   },
   {
    "duration": 448,
    "start_time": "2022-10-27T20:02:46.397Z"
   },
   {
    "duration": 417,
    "start_time": "2022-10-28T05:47:58.476Z"
   },
   {
    "duration": 192,
    "start_time": "2022-10-28T05:48:01.139Z"
   },
   {
    "duration": 28,
    "start_time": "2022-10-28T05:48:03.089Z"
   },
   {
    "duration": 15,
    "start_time": "2022-10-28T05:48:07.401Z"
   },
   {
    "duration": 3,
    "start_time": "2022-10-28T05:48:11.337Z"
   },
   {
    "duration": 13,
    "start_time": "2022-10-28T05:48:13.352Z"
   },
   {
    "duration": 14,
    "start_time": "2022-10-28T05:48:17.024Z"
   },
   {
    "duration": 10,
    "start_time": "2022-10-28T05:48:21.065Z"
   },
   {
    "duration": 9,
    "start_time": "2022-10-28T05:48:24.087Z"
   },
   {
    "duration": 15,
    "start_time": "2022-10-28T05:48:33.601Z"
   },
   {
    "duration": 6,
    "start_time": "2022-10-28T05:48:43.816Z"
   },
   {
    "duration": 625,
    "start_time": "2022-10-28T05:49:01.260Z"
   },
   {
    "duration": 13,
    "start_time": "2022-10-28T05:49:06.492Z"
   },
   {
    "duration": 4,
    "start_time": "2022-10-28T05:49:10.492Z"
   },
   {
    "duration": 37,
    "start_time": "2022-10-28T05:49:15.695Z"
   },
   {
    "duration": 343,
    "start_time": "2022-10-28T05:50:10.417Z"
   },
   {
    "duration": 296,
    "start_time": "2022-10-28T06:07:18.781Z"
   },
   {
    "duration": 277,
    "start_time": "2022-10-28T06:08:48.408Z"
   },
   {
    "duration": 423,
    "start_time": "2022-10-28T06:09:06.451Z"
   },
   {
    "duration": 488,
    "start_time": "2022-10-28T07:00:21.244Z"
   },
   {
    "duration": 101,
    "start_time": "2022-10-28T07:01:04.837Z"
   },
   {
    "duration": 6,
    "start_time": "2022-10-28T07:06:58.993Z"
   },
   {
    "duration": 5,
    "start_time": "2022-10-28T07:08:12.661Z"
   },
   {
    "duration": 18,
    "start_time": "2022-10-28T07:08:56.756Z"
   },
   {
    "duration": 20,
    "start_time": "2022-10-28T07:09:37.173Z"
   },
   {
    "duration": 15,
    "start_time": "2022-10-28T07:09:57.504Z"
   },
   {
    "duration": 30,
    "start_time": "2022-10-28T07:14:07.590Z"
   },
   {
    "duration": 5,
    "start_time": "2022-10-28T07:14:36.423Z"
   },
   {
    "duration": 93,
    "start_time": "2022-10-28T07:14:59.134Z"
   },
   {
    "duration": 227,
    "start_time": "2022-10-28T07:15:15.459Z"
   },
   {
    "duration": 3,
    "start_time": "2022-10-28T07:21:21.158Z"
   },
   {
    "duration": 9,
    "start_time": "2022-10-28T07:21:26.642Z"
   },
   {
    "duration": 9,
    "start_time": "2022-10-28T07:21:29.974Z"
   },
   {
    "duration": 402,
    "start_time": "2022-10-28T07:21:44.605Z"
   },
   {
    "duration": 404,
    "start_time": "2022-10-28T07:22:14.494Z"
   },
   {
    "duration": 224,
    "start_time": "2022-10-28T07:22:29.828Z"
   },
   {
    "duration": 441,
    "start_time": "2022-10-28T07:23:00.620Z"
   },
   {
    "duration": 276,
    "start_time": "2022-10-28T07:23:09.287Z"
   },
   {
    "duration": 252,
    "start_time": "2022-10-28T07:23:43.800Z"
   },
   {
    "duration": 256,
    "start_time": "2022-10-28T07:23:51.636Z"
   },
   {
    "duration": 290,
    "start_time": "2022-10-28T07:24:50.283Z"
   },
   {
    "duration": 280,
    "start_time": "2022-10-28T07:25:04.920Z"
   },
   {
    "duration": 272,
    "start_time": "2022-10-28T07:25:30.373Z"
   },
   {
    "duration": 273,
    "start_time": "2022-10-28T07:25:44.307Z"
   },
   {
    "duration": 287,
    "start_time": "2022-10-28T07:25:59.446Z"
   },
   {
    "duration": 250,
    "start_time": "2022-10-28T07:26:18.491Z"
   },
   {
    "duration": 289,
    "start_time": "2022-10-28T07:31:34.403Z"
   },
   {
    "duration": 3,
    "start_time": "2022-10-28T07:33:04.525Z"
   },
   {
    "duration": 49,
    "start_time": "2022-10-28T07:33:07.384Z"
   },
   {
    "duration": 19,
    "start_time": "2022-10-28T07:33:09.395Z"
   },
   {
    "duration": 14,
    "start_time": "2022-10-28T07:33:12.744Z"
   },
   {
    "duration": 4,
    "start_time": "2022-10-28T07:33:16.451Z"
   },
   {
    "duration": 13,
    "start_time": "2022-10-28T07:33:18.377Z"
   },
   {
    "duration": 11,
    "start_time": "2022-10-28T07:33:21.133Z"
   },
   {
    "duration": 12,
    "start_time": "2022-10-28T07:33:24.478Z"
   },
   {
    "duration": 10,
    "start_time": "2022-10-28T07:33:29.368Z"
   },
   {
    "duration": 20,
    "start_time": "2022-10-28T07:33:34.472Z"
   },
   {
    "duration": 6,
    "start_time": "2022-10-28T07:33:38.252Z"
   },
   {
    "duration": 168,
    "start_time": "2022-10-28T07:33:42.037Z"
   },
   {
    "duration": 14,
    "start_time": "2022-10-28T07:33:45.713Z"
   },
   {
    "duration": 4,
    "start_time": "2022-10-28T07:33:49.244Z"
   },
   {
    "duration": 48,
    "start_time": "2022-10-28T07:33:51.103Z"
   },
   {
    "duration": 277,
    "start_time": "2022-10-28T07:33:57.731Z"
   },
   {
    "duration": 299,
    "start_time": "2022-10-28T07:34:10.775Z"
   },
   {
    "duration": 546,
    "start_time": "2022-10-28T07:34:24.666Z"
   },
   {
    "duration": 294,
    "start_time": "2022-10-28T07:40:26.055Z"
   },
   {
    "duration": 299,
    "start_time": "2022-10-28T07:40:44.380Z"
   },
   {
    "duration": 37,
    "start_time": "2022-10-28T07:41:08.884Z"
   },
   {
    "duration": 3,
    "start_time": "2022-10-28T07:42:41.895Z"
   },
   {
    "duration": 6,
    "start_time": "2022-10-28T07:42:44.320Z"
   },
   {
    "duration": 285,
    "start_time": "2022-10-28T07:42:48.736Z"
   },
   {
    "duration": 7,
    "start_time": "2022-10-28T07:49:33.722Z"
   },
   {
    "duration": 225,
    "start_time": "2022-10-28T07:49:37.253Z"
   },
   {
    "duration": 187,
    "start_time": "2022-10-28T07:49:41.789Z"
   },
   {
    "duration": 7,
    "start_time": "2022-10-28T07:49:47.441Z"
   },
   {
    "duration": 6,
    "start_time": "2022-10-28T07:49:49.833Z"
   },
   {
    "duration": 6,
    "start_time": "2022-10-28T07:49:54.320Z"
   },
   {
    "duration": 237,
    "start_time": "2022-10-28T07:50:07.662Z"
   },
   {
    "duration": 207,
    "start_time": "2022-10-28T07:50:11.112Z"
   },
   {
    "duration": 6,
    "start_time": "2022-10-28T07:50:14.140Z"
   },
   {
    "duration": 5,
    "start_time": "2022-10-28T07:50:16.142Z"
   },
   {
    "duration": 6,
    "start_time": "2022-10-28T07:50:18.221Z"
   },
   {
    "duration": 267,
    "start_time": "2022-10-28T07:50:25.127Z"
   },
   {
    "duration": 226,
    "start_time": "2022-10-28T07:50:29.584Z"
   },
   {
    "duration": 5,
    "start_time": "2022-10-28T07:50:33.429Z"
   },
   {
    "duration": 6,
    "start_time": "2022-10-28T07:50:36.017Z"
   },
   {
    "duration": 6,
    "start_time": "2022-10-28T07:56:32.256Z"
   },
   {
    "duration": 363,
    "start_time": "2022-10-28T07:56:35.043Z"
   },
   {
    "duration": 356,
    "start_time": "2022-10-28T07:56:44.804Z"
   },
   {
    "duration": 8,
    "start_time": "2022-10-28T07:58:36.626Z"
   },
   {
    "duration": 392,
    "start_time": "2022-10-28T07:58:47.301Z"
   },
   {
    "duration": 364,
    "start_time": "2022-10-28T07:59:18.689Z"
   },
   {
    "duration": 226,
    "start_time": "2022-10-28T08:00:28.605Z"
   },
   {
    "duration": 224,
    "start_time": "2022-10-28T08:02:47.940Z"
   },
   {
    "duration": 202,
    "start_time": "2022-10-28T08:04:15.940Z"
   },
   {
    "duration": 165,
    "start_time": "2022-10-28T08:15:01.819Z"
   },
   {
    "duration": 147,
    "start_time": "2022-10-28T08:15:57.428Z"
   },
   {
    "duration": 163,
    "start_time": "2022-10-28T08:16:26.055Z"
   },
   {
    "duration": 6,
    "start_time": "2022-10-28T08:23:00.057Z"
   },
   {
    "duration": 4,
    "start_time": "2022-10-28T08:25:08.714Z"
   },
   {
    "duration": 5,
    "start_time": "2022-10-28T08:25:12.698Z"
   },
   {
    "duration": 159,
    "start_time": "2022-10-28T08:25:30.943Z"
   },
   {
    "duration": 185,
    "start_time": "2022-10-28T08:26:42.733Z"
   },
   {
    "duration": 5,
    "start_time": "2022-10-28T08:27:53.697Z"
   },
   {
    "duration": 177,
    "start_time": "2022-10-28T08:28:38.800Z"
   },
   {
    "duration": 4,
    "start_time": "2022-10-28T08:55:36.644Z"
   },
   {
    "duration": 240,
    "start_time": "2022-10-28T08:55:41.361Z"
   },
   {
    "duration": 254,
    "start_time": "2022-10-28T08:56:01.641Z"
   },
   {
    "duration": 302,
    "start_time": "2022-10-28T08:56:29.309Z"
   },
   {
    "duration": 282,
    "start_time": "2022-10-28T08:56:47.915Z"
   },
   {
    "duration": 541,
    "start_time": "2022-10-28T08:57:24.406Z"
   },
   {
    "duration": 3,
    "start_time": "2022-10-28T08:58:19.824Z"
   },
   {
    "duration": 6,
    "start_time": "2022-10-28T08:58:21.852Z"
   },
   {
    "duration": 274,
    "start_time": "2022-10-28T08:58:23.782Z"
   },
   {
    "duration": 46,
    "start_time": "2022-10-28T10:42:06.601Z"
   },
   {
    "duration": 355,
    "start_time": "2022-10-28T10:42:17.076Z"
   },
   {
    "duration": 91,
    "start_time": "2022-10-28T10:42:17.433Z"
   },
   {
    "duration": 25,
    "start_time": "2022-10-28T10:42:17.526Z"
   },
   {
    "duration": 13,
    "start_time": "2022-10-28T10:42:17.552Z"
   },
   {
    "duration": 5,
    "start_time": "2022-10-28T10:42:17.566Z"
   },
   {
    "duration": 16,
    "start_time": "2022-10-28T10:42:17.572Z"
   },
   {
    "duration": 20,
    "start_time": "2022-10-28T10:42:17.590Z"
   },
   {
    "duration": 19,
    "start_time": "2022-10-28T10:42:17.611Z"
   },
   {
    "duration": 10,
    "start_time": "2022-10-28T10:42:17.631Z"
   },
   {
    "duration": 20,
    "start_time": "2022-10-28T10:42:17.644Z"
   },
   {
    "duration": 6,
    "start_time": "2022-10-28T10:42:17.665Z"
   },
   {
    "duration": 601,
    "start_time": "2022-10-28T10:42:17.673Z"
   },
   {
    "duration": 13,
    "start_time": "2022-10-28T10:42:18.276Z"
   },
   {
    "duration": 3,
    "start_time": "2022-10-28T10:42:18.291Z"
   },
   {
    "duration": 56,
    "start_time": "2022-10-28T10:42:18.296Z"
   },
   {
    "duration": 2,
    "start_time": "2022-10-28T10:42:18.354Z"
   },
   {
    "duration": 309,
    "start_time": "2022-10-28T10:42:18.358Z"
   },
   {
    "duration": 357,
    "start_time": "2022-10-28T10:42:18.668Z"
   },
   {
    "duration": 359,
    "start_time": "2022-10-28T10:42:19.027Z"
   },
   {
    "duration": 46,
    "start_time": "2022-10-28T10:42:19.388Z"
   },
   {
    "duration": 456,
    "start_time": "2022-10-28T10:42:19.436Z"
   },
   {
    "duration": 6,
    "start_time": "2022-10-28T10:42:19.893Z"
   },
   {
    "duration": 257,
    "start_time": "2022-10-28T10:42:19.900Z"
   },
   {
    "duration": 6,
    "start_time": "2022-10-28T10:42:20.159Z"
   },
   {
    "duration": 198,
    "start_time": "2022-10-28T10:42:20.166Z"
   },
   {
    "duration": 246,
    "start_time": "2022-10-28T10:42:20.365Z"
   },
   {
    "duration": 9,
    "start_time": "2022-10-28T10:42:20.612Z"
   },
   {
    "duration": 14,
    "start_time": "2022-10-28T10:42:20.625Z"
   },
   {
    "duration": 6,
    "start_time": "2022-10-28T10:42:20.641Z"
   },
   {
    "duration": 199,
    "start_time": "2022-10-28T10:42:20.648Z"
   },
   {
    "duration": 206,
    "start_time": "2022-10-28T10:42:20.848Z"
   },
   {
    "duration": 4,
    "start_time": "2022-10-28T10:42:21.056Z"
   },
   {
    "duration": 7,
    "start_time": "2022-10-28T10:42:21.062Z"
   },
   {
    "duration": 8,
    "start_time": "2022-10-28T10:42:21.070Z"
   },
   {
    "duration": 211,
    "start_time": "2022-10-28T10:42:21.079Z"
   },
   {
    "duration": 192,
    "start_time": "2022-10-28T10:42:21.291Z"
   },
   {
    "duration": 5,
    "start_time": "2022-10-28T10:42:21.484Z"
   },
   {
    "duration": 11,
    "start_time": "2022-10-28T10:42:21.491Z"
   },
   {
    "duration": 20,
    "start_time": "2022-10-28T10:42:21.504Z"
   },
   {
    "duration": 327,
    "start_time": "2022-10-28T10:42:21.526Z"
   },
   {
    "duration": 334,
    "start_time": "2022-10-28T10:42:21.855Z"
   },
   {
    "duration": 195,
    "start_time": "2022-10-28T10:42:22.191Z"
   },
   {
    "duration": 196,
    "start_time": "2022-10-28T10:42:22.388Z"
   },
   {
    "duration": 194,
    "start_time": "2022-10-28T10:42:22.585Z"
   },
   {
    "duration": 104,
    "start_time": "2022-10-28T10:42:22.781Z"
   },
   {
    "duration": 0,
    "start_time": "2022-10-28T10:42:22.887Z"
   },
   {
    "duration": 0,
    "start_time": "2022-10-28T10:42:22.888Z"
   },
   {
    "duration": 0,
    "start_time": "2022-10-28T10:42:22.889Z"
   },
   {
    "duration": 0,
    "start_time": "2022-10-28T10:42:22.890Z"
   },
   {
    "duration": 0,
    "start_time": "2022-10-28T10:42:22.892Z"
   },
   {
    "duration": 0,
    "start_time": "2022-10-28T10:42:22.893Z"
   },
   {
    "duration": 0,
    "start_time": "2022-10-28T10:42:22.893Z"
   },
   {
    "duration": 0,
    "start_time": "2022-10-28T10:42:22.894Z"
   },
   {
    "duration": 0,
    "start_time": "2022-10-28T10:42:22.895Z"
   },
   {
    "duration": 0,
    "start_time": "2022-10-28T10:42:22.896Z"
   },
   {
    "duration": 312,
    "start_time": "2022-10-28T10:42:51.435Z"
   },
   {
    "duration": 46,
    "start_time": "2022-10-31T06:21:35.670Z"
   }
  ],
  "kernelspec": {
   "display_name": "Python 3 (ipykernel)",
   "language": "python",
   "name": "python3"
  },
  "language_info": {
   "codemirror_mode": {
    "name": "ipython",
    "version": 3
   },
   "file_extension": ".py",
   "mimetype": "text/x-python",
   "name": "python",
   "nbconvert_exporter": "python",
   "pygments_lexer": "ipython3",
   "version": "3.10.6"
  },
  "toc": {
   "base_numbering": 1,
   "nav_menu": {},
   "number_sections": true,
   "sideBar": true,
   "skip_h1_title": true,
   "title_cell": "Table of Contents",
   "title_sidebar": "Contents",
   "toc_cell": false,
   "toc_position": {},
   "toc_section_display": true,
   "toc_window_display": false
  }
 },
 "nbformat": 4,
 "nbformat_minor": 2
}
