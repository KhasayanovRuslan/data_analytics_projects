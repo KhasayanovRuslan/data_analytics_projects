{
 "cells": [
  {
   "cell_type": "markdown",
   "metadata": {},
   "source": [
    "# Исследование объявлений о продаже квартир\n",
    "\n",
    "В вашем распоряжении данные сервиса Яндекс.Недвижимость — архив объявлений о продаже квартир в Санкт-Петербурге и соседних населённых пунктов за несколько лет. Нужно научиться определять рыночную стоимость объектов недвижимости. Ваша задача — установить параметры. Это позволит построить автоматизированную систему: она отследит аномалии и мошенническую деятельность. \n",
    "\n",
    "По каждой квартире на продажу доступны два вида данных. Первые вписаны пользователем, вторые — получены автоматически на основе картографических данных. Например, расстояние до центра, аэропорта, ближайшего парка и водоёма. "
   ]
  },
  {
   "cell_type": "markdown",
   "metadata": {},
   "source": [
    "### Откройте файл с данными и изучите общую информацию. "
   ]
  },
  {
   "cell_type": "code",
   "execution_count": 42,
   "metadata": {},
   "outputs": [],
   "source": [
    "import pandas as pd"
   ]
  },
  {
   "cell_type": "code",
   "execution_count": 43,
   "metadata": {},
   "outputs": [
    {
     "data": {
      "text/html": [
       "<div>\n",
       "<style scoped>\n",
       "    .dataframe tbody tr th:only-of-type {\n",
       "        vertical-align: middle;\n",
       "    }\n",
       "\n",
       "    .dataframe tbody tr th {\n",
       "        vertical-align: top;\n",
       "    }\n",
       "\n",
       "    .dataframe thead th {\n",
       "        text-align: right;\n",
       "    }\n",
       "</style>\n",
       "<table border=\"1\" class=\"dataframe\">\n",
       "  <thead>\n",
       "    <tr style=\"text-align: right;\">\n",
       "      <th></th>\n",
       "      <th>total_images</th>\n",
       "      <th>last_price</th>\n",
       "      <th>total_area</th>\n",
       "      <th>first_day_exposition</th>\n",
       "      <th>rooms</th>\n",
       "      <th>ceiling_height</th>\n",
       "      <th>floors_total</th>\n",
       "      <th>living_area</th>\n",
       "      <th>floor</th>\n",
       "      <th>is_apartment</th>\n",
       "      <th>...</th>\n",
       "      <th>kitchen_area</th>\n",
       "      <th>balcony</th>\n",
       "      <th>locality_name</th>\n",
       "      <th>airports_nearest</th>\n",
       "      <th>cityCenters_nearest</th>\n",
       "      <th>parks_around3000</th>\n",
       "      <th>parks_nearest</th>\n",
       "      <th>ponds_around3000</th>\n",
       "      <th>ponds_nearest</th>\n",
       "      <th>days_exposition</th>\n",
       "    </tr>\n",
       "  </thead>\n",
       "  <tbody>\n",
       "    <tr>\n",
       "      <th>0</th>\n",
       "      <td>20</td>\n",
       "      <td>13000000.0</td>\n",
       "      <td>108.00</td>\n",
       "      <td>2019-03-07T00:00:00</td>\n",
       "      <td>3</td>\n",
       "      <td>2.70</td>\n",
       "      <td>16.0</td>\n",
       "      <td>51.00</td>\n",
       "      <td>8</td>\n",
       "      <td>NaN</td>\n",
       "      <td>...</td>\n",
       "      <td>25.00</td>\n",
       "      <td>NaN</td>\n",
       "      <td>Санкт-Петербург</td>\n",
       "      <td>18863.0</td>\n",
       "      <td>16028.0</td>\n",
       "      <td>1.0</td>\n",
       "      <td>482.0</td>\n",
       "      <td>2.0</td>\n",
       "      <td>755.0</td>\n",
       "      <td>NaN</td>\n",
       "    </tr>\n",
       "    <tr>\n",
       "      <th>1</th>\n",
       "      <td>7</td>\n",
       "      <td>3350000.0</td>\n",
       "      <td>40.40</td>\n",
       "      <td>2018-12-04T00:00:00</td>\n",
       "      <td>1</td>\n",
       "      <td>NaN</td>\n",
       "      <td>11.0</td>\n",
       "      <td>18.60</td>\n",
       "      <td>1</td>\n",
       "      <td>NaN</td>\n",
       "      <td>...</td>\n",
       "      <td>11.00</td>\n",
       "      <td>2.0</td>\n",
       "      <td>посёлок Шушары</td>\n",
       "      <td>12817.0</td>\n",
       "      <td>18603.0</td>\n",
       "      <td>0.0</td>\n",
       "      <td>NaN</td>\n",
       "      <td>0.0</td>\n",
       "      <td>NaN</td>\n",
       "      <td>81.0</td>\n",
       "    </tr>\n",
       "    <tr>\n",
       "      <th>2</th>\n",
       "      <td>10</td>\n",
       "      <td>5196000.0</td>\n",
       "      <td>56.00</td>\n",
       "      <td>2015-08-20T00:00:00</td>\n",
       "      <td>2</td>\n",
       "      <td>NaN</td>\n",
       "      <td>5.0</td>\n",
       "      <td>34.30</td>\n",
       "      <td>4</td>\n",
       "      <td>NaN</td>\n",
       "      <td>...</td>\n",
       "      <td>8.30</td>\n",
       "      <td>0.0</td>\n",
       "      <td>Санкт-Петербург</td>\n",
       "      <td>21741.0</td>\n",
       "      <td>13933.0</td>\n",
       "      <td>1.0</td>\n",
       "      <td>90.0</td>\n",
       "      <td>2.0</td>\n",
       "      <td>574.0</td>\n",
       "      <td>558.0</td>\n",
       "    </tr>\n",
       "    <tr>\n",
       "      <th>3</th>\n",
       "      <td>0</td>\n",
       "      <td>64900000.0</td>\n",
       "      <td>159.00</td>\n",
       "      <td>2015-07-24T00:00:00</td>\n",
       "      <td>3</td>\n",
       "      <td>NaN</td>\n",
       "      <td>14.0</td>\n",
       "      <td>NaN</td>\n",
       "      <td>9</td>\n",
       "      <td>NaN</td>\n",
       "      <td>...</td>\n",
       "      <td>NaN</td>\n",
       "      <td>0.0</td>\n",
       "      <td>Санкт-Петербург</td>\n",
       "      <td>28098.0</td>\n",
       "      <td>6800.0</td>\n",
       "      <td>2.0</td>\n",
       "      <td>84.0</td>\n",
       "      <td>3.0</td>\n",
       "      <td>234.0</td>\n",
       "      <td>424.0</td>\n",
       "    </tr>\n",
       "    <tr>\n",
       "      <th>4</th>\n",
       "      <td>2</td>\n",
       "      <td>10000000.0</td>\n",
       "      <td>100.00</td>\n",
       "      <td>2018-06-19T00:00:00</td>\n",
       "      <td>2</td>\n",
       "      <td>3.03</td>\n",
       "      <td>14.0</td>\n",
       "      <td>32.00</td>\n",
       "      <td>13</td>\n",
       "      <td>NaN</td>\n",
       "      <td>...</td>\n",
       "      <td>41.00</td>\n",
       "      <td>NaN</td>\n",
       "      <td>Санкт-Петербург</td>\n",
       "      <td>31856.0</td>\n",
       "      <td>8098.0</td>\n",
       "      <td>2.0</td>\n",
       "      <td>112.0</td>\n",
       "      <td>1.0</td>\n",
       "      <td>48.0</td>\n",
       "      <td>121.0</td>\n",
       "    </tr>\n",
       "    <tr>\n",
       "      <th>5</th>\n",
       "      <td>10</td>\n",
       "      <td>2890000.0</td>\n",
       "      <td>30.40</td>\n",
       "      <td>2018-09-10T00:00:00</td>\n",
       "      <td>1</td>\n",
       "      <td>NaN</td>\n",
       "      <td>12.0</td>\n",
       "      <td>14.40</td>\n",
       "      <td>5</td>\n",
       "      <td>NaN</td>\n",
       "      <td>...</td>\n",
       "      <td>9.10</td>\n",
       "      <td>NaN</td>\n",
       "      <td>городской посёлок Янино-1</td>\n",
       "      <td>NaN</td>\n",
       "      <td>NaN</td>\n",
       "      <td>NaN</td>\n",
       "      <td>NaN</td>\n",
       "      <td>NaN</td>\n",
       "      <td>NaN</td>\n",
       "      <td>55.0</td>\n",
       "    </tr>\n",
       "    <tr>\n",
       "      <th>6</th>\n",
       "      <td>6</td>\n",
       "      <td>3700000.0</td>\n",
       "      <td>37.30</td>\n",
       "      <td>2017-11-02T00:00:00</td>\n",
       "      <td>1</td>\n",
       "      <td>NaN</td>\n",
       "      <td>26.0</td>\n",
       "      <td>10.60</td>\n",
       "      <td>6</td>\n",
       "      <td>NaN</td>\n",
       "      <td>...</td>\n",
       "      <td>14.40</td>\n",
       "      <td>1.0</td>\n",
       "      <td>посёлок Парголово</td>\n",
       "      <td>52996.0</td>\n",
       "      <td>19143.0</td>\n",
       "      <td>0.0</td>\n",
       "      <td>NaN</td>\n",
       "      <td>0.0</td>\n",
       "      <td>NaN</td>\n",
       "      <td>155.0</td>\n",
       "    </tr>\n",
       "    <tr>\n",
       "      <th>7</th>\n",
       "      <td>5</td>\n",
       "      <td>7915000.0</td>\n",
       "      <td>71.60</td>\n",
       "      <td>2019-04-18T00:00:00</td>\n",
       "      <td>2</td>\n",
       "      <td>NaN</td>\n",
       "      <td>24.0</td>\n",
       "      <td>NaN</td>\n",
       "      <td>22</td>\n",
       "      <td>NaN</td>\n",
       "      <td>...</td>\n",
       "      <td>18.90</td>\n",
       "      <td>2.0</td>\n",
       "      <td>Санкт-Петербург</td>\n",
       "      <td>23982.0</td>\n",
       "      <td>11634.0</td>\n",
       "      <td>0.0</td>\n",
       "      <td>NaN</td>\n",
       "      <td>0.0</td>\n",
       "      <td>NaN</td>\n",
       "      <td>NaN</td>\n",
       "    </tr>\n",
       "    <tr>\n",
       "      <th>8</th>\n",
       "      <td>20</td>\n",
       "      <td>2900000.0</td>\n",
       "      <td>33.16</td>\n",
       "      <td>2018-05-23T00:00:00</td>\n",
       "      <td>1</td>\n",
       "      <td>NaN</td>\n",
       "      <td>27.0</td>\n",
       "      <td>15.43</td>\n",
       "      <td>26</td>\n",
       "      <td>NaN</td>\n",
       "      <td>...</td>\n",
       "      <td>8.81</td>\n",
       "      <td>NaN</td>\n",
       "      <td>посёлок Мурино</td>\n",
       "      <td>NaN</td>\n",
       "      <td>NaN</td>\n",
       "      <td>NaN</td>\n",
       "      <td>NaN</td>\n",
       "      <td>NaN</td>\n",
       "      <td>NaN</td>\n",
       "      <td>189.0</td>\n",
       "    </tr>\n",
       "    <tr>\n",
       "      <th>9</th>\n",
       "      <td>18</td>\n",
       "      <td>5400000.0</td>\n",
       "      <td>61.00</td>\n",
       "      <td>2017-02-26T00:00:00</td>\n",
       "      <td>3</td>\n",
       "      <td>2.50</td>\n",
       "      <td>9.0</td>\n",
       "      <td>43.60</td>\n",
       "      <td>7</td>\n",
       "      <td>NaN</td>\n",
       "      <td>...</td>\n",
       "      <td>6.50</td>\n",
       "      <td>2.0</td>\n",
       "      <td>Санкт-Петербург</td>\n",
       "      <td>50898.0</td>\n",
       "      <td>15008.0</td>\n",
       "      <td>0.0</td>\n",
       "      <td>NaN</td>\n",
       "      <td>0.0</td>\n",
       "      <td>NaN</td>\n",
       "      <td>289.0</td>\n",
       "    </tr>\n",
       "    <tr>\n",
       "      <th>10</th>\n",
       "      <td>5</td>\n",
       "      <td>5050000.0</td>\n",
       "      <td>39.60</td>\n",
       "      <td>2017-11-16T00:00:00</td>\n",
       "      <td>1</td>\n",
       "      <td>2.67</td>\n",
       "      <td>12.0</td>\n",
       "      <td>20.30</td>\n",
       "      <td>3</td>\n",
       "      <td>NaN</td>\n",
       "      <td>...</td>\n",
       "      <td>8.50</td>\n",
       "      <td>NaN</td>\n",
       "      <td>Санкт-Петербург</td>\n",
       "      <td>38357.0</td>\n",
       "      <td>13878.0</td>\n",
       "      <td>1.0</td>\n",
       "      <td>310.0</td>\n",
       "      <td>2.0</td>\n",
       "      <td>553.0</td>\n",
       "      <td>137.0</td>\n",
       "    </tr>\n",
       "    <tr>\n",
       "      <th>11</th>\n",
       "      <td>9</td>\n",
       "      <td>3300000.0</td>\n",
       "      <td>44.00</td>\n",
       "      <td>2018-08-27T00:00:00</td>\n",
       "      <td>2</td>\n",
       "      <td>NaN</td>\n",
       "      <td>5.0</td>\n",
       "      <td>31.00</td>\n",
       "      <td>4</td>\n",
       "      <td>False</td>\n",
       "      <td>...</td>\n",
       "      <td>6.00</td>\n",
       "      <td>1.0</td>\n",
       "      <td>Ломоносов</td>\n",
       "      <td>48252.0</td>\n",
       "      <td>51677.0</td>\n",
       "      <td>0.0</td>\n",
       "      <td>NaN</td>\n",
       "      <td>0.0</td>\n",
       "      <td>NaN</td>\n",
       "      <td>7.0</td>\n",
       "    </tr>\n",
       "    <tr>\n",
       "      <th>12</th>\n",
       "      <td>10</td>\n",
       "      <td>3890000.0</td>\n",
       "      <td>54.00</td>\n",
       "      <td>2016-06-30T00:00:00</td>\n",
       "      <td>2</td>\n",
       "      <td>NaN</td>\n",
       "      <td>5.0</td>\n",
       "      <td>30.00</td>\n",
       "      <td>5</td>\n",
       "      <td>NaN</td>\n",
       "      <td>...</td>\n",
       "      <td>9.00</td>\n",
       "      <td>0.0</td>\n",
       "      <td>Сертолово</td>\n",
       "      <td>NaN</td>\n",
       "      <td>NaN</td>\n",
       "      <td>NaN</td>\n",
       "      <td>NaN</td>\n",
       "      <td>NaN</td>\n",
       "      <td>NaN</td>\n",
       "      <td>90.0</td>\n",
       "    </tr>\n",
       "    <tr>\n",
       "      <th>13</th>\n",
       "      <td>20</td>\n",
       "      <td>3550000.0</td>\n",
       "      <td>42.80</td>\n",
       "      <td>2017-07-01T00:00:00</td>\n",
       "      <td>2</td>\n",
       "      <td>2.56</td>\n",
       "      <td>5.0</td>\n",
       "      <td>27.00</td>\n",
       "      <td>5</td>\n",
       "      <td>NaN</td>\n",
       "      <td>...</td>\n",
       "      <td>5.20</td>\n",
       "      <td>1.0</td>\n",
       "      <td>Петергоф</td>\n",
       "      <td>37868.0</td>\n",
       "      <td>33058.0</td>\n",
       "      <td>1.0</td>\n",
       "      <td>294.0</td>\n",
       "      <td>3.0</td>\n",
       "      <td>298.0</td>\n",
       "      <td>366.0</td>\n",
       "    </tr>\n",
       "    <tr>\n",
       "      <th>14</th>\n",
       "      <td>1</td>\n",
       "      <td>4400000.0</td>\n",
       "      <td>36.00</td>\n",
       "      <td>2016-06-23T00:00:00</td>\n",
       "      <td>1</td>\n",
       "      <td>NaN</td>\n",
       "      <td>6.0</td>\n",
       "      <td>17.00</td>\n",
       "      <td>1</td>\n",
       "      <td>NaN</td>\n",
       "      <td>...</td>\n",
       "      <td>8.00</td>\n",
       "      <td>0.0</td>\n",
       "      <td>Пушкин</td>\n",
       "      <td>20782.0</td>\n",
       "      <td>30759.0</td>\n",
       "      <td>0.0</td>\n",
       "      <td>NaN</td>\n",
       "      <td>1.0</td>\n",
       "      <td>96.0</td>\n",
       "      <td>203.0</td>\n",
       "    </tr>\n",
       "    <tr>\n",
       "      <th>15</th>\n",
       "      <td>16</td>\n",
       "      <td>4650000.0</td>\n",
       "      <td>39.00</td>\n",
       "      <td>2017-11-18T00:00:00</td>\n",
       "      <td>1</td>\n",
       "      <td>NaN</td>\n",
       "      <td>14.0</td>\n",
       "      <td>20.50</td>\n",
       "      <td>5</td>\n",
       "      <td>NaN</td>\n",
       "      <td>...</td>\n",
       "      <td>7.60</td>\n",
       "      <td>1.0</td>\n",
       "      <td>Санкт-Петербург</td>\n",
       "      <td>12900.0</td>\n",
       "      <td>14259.0</td>\n",
       "      <td>1.0</td>\n",
       "      <td>590.0</td>\n",
       "      <td>1.0</td>\n",
       "      <td>296.0</td>\n",
       "      <td>19.0</td>\n",
       "    </tr>\n",
       "    <tr>\n",
       "      <th>16</th>\n",
       "      <td>11</td>\n",
       "      <td>6700000.0</td>\n",
       "      <td>82.00</td>\n",
       "      <td>2017-11-23T00:00:00</td>\n",
       "      <td>3</td>\n",
       "      <td>3.05</td>\n",
       "      <td>5.0</td>\n",
       "      <td>55.60</td>\n",
       "      <td>1</td>\n",
       "      <td>NaN</td>\n",
       "      <td>...</td>\n",
       "      <td>9.00</td>\n",
       "      <td>NaN</td>\n",
       "      <td>Санкт-Петербург</td>\n",
       "      <td>22108.0</td>\n",
       "      <td>10698.0</td>\n",
       "      <td>3.0</td>\n",
       "      <td>420.0</td>\n",
       "      <td>0.0</td>\n",
       "      <td>NaN</td>\n",
       "      <td>397.0</td>\n",
       "    </tr>\n",
       "    <tr>\n",
       "      <th>17</th>\n",
       "      <td>6</td>\n",
       "      <td>4180000.0</td>\n",
       "      <td>36.00</td>\n",
       "      <td>2016-09-09T00:00:00</td>\n",
       "      <td>1</td>\n",
       "      <td>NaN</td>\n",
       "      <td>17.0</td>\n",
       "      <td>16.50</td>\n",
       "      <td>7</td>\n",
       "      <td>NaN</td>\n",
       "      <td>...</td>\n",
       "      <td>11.00</td>\n",
       "      <td>1.0</td>\n",
       "      <td>Санкт-Петербург</td>\n",
       "      <td>33564.0</td>\n",
       "      <td>14616.0</td>\n",
       "      <td>0.0</td>\n",
       "      <td>NaN</td>\n",
       "      <td>1.0</td>\n",
       "      <td>859.0</td>\n",
       "      <td>571.0</td>\n",
       "    </tr>\n",
       "    <tr>\n",
       "      <th>18</th>\n",
       "      <td>8</td>\n",
       "      <td>3250000.0</td>\n",
       "      <td>31.00</td>\n",
       "      <td>2017-01-27T00:00:00</td>\n",
       "      <td>1</td>\n",
       "      <td>2.50</td>\n",
       "      <td>5.0</td>\n",
       "      <td>19.40</td>\n",
       "      <td>2</td>\n",
       "      <td>NaN</td>\n",
       "      <td>...</td>\n",
       "      <td>5.60</td>\n",
       "      <td>1.0</td>\n",
       "      <td>Санкт-Петербург</td>\n",
       "      <td>44060.0</td>\n",
       "      <td>10842.0</td>\n",
       "      <td>1.0</td>\n",
       "      <td>759.0</td>\n",
       "      <td>0.0</td>\n",
       "      <td>NaN</td>\n",
       "      <td>168.0</td>\n",
       "    </tr>\n",
       "    <tr>\n",
       "      <th>19</th>\n",
       "      <td>16</td>\n",
       "      <td>14200000.0</td>\n",
       "      <td>121.00</td>\n",
       "      <td>2019-01-09T00:00:00</td>\n",
       "      <td>3</td>\n",
       "      <td>2.75</td>\n",
       "      <td>16.0</td>\n",
       "      <td>76.00</td>\n",
       "      <td>8</td>\n",
       "      <td>NaN</td>\n",
       "      <td>...</td>\n",
       "      <td>12.00</td>\n",
       "      <td>NaN</td>\n",
       "      <td>Санкт-Петербург</td>\n",
       "      <td>38900.0</td>\n",
       "      <td>12843.0</td>\n",
       "      <td>0.0</td>\n",
       "      <td>NaN</td>\n",
       "      <td>0.0</td>\n",
       "      <td>NaN</td>\n",
       "      <td>97.0</td>\n",
       "    </tr>\n",
       "  </tbody>\n",
       "</table>\n",
       "<p>20 rows × 22 columns</p>\n",
       "</div>"
      ],
      "text/plain": [
       "    total_images  last_price  total_area first_day_exposition  rooms  \\\n",
       "0             20  13000000.0      108.00  2019-03-07T00:00:00      3   \n",
       "1              7   3350000.0       40.40  2018-12-04T00:00:00      1   \n",
       "2             10   5196000.0       56.00  2015-08-20T00:00:00      2   \n",
       "3              0  64900000.0      159.00  2015-07-24T00:00:00      3   \n",
       "4              2  10000000.0      100.00  2018-06-19T00:00:00      2   \n",
       "5             10   2890000.0       30.40  2018-09-10T00:00:00      1   \n",
       "6              6   3700000.0       37.30  2017-11-02T00:00:00      1   \n",
       "7              5   7915000.0       71.60  2019-04-18T00:00:00      2   \n",
       "8             20   2900000.0       33.16  2018-05-23T00:00:00      1   \n",
       "9             18   5400000.0       61.00  2017-02-26T00:00:00      3   \n",
       "10             5   5050000.0       39.60  2017-11-16T00:00:00      1   \n",
       "11             9   3300000.0       44.00  2018-08-27T00:00:00      2   \n",
       "12            10   3890000.0       54.00  2016-06-30T00:00:00      2   \n",
       "13            20   3550000.0       42.80  2017-07-01T00:00:00      2   \n",
       "14             1   4400000.0       36.00  2016-06-23T00:00:00      1   \n",
       "15            16   4650000.0       39.00  2017-11-18T00:00:00      1   \n",
       "16            11   6700000.0       82.00  2017-11-23T00:00:00      3   \n",
       "17             6   4180000.0       36.00  2016-09-09T00:00:00      1   \n",
       "18             8   3250000.0       31.00  2017-01-27T00:00:00      1   \n",
       "19            16  14200000.0      121.00  2019-01-09T00:00:00      3   \n",
       "\n",
       "    ceiling_height  floors_total  living_area  floor is_apartment  ...  \\\n",
       "0             2.70          16.0        51.00      8          NaN  ...   \n",
       "1              NaN          11.0        18.60      1          NaN  ...   \n",
       "2              NaN           5.0        34.30      4          NaN  ...   \n",
       "3              NaN          14.0          NaN      9          NaN  ...   \n",
       "4             3.03          14.0        32.00     13          NaN  ...   \n",
       "5              NaN          12.0        14.40      5          NaN  ...   \n",
       "6              NaN          26.0        10.60      6          NaN  ...   \n",
       "7              NaN          24.0          NaN     22          NaN  ...   \n",
       "8              NaN          27.0        15.43     26          NaN  ...   \n",
       "9             2.50           9.0        43.60      7          NaN  ...   \n",
       "10            2.67          12.0        20.30      3          NaN  ...   \n",
       "11             NaN           5.0        31.00      4        False  ...   \n",
       "12             NaN           5.0        30.00      5          NaN  ...   \n",
       "13            2.56           5.0        27.00      5          NaN  ...   \n",
       "14             NaN           6.0        17.00      1          NaN  ...   \n",
       "15             NaN          14.0        20.50      5          NaN  ...   \n",
       "16            3.05           5.0        55.60      1          NaN  ...   \n",
       "17             NaN          17.0        16.50      7          NaN  ...   \n",
       "18            2.50           5.0        19.40      2          NaN  ...   \n",
       "19            2.75          16.0        76.00      8          NaN  ...   \n",
       "\n",
       "    kitchen_area  balcony              locality_name  airports_nearest  \\\n",
       "0          25.00      NaN            Санкт-Петербург           18863.0   \n",
       "1          11.00      2.0             посёлок Шушары           12817.0   \n",
       "2           8.30      0.0            Санкт-Петербург           21741.0   \n",
       "3            NaN      0.0            Санкт-Петербург           28098.0   \n",
       "4          41.00      NaN            Санкт-Петербург           31856.0   \n",
       "5           9.10      NaN  городской посёлок Янино-1               NaN   \n",
       "6          14.40      1.0          посёлок Парголово           52996.0   \n",
       "7          18.90      2.0            Санкт-Петербург           23982.0   \n",
       "8           8.81      NaN             посёлок Мурино               NaN   \n",
       "9           6.50      2.0            Санкт-Петербург           50898.0   \n",
       "10          8.50      NaN            Санкт-Петербург           38357.0   \n",
       "11          6.00      1.0                  Ломоносов           48252.0   \n",
       "12          9.00      0.0                  Сертолово               NaN   \n",
       "13          5.20      1.0                   Петергоф           37868.0   \n",
       "14          8.00      0.0                     Пушкин           20782.0   \n",
       "15          7.60      1.0            Санкт-Петербург           12900.0   \n",
       "16          9.00      NaN            Санкт-Петербург           22108.0   \n",
       "17         11.00      1.0            Санкт-Петербург           33564.0   \n",
       "18          5.60      1.0            Санкт-Петербург           44060.0   \n",
       "19         12.00      NaN            Санкт-Петербург           38900.0   \n",
       "\n",
       "   cityCenters_nearest  parks_around3000  parks_nearest  ponds_around3000  \\\n",
       "0              16028.0               1.0          482.0               2.0   \n",
       "1              18603.0               0.0            NaN               0.0   \n",
       "2              13933.0               1.0           90.0               2.0   \n",
       "3               6800.0               2.0           84.0               3.0   \n",
       "4               8098.0               2.0          112.0               1.0   \n",
       "5                  NaN               NaN            NaN               NaN   \n",
       "6              19143.0               0.0            NaN               0.0   \n",
       "7              11634.0               0.0            NaN               0.0   \n",
       "8                  NaN               NaN            NaN               NaN   \n",
       "9              15008.0               0.0            NaN               0.0   \n",
       "10             13878.0               1.0          310.0               2.0   \n",
       "11             51677.0               0.0            NaN               0.0   \n",
       "12                 NaN               NaN            NaN               NaN   \n",
       "13             33058.0               1.0          294.0               3.0   \n",
       "14             30759.0               0.0            NaN               1.0   \n",
       "15             14259.0               1.0          590.0               1.0   \n",
       "16             10698.0               3.0          420.0               0.0   \n",
       "17             14616.0               0.0            NaN               1.0   \n",
       "18             10842.0               1.0          759.0               0.0   \n",
       "19             12843.0               0.0            NaN               0.0   \n",
       "\n",
       "    ponds_nearest  days_exposition  \n",
       "0           755.0              NaN  \n",
       "1             NaN             81.0  \n",
       "2           574.0            558.0  \n",
       "3           234.0            424.0  \n",
       "4            48.0            121.0  \n",
       "5             NaN             55.0  \n",
       "6             NaN            155.0  \n",
       "7             NaN              NaN  \n",
       "8             NaN            189.0  \n",
       "9             NaN            289.0  \n",
       "10          553.0            137.0  \n",
       "11            NaN              7.0  \n",
       "12            NaN             90.0  \n",
       "13          298.0            366.0  \n",
       "14           96.0            203.0  \n",
       "15          296.0             19.0  \n",
       "16            NaN            397.0  \n",
       "17          859.0            571.0  \n",
       "18            NaN            168.0  \n",
       "19            NaN             97.0  \n",
       "\n",
       "[20 rows x 22 columns]"
      ]
     },
     "execution_count": 43,
     "metadata": {},
     "output_type": "execute_result"
    }
   ],
   "source": [
    "real_estate_data = pd.read_csv('/datasets/real_estate_data.csv', sep='\\t')\n",
    "real_estate_data.head(20)"
   ]
  },
  {
   "cell_type": "code",
   "execution_count": 44,
   "metadata": {},
   "outputs": [
    {
     "name": "stdout",
     "output_type": "stream",
     "text": [
      "<class 'pandas.core.frame.DataFrame'>\n",
      "RangeIndex: 23699 entries, 0 to 23698\n",
      "Data columns (total 22 columns):\n",
      " #   Column                Non-Null Count  Dtype  \n",
      "---  ------                --------------  -----  \n",
      " 0   total_images          23699 non-null  int64  \n",
      " 1   last_price            23699 non-null  float64\n",
      " 2   total_area            23699 non-null  float64\n",
      " 3   first_day_exposition  23699 non-null  object \n",
      " 4   rooms                 23699 non-null  int64  \n",
      " 5   ceiling_height        14504 non-null  float64\n",
      " 6   floors_total          23613 non-null  float64\n",
      " 7   living_area           21796 non-null  float64\n",
      " 8   floor                 23699 non-null  int64  \n",
      " 9   is_apartment          2775 non-null   object \n",
      " 10  studio                23699 non-null  bool   \n",
      " 11  open_plan             23699 non-null  bool   \n",
      " 12  kitchen_area          21421 non-null  float64\n",
      " 13  balcony               12180 non-null  float64\n",
      " 14  locality_name         23650 non-null  object \n",
      " 15  airports_nearest      18157 non-null  float64\n",
      " 16  cityCenters_nearest   18180 non-null  float64\n",
      " 17  parks_around3000      18181 non-null  float64\n",
      " 18  parks_nearest         8079 non-null   float64\n",
      " 19  ponds_around3000      18181 non-null  float64\n",
      " 20  ponds_nearest         9110 non-null   float64\n",
      " 21  days_exposition       20518 non-null  float64\n",
      "dtypes: bool(2), float64(14), int64(3), object(3)\n",
      "memory usage: 3.7+ MB\n"
     ]
    }
   ],
   "source": [
    "real_estate_data.info()"
   ]
  },
  {
   "cell_type": "code",
   "execution_count": 4,
   "metadata": {},
   "outputs": [
    {
     "data": {
      "text/plain": [
       "array([[<AxesSubplot:title={'center':'total_images'}>,\n",
       "        <AxesSubplot:title={'center':'last_price'}>,\n",
       "        <AxesSubplot:title={'center':'total_area'}>,\n",
       "        <AxesSubplot:title={'center':'rooms'}>],\n",
       "       [<AxesSubplot:title={'center':'ceiling_height'}>,\n",
       "        <AxesSubplot:title={'center':'floors_total'}>,\n",
       "        <AxesSubplot:title={'center':'living_area'}>,\n",
       "        <AxesSubplot:title={'center':'floor'}>],\n",
       "       [<AxesSubplot:title={'center':'kitchen_area'}>,\n",
       "        <AxesSubplot:title={'center':'balcony'}>,\n",
       "        <AxesSubplot:title={'center':'airports_nearest'}>,\n",
       "        <AxesSubplot:title={'center':'cityCenters_nearest'}>],\n",
       "       [<AxesSubplot:title={'center':'parks_around3000'}>,\n",
       "        <AxesSubplot:title={'center':'parks_nearest'}>,\n",
       "        <AxesSubplot:title={'center':'ponds_around3000'}>,\n",
       "        <AxesSubplot:title={'center':'ponds_nearest'}>],\n",
       "       [<AxesSubplot:title={'center':'days_exposition'}>, <AxesSubplot:>,\n",
       "        <AxesSubplot:>, <AxesSubplot:>]], dtype=object)"
      ]
     },
     "execution_count": 4,
     "metadata": {},
     "output_type": "execute_result"
    },
    {
     "data": {
      "image/png": "[encoded data removed]",
      "text/plain": [
       "<Figure size 1080x1440 with 20 Axes>"
      ]
     },
     "metadata": {
      "needs_background": "light"
     },
     "output_type": "display_data"
    }
   ],
   "source": [
    "real_estate_data.hist(figsize=(15, 20))"
   ]
  },
  {
   "cell_type": "markdown",
   "metadata": {},
   "source": [
    "Промежуточный вывод по этапу \"Изучение общей информации\":\n",
    "- в данных есть пропуски\n",
    "- в данных есть аномальные значения\n",
    "- некоторые столбцы требуют изменения типа данных"
   ]
  },
  {
   "cell_type": "markdown",
   "metadata": {},
   "source": [
    "### Предобработка данных"
   ]
  },
  {
   "cell_type": "markdown",
   "metadata": {},
   "source": [
    " #### Пропущенные значения"
   ]
  },
  {
   "cell_type": "code",
   "execution_count": 45,
   "metadata": {},
   "outputs": [],
   "source": [
    "real_estate_data['ceiling_height'] = real_estate_data['ceiling_height'].fillna(real_estate_data['ceiling_height'].mean())\n",
    "real_estate_data['balcony'] = real_estate_data['balcony'].fillna(0)\n",
    "real_estate_data['parks_around3000'] = real_estate_data['parks_around3000'].fillna(0)\n",
    "real_estate_data['ponds_around3000'] = real_estate_data['ponds_around3000'].fillna(0)\n",
    "real_estate_data['parks_nearest'] = real_estate_data['parks_nearest'].fillna(real_estate_data['parks_nearest'].mean())\n",
    "real_estate_data['ponds_nearest'] = real_estate_data['ponds_nearest'].fillna(real_estate_data['ponds_nearest'].mean())\n",
    "real_estate_data = real_estate_data.dropna(subset=['floors_total', 'locality_name'])"
   ]
  },
  {
   "cell_type": "markdown",
   "metadata": {},
   "source": [
    "Пропуски наблюдаются в следующих столбцах: \n",
    "ceiling_height, floors_total, living_area, is_apartment, kitchen_area, balcony, locality_name, airports_nearest, cityCenters_nearest, parks_around3000, parks_nearest, ponds_around3000, ponds_nearest, days_exposition.\n",
    "\n",
    "Причины, которые могли привести к пропускам в данных:\n",
    "- отсутствие того или иного элемента(например, нет балкона)\n",
    "- отсутствие точного знания(например, неизвестна точная высота потолка)\n",
    "- пользователь просто не указал данные\n",
    "- отсутствие понимания некоторых терминов(например, не всем до конца понятно значение термина \"апартаменты\")"
   ]
  },
  {
   "cell_type": "code",
   "execution_count": 7,
   "metadata": {},
   "outputs": [
    {
     "data": {
      "text/plain": [
       "total_images                0\n",
       "last_price                  0\n",
       "total_area                  0\n",
       "first_day_exposition        0\n",
       "rooms                       0\n",
       "ceiling_height              0\n",
       "floors_total                0\n",
       "living_area              1903\n",
       "floor                       0\n",
       "is_apartment            20924\n",
       "studio                      0\n",
       "open_plan                   0\n",
       "kitchen_area             2278\n",
       "balcony                     0\n",
       "locality_name              49\n",
       "airports_nearest         5542\n",
       "cityCenters_nearest      5519\n",
       "parks_around3000            0\n",
       "parks_nearest               0\n",
       "ponds_around3000            0\n",
       "ponds_nearest               0\n",
       "days_exposition             0\n",
       "dtype: int64"
      ]
     },
     "execution_count": 7,
     "metadata": {},
     "output_type": "execute_result"
    }
   ],
   "source": [
    "#КОД РЕВЬЮЕРА\n",
    "\n",
    "real_estate_data.isna().sum()"
   ]
  },
  {
   "cell_type": "markdown",
   "metadata": {},
   "source": [
    "#### Типы данных"
   ]
  },
  {
   "cell_type": "code",
   "execution_count": 46,
   "metadata": {},
   "outputs": [],
   "source": [
    "real_estate_data['last_price'] = real_estate_data['last_price'].astype('int')\n",
    "real_estate_data['first_day_exposition'] = pd.to_datetime(real_estate_data['first_day_exposition'], format='%Y-%m-%dT%H:%M:%S')\n",
    "real_estate_data['floors_total'] = real_estate_data['floors_total'].astype('int')\n",
    "real_estate_data['is_apartment'] = real_estate_data['is_apartment'].astype('bool')\n",
    "real_estate_data['balcony'] = real_estate_data['balcony'].astype('int')\n",
    "real_estate_data['parks_around3000'] = real_estate_data['parks_around3000'].astype('int')\n",
    "real_estate_data['ponds_around3000'] = real_estate_data['ponds_around3000'].astype('int')\n",
    "real_estate_data['rooms'] = real_estate_data['rooms'].astype('int')"
   ]
  },
  {
   "cell_type": "markdown",
   "metadata": {},
   "source": [
    "Столбцы, в которых нужно изменить тип данных, и почему: \n",
    "\n",
    "- last_price: цена обычно указывается без значения копеек\n",
    "- first_day_exposition: дата требует тип datetime, а не object\n",
    "- floors_total: количество этажей не может быть дробным числом\n",
    "- is_apartment: категориальная переменная; определяет, является ли недвижимость апартаментами или нет\n",
    "- balcony: количество балконов может быть только целым числом\n",
    "- parks_around3000: количество парков может быть только целым числом\n",
    "- ponds_around3000: количество водоемов может быть только целым числом"
   ]
  },
  {
   "cell_type": "markdown",
   "metadata": {},
   "source": [
    "#### Дубликаты"
   ]
  },
  {
   "cell_type": "code",
   "execution_count": 48,
   "metadata": {
    "scrolled": false
   },
   "outputs": [
    {
     "data": {
      "text/plain": [
       "array(['Бокситогорск', 'Волосово', 'Волхов', 'Всеволожск', 'Выборг',\n",
       "       'Высоцк', 'Гатчина', 'Зеленогорск', 'Ивангород', 'Каменногорск',\n",
       "       'Кингисепп', 'Кириши', 'Кировск', 'Колпино', 'Коммунар',\n",
       "       'Красное Село', 'Кронштадт', 'Кудрово', 'Лодейное Поле',\n",
       "       'Ломоносов', 'Луга', 'Любань', 'Мурино', 'Никольское',\n",
       "       'Новая Ладога', 'Отрадное', 'Павловск', 'Петергоф', 'Пикалёво',\n",
       "       'Подпорожье', 'Приморск', 'Приозерск', 'Пушкин', 'Санкт-Петербург',\n",
       "       'Светогорск', 'Сертолово', 'Сестрорецк', 'Сланцы', 'Сосновый Бор',\n",
       "       'Сясьстрой', 'Тихвин', 'Тосно', 'Шлиссельбург',\n",
       "       'городской поселок Большая Ижора', 'городской поселок Янино-1',\n",
       "       'городской посёлок Будогощь', 'городской посёлок Виллози',\n",
       "       'городской посёлок Лесогорский', 'городской посёлок Мга',\n",
       "       'городской посёлок Назия', 'городской посёлок Новоселье',\n",
       "       'городской посёлок Павлово', 'городской посёлок Рощино',\n",
       "       'городской посёлок Свирьстрой', 'городской посёлок Советский',\n",
       "       'городской посёлок Фёдоровское', 'городской посёлок Янино-1',\n",
       "       'деревня Агалатово', 'деревня Аро', 'деревня Батово',\n",
       "       'деревня Бегуницы', 'деревня Белогорка', 'деревня Большая Вруда',\n",
       "       'деревня Большая Пустомержа', 'деревня Большие Колпаны',\n",
       "       'деревня Большое Рейзино', 'деревня Большой Сабск', 'деревня Бор',\n",
       "       'деревня Борисова Грива', 'деревня Ваганово', 'деревня Вартемяги',\n",
       "       'деревня Вахнова Кара', 'деревня Выскатка', 'деревня Гарболово',\n",
       "       'деревня Глинка', 'деревня Горбунки', 'деревня Гостилицы',\n",
       "       'деревня Заклинье', 'деревня Заневка', 'деревня Зимитицы',\n",
       "       'деревня Извара', 'деревня Иссад', 'деревня Калитино',\n",
       "       'деревня Кальтино', 'деревня Камышовка', 'деревня Каськово',\n",
       "       'деревня Келози', 'деревня Кипень', 'деревня Кисельня',\n",
       "       'деревня Колтуши', 'деревня Коркино', 'деревня Котлы',\n",
       "       'деревня Кривко', 'деревня Кудрово', 'деревня Кузьмолово',\n",
       "       'деревня Курковицы', 'деревня Куровицы', 'деревня Куттузи',\n",
       "       'деревня Лаврики', 'деревня Лаголово', 'деревня Лампово',\n",
       "       'деревня Лесколово', 'деревня Лопухинка', 'деревня Лупполово',\n",
       "       'деревня Малая Романовка', 'деревня Малое Верево',\n",
       "       'деревня Малое Карлино', 'деревня Малые Колпаны',\n",
       "       'деревня Мануйлово', 'деревня Меньково', 'деревня Мины',\n",
       "       'деревня Мистолово', 'деревня Ненимяки', 'деревня Нижние Осельки',\n",
       "       'деревня Нижняя', 'деревня Низино', 'деревня Новое Девяткино',\n",
       "       'деревня Новолисино', 'деревня Нурма', 'деревня Оржицы',\n",
       "       'деревня Парицы', 'деревня Пельгора', 'деревня Пеники',\n",
       "       'деревня Пижма', 'деревня Пикколово', 'деревня Пудомяги',\n",
       "       'деревня Пустынка', 'деревня Пчева', 'деревня Рабитицы',\n",
       "       'деревня Разбегаево', 'деревня Раздолье', 'деревня Разметелево',\n",
       "       'деревня Рапполово', 'деревня Реброво', 'деревня Русско',\n",
       "       'деревня Сижно', 'деревня Снегирёвка', 'деревня Старая',\n",
       "       'деревня Старая Пустошь', 'деревня Старое Хинколово',\n",
       "       'деревня Старополье', 'деревня Старосиверская',\n",
       "       'деревня Старые Бегуницы', 'деревня Суоранда',\n",
       "       'деревня Сяськелево', 'деревня Тарасово', 'деревня Терпилицы',\n",
       "       'деревня Тихковицы', 'деревня Тойворово', 'деревня Торосово',\n",
       "       'деревня Торошковичи', 'деревня Трубников Бор',\n",
       "       'деревня Фалилеево', 'деревня Фёдоровское', 'деревня Хапо-Ое',\n",
       "       'деревня Хязельки', 'деревня Чудской Бор', 'деревня Шпаньково',\n",
       "       'деревня Щеглово', 'деревня Юкки', 'деревня Ялгино',\n",
       "       'деревня Яльгелево', 'деревня Ям-Тесово',\n",
       "       'коттеджный поселок Кивеннапа Север', 'коттеджный поселок Счастье',\n",
       "       'коттеджный посёлок Лесное', 'поселок Аннино', 'поселок Барышево',\n",
       "       'поселок Бугры', 'поселок Возрождение', 'поселок Войсковицы',\n",
       "       'поселок Володарское', 'поселок Гаврилово', 'поселок Гарболово',\n",
       "       'поселок Гладкое', 'поселок Глажево', 'поселок Глебычево',\n",
       "       'поселок Гончарово', 'поселок Громово', 'поселок Дружноселье',\n",
       "       'поселок Елизаветино', 'поселок Жилгородок', 'поселок Жилпосёлок',\n",
       "       'поселок Житково', 'поселок Заводской', 'поселок Запорожское',\n",
       "       'поселок Зимитицы', 'поселок Ильичёво', 'поселок Калитино',\n",
       "       'поселок Каложицы', 'поселок Кингисеппский', 'поселок Кирпичное',\n",
       "       'поселок Кобралово', 'поселок Кобринское', 'поселок Коммунары',\n",
       "       'поселок Коробицыно', 'поселок Котельский',\n",
       "       'поселок Красная Долина', 'поселок Красносельское',\n",
       "       'поселок Лесное', 'поселок Лисий Нос', 'поселок Лукаши',\n",
       "       'поселок Любань', 'поселок Мельниково', 'поселок Мичуринское',\n",
       "       'поселок Молодцово', 'поселок Мурино', 'поселок Новый Свет',\n",
       "       'поселок Новый Учхоз', 'поселок Оредеж',\n",
       "       'поселок Пансионат Зелёный Бор', 'поселок Первомайское',\n",
       "       'поселок Перово', 'поселок Петровское', 'поселок Победа',\n",
       "       'поселок Поляны', 'поселок Почап', 'поселок Починок',\n",
       "       'поселок Пушное', 'поселок Пчевжа', 'поселок Рабитицы',\n",
       "       'поселок Романовка', 'поселок Ромашки', 'поселок Рябово',\n",
       "       'поселок Севастьяново', 'поселок Селезнёво', 'поселок Сельцо',\n",
       "       'поселок Семиозерье', 'поселок Семрино', 'поселок Серебрянский',\n",
       "       'поселок Совхозный', 'поселок Старая Малукса',\n",
       "       'поселок Стеклянный', 'поселок Сумино', 'поселок Суходолье',\n",
       "       'поселок Тельмана', 'поселок Терволово', 'поселок Торковичи',\n",
       "       'поселок Тёсово-4', 'поселок Углово', 'поселок Усть-Луга',\n",
       "       'поселок Ушаки', 'поселок Цвелодубово', 'поселок Цвылёво',\n",
       "       'поселок городского типа Большая Ижора',\n",
       "       'поселок городского типа Вырица',\n",
       "       'поселок городского типа Дружная Горка',\n",
       "       'поселок городского типа Дубровка',\n",
       "       'поселок городского типа Ефимовский',\n",
       "       'поселок городского типа Кондратьево',\n",
       "       'поселок городского типа Красный Бор',\n",
       "       'поселок городского типа Кузьмоловский',\n",
       "       'поселок городского типа Лебяжье',\n",
       "       'поселок городского типа Лесогорский',\n",
       "       'поселок городского типа Назия',\n",
       "       'поселок городского типа Никольский',\n",
       "       'поселок городского типа Приладожский',\n",
       "       'поселок городского типа Рахья', 'поселок городского типа Рощино',\n",
       "       'поселок городского типа Рябово',\n",
       "       'поселок городского типа Синявино',\n",
       "       'поселок городского типа Советский',\n",
       "       'поселок городского типа Токсово',\n",
       "       'поселок городского типа Форносово',\n",
       "       'поселок городского типа имени Свердлова',\n",
       "       'поселок станции Вещево', 'поселок станции Корнево',\n",
       "       'поселок станции Лужайка', 'поселок станции Приветнинское',\n",
       "       'посёлок Александровская', 'посёлок Алексеевка', 'посёлок Аннино',\n",
       "       'посёлок Белоостров', 'посёлок Бугры', 'посёлок Возрождение',\n",
       "       'посёлок Войскорово', 'посёлок Высокоключевой',\n",
       "       'посёлок Гаврилово', 'посёлок Дзержинского', 'посёлок Жилгородок',\n",
       "       'посёлок Ильичёво', 'посёлок Кикерино', 'посёлок Кобралово',\n",
       "       'посёлок Коробицыно', 'посёлок Левашово', 'посёлок Ленинское',\n",
       "       'посёлок Лисий Нос', 'посёлок Мельниково', 'посёлок Металлострой',\n",
       "       'посёлок Мичуринское', 'посёлок Молодёжное', 'посёлок Мурино',\n",
       "       'посёлок Мыза-Ивановка', 'посёлок Новогорелово',\n",
       "       'посёлок Новый Свет', 'посёлок Пансионат Зелёный Бор',\n",
       "       'посёлок Парголово', 'посёлок Перово', 'посёлок Песочный',\n",
       "       'посёлок Петро-Славянка', 'посёлок Петровское',\n",
       "       'посёлок Платформа 69-й километр', 'посёлок Плодовое',\n",
       "       'посёлок Плоское', 'посёлок Победа', 'посёлок Поляны',\n",
       "       'посёлок Понтонный', 'посёлок Пригородный', 'посёлок Пудость',\n",
       "       'посёлок Репино', 'посёлок Ропша', 'посёлок Сапёрное',\n",
       "       'посёлок Сапёрный', 'посёлок Сосново', 'посёлок Старая Малукса',\n",
       "       'посёлок Стеклянный', 'посёлок Стрельна', 'посёлок Суйда',\n",
       "       'посёлок Сумино', 'посёлок Тельмана', 'посёлок Терволово',\n",
       "       'посёлок Торфяное', 'посёлок Усть-Ижора', 'посёлок Усть-Луга',\n",
       "       'посёлок Форт Красная Горка', 'посёлок Шугозеро', 'посёлок Шушары',\n",
       "       'посёлок Щеглово', 'посёлок городского типа Важины',\n",
       "       'посёлок городского типа Вознесенье',\n",
       "       'посёлок городского типа Вырица',\n",
       "       'посёлок городского типа Красный Бор',\n",
       "       'посёлок городского типа Кузнечное',\n",
       "       'посёлок городского типа Кузьмоловский',\n",
       "       'посёлок городского типа Лебяжье', 'посёлок городского типа Мга',\n",
       "       'посёлок городского типа Павлово',\n",
       "       'посёлок городского типа Рощино', 'посёлок городского типа Рябово',\n",
       "       'посёлок городского типа Сиверский',\n",
       "       'посёлок городского типа Тайцы', 'посёлок городского типа Токсово',\n",
       "       'посёлок городского типа Ульяновка',\n",
       "       'посёлок городского типа Форносово',\n",
       "       'посёлок городского типа имени Морозова',\n",
       "       'посёлок городского типа имени Свердлова',\n",
       "       'посёлок при железнодорожной станции Вещево',\n",
       "       'посёлок при железнодорожной станции Приветнинское',\n",
       "       'посёлок станции Громово', 'посёлок станции Свирь',\n",
       "       'садоводческое некоммерческое товарищество Лесная Поляна',\n",
       "       'садовое товарищество Новая Ропша',\n",
       "       'садовое товарищество Приладожский', 'садовое товарищество Рахья',\n",
       "       'садовое товарищество Садко', 'село Копорье', 'село Никольское',\n",
       "       'село Павлово', 'село Паша', 'село Путилово', 'село Рождествено',\n",
       "       'село Русско-Высоцкое', 'село Старая Ладога', 'село Шум'],\n",
       "      dtype=object)"
      ]
     },
     "execution_count": 48,
     "metadata": {},
     "output_type": "execute_result"
    }
   ],
   "source": [
    "real_estate_data['locality_name'].sort_values().unique()"
   ]
  },
  {
   "cell_type": "code",
   "execution_count": 49,
   "metadata": {},
   "outputs": [],
   "source": [
    "variants = ['городской поселок', 'городской посёлок', 'поселок городского типа', 'поселок станции', \n",
    "           'посёлок', 'посёлок городского типа', 'посёлок при железнодорожной станции', 'посёлок станции', \n",
    "           'коттеджный поселок', 'поселок при железнодорожной станции']\n",
    "\n",
    "for variant in variants:\n",
    "    real_estate_data['locality_name'] = real_estate_data['locality_name'].str.replace(variant, 'поселок')  "
   ]
  },
  {
   "cell_type": "markdown",
   "metadata": {},
   "source": [
    "#### Аномальные или искаженные значения"
   ]
  },
  {
   "cell_type": "code",
   "execution_count": 50,
   "metadata": {},
   "outputs": [
    {
     "data": {
      "text/html": [
       "<div>\n",
       "<style scoped>\n",
       "    .dataframe tbody tr th:only-of-type {\n",
       "        vertical-align: middle;\n",
       "    }\n",
       "\n",
       "    .dataframe tbody tr th {\n",
       "        vertical-align: top;\n",
       "    }\n",
       "\n",
       "    .dataframe thead th {\n",
       "        text-align: right;\n",
       "    }\n",
       "</style>\n",
       "<table border=\"1\" class=\"dataframe\">\n",
       "  <thead>\n",
       "    <tr style=\"text-align: right;\">\n",
       "      <th></th>\n",
       "      <th>total_images</th>\n",
       "      <th>last_price</th>\n",
       "      <th>total_area</th>\n",
       "      <th>rooms</th>\n",
       "      <th>ceiling_height</th>\n",
       "      <th>floors_total</th>\n",
       "      <th>living_area</th>\n",
       "      <th>floor</th>\n",
       "      <th>kitchen_area</th>\n",
       "      <th>balcony</th>\n",
       "      <th>airports_nearest</th>\n",
       "      <th>cityCenters_nearest</th>\n",
       "      <th>parks_around3000</th>\n",
       "      <th>parks_nearest</th>\n",
       "      <th>ponds_around3000</th>\n",
       "      <th>ponds_nearest</th>\n",
       "      <th>days_exposition</th>\n",
       "    </tr>\n",
       "  </thead>\n",
       "  <tbody>\n",
       "    <tr>\n",
       "      <th>count</th>\n",
       "      <td>23565.000000</td>\n",
       "      <td>2.356500e+04</td>\n",
       "      <td>23565.000000</td>\n",
       "      <td>23565.000000</td>\n",
       "      <td>23565.000000</td>\n",
       "      <td>23565.000000</td>\n",
       "      <td>21700.000000</td>\n",
       "      <td>23565.000000</td>\n",
       "      <td>21343.000000</td>\n",
       "      <td>23565.000000</td>\n",
       "      <td>18041.000000</td>\n",
       "      <td>18064.000000</td>\n",
       "      <td>23565.000000</td>\n",
       "      <td>23565.000000</td>\n",
       "      <td>23565.000000</td>\n",
       "      <td>23565.000000</td>\n",
       "      <td>20394.000000</td>\n",
       "    </tr>\n",
       "    <tr>\n",
       "      <th>mean</th>\n",
       "      <td>9.878421</td>\n",
       "      <td>6.540058e+06</td>\n",
       "      <td>60.322824</td>\n",
       "      <td>2.070656</td>\n",
       "      <td>2.771366</td>\n",
       "      <td>10.675875</td>\n",
       "      <td>34.454822</td>\n",
       "      <td>5.878124</td>\n",
       "      <td>10.560994</td>\n",
       "      <td>0.593677</td>\n",
       "      <td>28797.082701</td>\n",
       "      <td>14192.656056</td>\n",
       "      <td>0.468831</td>\n",
       "      <td>490.728189</td>\n",
       "      <td>0.589900</td>\n",
       "      <td>518.099236</td>\n",
       "      <td>180.741395</td>\n",
       "    </tr>\n",
       "    <tr>\n",
       "      <th>std</th>\n",
       "      <td>5.681156</td>\n",
       "      <td>1.091093e+07</td>\n",
       "      <td>35.657060</td>\n",
       "      <td>1.078591</td>\n",
       "      <td>0.989266</td>\n",
       "      <td>6.594823</td>\n",
       "      <td>22.045359</td>\n",
       "      <td>4.871485</td>\n",
       "      <td>5.900630</td>\n",
       "      <td>0.960660</td>\n",
       "      <td>12632.499735</td>\n",
       "      <td>8613.348153</td>\n",
       "      <td>0.748403</td>\n",
       "      <td>199.383751</td>\n",
       "      <td>0.883966</td>\n",
       "      <td>172.147002</td>\n",
       "      <td>219.732782</td>\n",
       "    </tr>\n",
       "    <tr>\n",
       "      <th>min</th>\n",
       "      <td>0.000000</td>\n",
       "      <td>1.219000e+04</td>\n",
       "      <td>12.000000</td>\n",
       "      <td>0.000000</td>\n",
       "      <td>1.000000</td>\n",
       "      <td>1.000000</td>\n",
       "      <td>2.000000</td>\n",
       "      <td>1.000000</td>\n",
       "      <td>1.300000</td>\n",
       "      <td>0.000000</td>\n",
       "      <td>0.000000</td>\n",
       "      <td>181.000000</td>\n",
       "      <td>0.000000</td>\n",
       "      <td>1.000000</td>\n",
       "      <td>0.000000</td>\n",
       "      <td>13.000000</td>\n",
       "      <td>1.000000</td>\n",
       "    </tr>\n",
       "    <tr>\n",
       "      <th>25%</th>\n",
       "      <td>6.000000</td>\n",
       "      <td>3.400000e+06</td>\n",
       "      <td>40.000000</td>\n",
       "      <td>1.000000</td>\n",
       "      <td>2.600000</td>\n",
       "      <td>5.000000</td>\n",
       "      <td>18.600000</td>\n",
       "      <td>2.000000</td>\n",
       "      <td>7.000000</td>\n",
       "      <td>0.000000</td>\n",
       "      <td>18565.000000</td>\n",
       "      <td>9238.000000</td>\n",
       "      <td>0.000000</td>\n",
       "      <td>490.804555</td>\n",
       "      <td>0.000000</td>\n",
       "      <td>517.980900</td>\n",
       "      <td>45.000000</td>\n",
       "    </tr>\n",
       "    <tr>\n",
       "      <th>50%</th>\n",
       "      <td>9.000000</td>\n",
       "      <td>4.646000e+06</td>\n",
       "      <td>52.000000</td>\n",
       "      <td>2.000000</td>\n",
       "      <td>2.771499</td>\n",
       "      <td>9.000000</td>\n",
       "      <td>30.000000</td>\n",
       "      <td>4.000000</td>\n",
       "      <td>9.100000</td>\n",
       "      <td>0.000000</td>\n",
       "      <td>26757.000000</td>\n",
       "      <td>13096.500000</td>\n",
       "      <td>0.000000</td>\n",
       "      <td>490.804555</td>\n",
       "      <td>0.000000</td>\n",
       "      <td>517.980900</td>\n",
       "      <td>95.000000</td>\n",
       "    </tr>\n",
       "    <tr>\n",
       "      <th>75%</th>\n",
       "      <td>14.000000</td>\n",
       "      <td>6.790000e+06</td>\n",
       "      <td>69.700000</td>\n",
       "      <td>3.000000</td>\n",
       "      <td>2.771499</td>\n",
       "      <td>16.000000</td>\n",
       "      <td>42.300000</td>\n",
       "      <td>8.000000</td>\n",
       "      <td>12.000000</td>\n",
       "      <td>1.000000</td>\n",
       "      <td>37273.000000</td>\n",
       "      <td>16285.000000</td>\n",
       "      <td>1.000000</td>\n",
       "      <td>490.804555</td>\n",
       "      <td>1.000000</td>\n",
       "      <td>517.980900</td>\n",
       "      <td>231.000000</td>\n",
       "    </tr>\n",
       "    <tr>\n",
       "      <th>max</th>\n",
       "      <td>50.000000</td>\n",
       "      <td>7.630000e+08</td>\n",
       "      <td>900.000000</td>\n",
       "      <td>19.000000</td>\n",
       "      <td>100.000000</td>\n",
       "      <td>60.000000</td>\n",
       "      <td>409.700000</td>\n",
       "      <td>33.000000</td>\n",
       "      <td>112.000000</td>\n",
       "      <td>5.000000</td>\n",
       "      <td>84869.000000</td>\n",
       "      <td>65968.000000</td>\n",
       "      <td>3.000000</td>\n",
       "      <td>3190.000000</td>\n",
       "      <td>3.000000</td>\n",
       "      <td>1344.000000</td>\n",
       "      <td>1580.000000</td>\n",
       "    </tr>\n",
       "  </tbody>\n",
       "</table>\n",
       "</div>"
      ],
      "text/plain": [
       "       total_images    last_price    total_area         rooms  ceiling_height  \\\n",
       "count  23565.000000  2.356500e+04  23565.000000  23565.000000    23565.000000   \n",
       "mean       9.878421  6.540058e+06     60.322824      2.070656        2.771366   \n",
       "std        5.681156  1.091093e+07     35.657060      1.078591        0.989266   \n",
       "min        0.000000  1.219000e+04     12.000000      0.000000        1.000000   \n",
       "25%        6.000000  3.400000e+06     40.000000      1.000000        2.600000   \n",
       "50%        9.000000  4.646000e+06     52.000000      2.000000        2.771499   \n",
       "75%       14.000000  6.790000e+06     69.700000      3.000000        2.771499   \n",
       "max       50.000000  7.630000e+08    900.000000     19.000000      100.000000   \n",
       "\n",
       "       floors_total   living_area         floor  kitchen_area       balcony  \\\n",
       "count  23565.000000  21700.000000  23565.000000  21343.000000  23565.000000   \n",
       "mean      10.675875     34.454822      5.878124     10.560994      0.593677   \n",
       "std        6.594823     22.045359      4.871485      5.900630      0.960660   \n",
       "min        1.000000      2.000000      1.000000      1.300000      0.000000   \n",
       "25%        5.000000     18.600000      2.000000      7.000000      0.000000   \n",
       "50%        9.000000     30.000000      4.000000      9.100000      0.000000   \n",
       "75%       16.000000     42.300000      8.000000     12.000000      1.000000   \n",
       "max       60.000000    409.700000     33.000000    112.000000      5.000000   \n",
       "\n",
       "       airports_nearest  cityCenters_nearest  parks_around3000  parks_nearest  \\\n",
       "count      18041.000000         18064.000000      23565.000000   23565.000000   \n",
       "mean       28797.082701         14192.656056          0.468831     490.728189   \n",
       "std        12632.499735          8613.348153          0.748403     199.383751   \n",
       "min            0.000000           181.000000          0.000000       1.000000   \n",
       "25%        18565.000000          9238.000000          0.000000     490.804555   \n",
       "50%        26757.000000         13096.500000          0.000000     490.804555   \n",
       "75%        37273.000000         16285.000000          1.000000     490.804555   \n",
       "max        84869.000000         65968.000000          3.000000    3190.000000   \n",
       "\n",
       "       ponds_around3000  ponds_nearest  days_exposition  \n",
       "count      23565.000000   23565.000000     20394.000000  \n",
       "mean           0.589900     518.099236       180.741395  \n",
       "std            0.883966     172.147002       219.732782  \n",
       "min            0.000000      13.000000         1.000000  \n",
       "25%            0.000000     517.980900        45.000000  \n",
       "50%            0.000000     517.980900        95.000000  \n",
       "75%            1.000000     517.980900       231.000000  \n",
       "max            3.000000    1344.000000      1580.000000  "
      ]
     },
     "execution_count": 50,
     "metadata": {},
     "output_type": "execute_result"
    }
   ],
   "source": [
    "real_estate_data.describe()"
   ]
  },
  {
   "cell_type": "markdown",
   "metadata": {},
   "source": [
    "Комментарии. После вызова метода describe() и изучения полученных данных можно сделать выводы, что значения были искажены в столбце ceiling_height, в остальных столбцах просто наблюдаются редкие аномальные значения. Этот комментарий объясняет, почему был написан код в следующей ячейке."
   ]
  },
  {
   "cell_type": "code",
   "execution_count": 51,
   "metadata": {},
   "outputs": [],
   "source": [
    "for column in real_estate_data.describe().columns.to_list():\n",
    "    # Восстанавливаем корректное значение в столбце ceiling_height\n",
    "    if column == 'ceiling_height':\n",
    "        filter = real_estate_data[column] > 10\n",
    "        real_estate_data.loc[filter, column] = real_estate_data.loc[filter, column] / 10\n",
    "        \n",
    "    # Вычисляем IQR    \n",
    "    iqr = real_estate_data[column].describe().loc['75%'] - real_estate_data[column].describe().loc['25%']\n",
    "    \n",
    "    # Вычисляем минимальное и максимальное значения области нормальных значений\n",
    "    min_value = real_estate_data[column].describe().loc['25%'] - (1.5 * iqr)\n",
    "    max_value = real_estate_data[column].describe().loc['75%'] + (1.5 * iqr)\n",
    "    \n",
    "    # Устраняем отрицательное значение min_value\n",
    "    if min_value < 0:\n",
    "        min_value = real_estate_data[column].describe().loc['min']\n",
    "        \n",
    "    # Удаляем редкие и выбивающиеся значения    \n",
    "    real_estate_data[column] = real_estate_data[(real_estate_data[column] <= max_value) & (real_estate_data[column] >= min_value)][column]    "
   ]
  },
  {
   "cell_type": "code",
   "execution_count": 52,
   "metadata": {},
   "outputs": [
    {
     "data": {
      "text/html": [
       "<div>\n",
       "<style scoped>\n",
       "    .dataframe tbody tr th:only-of-type {\n",
       "        vertical-align: middle;\n",
       "    }\n",
       "\n",
       "    .dataframe tbody tr th {\n",
       "        vertical-align: top;\n",
       "    }\n",
       "\n",
       "    .dataframe thead th {\n",
       "        text-align: right;\n",
       "    }\n",
       "</style>\n",
       "<table border=\"1\" class=\"dataframe\">\n",
       "  <thead>\n",
       "    <tr style=\"text-align: right;\">\n",
       "      <th></th>\n",
       "      <th>total_images</th>\n",
       "      <th>last_price</th>\n",
       "      <th>total_area</th>\n",
       "      <th>rooms</th>\n",
       "      <th>ceiling_height</th>\n",
       "      <th>floors_total</th>\n",
       "      <th>living_area</th>\n",
       "      <th>floor</th>\n",
       "      <th>kitchen_area</th>\n",
       "      <th>balcony</th>\n",
       "      <th>airports_nearest</th>\n",
       "      <th>cityCenters_nearest</th>\n",
       "      <th>parks_around3000</th>\n",
       "      <th>parks_nearest</th>\n",
       "      <th>ponds_around3000</th>\n",
       "      <th>ponds_nearest</th>\n",
       "      <th>days_exposition</th>\n",
       "    </tr>\n",
       "  </thead>\n",
       "  <tbody>\n",
       "    <tr>\n",
       "      <th>count</th>\n",
       "      <td>23540.000000</td>\n",
       "      <td>2.151900e+04</td>\n",
       "      <td>22326.000000</td>\n",
       "      <td>23475.000000</td>\n",
       "      <td>22051.000000</td>\n",
       "      <td>23533.000000</td>\n",
       "      <td>20930.000000</td>\n",
       "      <td>22663.000000</td>\n",
       "      <td>20161.000000</td>\n",
       "      <td>22998.000000</td>\n",
       "      <td>17941.000000</td>\n",
       "      <td>16342.000000</td>\n",
       "      <td>22922.000000</td>\n",
       "      <td>1.553500e+04</td>\n",
       "      <td>22074.000000</td>\n",
       "      <td>1.452900e+04</td>\n",
       "      <td>18727.000000</td>\n",
       "    </tr>\n",
       "    <tr>\n",
       "      <th>mean</th>\n",
       "      <td>9.853186</td>\n",
       "      <td>4.837115e+06</td>\n",
       "      <td>54.319704</td>\n",
       "      <td>2.047796</td>\n",
       "      <td>2.702981</td>\n",
       "      <td>10.640930</td>\n",
       "      <td>31.544592</td>\n",
       "      <td>5.276707</td>\n",
       "      <td>9.504972</td>\n",
       "      <td>0.500000</td>\n",
       "      <td>28565.899615</td>\n",
       "      <td>12025.741035</td>\n",
       "      <td>0.397827</td>\n",
       "      <td>4.908046e+02</td>\n",
       "      <td>0.427109</td>\n",
       "      <td>5.179809e+02</td>\n",
       "      <td>128.421637</td>\n",
       "    </tr>\n",
       "    <tr>\n",
       "      <th>std</th>\n",
       "      <td>5.626412</td>\n",
       "      <td>2.215774e+06</td>\n",
       "      <td>19.331030</td>\n",
       "      <td>1.006547</td>\n",
       "      <td>0.130382</td>\n",
       "      <td>6.527996</td>\n",
       "      <td>13.934545</td>\n",
       "      <td>3.870440</td>\n",
       "      <td>3.132379</td>\n",
       "      <td>0.753635</td>\n",
       "      <td>12277.055382</td>\n",
       "      <td>5161.102668</td>\n",
       "      <td>0.625338</td>\n",
       "      <td>1.136905e-13</td>\n",
       "      <td>0.644448</td>\n",
       "      <td>1.136908e-13</td>\n",
       "      <td>121.237889</td>\n",
       "    </tr>\n",
       "    <tr>\n",
       "      <th>min</th>\n",
       "      <td>0.000000</td>\n",
       "      <td>1.219000e+04</td>\n",
       "      <td>12.000000</td>\n",
       "      <td>0.000000</td>\n",
       "      <td>2.400000</td>\n",
       "      <td>1.000000</td>\n",
       "      <td>2.000000</td>\n",
       "      <td>1.000000</td>\n",
       "      <td>1.300000</td>\n",
       "      <td>0.000000</td>\n",
       "      <td>0.000000</td>\n",
       "      <td>181.000000</td>\n",
       "      <td>0.000000</td>\n",
       "      <td>4.908046e+02</td>\n",
       "      <td>0.000000</td>\n",
       "      <td>5.179809e+02</td>\n",
       "      <td>1.000000</td>\n",
       "    </tr>\n",
       "    <tr>\n",
       "      <th>25%</th>\n",
       "      <td>6.000000</td>\n",
       "      <td>3.300000e+06</td>\n",
       "      <td>39.400000</td>\n",
       "      <td>1.000000</td>\n",
       "      <td>2.600000</td>\n",
       "      <td>5.000000</td>\n",
       "      <td>18.400000</td>\n",
       "      <td>2.000000</td>\n",
       "      <td>7.000000</td>\n",
       "      <td>0.000000</td>\n",
       "      <td>18539.000000</td>\n",
       "      <td>8460.000000</td>\n",
       "      <td>0.000000</td>\n",
       "      <td>4.908046e+02</td>\n",
       "      <td>0.000000</td>\n",
       "      <td>5.179809e+02</td>\n",
       "      <td>41.000000</td>\n",
       "    </tr>\n",
       "    <tr>\n",
       "      <th>50%</th>\n",
       "      <td>9.000000</td>\n",
       "      <td>4.400000e+06</td>\n",
       "      <td>50.000000</td>\n",
       "      <td>2.000000</td>\n",
       "      <td>2.771499</td>\n",
       "      <td>9.000000</td>\n",
       "      <td>30.000000</td>\n",
       "      <td>4.000000</td>\n",
       "      <td>9.000000</td>\n",
       "      <td>0.000000</td>\n",
       "      <td>26646.000000</td>\n",
       "      <td>12480.000000</td>\n",
       "      <td>0.000000</td>\n",
       "      <td>4.908046e+02</td>\n",
       "      <td>0.000000</td>\n",
       "      <td>5.179809e+02</td>\n",
       "      <td>85.000000</td>\n",
       "    </tr>\n",
       "    <tr>\n",
       "      <th>75%</th>\n",
       "      <td>14.000000</td>\n",
       "      <td>6.000000e+06</td>\n",
       "      <td>65.500000</td>\n",
       "      <td>3.000000</td>\n",
       "      <td>2.771499</td>\n",
       "      <td>16.000000</td>\n",
       "      <td>41.000000</td>\n",
       "      <td>7.000000</td>\n",
       "      <td>11.100000</td>\n",
       "      <td>1.000000</td>\n",
       "      <td>36998.000000</td>\n",
       "      <td>15328.750000</td>\n",
       "      <td>1.000000</td>\n",
       "      <td>4.908046e+02</td>\n",
       "      <td>1.000000</td>\n",
       "      <td>5.179809e+02</td>\n",
       "      <td>182.000000</td>\n",
       "    </tr>\n",
       "    <tr>\n",
       "      <th>max</th>\n",
       "      <td>26.000000</td>\n",
       "      <td>1.186686e+07</td>\n",
       "      <td>114.200000</td>\n",
       "      <td>6.000000</td>\n",
       "      <td>3.020000</td>\n",
       "      <td>29.000000</td>\n",
       "      <td>77.800000</td>\n",
       "      <td>17.000000</td>\n",
       "      <td>19.500000</td>\n",
       "      <td>2.000000</td>\n",
       "      <td>65328.000000</td>\n",
       "      <td>26845.000000</td>\n",
       "      <td>2.000000</td>\n",
       "      <td>4.908046e+02</td>\n",
       "      <td>2.000000</td>\n",
       "      <td>5.179809e+02</td>\n",
       "      <td>510.000000</td>\n",
       "    </tr>\n",
       "  </tbody>\n",
       "</table>\n",
       "</div>"
      ],
      "text/plain": [
       "       total_images    last_price    total_area         rooms  ceiling_height  \\\n",
       "count  23540.000000  2.151900e+04  22326.000000  23475.000000    22051.000000   \n",
       "mean       9.853186  4.837115e+06     54.319704      2.047796        2.702981   \n",
       "std        5.626412  2.215774e+06     19.331030      1.006547        0.130382   \n",
       "min        0.000000  1.219000e+04     12.000000      0.000000        2.400000   \n",
       "25%        6.000000  3.300000e+06     39.400000      1.000000        2.600000   \n",
       "50%        9.000000  4.400000e+06     50.000000      2.000000        2.771499   \n",
       "75%       14.000000  6.000000e+06     65.500000      3.000000        2.771499   \n",
       "max       26.000000  1.186686e+07    114.200000      6.000000        3.020000   \n",
       "\n",
       "       floors_total   living_area         floor  kitchen_area       balcony  \\\n",
       "count  23533.000000  20930.000000  22663.000000  20161.000000  22998.000000   \n",
       "mean      10.640930     31.544592      5.276707      9.504972      0.500000   \n",
       "std        6.527996     13.934545      3.870440      3.132379      0.753635   \n",
       "min        1.000000      2.000000      1.000000      1.300000      0.000000   \n",
       "25%        5.000000     18.400000      2.000000      7.000000      0.000000   \n",
       "50%        9.000000     30.000000      4.000000      9.000000      0.000000   \n",
       "75%       16.000000     41.000000      7.000000     11.100000      1.000000   \n",
       "max       29.000000     77.800000     17.000000     19.500000      2.000000   \n",
       "\n",
       "       airports_nearest  cityCenters_nearest  parks_around3000  parks_nearest  \\\n",
       "count      17941.000000         16342.000000      22922.000000   1.553500e+04   \n",
       "mean       28565.899615         12025.741035          0.397827   4.908046e+02   \n",
       "std        12277.055382          5161.102668          0.625338   1.136905e-13   \n",
       "min            0.000000           181.000000          0.000000   4.908046e+02   \n",
       "25%        18539.000000          8460.000000          0.000000   4.908046e+02   \n",
       "50%        26646.000000         12480.000000          0.000000   4.908046e+02   \n",
       "75%        36998.000000         15328.750000          1.000000   4.908046e+02   \n",
       "max        65328.000000         26845.000000          2.000000   4.908046e+02   \n",
       "\n",
       "       ponds_around3000  ponds_nearest  days_exposition  \n",
       "count      22074.000000   1.452900e+04     18727.000000  \n",
       "mean           0.427109   5.179809e+02       128.421637  \n",
       "std            0.644448   1.136908e-13       121.237889  \n",
       "min            0.000000   5.179809e+02         1.000000  \n",
       "25%            0.000000   5.179809e+02        41.000000  \n",
       "50%            0.000000   5.179809e+02        85.000000  \n",
       "75%            1.000000   5.179809e+02       182.000000  \n",
       "max            2.000000   5.179809e+02       510.000000  "
      ]
     },
     "execution_count": 52,
     "metadata": {},
     "output_type": "execute_result"
    }
   ],
   "source": [
    "real_estate_data.describe()"
   ]
  },
  {
   "cell_type": "markdown",
   "metadata": {},
   "source": [
    "Комментарий. Для решения данной задачи пытался использовать boxplot(), но для точности вычисления аномальных значений выбрал describe()."
   ]
  },
  {
   "cell_type": "markdown",
   "metadata": {},
   "source": [
    "В данных были обнаружены следующие особенности:\n",
    "- в некоторых столбцах при вычислении минимального нормального значения по формуле Q1-1.5*IQR были получены отрицательные числа, что не может быть(например, количество фотографий не может быть отрицательным)\n",
    "- искаженные значения наблюдались только в столбце ceiling_height"
   ]
  },
  {
   "cell_type": "markdown",
   "metadata": {},
   "source": [
    "Промежуточный вывод по этапу \"Предобработка данных\":\n",
    "- наблюдаемые пропуски, дубликаты, аномальные значения удалены\n",
    "- искаженные значения поправлены\n",
    "- типы данных изменены"
   ]
  },
  {
   "cell_type": "markdown",
   "metadata": {},
   "source": [
    "### Посчитайте и добавьте в таблицу новые столбцы"
   ]
  },
  {
   "cell_type": "code",
   "execution_count": 53,
   "metadata": {
    "scrolled": true
   },
   "outputs": [],
   "source": [
    "real_estate_data['price_square_meter'] = real_estate_data['last_price'] / real_estate_data['total_area']"
   ]
  },
  {
   "cell_type": "code",
   "execution_count": 54,
   "metadata": {},
   "outputs": [],
   "source": [
    "real_estate_data['day_publication'] = real_estate_data['first_day_exposition'].dt.dayofweek"
   ]
  },
  {
   "cell_type": "code",
   "execution_count": 55,
   "metadata": {},
   "outputs": [],
   "source": [
    "real_estate_data['month_publication'] = real_estate_data['first_day_exposition'].dt.month"
   ]
  },
  {
   "cell_type": "code",
   "execution_count": 56,
   "metadata": {},
   "outputs": [],
   "source": [
    "real_estate_data['year_publication'] = real_estate_data['first_day_exposition'].dt.year"
   ]
  },
  {
   "cell_type": "code",
   "execution_count": 57,
   "metadata": {},
   "outputs": [],
   "source": [
    "def floor_type(row_values):\n",
    "    if row_values['floor'] == row_values['floors_total']:\n",
    "        return 'последний'\n",
    "    if row_values['floor'] == 1:\n",
    "        return 'первый'\n",
    "    return 'другой'\n",
    "\n",
    "real_estate_data['floor_type'] = real_estate_data.apply(floor_type, axis=1)    "
   ]
  },
  {
   "cell_type": "code",
   "execution_count": 58,
   "metadata": {},
   "outputs": [],
   "source": [
    "real_estate_data['city_centers_nearestkm'] = real_estate_data['cityCenters_nearest'] / 1000\n",
    "real_estate_data['city_centers_nearestkm'] = real_estate_data['city_centers_nearestkm'].round()"
   ]
  },
  {
   "cell_type": "markdown",
   "metadata": {},
   "source": [
    "Промежуточный вывод по этапу \"Добавление новых столбцов\":\n",
    "- посчитаны и добавлены в таблицу 6 новых столбцов"
   ]
  },
  {
   "cell_type": "markdown",
   "metadata": {},
   "source": [
    "### Проведите исследовательский анализ данных"
   ]
  },
  {
   "cell_type": "markdown",
   "metadata": {},
   "source": [
    "#### Исследование параметров объектов"
   ]
  },
  {
   "cell_type": "code",
   "execution_count": 59,
   "metadata": {},
   "outputs": [
    {
     "data": {
      "text/plain": [
       "<AxesSubplot:>"
      ]
     },
     "execution_count": 59,
     "metadata": {},
     "output_type": "execute_result"
    },
    {
     "data": {
      "image/png": "[encoded data removed]",
      "text/plain": [
       "<Figure size 432x288 with 1 Axes>"
      ]
     },
     "metadata": {
      "needs_background": "light"
     },
     "output_type": "display_data"
    }
   ],
   "source": [
    "real_estate_data['total_area'].hist()"
   ]
  },
  {
   "cell_type": "markdown",
   "metadata": {},
   "source": [
    "Наблюдения по параметру:\n",
    "- больше всего предложений квартир с общей площадью от 30 до 65 квадратных метров(2500 - более 5000)\n",
    "- меньше всего -- до 25 и свыше 105 квадратных метров(0 - 500)"
   ]
  },
  {
   "cell_type": "code",
   "execution_count": 60,
   "metadata": {},
   "outputs": [
    {
     "data": {
      "text/plain": [
       "<AxesSubplot:>"
      ]
     },
     "execution_count": 60,
     "metadata": {},
     "output_type": "execute_result"
    },
    {
     "data": {
      "image/png": "[encoded data removed]",
      "text/plain": [
       "<Figure size 432x288 with 1 Axes>"
      ]
     },
     "metadata": {
      "needs_background": "light"
     },
     "output_type": "display_data"
    }
   ],
   "source": [
    "real_estate_data['living_area'].hist()"
   ]
  },
  {
   "cell_type": "markdown",
   "metadata": {},
   "source": [
    "Наблюдения по параметру:\n",
    "- чаще всего встречается квартиры с жилой площадью от 17 до 32 квадратных метров\n",
    "- квартиры с жилой площадью меньше 9 и больше 70 квадратных метров втсречаются намного реже"
   ]
  },
  {
   "cell_type": "code",
   "execution_count": 61,
   "metadata": {},
   "outputs": [
    {
     "data": {
      "text/plain": [
       "<AxesSubplot:>"
      ]
     },
     "execution_count": 61,
     "metadata": {},
     "output_type": "execute_result"
    },
    {
     "data": {
      "image/png": "[encoded data removed]",
      "text/plain": [
       "<Figure size 432x288 with 1 Axes>"
      ]
     },
     "metadata": {
      "needs_background": "light"
     },
     "output_type": "display_data"
    }
   ],
   "source": [
    "real_estate_data['kitchen_area'].hist()"
   ]
  },
  {
   "cell_type": "markdown",
   "metadata": {},
   "source": [
    "Наблюдения по параметру:\n",
    "- кухни в большинстве случаев имеют площадь от 5 до 12 квадратных метров\n",
    "- и редко имеют площадь меньше 5 и больше 17,5 квадратных метров"
   ]
  },
  {
   "cell_type": "code",
   "execution_count": 62,
   "metadata": {},
   "outputs": [
    {
     "data": {
      "text/plain": [
       "<AxesSubplot:>"
      ]
     },
     "execution_count": 62,
     "metadata": {},
     "output_type": "execute_result"
    },
    {
     "data": {
      "image/png": "[encoded data removed]",
      "text/plain": [
       "<Figure size 432x288 with 1 Axes>"
      ]
     },
     "metadata": {
      "needs_background": "light"
     },
     "output_type": "display_data"
    }
   ],
   "source": [
    "real_estate_data['last_price'].hist()"
   ]
  },
  {
   "cell_type": "markdown",
   "metadata": {},
   "source": [
    "Наблюдения по параметру:\n",
    "- цена квартиры чаще всего варьируется в пределах от 2,5 млн. до 6 млн. рублей\n",
    "- гораздо реже встречается стоимость квартиры меньше 1,5 млн. и больше 10,5 млн. рублей"
   ]
  },
  {
   "cell_type": "code",
   "execution_count": 63,
   "metadata": {},
   "outputs": [
    {
     "data": {
      "text/plain": [
       "<AxesSubplot:>"
      ]
     },
     "execution_count": 63,
     "metadata": {},
     "output_type": "execute_result"
    },
    {
     "data": {
      "image/png": "[encoded data removed]",
      "text/plain": [
       "<Figure size 432x288 with 1 Axes>"
      ]
     },
     "metadata": {
      "needs_background": "light"
     },
     "output_type": "display_data"
    }
   ],
   "source": [
    "real_estate_data['rooms'].hist()"
   ]
  },
  {
   "cell_type": "markdown",
   "metadata": {},
   "source": [
    "Наблюдения по параметру:\n",
    "- на рынке больше представлены однокомнатные и двухкомнантные квартиры\n",
    "- и в очень малом количестве -- студии и пяти-, шестикомнантные квартиры"
   ]
  },
  {
   "cell_type": "code",
   "execution_count": 64,
   "metadata": {},
   "outputs": [
    {
     "data": {
      "text/plain": [
       "<AxesSubplot:>"
      ]
     },
     "execution_count": 64,
     "metadata": {},
     "output_type": "execute_result"
    },
    {
     "data": {
      "image/png": "[encoded data removed]",
      "text/plain": [
       "<Figure size 432x288 with 1 Axes>"
      ]
     },
     "metadata": {
      "needs_background": "light"
     },
     "output_type": "display_data"
    }
   ],
   "source": [
    "real_estate_data['ceiling_height'].hist()"
   ]
  },
  {
   "cell_type": "markdown",
   "metadata": {},
   "source": [
    "Наблюдения по параметру:\n",
    "- высота потолков колеблется в пределах от 2,71 до 2,77 метров\n",
    "- потолки с высотой менее 2,46 и 2,83-2,96 метров встречаются редко"
   ]
  },
  {
   "cell_type": "code",
   "execution_count": 65,
   "metadata": {},
   "outputs": [
    {
     "data": {
      "text/plain": [
       "<AxesSubplot:>"
      ]
     },
     "execution_count": 65,
     "metadata": {},
     "output_type": "execute_result"
    },
    {
     "data": {
      "image/png": "[encoded data removed]",
      "text/plain": [
       "<Figure size 432x288 with 1 Axes>"
      ]
     },
     "metadata": {
      "needs_background": "light"
     },
     "output_type": "display_data"
    }
   ],
   "source": [
    "real_estate_data['floor'].hist()"
   ]
  },
  {
   "cell_type": "markdown",
   "metadata": {},
   "source": [
    "Наблюдения по параметру:\n",
    "- в продаже чаще встречаются квартиры, которые располагаются на этажах с 1-го по 4-й\n",
    "- и меньше всего объявлений квартир, расположенных на 12-14 этажах"
   ]
  },
  {
   "cell_type": "code",
   "execution_count": 66,
   "metadata": {},
   "outputs": [
    {
     "data": {
      "text/plain": [
       "<AxesSubplot:>"
      ]
     },
     "execution_count": 66,
     "metadata": {},
     "output_type": "execute_result"
    },
    {
     "data": {
      "image/png": "[encoded data removed]",
      "text/plain": [
       "<Figure size 432x288 with 1 Axes>"
      ]
     },
     "metadata": {
      "needs_background": "light"
     },
     "output_type": "display_data"
    }
   ],
   "source": [
    "real_estate_data['floor_type'].hist()"
   ]
  },
  {
   "cell_type": "markdown",
   "metadata": {},
   "source": [
    "Наблюдения по параметру:\n",
    "- объявлений квартир, располагающихся на первом и последнем этажах, сильно меньше, чем квартир, занимающих другие этажи"
   ]
  },
  {
   "cell_type": "code",
   "execution_count": 67,
   "metadata": {},
   "outputs": [
    {
     "data": {
      "text/plain": [
       "<AxesSubplot:>"
      ]
     },
     "execution_count": 67,
     "metadata": {},
     "output_type": "execute_result"
    },
    {
     "data": {
      "image/png": "[encoded data removed]",
      "text/plain": [
       "<Figure size 432x288 with 1 Axes>"
      ]
     },
     "metadata": {
      "needs_background": "light"
     },
     "output_type": "display_data"
    }
   ],
   "source": [
    "real_estate_data['floors_total'].hist()"
   ]
  },
  {
   "cell_type": "markdown",
   "metadata": {},
   "source": [
    "Наблюдения по параметру:\n",
    "- количество этажей в доме обычно колеблется от 3 до 12\n",
    "- в редких случаях в доме больше 26 этажей"
   ]
  },
  {
   "cell_type": "code",
   "execution_count": 68,
   "metadata": {},
   "outputs": [
    {
     "data": {
      "text/plain": [
       "<AxesSubplot:>"
      ]
     },
     "execution_count": 68,
     "metadata": {},
     "output_type": "execute_result"
    },
    {
     "data": {
      "image/png": "[encoded data removed]",
      "text/plain": [
       "<Figure size 432x288 with 1 Axes>"
      ]
     },
     "metadata": {
      "needs_background": "light"
     },
     "output_type": "display_data"
    }
   ],
   "source": [
    "real_estate_data['cityCenters_nearest'].hist()"
   ]
  },
  {
   "cell_type": "markdown",
   "metadata": {},
   "source": [
    "Наблюдения по параметру:\n",
    "- данные показывают, что в среднем расстояние до центра города равняется 11-16 км\n",
    "- более 24 км -- это уже редко встречающееся значение"
   ]
  },
  {
   "cell_type": "code",
   "execution_count": 69,
   "metadata": {},
   "outputs": [
    {
     "data": {
      "text/plain": [
       "<AxesSubplot:>"
      ]
     },
     "execution_count": 69,
     "metadata": {},
     "output_type": "execute_result"
    },
    {
     "data": {
      "image/png": "[encoded data removed]",
      "text/plain": [
       "<Figure size 432x288 with 1 Axes>"
      ]
     },
     "metadata": {
      "needs_background": "light"
     },
     "output_type": "display_data"
    }
   ],
   "source": [
    "real_estate_data['airports_nearest'].hist()"
   ]
  },
  {
   "cell_type": "markdown",
   "metadata": {},
   "source": [
    "Наблюдения по параметру:\n",
    "- типичное расстояние до аэропорта равняется 13-39 км\n",
    "- 58 км и более -- редкое значение"
   ]
  },
  {
   "cell_type": "code",
   "execution_count": 70,
   "metadata": {},
   "outputs": [
    {
     "data": {
      "text/plain": [
       "<AxesSubplot:>"
      ]
     },
     "execution_count": 70,
     "metadata": {},
     "output_type": "execute_result"
    },
    {
     "data": {
      "image/png": "[encoded data removed]",
      "text/plain": [
       "<Figure size 432x288 with 1 Axes>"
      ]
     },
     "metadata": {
      "needs_background": "light"
     },
     "output_type": "display_data"
    }
   ],
   "source": [
    "real_estate_data['parks_nearest'].hist()"
   ]
  },
  {
   "cell_type": "markdown",
   "metadata": {},
   "source": [
    "Наблюдения по параметру:\n",
    "- расстояние до ближайшего парка находится в пределах от 490,8 до 490,9 метров"
   ]
  },
  {
   "cell_type": "code",
   "execution_count": 71,
   "metadata": {},
   "outputs": [
    {
     "data": {
      "text/plain": [
       "<AxesSubplot:>"
      ]
     },
     "execution_count": 71,
     "metadata": {},
     "output_type": "execute_result"
    },
    {
     "data": {
      "image/png": "[encoded data removed]",
      "text/plain": [
       "<Figure size 432x288 with 1 Axes>"
      ]
     },
     "metadata": {
      "needs_background": "light"
     },
     "output_type": "display_data"
    }
   ],
   "source": [
    "real_estate_data['day_publication'].hist()"
   ]
  },
  {
   "cell_type": "markdown",
   "metadata": {},
   "source": [
    "Наблюдения по параметру:\n",
    "- вторник и четверг -- самые частые дни публикации объявления\n",
    "- выходные дни(сб, вс) -- самые редкие"
   ]
  },
  {
   "cell_type": "code",
   "execution_count": 72,
   "metadata": {},
   "outputs": [
    {
     "data": {
      "text/plain": [
       "<AxesSubplot:>"
      ]
     },
     "execution_count": 72,
     "metadata": {},
     "output_type": "execute_result"
    },
    {
     "data": {
      "image/png": "[encoded data removed]",
      "text/plain": [
       "<Figure size 432x288 with 1 Axes>"
      ]
     },
     "metadata": {
      "needs_background": "light"
     },
     "output_type": "display_data"
    }
   ],
   "source": [
    "real_estate_data['month_publication'].hist()"
   ]
  },
  {
   "cell_type": "markdown",
   "metadata": {},
   "source": [
    "Наблюдения по параметру:\n",
    "- январь и ноябрь -- месяцы, в которые чаще всего публикуют объявления о продаже квартиры\n",
    "- середина апреля - середина мая -- период времени, в который частота публикаций новых объявлений самая низкая"
   ]
  },
  {
   "cell_type": "markdown",
   "metadata": {},
   "source": [
    "#### Скорость продажи квартир"
   ]
  },
  {
   "cell_type": "code",
   "execution_count": 73,
   "metadata": {},
   "outputs": [
    {
     "data": {
      "text/plain": [
       "<AxesSubplot:>"
      ]
     },
     "execution_count": 73,
     "metadata": {},
     "output_type": "execute_result"
    },
    {
     "data": {
      "image/png": "[encoded data removed]",
      "text/plain": [
       "<Figure size 432x288 with 1 Axes>"
      ]
     },
     "metadata": {
      "needs_background": "light"
     },
     "output_type": "display_data"
    }
   ],
   "source": [
    "real_estate_data['days_exposition'].hist()"
   ]
  },
  {
   "cell_type": "code",
   "execution_count": 74,
   "metadata": {},
   "outputs": [
    {
     "data": {
      "text/plain": [
       "128.42163720830885"
      ]
     },
     "execution_count": 74,
     "metadata": {},
     "output_type": "execute_result"
    }
   ],
   "source": [
    "real_estate_data['days_exposition'].mean()"
   ]
  },
  {
   "cell_type": "code",
   "execution_count": 75,
   "metadata": {},
   "outputs": [
    {
     "data": {
      "text/plain": [
       "85.0"
      ]
     },
     "execution_count": 75,
     "metadata": {},
     "output_type": "execute_result"
    }
   ],
   "source": [
    "real_estate_data['days_exposition'].median()"
   ]
  },
  {
   "cell_type": "markdown",
   "metadata": {},
   "source": [
    "Анализируя гистограмму, среднее и медиану по количеству дней размещения объявления, можно сделать следующие выводы:\n",
    "- продажа обычно занимает около 4 месяцев с момента публикации объявления\n",
    "- быстрыми можно считать продажи от 1 до 1,5 месяцев, долгими -- более 8 месяцев"
   ]
  },
  {
   "cell_type": "markdown",
   "metadata": {},
   "source": [
    "#### Исследование факторов, влияющих на стоимость квартиры"
   ]
  },
  {
   "cell_type": "code",
   "execution_count": 76,
   "metadata": {},
   "outputs": [
    {
     "data": {
      "text/plain": [
       "<AxesSubplot:xlabel='total_area', ylabel='last_price'>"
      ]
     },
     "execution_count": 76,
     "metadata": {},
     "output_type": "execute_result"
    },
    {
     "data": {
      "image/png": "[encoded data removed]",
      "text/plain": [
       "<Figure size 576x432 with 2 Axes>"
      ]
     },
     "metadata": {
      "needs_background": "light"
     },
     "output_type": "display_data"
    }
   ],
   "source": [
    "real_estate_data.plot(x='total_area', y='last_price', kind='hexbin', gridsize=20, figsize=(8, 6), sharex=False, grid=True)"
   ]
  },
  {
   "cell_type": "code",
   "execution_count": 77,
   "metadata": {},
   "outputs": [
    {
     "data": {
      "text/plain": [
       "<AxesSubplot:xlabel='living_area', ylabel='last_price'>"
      ]
     },
     "execution_count": 77,
     "metadata": {},
     "output_type": "execute_result"
    },
    {
     "data": {
      "image/png": "[encoded data removed]",
      "text/plain": [
       "<Figure size 576x432 with 2 Axes>"
      ]
     },
     "metadata": {
      "needs_background": "light"
     },
     "output_type": "display_data"
    }
   ],
   "source": [
    "real_estate_data.plot(x='living_area', y='last_price', kind='hexbin', gridsize=20, figsize=(8, 6), sharex=False, grid=True)"
   ]
  },
  {
   "cell_type": "code",
   "execution_count": 78,
   "metadata": {
    "scrolled": false
   },
   "outputs": [
    {
     "data": {
      "text/plain": [
       "<AxesSubplot:xlabel='kitchen_area', ylabel='last_price'>"
      ]
     },
     "execution_count": 78,
     "metadata": {},
     "output_type": "execute_result"
    },
    {
     "data": {
      "image/png": "[encoded data removed]",
      "text/plain": [
       "<Figure size 576x432 with 2 Axes>"
      ]
     },
     "metadata": {
      "needs_background": "light"
     },
     "output_type": "display_data"
    }
   ],
   "source": [
    "real_estate_data.plot(x='kitchen_area', y='last_price', kind='hexbin', gridsize=20, figsize=(8, 6), sharex=False, grid=True)"
   ]
  },
  {
   "cell_type": "code",
   "execution_count": 82,
   "metadata": {
    "scrolled": false
   },
   "outputs": [
    {
     "data": {
      "text/plain": [
       "<AxesSubplot:xlabel='rooms'>"
      ]
     },
     "execution_count": 82,
     "metadata": {},
     "output_type": "execute_result"
    },
    {
     "data": {
      "image/png": "[encoded data removed]",
      "text/plain": [
       "<Figure size 1152x504 with 1 Axes>"
      ]
     },
     "metadata": {
      "needs_background": "light"
     },
     "output_type": "display_data"
    }
   ],
   "source": [
    "real_estate_data.pivot_table(index='rooms', values='last_price').plot(style='o-', figsize=(16, 7), grid=True)"
   ]
  },
  {
   "cell_type": "code",
   "execution_count": 46,
   "metadata": {},
   "outputs": [
    {
     "data": {
      "text/plain": [
       "<AxesSubplot:xlabel='rooms'>"
      ]
     },
     "execution_count": 46,
     "metadata": {},
     "output_type": "execute_result"
    },
    {
     "data": {
      "image/png": "[encoded data removed]",
      "text/plain": [
       "<Figure size 1152x504 with 1 Axes>"
      ]
     },
     "metadata": {
      "needs_background": "light"
     },
     "output_type": "display_data"
    }
   ],
   "source": [
    "#КОД РЕВЬЮЕРА\n",
    "\n",
    "real_estate_data.pivot_table(index='rooms', values='last_price').plot(style='o-', figsize=(16, 7), grid=True)"
   ]
  },
  {
   "cell_type": "code",
   "execution_count": 86,
   "metadata": {},
   "outputs": [
    {
     "data": {
      "text/plain": [
       "<AxesSubplot:xlabel='floor_type'>"
      ]
     },
     "execution_count": 86,
     "metadata": {},
     "output_type": "execute_result"
    },
    {
     "data": {
      "image/png": "[encoded data removed]",
      "text/plain": [
       "<Figure size 1152x504 with 1 Axes>"
      ]
     },
     "metadata": {
      "needs_background": "light"
     },
     "output_type": "display_data"
    }
   ],
   "source": [
    "real_estate_data.pivot_table(index='floor_type', values='last_price').plot(style='o-', figsize=(16, 7), grid=True)"
   ]
  },
  {
   "cell_type": "code",
   "execution_count": 88,
   "metadata": {},
   "outputs": [
    {
     "data": {
      "text/plain": [
       "<AxesSubplot:xlabel='day_publication'>"
      ]
     },
     "execution_count": 88,
     "metadata": {},
     "output_type": "execute_result"
    },
    {
     "data": {
      "image/png": "[encoded data removed]",
      "text/plain": [
       "<Figure size 1152x504 with 1 Axes>"
      ]
     },
     "metadata": {
      "needs_background": "light"
     },
     "output_type": "display_data"
    }
   ],
   "source": [
    "real_estate_data.pivot_table(index='day_publication', values='last_price').plot(style='o-', figsize=(16, 7), grid=True)"
   ]
  },
  {
   "cell_type": "code",
   "execution_count": 89,
   "metadata": {},
   "outputs": [
    {
     "data": {
      "text/plain": [
       "<AxesSubplot:xlabel='month_publication'>"
      ]
     },
     "execution_count": 89,
     "metadata": {},
     "output_type": "execute_result"
    },
    {
     "data": {
      "image/png": "[encoded data removed]",
      "text/plain": [
       "<Figure size 1152x504 with 1 Axes>"
      ]
     },
     "metadata": {
      "needs_background": "light"
     },
     "output_type": "display_data"
    }
   ],
   "source": [
    "real_estate_data.pivot_table(index='month_publication', values='last_price').plot(style='o-', figsize=(16, 7), grid=True)"
   ]
  },
  {
   "cell_type": "code",
   "execution_count": 90,
   "metadata": {},
   "outputs": [
    {
     "data": {
      "text/plain": [
       "<AxesSubplot:xlabel='year_publication'>"
      ]
     },
     "execution_count": 90,
     "metadata": {},
     "output_type": "execute_result"
    },
    {
     "data": {
      "image/png": "[encoded data removed]",
      "text/plain": [
       "<Figure size 1152x504 with 1 Axes>"
      ]
     },
     "metadata": {
      "needs_background": "light"
     },
     "output_type": "display_data"
    }
   ],
   "source": [
    "real_estate_data.pivot_table(index='year_publication', values='last_price').plot(style='o-', figsize=(16, 7), grid=True)"
   ]
  },
  {
   "cell_type": "markdown",
   "metadata": {},
   "source": [
    "Построив и проанализировав графики зависимости цены от разных параметров, можно сделать вывод, что больше всего влияют на общую(полную) стоимость объекта следующие факторы -- количество комнат, месяц публикации, площадь кухни:\n",
    "- с увеличением количества комнат растет цена\n",
    "- предпочтительная площадь кухни 5,5-7 кв. метров; люди готовы тратить больше денег на квартиру при значениях 7,5-8,5 кв. метров и около 10 кв. метров\n",
    "- в апреле и сентябре наблюдаются самые высокие цены на недвижимость, в июне -- самые низкие"
   ]
  },
  {
   "cell_type": "markdown",
   "metadata": {},
   "source": [
    "#### Стоимость одного квадратного метра"
   ]
  },
  {
   "cell_type": "code",
   "execution_count": 84,
   "metadata": {},
   "outputs": [
    {
     "data": {
      "text/html": [
       "<div>\n",
       "<style scoped>\n",
       "    .dataframe tbody tr th:only-of-type {\n",
       "        vertical-align: middle;\n",
       "    }\n",
       "\n",
       "    .dataframe tbody tr th {\n",
       "        vertical-align: top;\n",
       "    }\n",
       "\n",
       "    .dataframe thead th {\n",
       "        text-align: right;\n",
       "    }\n",
       "</style>\n",
       "<table border=\"1\" class=\"dataframe\">\n",
       "  <thead>\n",
       "    <tr style=\"text-align: right;\">\n",
       "      <th></th>\n",
       "      <th>number_of_ads</th>\n",
       "      <th>price_square_meter</th>\n",
       "    </tr>\n",
       "    <tr>\n",
       "      <th>locality_name</th>\n",
       "      <th></th>\n",
       "      <th></th>\n",
       "    </tr>\n",
       "  </thead>\n",
       "  <tbody>\n",
       "    <tr>\n",
       "      <th>Санкт-Петербург</th>\n",
       "      <td>15701</td>\n",
       "      <td>105736.755242</td>\n",
       "    </tr>\n",
       "    <tr>\n",
       "      <th>поселок Мурино</th>\n",
       "      <td>556</td>\n",
       "      <td>85681.762601</td>\n",
       "    </tr>\n",
       "    <tr>\n",
       "      <th>поселок Шушары</th>\n",
       "      <td>440</td>\n",
       "      <td>78704.891847</td>\n",
       "    </tr>\n",
       "    <tr>\n",
       "      <th>Всеволожск</th>\n",
       "      <td>398</td>\n",
       "      <td>67222.431462</td>\n",
       "    </tr>\n",
       "    <tr>\n",
       "      <th>Пушкин</th>\n",
       "      <td>369</td>\n",
       "      <td>100493.971120</td>\n",
       "    </tr>\n",
       "    <tr>\n",
       "      <th>Колпино</th>\n",
       "      <td>338</td>\n",
       "      <td>75221.876295</td>\n",
       "    </tr>\n",
       "    <tr>\n",
       "      <th>поселок Парголово</th>\n",
       "      <td>327</td>\n",
       "      <td>90332.263023</td>\n",
       "    </tr>\n",
       "    <tr>\n",
       "      <th>Гатчина</th>\n",
       "      <td>306</td>\n",
       "      <td>68664.035870</td>\n",
       "    </tr>\n",
       "    <tr>\n",
       "      <th>деревня Кудрово</th>\n",
       "      <td>298</td>\n",
       "      <td>92409.726322</td>\n",
       "    </tr>\n",
       "    <tr>\n",
       "      <th>Выборг</th>\n",
       "      <td>237</td>\n",
       "      <td>58225.624357</td>\n",
       "    </tr>\n",
       "  </tbody>\n",
       "</table>\n",
       "</div>"
      ],
      "text/plain": [
       "                   number_of_ads  price_square_meter\n",
       "locality_name                                       \n",
       "Санкт-Петербург            15701       105736.755242\n",
       "поселок Мурино               556        85681.762601\n",
       "поселок Шушары               440        78704.891847\n",
       "Всеволожск                   398        67222.431462\n",
       "Пушкин                       369       100493.971120\n",
       "Колпино                      338        75221.876295\n",
       "поселок Парголово            327        90332.263023\n",
       "Гатчина                      306        68664.035870\n",
       "деревня Кудрово              298        92409.726322\n",
       "Выборг                       237        58225.624357"
      ]
     },
     "execution_count": 84,
     "metadata": {},
     "output_type": "execute_result"
    }
   ],
   "source": [
    "real_estate_data.groupby(by='locality_name')\\\n",
    ".agg({'total_images': 'count', 'price_square_meter': 'mean'})\\\n",
    ".rename(columns={'total_images': 'number_of_ads'})\\\n",
    ".sort_values(by='number_of_ads', ascending=False)\\\n",
    ".head(10)"
   ]
  },
  {
   "cell_type": "markdown",
   "metadata": {},
   "source": [
    "Самая высокая стоимость квадратного метра в Санкт-Петербурге(105737), самая низкая -- в Выборге(58226)."
   ]
  },
  {
   "cell_type": "markdown",
   "metadata": {},
   "source": [
    "#### Исследование фактора \"расстояние до центра города\""
   ]
  },
  {
   "cell_type": "code",
   "execution_count": 91,
   "metadata": {},
   "outputs": [
    {
     "data": {
      "text/html": [
       "<div>\n",
       "<style scoped>\n",
       "    .dataframe tbody tr th:only-of-type {\n",
       "        vertical-align: middle;\n",
       "    }\n",
       "\n",
       "    .dataframe tbody tr th {\n",
       "        vertical-align: top;\n",
       "    }\n",
       "\n",
       "    .dataframe thead th {\n",
       "        text-align: right;\n",
       "    }\n",
       "</style>\n",
       "<table border=\"1\" class=\"dataframe\">\n",
       "  <thead>\n",
       "    <tr style=\"text-align: right;\">\n",
       "      <th></th>\n",
       "      <th>last_price</th>\n",
       "    </tr>\n",
       "    <tr>\n",
       "      <th>city_centers_nearestkm</th>\n",
       "      <th></th>\n",
       "    </tr>\n",
       "  </thead>\n",
       "  <tbody>\n",
       "    <tr>\n",
       "      <th>0.0</th>\n",
       "      <td>8.398000e+06</td>\n",
       "    </tr>\n",
       "    <tr>\n",
       "      <th>1.0</th>\n",
       "      <td>8.145277e+06</td>\n",
       "    </tr>\n",
       "    <tr>\n",
       "      <th>2.0</th>\n",
       "      <td>7.970519e+06</td>\n",
       "    </tr>\n",
       "    <tr>\n",
       "      <th>3.0</th>\n",
       "      <td>7.350003e+06</td>\n",
       "    </tr>\n",
       "    <tr>\n",
       "      <th>4.0</th>\n",
       "      <td>7.606618e+06</td>\n",
       "    </tr>\n",
       "    <tr>\n",
       "      <th>5.0</th>\n",
       "      <td>7.661225e+06</td>\n",
       "    </tr>\n",
       "    <tr>\n",
       "      <th>6.0</th>\n",
       "      <td>7.096569e+06</td>\n",
       "    </tr>\n",
       "    <tr>\n",
       "      <th>7.0</th>\n",
       "      <td>6.635321e+06</td>\n",
       "    </tr>\n",
       "    <tr>\n",
       "      <th>8.0</th>\n",
       "      <td>6.591220e+06</td>\n",
       "    </tr>\n",
       "    <tr>\n",
       "      <th>9.0</th>\n",
       "      <td>5.517239e+06</td>\n",
       "    </tr>\n",
       "    <tr>\n",
       "      <th>10.0</th>\n",
       "      <td>5.420597e+06</td>\n",
       "    </tr>\n",
       "    <tr>\n",
       "      <th>11.0</th>\n",
       "      <td>5.305264e+06</td>\n",
       "    </tr>\n",
       "    <tr>\n",
       "      <th>12.0</th>\n",
       "      <td>5.291597e+06</td>\n",
       "    </tr>\n",
       "    <tr>\n",
       "      <th>13.0</th>\n",
       "      <td>5.507842e+06</td>\n",
       "    </tr>\n",
       "    <tr>\n",
       "      <th>14.0</th>\n",
       "      <td>5.270937e+06</td>\n",
       "    </tr>\n",
       "    <tr>\n",
       "      <th>15.0</th>\n",
       "      <td>5.280786e+06</td>\n",
       "    </tr>\n",
       "    <tr>\n",
       "      <th>16.0</th>\n",
       "      <td>5.097523e+06</td>\n",
       "    </tr>\n",
       "    <tr>\n",
       "      <th>17.0</th>\n",
       "      <td>4.863789e+06</td>\n",
       "    </tr>\n",
       "    <tr>\n",
       "      <th>18.0</th>\n",
       "      <td>4.707132e+06</td>\n",
       "    </tr>\n",
       "    <tr>\n",
       "      <th>19.0</th>\n",
       "      <td>4.821908e+06</td>\n",
       "    </tr>\n",
       "    <tr>\n",
       "      <th>20.0</th>\n",
       "      <td>5.951465e+06</td>\n",
       "    </tr>\n",
       "    <tr>\n",
       "      <th>21.0</th>\n",
       "      <td>5.493469e+06</td>\n",
       "    </tr>\n",
       "    <tr>\n",
       "      <th>22.0</th>\n",
       "      <td>5.173382e+06</td>\n",
       "    </tr>\n",
       "    <tr>\n",
       "      <th>23.0</th>\n",
       "      <td>4.689843e+06</td>\n",
       "    </tr>\n",
       "    <tr>\n",
       "      <th>24.0</th>\n",
       "      <td>3.854430e+06</td>\n",
       "    </tr>\n",
       "    <tr>\n",
       "      <th>25.0</th>\n",
       "      <td>4.052840e+06</td>\n",
       "    </tr>\n",
       "    <tr>\n",
       "      <th>26.0</th>\n",
       "      <td>4.014287e+06</td>\n",
       "    </tr>\n",
       "  </tbody>\n",
       "</table>\n",
       "</div>"
      ],
      "text/plain": [
       "                          last_price\n",
       "city_centers_nearestkm              \n",
       "0.0                     8.398000e+06\n",
       "1.0                     8.145277e+06\n",
       "2.0                     7.970519e+06\n",
       "3.0                     7.350003e+06\n",
       "4.0                     7.606618e+06\n",
       "5.0                     7.661225e+06\n",
       "6.0                     7.096569e+06\n",
       "7.0                     6.635321e+06\n",
       "8.0                     6.591220e+06\n",
       "9.0                     5.517239e+06\n",
       "10.0                    5.420597e+06\n",
       "11.0                    5.305264e+06\n",
       "12.0                    5.291597e+06\n",
       "13.0                    5.507842e+06\n",
       "14.0                    5.270937e+06\n",
       "15.0                    5.280786e+06\n",
       "16.0                    5.097523e+06\n",
       "17.0                    4.863789e+06\n",
       "18.0                    4.707132e+06\n",
       "19.0                    4.821908e+06\n",
       "20.0                    5.951465e+06\n",
       "21.0                    5.493469e+06\n",
       "22.0                    5.173382e+06\n",
       "23.0                    4.689843e+06\n",
       "24.0                    3.854430e+06\n",
       "25.0                    4.052840e+06\n",
       "26.0                    4.014287e+06"
      ]
     },
     "execution_count": 91,
     "metadata": {},
     "output_type": "execute_result"
    }
   ],
   "source": [
    "data = real_estate_data[real_estate_data['locality_name'] == 'Санкт-Петербург']\n",
    "data = data.pivot_table(index='city_centers_nearestkm', values='last_price')\n",
    "data"
   ]
  },
  {
   "cell_type": "code",
   "execution_count": 92,
   "metadata": {
    "scrolled": false
   },
   "outputs": [
    {
     "data": {
      "text/plain": [
       "<AxesSubplot:xlabel='city_centers_nearestkm'>"
      ]
     },
     "execution_count": 92,
     "metadata": {},
     "output_type": "execute_result"
    },
    {
     "data": {
      "image/png": "[encoded data removed]",
      "text/plain": [
       "<Figure size 1152x504 with 1 Axes>"
      ]
     },
     "metadata": {
      "needs_background": "light"
     },
     "output_type": "display_data"
    }
   ],
   "source": [
    "data.plot(style='o-', figsize=(16, 7), grid=True)"
   ]
  },
  {
   "cell_type": "markdown",
   "metadata": {},
   "source": [
    " График показывает, что стоимость квартиры снижается при увеличении расстояния до центра города."
   ]
  },
  {
   "cell_type": "markdown",
   "metadata": {},
   "source": [
    "Промежуточный вывод по этапу \"Исследовательский анализ данных\":\n",
    "- проведено исследование параметров объектов и выяснены наиболее часто и редко встречающиеся значения\n",
    "- вычислена скорость продажи квартир(4 месяца)\n",
    "- больше всего влияют на общую(полную) стоимость объекта факторы: количество комнат, месяц публикации, площадь кухни\n",
    "- рассчитана стоимость одного квадратного метра в 10 населённых пунктах с наибольшим числом объявлений\n",
    "- вычислена средняя цена каждого километра\n",
    "- выяснено, что стоимость квартиры снижается пропорционально увеличению расстояния до центра города"
   ]
  },
  {
   "cell_type": "markdown",
   "metadata": {},
   "source": [
    "### Общий вывод"
   ]
  },
  {
   "cell_type": "markdown",
   "metadata": {},
   "source": [
    "В ходе исследования была проведена следующая работа:\n",
    "\n",
    "1. Изучена общая информация о данных, полученных из csv-файла.\n",
    "\n",
    "2. Произведена предобработка данных:\n",
    "- устранены пропуски в столбцах: ceiling_height, floors_total, living_area, is_apartment, kitchen_area, balcony, locality_name, airports_nearest, cityCenters_nearest, parks_around3000, parks_nearest, ponds_around3000, ponds_nearest\n",
    "- изменены типы данных в столбцах: last_price, first_day_exposition, floors_total, is_apartment, balcony, parks_around3000, ponds_around3000\n",
    "- устранены дубликаты, связанные со словом \"поселок\"\n",
    "- удалены аномальные значения в 17 столбцах таблицы и исправлены искаженные значения в столбце ceiling_height(высота потолков)\n",
    "\n",
    "3. Посчитаны и добавлены 6 новых столбцов:\n",
    "- цена одного квадратного метра\n",
    "- день недели публикации объявления (0 — понедельник, 1 — вторник и так далее)\n",
    "- месяц публикации объявления\n",
    "- год публикации объявления\n",
    "- тип этажа квартиры (значения — «первый», «последний», «другой»)\n",
    "- расстояние до центра города в километрах\n",
    "\n",
    "4. Проведен исследовательский анализ данных:\n",
    "   \n",
    "4.1. Построены гистограммы и проведены по ним исследования следующих параметров:\n",
    "- общая площадь\n",
    "- жилая площадь\n",
    "- площадь кухни\n",
    "- цена объекта\n",
    "- количество комнат\n",
    "- высота потолков\n",
    "- этаж квартиры\n",
    "- тип этажа квартиры («первый», «последний», «другой»)\n",
    "- общее количество этажей в доме\n",
    "- расстояние до центра города в метрах\n",
    "- расстояние до ближайшего аэропорта\n",
    "- расстояние до ближайшего парка\n",
    "- день и месяц публикации объявления\n",
    "\n",
    "4.2. Построена гистограмма и посчитаны среднее и медиана по столбцу days_exposition\n",
    "\n",
    "4.3. Построены графики, отражающие зависимость цены от следующих параметров:\n",
    "- общей площади\n",
    "- жилой площади\n",
    "- площади кухни\n",
    "- количества комнат\n",
    "- этажа, на котором расположена квартира (первый, последний, другой)\n",
    "- даты размещения (день недели, месяц, год)\n",
    "\n",
    "4.4. Рассчитана стоимость одного квадратного метра в 10 населённых пунктах с наибольшим числом объявлений.\n",
    "\n",
    "4.5. Исследован фактор \"расстояние до центра города\":\n",
    "- вычислена средняя цена каждого километра\n",
    "- установлена зависимость стоимости квартиры от расстояния до центра города\n",
    "\n",
    "\n",
    "Наблюдения:\n",
    "- больше всего предложений квартир с общей площадью от 30 до 65 квадратных метров(2500 - более 5000); меньше всего -- до 25 и свыше 105 квадратных метров(0 — 500)\n",
    "- чаще всего встречается квартиры с жилой площадью от 17 до 32 квадратных метров; квартиры с жилой площадью меньше 9 и больше 70 квадратных метров встречаются намного реже\n",
    "- кухни в большинстве случаев имеют площадь от 5 до 12 квадратных метров; и редко имеют площадь меньше 5 и больше 17,5 квадратных метров\n",
    "- цена квартиры чаще всего варьируется в пределах от 2,5 млн. до 6 млн. рублей; гораздо реже встречается стоимость квартиры меньше 1,5 млн. и больше 10,5 млн. рублей\n",
    "- на рынке больше представлены однокомнатные и двухкомнантные квартиры; и в очень малом количестве -- студии и пяти-, шестикомнантные квартиры\n",
    "- высота потолков колеблется в пределах от 2,71 до 2,77 метров; потолки с высотой менее 2,46 и 2,83-2,96 метров встречаются редко\n",
    "- в продаже чаще встречаются квартиры, которые располагаются на этажах с 1-го по 4-й; и меньше всего объявлений квартир, расположенных на 12-14 этажах\n",
    "- объявлений квартир, располагающихся на первом и последнем этажах, сильно меньше, чем квартир, занимающих другие этажи\n",
    "- количество этажей в доме обычно колеблется от 3 до 12; в редких случаях в доме больше 26 этажей\n",
    "- данные показывают, что в среднем расстояние до центра города равняется 11-16 км; более 24 км -- это уже редко встречающееся значение\n",
    "- типичное расстояние до аэропорта равняется 13-39 км; 58 км и более -- редкое значение\n",
    "- расстояние до ближайшего парка находится в пределах от 490,8 до 490,9 метров\n",
    "- вторник и четверг -- самые частые дни публикации объявления; выходные дни(сб, вс) -- самые редкие\n",
    "- январь и ноябрь -- месяцы, в которые чаще всего публикуют объявления о продаже квартиры; середина апреля - середина мая -- период времени, в который частота публикаций новых объявлений самая низкая\n",
    "- продажа обычно занимает около 4 месяцев с момента публикации объявления; быстрыми можно считать продажи от 1 до 1,5 месяцев, долгими -- более 8 месяцев\n",
    "- с увеличением количества комнат растет цена\n",
    "- предпочтительная площадь кухни 5,5-7 кв. метров; люди готовы тратить больше денег на квартиру при значениях 7,5-8,5 кв. метров и около 10 кв. метров\n",
    "- в апреле и сентябре наблюдаются самые высокие цены на недвижимость, в июне -- самые низкие\n",
    "- в 10 населённых пунктах с наибольшим числом объявлений: самая высокая стоимость квадратного метра в Санкт-Петербурге(105737), самая низкая -- в Выборге(58226) \n",
    "- стоимость квартиры снижается при увеличении расстояния до центра города."
   ]
  },
  {
   "cell_type": "markdown",
   "metadata": {},
   "source": [
    "**Чек-лист готовности проекта**\n",
    "\n",
    "Поставьте 'x' в выполненных пунктах. Далее нажмите Shift+Enter."
   ]
  },
  {
   "cell_type": "markdown",
   "metadata": {},
   "source": [
    "- [x]  открыт файл\n",
    "- [x]  файлы изучены (выведены первые строки, метод `info()`, гистограммы и т.д.)\n",
    "- [x]  определены пропущенные значения\n",
    "- [x]  заполнены пропущенные значения там, где это возможно\n",
    "- [x]  есть пояснение, какие пропущенные значения обнаружены\n",
    "- [x]  изменены типы данных\n",
    "- [x]  есть пояснение, в каких столбцах изменены типы и почему\n",
    "- [x]  устранены неявные дубликаты в названиях населённых пунктов\n",
    "- [x]  устранены редкие и выбивающиеся значения (аномалии) во всех столбцах\n",
    "- [x]  посчитано и добавлено в таблицу: цена одного квадратного метра\n",
    "- [x]  посчитано и добавлено в таблицу: день публикации объявления (0 - понедельник, 1 - вторник и т.д.)\n",
    "- [x]  посчитано и добавлено в таблицу: месяц публикации объявления\n",
    "- [x]  посчитано и добавлено в таблицу: год публикации объявления\n",
    "- [x]  посчитано и добавлено в таблицу: тип этажа квартиры (значения — «первый», «последний», «другой»)\n",
    "- [x]  посчитано и добавлено в таблицу: расстояние в км до центра города\n",
    "- [x]  изучены и описаны следующие параметры:\n",
    "        - общая площадь;\n",
    "        - жилая площадь;\n",
    "        - площадь кухни;\n",
    "        - цена объекта;\n",
    "        - количество комнат;\n",
    "        - высота потолков;\n",
    "        - этаж квартиры;\n",
    "        - тип этажа квартиры («первый», «последний», «другой»);\n",
    "        - общее количество этажей в доме;\n",
    "        - расстояние до центра города в метрах;\n",
    "        - расстояние до ближайшего аэропорта;\n",
    "        - расстояние до ближайшего парка;\n",
    "        - день и месяц публикации объявления\n",
    "- [x]  построены гистограммы для каждого параметра\n",
    "- [x]  выполнено задание: \"Изучите, как быстро продавались квартиры (столбец days_exposition). Этот параметр показывает, сколько дней «висело» каждое объявление.\n",
    "    - Постройте гистограмму.\n",
    "    - Посчитайте среднее и медиану.\n",
    "    - В ячейке типа markdown опишите, сколько обычно занимает продажа. Какие продажи можно считать быстрыми, а какие — необычно долгими?\"\n",
    "- [x]  выполнено задание: \"Какие факторы больше всего влияют на общую (полную) стоимость объекта? Постройте графики, которые покажут зависимость цены от указанных ниже параметров. Для подготовки данных перед визуализацией вы можете использовать сводные таблицы.\"\n",
    "        - общей площади;\n",
    "        - жилой площади;\n",
    "        - площади кухни;\n",
    "        - количество комнат;\n",
    "        - типа этажа, на котором расположена квартира (первый, последний, другой);\n",
    "        - даты размещения (день недели, месяц, год);\n",
    "- [x]  выполнено задание: \"Посчитайте среднюю цену одного квадратного метра в 10 населённых пунктах с наибольшим числом объявлений. Выделите населённые пункты с самой высокой и низкой стоимостью квадратного метра. Эти данные можно найти по имени в столбце `locality_name`.\"\n",
    "- [x]  выполнено задание: \"Ранее вы посчитали расстояние до центра в километрах. Теперь выделите квартиры в Санкт-Петербурге с помощью столбца `locality_name` и вычислите среднюю цену каждого километра. Опишите, как стоимость объектов зависит от расстояния до центра города.\"\n",
    "- [x]  в каждом этапе есть промежуточные выводы\n",
    "- [x]  есть общий вывод"
   ]
  },
  {
   "cell_type": "code",
   "execution_count": null,
   "metadata": {},
   "outputs": [],
   "source": []
  }
 ],
 "metadata": {
  "ExecuteTimeLog": [
   {
    "duration": 560,
    "start_time": "2022-10-13T18:44:23.487Z"
   },
   {
    "duration": 80,
    "start_time": "2022-10-13T18:44:37.087Z"
   },
   {
    "duration": 103,
    "start_time": "2022-10-13T18:45:39.427Z"
   },
   {
    "duration": 93,
    "start_time": "2022-10-13T18:48:39.666Z"
   },
   {
    "duration": 89,
    "start_time": "2022-10-13T18:52:11.852Z"
   },
   {
    "duration": 14,
    "start_time": "2022-10-13T18:53:00.468Z"
   },
   {
    "duration": 2625,
    "start_time": "2022-10-13T18:57:51.188Z"
   },
   {
    "duration": 51,
    "start_time": "2022-10-14T01:55:41.344Z"
   },
   {
    "duration": 502,
    "start_time": "2022-10-14T01:58:27.404Z"
   },
   {
    "duration": 15,
    "start_time": "2022-10-14T01:58:41.906Z"
   },
   {
    "duration": 2403,
    "start_time": "2022-10-14T01:58:52.686Z"
   },
   {
    "duration": 19,
    "start_time": "2022-10-14T03:00:32.027Z"
   },
   {
    "duration": 38,
    "start_time": "2022-10-14T03:01:56.153Z"
   },
   {
    "duration": 135,
    "start_time": "2022-10-14T03:02:58.880Z"
   },
   {
    "duration": 32,
    "start_time": "2022-10-14T04:02:34.310Z"
   },
   {
    "duration": 27,
    "start_time": "2022-10-14T04:02:50.463Z"
   },
   {
    "duration": 29,
    "start_time": "2022-10-14T04:03:13.773Z"
   },
   {
    "duration": 125,
    "start_time": "2022-10-14T04:04:11.073Z"
   },
   {
    "duration": 15,
    "start_time": "2022-10-14T04:04:14.888Z"
   },
   {
    "duration": 2137,
    "start_time": "2022-10-14T04:04:23.826Z"
   },
   {
    "duration": 28,
    "start_time": "2022-10-14T04:04:34.000Z"
   },
   {
    "duration": 30,
    "start_time": "2022-10-14T04:16:32.922Z"
   },
   {
    "duration": 34,
    "start_time": "2022-10-14T04:22:17.324Z"
   },
   {
    "duration": 37,
    "start_time": "2022-10-14T04:28:40.573Z"
   },
   {
    "duration": 37,
    "start_time": "2022-10-14T04:34:41.033Z"
   },
   {
    "duration": 12,
    "start_time": "2022-10-14T04:54:04.976Z"
   },
   {
    "duration": 28,
    "start_time": "2022-10-14T06:12:00.530Z"
   },
   {
    "duration": 57,
    "start_time": "2022-10-14T06:19:55.050Z"
   },
   {
    "duration": 74,
    "start_time": "2022-10-14T06:27:29.224Z"
   },
   {
    "duration": 13,
    "start_time": "2022-10-14T06:33:36.562Z"
   },
   {
    "duration": 52,
    "start_time": "2022-10-14T06:33:45.793Z"
   },
   {
    "duration": 39,
    "start_time": "2022-10-14T06:35:19.730Z"
   },
   {
    "duration": 19,
    "start_time": "2022-10-14T06:35:45.572Z"
   },
   {
    "duration": 7,
    "start_time": "2022-10-14T08:59:18.646Z"
   },
   {
    "duration": 9,
    "start_time": "2022-10-14T09:01:42.683Z"
   },
   {
    "duration": 7,
    "start_time": "2022-10-14T09:02:01.953Z"
   },
   {
    "duration": 19,
    "start_time": "2022-10-14T09:49:55.356Z"
   },
   {
    "duration": 7,
    "start_time": "2022-10-14T09:50:38.564Z"
   },
   {
    "duration": 19,
    "start_time": "2022-10-14T10:21:45.753Z"
   },
   {
    "duration": 138,
    "start_time": "2022-10-14T11:51:52.610Z"
   },
   {
    "duration": 19,
    "start_time": "2022-10-14T11:51:56.373Z"
   },
   {
    "duration": 2379,
    "start_time": "2022-10-14T11:52:00.873Z"
   },
   {
    "duration": 12,
    "start_time": "2022-10-14T11:52:14.634Z"
   },
   {
    "duration": 25,
    "start_time": "2022-10-14T11:52:19.650Z"
   },
   {
    "duration": 25,
    "start_time": "2022-10-14T11:52:25.538Z"
   },
   {
    "duration": 12,
    "start_time": "2022-10-14T12:19:58.741Z"
   },
   {
    "duration": 10,
    "start_time": "2022-10-14T12:20:35.443Z"
   },
   {
    "duration": 9,
    "start_time": "2022-10-14T12:23:34.401Z"
   },
   {
    "duration": 96,
    "start_time": "2022-10-14T13:14:37.611Z"
   },
   {
    "duration": 101,
    "start_time": "2022-10-14T13:15:31.181Z"
   },
   {
    "duration": 127,
    "start_time": "2022-10-14T13:15:50.374Z"
   },
   {
    "duration": 138,
    "start_time": "2022-10-14T13:16:53.099Z"
   },
   {
    "duration": 135,
    "start_time": "2022-10-14T13:18:00.090Z"
   },
   {
    "duration": 693,
    "start_time": "2022-10-14T17:57:10.309Z"
   },
   {
    "duration": 134,
    "start_time": "2022-10-14T17:57:39.909Z"
   },
   {
    "duration": 282,
    "start_time": "2022-10-14T17:57:57.900Z"
   },
   {
    "duration": 42,
    "start_time": "2022-10-14T18:05:05.923Z"
   },
   {
    "duration": 44,
    "start_time": "2022-10-14T18:05:14.345Z"
   },
   {
    "duration": 126,
    "start_time": "2022-10-14T18:06:49.091Z"
   },
   {
    "duration": 156,
    "start_time": "2022-10-14T18:07:16.428Z"
   },
   {
    "duration": 134,
    "start_time": "2022-10-14T18:07:30.727Z"
   },
   {
    "duration": 162,
    "start_time": "2022-10-14T18:07:51.378Z"
   },
   {
    "duration": 164,
    "start_time": "2022-10-14T18:08:12.560Z"
   },
   {
    "duration": 151,
    "start_time": "2022-10-14T18:08:27.826Z"
   },
   {
    "duration": 138,
    "start_time": "2022-10-14T18:08:38.518Z"
   },
   {
    "duration": 163,
    "start_time": "2022-10-14T18:08:50.520Z"
   },
   {
    "duration": 209,
    "start_time": "2022-10-14T18:22:59.659Z"
   },
   {
    "duration": 122,
    "start_time": "2022-10-14T18:28:46.396Z"
   },
   {
    "duration": 150,
    "start_time": "2022-10-14T18:29:30.838Z"
   },
   {
    "duration": 204,
    "start_time": "2022-10-14T18:33:23.185Z"
   },
   {
    "duration": 767,
    "start_time": "2022-10-14T18:44:53.478Z"
   },
   {
    "duration": 501,
    "start_time": "2022-10-15T05:13:25.276Z"
   },
   {
    "duration": 17,
    "start_time": "2022-10-15T05:13:28.876Z"
   },
   {
    "duration": 2156,
    "start_time": "2022-10-15T05:13:33.152Z"
   },
   {
    "duration": 12,
    "start_time": "2022-10-15T05:13:51.975Z"
   },
   {
    "duration": 19,
    "start_time": "2022-10-15T05:13:55.134Z"
   },
   {
    "duration": 18,
    "start_time": "2022-10-15T05:14:02.980Z"
   },
   {
    "duration": 106,
    "start_time": "2022-10-15T05:14:08.501Z"
   },
   {
    "duration": 669,
    "start_time": "2022-10-15T05:14:35.191Z"
   },
   {
    "duration": 161,
    "start_time": "2022-10-15T05:42:40.437Z"
   },
   {
    "duration": 160,
    "start_time": "2022-10-15T05:44:16.342Z"
   },
   {
    "duration": 236,
    "start_time": "2022-10-15T05:44:30.795Z"
   },
   {
    "duration": 137,
    "start_time": "2022-10-15T05:49:03.414Z"
   },
   {
    "duration": 148,
    "start_time": "2022-10-15T05:49:25.608Z"
   },
   {
    "duration": 177,
    "start_time": "2022-10-15T05:50:24.728Z"
   },
   {
    "duration": 58,
    "start_time": "2022-10-15T05:58:08.440Z"
   },
   {
    "duration": 61,
    "start_time": "2022-10-15T06:04:15.318Z"
   },
   {
    "duration": 79,
    "start_time": "2022-10-15T06:04:43.494Z"
   },
   {
    "duration": 75,
    "start_time": "2022-10-15T06:05:37.410Z"
   },
   {
    "duration": 141,
    "start_time": "2022-10-15T06:19:12.201Z"
   },
   {
    "duration": 142,
    "start_time": "2022-10-15T06:19:57.903Z"
   },
   {
    "duration": 136,
    "start_time": "2022-10-15T06:21:44.655Z"
   },
   {
    "duration": 188,
    "start_time": "2022-10-15T07:00:02.398Z"
   },
   {
    "duration": 239,
    "start_time": "2022-10-15T07:01:49.315Z"
   },
   {
    "duration": 270,
    "start_time": "2022-10-15T07:02:11.065Z"
   },
   {
    "duration": 193,
    "start_time": "2022-10-15T07:02:37.210Z"
   },
   {
    "duration": 146,
    "start_time": "2022-10-15T07:09:49.236Z"
   },
   {
    "duration": 161,
    "start_time": "2022-10-15T07:10:18.158Z"
   },
   {
    "duration": 1055,
    "start_time": "2022-10-15T07:10:58.567Z"
   },
   {
    "duration": 756,
    "start_time": "2022-10-15T07:12:19.307Z"
   },
   {
    "duration": 772,
    "start_time": "2022-10-15T07:12:36.929Z"
   },
   {
    "duration": 918,
    "start_time": "2022-10-15T07:15:35.695Z"
   },
   {
    "duration": 124,
    "start_time": "2022-10-15T07:17:20.040Z"
   },
   {
    "duration": 19,
    "start_time": "2022-10-15T07:17:22.613Z"
   },
   {
    "duration": 1968,
    "start_time": "2022-10-15T07:17:26.038Z"
   },
   {
    "duration": 13,
    "start_time": "2022-10-15T07:17:35.317Z"
   },
   {
    "duration": 107,
    "start_time": "2022-10-15T07:18:07.407Z"
   },
   {
    "duration": 15,
    "start_time": "2022-10-15T07:18:09.867Z"
   },
   {
    "duration": 1840,
    "start_time": "2022-10-15T07:18:13.378Z"
   },
   {
    "duration": 10,
    "start_time": "2022-10-15T07:18:20.214Z"
   },
   {
    "duration": 16,
    "start_time": "2022-10-15T07:18:23.322Z"
   },
   {
    "duration": 17,
    "start_time": "2022-10-15T07:18:36.384Z"
   },
   {
    "duration": 112,
    "start_time": "2022-10-15T07:18:42.620Z"
   },
   {
    "duration": 163,
    "start_time": "2022-10-15T07:18:58.537Z"
   },
   {
    "duration": 770,
    "start_time": "2022-10-15T07:20:00.101Z"
   },
   {
    "duration": 768,
    "start_time": "2022-10-15T07:20:59.067Z"
   },
   {
    "duration": 787,
    "start_time": "2022-10-15T07:21:12.214Z"
   },
   {
    "duration": 115,
    "start_time": "2022-10-15T07:23:30.682Z"
   },
   {
    "duration": 14,
    "start_time": "2022-10-15T07:23:32.985Z"
   },
   {
    "duration": 1855,
    "start_time": "2022-10-15T07:23:36.150Z"
   },
   {
    "duration": 12,
    "start_time": "2022-10-15T07:23:43.519Z"
   },
   {
    "duration": 15,
    "start_time": "2022-10-15T07:23:47.359Z"
   },
   {
    "duration": 18,
    "start_time": "2022-10-15T07:23:58.812Z"
   },
   {
    "duration": 139,
    "start_time": "2022-10-15T07:24:04.322Z"
   },
   {
    "duration": 654,
    "start_time": "2022-10-15T07:25:41.111Z"
   },
   {
    "duration": 197,
    "start_time": "2022-10-15T07:26:55.429Z"
   },
   {
    "duration": 171,
    "start_time": "2022-10-15T07:30:20.902Z"
   },
   {
    "duration": 63,
    "start_time": "2022-10-15T07:31:57.949Z"
   },
   {
    "duration": 53,
    "start_time": "2022-10-15T07:34:56.766Z"
   },
   {
    "duration": 10,
    "start_time": "2022-10-15T07:49:56.072Z"
   },
   {
    "duration": 72,
    "start_time": "2022-10-15T07:50:04.035Z"
   },
   {
    "duration": 222,
    "start_time": "2022-10-15T07:50:58.736Z"
   },
   {
    "duration": 28,
    "start_time": "2022-10-15T08:34:24.438Z"
   },
   {
    "duration": 22,
    "start_time": "2022-10-15T08:38:06.438Z"
   },
   {
    "duration": 30,
    "start_time": "2022-10-15T08:38:58.525Z"
   },
   {
    "duration": 38,
    "start_time": "2022-10-15T08:49:55.784Z"
   },
   {
    "duration": 32,
    "start_time": "2022-10-15T08:54:00.445Z"
   },
   {
    "duration": 36,
    "start_time": "2022-10-15T08:54:34.253Z"
   },
   {
    "duration": 49,
    "start_time": "2022-10-15T08:55:32.450Z"
   },
   {
    "duration": 37,
    "start_time": "2022-10-15T08:57:39.708Z"
   },
   {
    "duration": 70,
    "start_time": "2022-10-15T08:59:17.385Z"
   },
   {
    "duration": 154,
    "start_time": "2022-10-15T08:59:36.480Z"
   },
   {
    "duration": 35,
    "start_time": "2022-10-15T09:00:40.914Z"
   },
   {
    "duration": 41,
    "start_time": "2022-10-15T09:00:45.553Z"
   },
   {
    "duration": 36,
    "start_time": "2022-10-15T09:00:50.131Z"
   },
   {
    "duration": 172,
    "start_time": "2022-10-15T09:04:12.498Z"
   },
   {
    "duration": 11,
    "start_time": "2022-10-15T09:06:45.668Z"
   },
   {
    "duration": 72,
    "start_time": "2022-10-15T09:07:33.431Z"
   },
   {
    "duration": 4,
    "start_time": "2022-10-15T09:26:01.786Z"
   },
   {
    "duration": 52,
    "start_time": "2022-10-15T09:35:07.549Z"
   },
   {
    "duration": 49,
    "start_time": "2022-10-15T09:35:24.173Z"
   },
   {
    "duration": 5,
    "start_time": "2022-10-15T09:37:31.615Z"
   },
   {
    "duration": 50,
    "start_time": "2022-10-15T09:39:14.057Z"
   },
   {
    "duration": 63,
    "start_time": "2022-10-15T09:43:02.541Z"
   },
   {
    "duration": 53,
    "start_time": "2022-10-15T09:43:13.863Z"
   },
   {
    "duration": 12,
    "start_time": "2022-10-15T10:04:10.753Z"
   },
   {
    "duration": 647,
    "start_time": "2022-10-15T10:04:39.903Z"
   },
   {
    "duration": 108,
    "start_time": "2022-10-15T10:05:32.168Z"
   },
   {
    "duration": 8,
    "start_time": "2022-10-15T10:06:51.112Z"
   },
   {
    "duration": 99,
    "start_time": "2022-10-15T10:07:24.295Z"
   },
   {
    "duration": 112,
    "start_time": "2022-10-15T10:07:43.498Z"
   },
   {
    "duration": 131,
    "start_time": "2022-10-15T10:08:10.620Z"
   },
   {
    "duration": 123,
    "start_time": "2022-10-15T10:08:21.473Z"
   },
   {
    "duration": 113,
    "start_time": "2022-10-15T10:08:33.826Z"
   },
   {
    "duration": 109,
    "start_time": "2022-10-15T10:08:54.475Z"
   },
   {
    "duration": 117,
    "start_time": "2022-10-15T10:09:01.886Z"
   },
   {
    "duration": 110,
    "start_time": "2022-10-15T12:24:00.599Z"
   },
   {
    "duration": 17,
    "start_time": "2022-10-15T12:24:03.502Z"
   },
   {
    "duration": 2110,
    "start_time": "2022-10-15T12:24:11.230Z"
   },
   {
    "duration": 12,
    "start_time": "2022-10-15T12:24:25.483Z"
   },
   {
    "duration": 18,
    "start_time": "2022-10-15T12:24:34.131Z"
   },
   {
    "duration": 18,
    "start_time": "2022-10-15T12:24:38.660Z"
   },
   {
    "duration": 125,
    "start_time": "2022-10-15T12:24:49.404Z"
   },
   {
    "duration": 63,
    "start_time": "2022-10-15T12:25:00.239Z"
   },
   {
    "duration": 301,
    "start_time": "2022-10-15T12:25:40.011Z"
   },
   {
    "duration": 60,
    "start_time": "2022-10-15T12:26:04.896Z"
   },
   {
    "duration": 282,
    "start_time": "2022-10-15T12:28:18.284Z"
   },
   {
    "duration": 305,
    "start_time": "2022-10-15T13:19:17.286Z"
   },
   {
    "duration": 66,
    "start_time": "2022-10-15T13:19:22.295Z"
   },
   {
    "duration": 346,
    "start_time": "2022-10-15T13:22:29.191Z"
   },
   {
    "duration": 79,
    "start_time": "2022-10-15T13:22:31.483Z"
   },
   {
    "duration": 348,
    "start_time": "2022-10-15T13:22:38.061Z"
   },
   {
    "duration": 81,
    "start_time": "2022-10-15T13:22:40.771Z"
   },
   {
    "duration": 13,
    "start_time": "2022-10-15T15:27:02.273Z"
   },
   {
    "duration": 46,
    "start_time": "2022-10-15T15:34:27.781Z"
   },
   {
    "duration": 44,
    "start_time": "2022-10-15T16:13:49.671Z"
   },
   {
    "duration": 4,
    "start_time": "2022-10-15T16:14:57.017Z"
   },
   {
    "duration": 4,
    "start_time": "2022-10-15T16:15:05.804Z"
   },
   {
    "duration": 31,
    "start_time": "2022-10-15T16:15:51.138Z"
   },
   {
    "duration": 13,
    "start_time": "2022-10-15T16:20:46.963Z"
   },
   {
    "duration": 46,
    "start_time": "2022-10-15T16:21:44.406Z"
   },
   {
    "duration": 7,
    "start_time": "2022-10-15T17:54:20.829Z"
   },
   {
    "duration": 6,
    "start_time": "2022-10-15T17:56:19.376Z"
   },
   {
    "duration": 4,
    "start_time": "2022-10-15T17:56:28.519Z"
   },
   {
    "duration": 8,
    "start_time": "2022-10-15T17:57:17.489Z"
   },
   {
    "duration": 5,
    "start_time": "2022-10-15T17:57:46.459Z"
   },
   {
    "duration": 37,
    "start_time": "2022-10-15T17:57:54.556Z"
   },
   {
    "duration": 5,
    "start_time": "2022-10-15T18:33:07.618Z"
   },
   {
    "duration": 5,
    "start_time": "2022-10-15T18:33:10.468Z"
   },
   {
    "duration": 34,
    "start_time": "2022-10-15T18:33:15.275Z"
   },
   {
    "duration": 43,
    "start_time": "2022-10-15T19:24:07.161Z"
   },
   {
    "duration": 517,
    "start_time": "2022-10-16T06:54:00.661Z"
   },
   {
    "duration": 21,
    "start_time": "2022-10-16T06:54:02.700Z"
   },
   {
    "duration": 2259,
    "start_time": "2022-10-16T06:54:06.698Z"
   },
   {
    "duration": 11,
    "start_time": "2022-10-16T06:54:25.916Z"
   },
   {
    "duration": 19,
    "start_time": "2022-10-16T06:54:30.254Z"
   },
   {
    "duration": 18,
    "start_time": "2022-10-16T06:54:34.534Z"
   },
   {
    "duration": 124,
    "start_time": "2022-10-16T06:54:54.666Z"
   },
   {
    "duration": 65,
    "start_time": "2022-10-16T06:54:57.058Z"
   },
   {
    "duration": 321,
    "start_time": "2022-10-16T06:55:15.576Z"
   },
   {
    "duration": 68,
    "start_time": "2022-10-16T06:55:23.184Z"
   },
   {
    "duration": 4,
    "start_time": "2022-10-16T06:55:38.404Z"
   },
   {
    "duration": 5,
    "start_time": "2022-10-16T06:55:40.365Z"
   },
   {
    "duration": 5,
    "start_time": "2022-10-16T06:55:43.946Z"
   },
   {
    "duration": 4,
    "start_time": "2022-10-16T06:55:46.276Z"
   },
   {
    "duration": 167,
    "start_time": "2022-10-16T07:46:39.793Z"
   },
   {
    "duration": 393,
    "start_time": "2022-10-16T07:57:02.877Z"
   },
   {
    "duration": 34,
    "start_time": "2022-10-16T07:57:09.800Z"
   },
   {
    "duration": 5,
    "start_time": "2022-10-16T09:15:42.191Z"
   },
   {
    "duration": 36,
    "start_time": "2022-10-16T09:15:47.398Z"
   },
   {
    "duration": 15,
    "start_time": "2022-10-16T12:42:51.001Z"
   },
   {
    "duration": 115,
    "start_time": "2022-10-16T12:44:46.512Z"
   },
   {
    "duration": 121,
    "start_time": "2022-10-16T12:46:20.624Z"
   },
   {
    "duration": 107,
    "start_time": "2022-10-16T12:46:49.616Z"
   },
   {
    "duration": 129,
    "start_time": "2022-10-16T12:54:17.922Z"
   },
   {
    "duration": 123,
    "start_time": "2022-10-16T13:03:34.833Z"
   },
   {
    "duration": 119,
    "start_time": "2022-10-16T13:10:51.363Z"
   },
   {
    "duration": 151,
    "start_time": "2022-10-16T13:17:26.105Z"
   },
   {
    "duration": 115,
    "start_time": "2022-10-16T13:22:39.465Z"
   },
   {
    "duration": 132,
    "start_time": "2022-10-16T13:27:55.108Z"
   },
   {
    "duration": 111,
    "start_time": "2022-10-16T13:49:04.438Z"
   },
   {
    "duration": 127,
    "start_time": "2022-10-16T13:54:10.349Z"
   },
   {
    "duration": 125,
    "start_time": "2022-10-16T13:58:15.817Z"
   },
   {
    "duration": 185,
    "start_time": "2022-10-16T14:31:06.514Z"
   },
   {
    "duration": 124,
    "start_time": "2022-10-16T14:31:25.096Z"
   },
   {
    "duration": 14,
    "start_time": "2022-10-16T14:31:48.315Z"
   },
   {
    "duration": 202,
    "start_time": "2022-10-16T14:33:09.986Z"
   },
   {
    "duration": 132,
    "start_time": "2022-10-16T15:15:11.935Z"
   },
   {
    "duration": 143,
    "start_time": "2022-10-16T15:16:19.610Z"
   },
   {
    "duration": 700,
    "start_time": "2022-10-16T16:27:32.890Z"
   },
   {
    "duration": 112,
    "start_time": "2022-10-16T16:27:56.435Z"
   },
   {
    "duration": 6,
    "start_time": "2022-10-16T16:29:30.978Z"
   },
   {
    "duration": 4,
    "start_time": "2022-10-16T16:29:42.884Z"
   },
   {
    "duration": 4,
    "start_time": "2022-10-16T16:29:49.995Z"
   },
   {
    "duration": 686,
    "start_time": "2022-10-16T17:31:02.918Z"
   },
   {
    "duration": 528,
    "start_time": "2022-10-16T17:31:46.470Z"
   },
   {
    "duration": 7,
    "start_time": "2022-10-16T17:32:16.170Z"
   },
   {
    "duration": 516,
    "start_time": "2022-10-16T17:41:42.929Z"
   },
   {
    "duration": 13,
    "start_time": "2022-10-16T17:41:43.446Z"
   },
   {
    "duration": 271279,
    "start_time": "2022-10-16T17:48:43.578Z"
   },
   {
    "duration": 582,
    "start_time": "2022-10-16T18:02:50.884Z"
   },
   {
    "duration": 274547,
    "start_time": "2022-10-16T18:02:59.834Z"
   },
   {
    "duration": 124,
    "start_time": "2022-10-16T18:09:54.382Z"
   },
   {
    "duration": 14,
    "start_time": "2022-10-16T18:09:56.630Z"
   },
   {
    "duration": 1803,
    "start_time": "2022-10-16T18:09:59.672Z"
   },
   {
    "duration": 1825,
    "start_time": "2022-10-16T18:10:12.296Z"
   },
   {
    "duration": 10,
    "start_time": "2022-10-16T18:10:19.816Z"
   },
   {
    "duration": 16,
    "start_time": "2022-10-16T18:10:23.057Z"
   },
   {
    "duration": 18,
    "start_time": "2022-10-16T18:10:26.525Z"
   },
   {
    "duration": 126,
    "start_time": "2022-10-16T18:10:52.311Z"
   },
   {
    "duration": 62,
    "start_time": "2022-10-16T18:10:55.589Z"
   },
   {
    "duration": 297,
    "start_time": "2022-10-16T18:11:07.047Z"
   },
   {
    "duration": 70,
    "start_time": "2022-10-16T18:11:13.983Z"
   },
   {
    "duration": 3,
    "start_time": "2022-10-16T18:11:19.526Z"
   },
   {
    "duration": 6,
    "start_time": "2022-10-16T18:11:21.970Z"
   },
   {
    "duration": 5,
    "start_time": "2022-10-16T18:11:23.924Z"
   },
   {
    "duration": 5,
    "start_time": "2022-10-16T18:11:26.139Z"
   },
   {
    "duration": 337,
    "start_time": "2022-10-16T18:11:28.848Z"
   },
   {
    "duration": 5,
    "start_time": "2022-10-16T18:11:30.860Z"
   },
   {
    "duration": 117,
    "start_time": "2022-10-16T18:11:33.789Z"
   },
   {
    "duration": 125,
    "start_time": "2022-10-16T18:11:38.247Z"
   },
   {
    "duration": 118,
    "start_time": "2022-10-16T18:11:41.317Z"
   },
   {
    "duration": 122,
    "start_time": "2022-10-16T18:11:45.022Z"
   },
   {
    "duration": 128,
    "start_time": "2022-10-16T18:11:48.661Z"
   },
   {
    "duration": 125,
    "start_time": "2022-10-16T18:11:53.309Z"
   },
   {
    "duration": 132,
    "start_time": "2022-10-16T18:11:56.826Z"
   },
   {
    "duration": 116,
    "start_time": "2022-10-16T18:12:00.320Z"
   },
   {
    "duration": 126,
    "start_time": "2022-10-16T18:12:03.473Z"
   },
   {
    "duration": 132,
    "start_time": "2022-10-16T18:12:06.849Z"
   },
   {
    "duration": 124,
    "start_time": "2022-10-16T18:12:09.935Z"
   },
   {
    "duration": 127,
    "start_time": "2022-10-16T18:12:13.154Z"
   },
   {
    "duration": 129,
    "start_time": "2022-10-16T18:12:16.512Z"
   },
   {
    "duration": 124,
    "start_time": "2022-10-16T18:12:20.023Z"
   },
   {
    "duration": 108,
    "start_time": "2022-10-16T18:12:23.669Z"
   },
   {
    "duration": 4,
    "start_time": "2022-10-16T18:12:27.610Z"
   },
   {
    "duration": 5,
    "start_time": "2022-10-16T18:12:30.197Z"
   },
   {
    "duration": 548,
    "start_time": "2022-10-16T18:24:34.121Z"
   },
   {
    "duration": 110,
    "start_time": "2022-10-16T18:24:45.283Z"
   },
   {
    "duration": 15,
    "start_time": "2022-10-16T18:24:54.630Z"
   },
   {
    "duration": 2135,
    "start_time": "2022-10-16T18:24:57.966Z"
   },
   {
    "duration": 11,
    "start_time": "2022-10-16T18:25:05.445Z"
   },
   {
    "duration": 18,
    "start_time": "2022-10-16T18:25:08.563Z"
   },
   {
    "duration": 20,
    "start_time": "2022-10-16T18:25:11.608Z"
   },
   {
    "duration": 131,
    "start_time": "2022-10-16T18:25:15.100Z"
   },
   {
    "duration": 62,
    "start_time": "2022-10-16T18:25:17.267Z"
   },
   {
    "duration": 302,
    "start_time": "2022-10-16T18:25:21.491Z"
   },
   {
    "duration": 73,
    "start_time": "2022-10-16T18:25:25.380Z"
   },
   {
    "duration": 5,
    "start_time": "2022-10-16T18:25:31.309Z"
   },
   {
    "duration": 6,
    "start_time": "2022-10-16T18:25:33.428Z"
   },
   {
    "duration": 6,
    "start_time": "2022-10-16T18:25:36.299Z"
   },
   {
    "duration": 5,
    "start_time": "2022-10-16T18:25:38.538Z"
   },
   {
    "duration": 363,
    "start_time": "2022-10-16T18:25:40.832Z"
   },
   {
    "duration": 5,
    "start_time": "2022-10-16T18:25:44.272Z"
   },
   {
    "duration": 113,
    "start_time": "2022-10-16T18:25:46.990Z"
   },
   {
    "duration": 123,
    "start_time": "2022-10-16T18:25:51.465Z"
   },
   {
    "duration": 120,
    "start_time": "2022-10-16T18:25:54.455Z"
   },
   {
    "duration": 176,
    "start_time": "2022-10-16T18:25:57.405Z"
   },
   {
    "duration": 137,
    "start_time": "2022-10-16T18:26:00.420Z"
   },
   {
    "duration": 128,
    "start_time": "2022-10-16T18:26:03.839Z"
   },
   {
    "duration": 127,
    "start_time": "2022-10-16T18:26:07.217Z"
   },
   {
    "duration": 116,
    "start_time": "2022-10-16T18:26:10.574Z"
   },
   {
    "duration": 130,
    "start_time": "2022-10-16T18:26:13.893Z"
   },
   {
    "duration": 139,
    "start_time": "2022-10-16T18:26:17.594Z"
   },
   {
    "duration": 134,
    "start_time": "2022-10-16T18:26:20.631Z"
   },
   {
    "duration": 123,
    "start_time": "2022-10-16T18:26:23.646Z"
   },
   {
    "duration": 113,
    "start_time": "2022-10-16T18:26:26.945Z"
   },
   {
    "duration": 131,
    "start_time": "2022-10-16T18:26:30.475Z"
   },
   {
    "duration": 111,
    "start_time": "2022-10-16T18:26:36.333Z"
   },
   {
    "duration": 5,
    "start_time": "2022-10-16T18:26:40.590Z"
   },
   {
    "duration": 5,
    "start_time": "2022-10-16T18:26:43.545Z"
   },
   {
    "duration": 583,
    "start_time": "2022-10-16T18:31:21.119Z"
   },
   {
    "duration": 188,
    "start_time": "2022-10-16T18:50:46.288Z"
   },
   {
    "duration": 1129,
    "start_time": "2022-10-16T18:52:38.158Z"
   },
   {
    "duration": 266,
    "start_time": "2022-10-16T18:52:50.336Z"
   },
   {
    "duration": 228,
    "start_time": "2022-10-16T18:55:54.308Z"
   },
   {
    "duration": 210,
    "start_time": "2022-10-16T18:56:15.620Z"
   },
   {
    "duration": 229,
    "start_time": "2022-10-16T18:56:29.225Z"
   },
   {
    "duration": 244,
    "start_time": "2022-10-16T18:56:41.354Z"
   },
   {
    "duration": 877,
    "start_time": "2022-10-17T09:00:35.046Z"
   },
   {
    "duration": 22,
    "start_time": "2022-10-17T09:00:39.248Z"
   },
   {
    "duration": 2414,
    "start_time": "2022-10-17T09:00:43.594Z"
   },
   {
    "duration": 11,
    "start_time": "2022-10-17T09:00:50.674Z"
   },
   {
    "duration": 26,
    "start_time": "2022-10-17T09:00:54.736Z"
   },
   {
    "duration": 18,
    "start_time": "2022-10-17T09:00:58.347Z"
   },
   {
    "duration": 120,
    "start_time": "2022-10-17T09:01:06.458Z"
   },
   {
    "duration": 68,
    "start_time": "2022-10-17T09:01:09.490Z"
   },
   {
    "duration": 401,
    "start_time": "2022-10-17T09:01:13.258Z"
   },
   {
    "duration": 119,
    "start_time": "2022-10-17T09:01:16.058Z"
   },
   {
    "duration": 6,
    "start_time": "2022-10-17T09:01:50.425Z"
   },
   {
    "duration": 7,
    "start_time": "2022-10-17T09:01:53.109Z"
   },
   {
    "duration": 7,
    "start_time": "2022-10-17T09:01:54.938Z"
   },
   {
    "duration": 7,
    "start_time": "2022-10-17T09:01:57.250Z"
   },
   {
    "duration": 305,
    "start_time": "2022-10-17T09:01:59.565Z"
   },
   {
    "duration": 5,
    "start_time": "2022-10-17T09:02:03.065Z"
   },
   {
    "duration": 128,
    "start_time": "2022-10-17T09:02:06.378Z"
   },
   {
    "duration": 155,
    "start_time": "2022-10-17T09:02:10.263Z"
   },
   {
    "duration": 216,
    "start_time": "2022-10-17T09:02:13.761Z"
   },
   {
    "duration": 146,
    "start_time": "2022-10-17T09:02:17.433Z"
   },
   {
    "duration": 171,
    "start_time": "2022-10-17T09:02:21.663Z"
   },
   {
    "duration": 132,
    "start_time": "2022-10-17T09:02:24.921Z"
   },
   {
    "duration": 132,
    "start_time": "2022-10-17T09:02:29.485Z"
   },
   {
    "duration": 141,
    "start_time": "2022-10-17T09:02:32.773Z"
   },
   {
    "duration": 162,
    "start_time": "2022-10-17T09:02:35.923Z"
   },
   {
    "duration": 161,
    "start_time": "2022-10-17T09:02:38.670Z"
   },
   {
    "duration": 129,
    "start_time": "2022-10-17T09:02:41.965Z"
   },
   {
    "duration": 148,
    "start_time": "2022-10-17T09:02:45.643Z"
   },
   {
    "duration": 119,
    "start_time": "2022-10-17T09:02:49.005Z"
   },
   {
    "duration": 141,
    "start_time": "2022-10-17T09:02:54.450Z"
   },
   {
    "duration": 223,
    "start_time": "2022-10-17T09:03:00.360Z"
   },
   {
    "duration": 5,
    "start_time": "2022-10-17T09:03:04.230Z"
   },
   {
    "duration": 7,
    "start_time": "2022-10-17T09:03:06.596Z"
   },
   {
    "duration": 246,
    "start_time": "2022-10-17T09:03:38.415Z"
   },
   {
    "duration": 192,
    "start_time": "2022-10-17T09:14:24.604Z"
   },
   {
    "duration": 706,
    "start_time": "2022-10-17T09:14:51.059Z"
   },
   {
    "duration": 709,
    "start_time": "2022-10-17T09:15:07.950Z"
   },
   {
    "duration": 267,
    "start_time": "2022-10-17T09:15:32.793Z"
   },
   {
    "duration": 616,
    "start_time": "2022-10-17T10:02:41.340Z"
   },
   {
    "duration": 216,
    "start_time": "2022-10-17T10:19:37.162Z"
   },
   {
    "duration": 192,
    "start_time": "2022-10-17T10:20:02.316Z"
   },
   {
    "duration": 262,
    "start_time": "2022-10-17T10:21:48.048Z"
   },
   {
    "duration": 213,
    "start_time": "2022-10-17T10:22:38.097Z"
   },
   {
    "duration": 227,
    "start_time": "2022-10-17T10:26:00.168Z"
   },
   {
    "duration": 222,
    "start_time": "2022-10-17T10:26:31.530Z"
   },
   {
    "duration": 708,
    "start_time": "2022-10-17T10:27:01.745Z"
   },
   {
    "duration": 251,
    "start_time": "2022-10-17T10:32:27.170Z"
   },
   {
    "duration": 270,
    "start_time": "2022-10-17T10:32:44.041Z"
   },
   {
    "duration": 15,
    "start_time": "2022-10-17T10:37:29.560Z"
   },
   {
    "duration": 25,
    "start_time": "2022-10-17T10:37:44.472Z"
   },
   {
    "duration": 204,
    "start_time": "2022-10-17T10:39:23.115Z"
   },
   {
    "duration": 15,
    "start_time": "2022-10-17T10:42:15.522Z"
   },
   {
    "duration": 570,
    "start_time": "2022-10-17T10:43:13.652Z"
   },
   {
    "duration": 230,
    "start_time": "2022-10-17T10:43:40.860Z"
   },
   {
    "duration": 14,
    "start_time": "2022-10-17T10:45:09.997Z"
   },
   {
    "duration": 299,
    "start_time": "2022-10-17T10:45:43.005Z"
   },
   {
    "duration": 180,
    "start_time": "2022-10-17T10:51:38.047Z"
   },
   {
    "duration": 162,
    "start_time": "2022-10-17T10:51:38.228Z"
   },
   {
    "duration": 1105,
    "start_time": "2022-10-17T11:01:05.151Z"
   },
   {
    "duration": 111,
    "start_time": "2022-10-17T11:01:58.211Z"
   },
   {
    "duration": 156,
    "start_time": "2022-10-17T11:02:10.115Z"
   },
   {
    "duration": 206,
    "start_time": "2022-10-17T11:03:43.461Z"
   },
   {
    "duration": 192,
    "start_time": "2022-10-17T11:17:05.222Z"
   },
   {
    "duration": 218,
    "start_time": "2022-10-17T11:18:06.791Z"
   },
   {
    "duration": 279,
    "start_time": "2022-10-17T11:19:13.730Z"
   },
   {
    "duration": 218,
    "start_time": "2022-10-17T11:19:34.507Z"
   },
   {
    "duration": 29,
    "start_time": "2022-10-17T12:16:00.014Z"
   },
   {
    "duration": 8,
    "start_time": "2022-10-17T12:16:43.102Z"
   },
   {
    "duration": 16,
    "start_time": "2022-10-17T12:36:23.347Z"
   },
   {
    "duration": 32,
    "start_time": "2022-10-17T12:39:59.326Z"
   },
   {
    "duration": 4,
    "start_time": "2022-10-17T12:40:48.639Z"
   },
   {
    "duration": 4,
    "start_time": "2022-10-17T12:40:58.831Z"
   },
   {
    "duration": 34,
    "start_time": "2022-10-17T12:42:39.436Z"
   },
   {
    "duration": 68,
    "start_time": "2022-10-17T12:44:13.047Z"
   },
   {
    "duration": 13,
    "start_time": "2022-10-17T12:44:31.808Z"
   },
   {
    "duration": 15,
    "start_time": "2022-10-17T12:47:16.594Z"
   },
   {
    "duration": 17,
    "start_time": "2022-10-17T12:47:22.691Z"
   },
   {
    "duration": 17,
    "start_time": "2022-10-17T12:48:08.366Z"
   },
   {
    "duration": 15,
    "start_time": "2022-10-17T12:48:58.517Z"
   },
   {
    "duration": 14,
    "start_time": "2022-10-17T12:49:22.613Z"
   },
   {
    "duration": 17,
    "start_time": "2022-10-17T12:50:41.089Z"
   },
   {
    "duration": 13,
    "start_time": "2022-10-17T12:51:02.841Z"
   },
   {
    "duration": 14,
    "start_time": "2022-10-17T13:23:52.295Z"
   },
   {
    "duration": 35,
    "start_time": "2022-10-17T13:31:04.300Z"
   },
   {
    "duration": 16,
    "start_time": "2022-10-17T13:34:00.105Z"
   },
   {
    "duration": 26,
    "start_time": "2022-10-17T13:38:52.410Z"
   },
   {
    "duration": 18,
    "start_time": "2022-10-17T13:44:15.853Z"
   },
   {
    "duration": 15,
    "start_time": "2022-10-17T13:44:59.476Z"
   },
   {
    "duration": 27,
    "start_time": "2022-10-17T13:45:23.312Z"
   },
   {
    "duration": 15,
    "start_time": "2022-10-17T13:46:03.151Z"
   },
   {
    "duration": 16,
    "start_time": "2022-10-17T13:46:11.981Z"
   },
   {
    "duration": 17,
    "start_time": "2022-10-17T13:46:19.402Z"
   },
   {
    "duration": 136,
    "start_time": "2022-10-17T13:50:31.556Z"
   },
   {
    "duration": 156,
    "start_time": "2022-10-17T13:52:04.328Z"
   },
   {
    "duration": 393,
    "start_time": "2022-10-17T13:54:45.666Z"
   },
   {
    "duration": 70,
    "start_time": "2022-10-17T13:58:08.948Z"
   },
   {
    "duration": 74,
    "start_time": "2022-10-17T13:58:46.517Z"
   },
   {
    "duration": 74,
    "start_time": "2022-10-17T13:58:54.912Z"
   },
   {
    "duration": 84,
    "start_time": "2022-10-17T13:59:51.538Z"
   },
   {
    "duration": 71,
    "start_time": "2022-10-17T14:00:35.933Z"
   },
   {
    "duration": 128,
    "start_time": "2022-10-17T14:00:45.665Z"
   },
   {
    "duration": 1228,
    "start_time": "2022-10-17T14:01:11.270Z"
   },
   {
    "duration": 15,
    "start_time": "2022-10-17T14:01:40.727Z"
   },
   {
    "duration": 161,
    "start_time": "2022-10-17T15:22:46.347Z"
   },
   {
    "duration": 741,
    "start_time": "2022-10-18T13:33:22.580Z"
   },
   {
    "duration": 14,
    "start_time": "2022-10-18T13:33:26.056Z"
   },
   {
    "duration": 114,
    "start_time": "2022-10-18T14:05:22.109Z"
   },
   {
    "duration": 14,
    "start_time": "2022-10-18T14:05:24.633Z"
   },
   {
    "duration": 2413,
    "start_time": "2022-10-18T14:05:24.938Z"
   },
   {
    "duration": 10,
    "start_time": "2022-10-18T14:05:27.353Z"
   },
   {
    "duration": 10,
    "start_time": "2022-10-18T14:05:28.149Z"
   },
   {
    "duration": 128,
    "start_time": "2022-10-18T14:13:13.244Z"
   },
   {
    "duration": 154,
    "start_time": "2022-10-18T14:13:23.972Z"
   },
   {
    "duration": 184,
    "start_time": "2022-10-18T14:13:35.787Z"
   },
   {
    "duration": 172,
    "start_time": "2022-10-18T14:13:39.502Z"
   },
   {
    "duration": 21,
    "start_time": "2022-10-18T14:14:07.139Z"
   },
   {
    "duration": 77,
    "start_time": "2022-10-18T14:14:22.375Z"
   },
   {
    "duration": 16,
    "start_time": "2022-10-18T14:14:23.684Z"
   },
   {
    "duration": 104,
    "start_time": "2022-10-18T14:14:23.845Z"
   },
   {
    "duration": 68,
    "start_time": "2022-10-18T14:14:24.338Z"
   },
   {
    "duration": 300,
    "start_time": "2022-10-18T14:14:24.689Z"
   },
   {
    "duration": 69,
    "start_time": "2022-10-18T14:14:24.990Z"
   },
   {
    "duration": 5,
    "start_time": "2022-10-18T14:14:27.243Z"
   },
   {
    "duration": 6,
    "start_time": "2022-10-18T14:14:27.386Z"
   },
   {
    "duration": 6,
    "start_time": "2022-10-18T14:14:27.540Z"
   },
   {
    "duration": 5,
    "start_time": "2022-10-18T14:14:27.691Z"
   },
   {
    "duration": 315,
    "start_time": "2022-10-18T14:14:27.835Z"
   },
   {
    "duration": 4,
    "start_time": "2022-10-18T14:14:28.152Z"
   },
   {
    "duration": 114,
    "start_time": "2022-10-18T14:14:28.772Z"
   },
   {
    "duration": 137,
    "start_time": "2022-10-18T14:14:29.112Z"
   },
   {
    "duration": 108,
    "start_time": "2022-10-18T14:14:29.474Z"
   },
   {
    "duration": 132,
    "start_time": "2022-10-18T14:14:29.788Z"
   },
   {
    "duration": 128,
    "start_time": "2022-10-18T14:14:30.109Z"
   },
   {
    "duration": 129,
    "start_time": "2022-10-18T14:14:30.425Z"
   },
   {
    "duration": 133,
    "start_time": "2022-10-18T14:14:30.877Z"
   },
   {
    "duration": 122,
    "start_time": "2022-10-18T14:14:31.200Z"
   },
   {
    "duration": 209,
    "start_time": "2022-10-18T14:14:31.759Z"
   },
   {
    "duration": 134,
    "start_time": "2022-10-18T14:14:31.970Z"
   },
   {
    "duration": 122,
    "start_time": "2022-10-18T14:14:32.128Z"
   },
   {
    "duration": 131,
    "start_time": "2022-10-18T14:14:32.427Z"
   },
   {
    "duration": 118,
    "start_time": "2022-10-18T14:14:32.774Z"
   },
   {
    "duration": 118,
    "start_time": "2022-10-18T14:14:34.425Z"
   },
   {
    "duration": 113,
    "start_time": "2022-10-18T14:14:34.900Z"
   },
   {
    "duration": 5,
    "start_time": "2022-10-18T14:14:35.048Z"
   },
   {
    "duration": 5,
    "start_time": "2022-10-18T14:14:35.209Z"
   },
   {
    "duration": 226,
    "start_time": "2022-10-18T14:14:36.225Z"
   },
   {
    "duration": 251,
    "start_time": "2022-10-18T14:14:37.948Z"
   },
   {
    "duration": 265,
    "start_time": "2022-10-18T14:14:38.201Z"
   },
   {
    "duration": 195,
    "start_time": "2022-10-18T14:14:39.307Z"
   },
   {
    "duration": 166,
    "start_time": "2022-10-18T14:14:40.302Z"
   },
   {
    "duration": 161,
    "start_time": "2022-10-18T14:26:20.061Z"
   },
   {
    "duration": 422,
    "start_time": "2022-10-18T15:21:29.811Z"
   },
   {
    "duration": 367,
    "start_time": "2022-10-18T15:21:33.680Z"
   },
   {
    "duration": 17,
    "start_time": "2022-10-18T15:21:48.206Z"
   },
   {
    "duration": 2534,
    "start_time": "2022-10-18T15:21:52.693Z"
   },
   {
    "duration": 2,
    "start_time": "2022-10-18T17:54:02.776Z"
   },
   {
    "duration": 128,
    "start_time": "2022-10-18T17:54:07.283Z"
   },
   {
    "duration": 14,
    "start_time": "2022-10-18T17:54:22.660Z"
   },
   {
    "duration": 12,
    "start_time": "2022-10-18T17:54:50.313Z"
   },
   {
    "duration": 16,
    "start_time": "2022-10-18T17:55:54.190Z"
   },
   {
    "duration": 81,
    "start_time": "2022-10-18T17:57:17.848Z"
   },
   {
    "duration": 13,
    "start_time": "2022-10-18T17:58:41.051Z"
   },
   {
    "duration": 12,
    "start_time": "2022-10-18T17:59:15.871Z"
   },
   {
    "duration": 17,
    "start_time": "2022-10-18T17:59:55.543Z"
   },
   {
    "duration": 26,
    "start_time": "2022-10-18T18:00:34.582Z"
   },
   {
    "duration": 9,
    "start_time": "2022-10-18T18:00:55.644Z"
   },
   {
    "duration": 18,
    "start_time": "2022-10-18T18:26:52.386Z"
   },
   {
    "duration": 7,
    "start_time": "2022-10-18T18:27:17.762Z"
   },
   {
    "duration": 28,
    "start_time": "2022-10-18T18:27:47.194Z"
   },
   {
    "duration": 10,
    "start_time": "2022-10-18T18:29:51.266Z"
   },
   {
    "duration": 14,
    "start_time": "2022-10-18T18:31:44.895Z"
   },
   {
    "duration": 17,
    "start_time": "2022-10-18T18:33:18.782Z"
   },
   {
    "duration": 119,
    "start_time": "2022-10-18T18:33:28.073Z"
   },
   {
    "duration": 68,
    "start_time": "2022-10-18T18:33:31.310Z"
   },
   {
    "duration": 331,
    "start_time": "2022-10-18T18:33:37.478Z"
   },
   {
    "duration": 68,
    "start_time": "2022-10-18T18:33:40.250Z"
   },
   {
    "duration": 5,
    "start_time": "2022-10-18T18:34:36.771Z"
   },
   {
    "duration": 6,
    "start_time": "2022-10-18T18:34:39.464Z"
   },
   {
    "duration": 6,
    "start_time": "2022-10-18T18:34:41.852Z"
   },
   {
    "duration": 6,
    "start_time": "2022-10-18T18:34:45.545Z"
   },
   {
    "duration": 389,
    "start_time": "2022-10-18T18:34:48.593Z"
   },
   {
    "duration": 5,
    "start_time": "2022-10-18T18:34:52.813Z"
   },
   {
    "duration": 348,
    "start_time": "2022-10-19T05:12:16.665Z"
   },
   {
    "duration": 358,
    "start_time": "2022-10-19T05:12:18.814Z"
   },
   {
    "duration": 13,
    "start_time": "2022-10-19T05:12:27.974Z"
   },
   {
    "duration": 14,
    "start_time": "2022-10-19T05:12:44.800Z"
   },
   {
    "duration": 16,
    "start_time": "2022-10-19T05:13:13.320Z"
   },
   {
    "duration": 15,
    "start_time": "2022-10-19T05:13:25.061Z"
   },
   {
    "duration": 105,
    "start_time": "2022-10-19T05:13:32.295Z"
   },
   {
    "duration": 61,
    "start_time": "2022-10-19T05:13:35.457Z"
   },
   {
    "duration": 303,
    "start_time": "2022-10-19T05:13:38.729Z"
   },
   {
    "duration": 64,
    "start_time": "2022-10-19T05:13:41.605Z"
   },
   {
    "duration": 4,
    "start_time": "2022-10-19T05:13:48.495Z"
   },
   {
    "duration": 6,
    "start_time": "2022-10-19T05:13:50.709Z"
   },
   {
    "duration": 5,
    "start_time": "2022-10-19T05:13:52.725Z"
   },
   {
    "duration": 5,
    "start_time": "2022-10-19T05:13:56.489Z"
   },
   {
    "duration": 335,
    "start_time": "2022-10-19T05:14:00.282Z"
   },
   {
    "duration": 5,
    "start_time": "2022-10-19T05:14:03.099Z"
   },
   {
    "duration": 437,
    "start_time": "2022-10-19T05:14:36.503Z"
   },
   {
    "duration": 164,
    "start_time": "2022-10-19T05:14:41.257Z"
   },
   {
    "duration": 105,
    "start_time": "2022-10-19T05:14:44.953Z"
   },
   {
    "duration": 114,
    "start_time": "2022-10-19T05:14:48.213Z"
   },
   {
    "duration": 130,
    "start_time": "2022-10-19T05:14:51.914Z"
   },
   {
    "duration": 116,
    "start_time": "2022-10-19T05:14:55.201Z"
   },
   {
    "duration": 123,
    "start_time": "2022-10-19T05:14:58.602Z"
   },
   {
    "duration": 106,
    "start_time": "2022-10-19T05:15:02.249Z"
   },
   {
    "duration": 117,
    "start_time": "2022-10-19T05:15:06.486Z"
   },
   {
    "duration": 140,
    "start_time": "2022-10-19T05:15:10.296Z"
   },
   {
    "duration": 112,
    "start_time": "2022-10-19T05:15:15.186Z"
   },
   {
    "duration": 131,
    "start_time": "2022-10-19T05:15:19.063Z"
   },
   {
    "duration": 171,
    "start_time": "2022-10-19T05:15:22.978Z"
   },
   {
    "duration": 174,
    "start_time": "2022-10-19T05:15:27.248Z"
   },
   {
    "duration": 104,
    "start_time": "2022-10-19T05:15:43.412Z"
   },
   {
    "duration": 4,
    "start_time": "2022-10-19T05:15:46.881Z"
   },
   {
    "duration": 5,
    "start_time": "2022-10-19T05:15:49.869Z"
   },
   {
    "duration": 202,
    "start_time": "2022-10-19T05:24:39.890Z"
   },
   {
    "duration": 210,
    "start_time": "2022-10-19T05:24:45.100Z"
   },
   {
    "duration": 214,
    "start_time": "2022-10-19T05:24:54.917Z"
   },
   {
    "duration": 205,
    "start_time": "2022-10-19T05:24:59.497Z"
   },
   {
    "duration": 214,
    "start_time": "2022-10-19T05:25:06.788Z"
   },
   {
    "duration": 18,
    "start_time": "2022-10-19T05:45:00.170Z"
   },
   {
    "duration": 13,
    "start_time": "2022-10-19T05:46:51.272Z"
   },
   {
    "duration": 79,
    "start_time": "2022-10-19T05:47:45.250Z"
   },
   {
    "duration": 3,
    "start_time": "2022-10-19T05:51:20.527Z"
   },
   {
    "duration": 113,
    "start_time": "2022-10-19T05:51:23.243Z"
   },
   {
    "duration": 16,
    "start_time": "2022-10-19T05:51:33.342Z"
   },
   {
    "duration": 13,
    "start_time": "2022-10-19T05:51:49.338Z"
   },
   {
    "duration": 15,
    "start_time": "2022-10-19T05:52:05.608Z"
   },
   {
    "duration": 13,
    "start_time": "2022-10-19T05:52:29.591Z"
   },
   {
    "duration": 15,
    "start_time": "2022-10-19T05:53:09.201Z"
   },
   {
    "duration": 107,
    "start_time": "2022-10-19T05:53:18.894Z"
   },
   {
    "duration": 60,
    "start_time": "2022-10-19T05:53:22.058Z"
   },
   {
    "duration": 304,
    "start_time": "2022-10-19T05:53:27.113Z"
   },
   {
    "duration": 66,
    "start_time": "2022-10-19T05:53:30.958Z"
   },
   {
    "duration": 4,
    "start_time": "2022-10-19T05:53:38.804Z"
   },
   {
    "duration": 6,
    "start_time": "2022-10-19T05:53:40.667Z"
   },
   {
    "duration": 6,
    "start_time": "2022-10-19T05:53:42.758Z"
   },
   {
    "duration": 5,
    "start_time": "2022-10-19T05:53:44.797Z"
   },
   {
    "duration": 400,
    "start_time": "2022-10-19T05:53:54.398Z"
   },
   {
    "duration": 5,
    "start_time": "2022-10-19T05:53:58.545Z"
   },
   {
    "duration": 108,
    "start_time": "2022-10-19T05:54:21.443Z"
   },
   {
    "duration": 135,
    "start_time": "2022-10-19T05:54:25.745Z"
   },
   {
    "duration": 112,
    "start_time": "2022-10-19T05:54:29.656Z"
   },
   {
    "duration": 113,
    "start_time": "2022-10-19T05:54:34.866Z"
   },
   {
    "duration": 120,
    "start_time": "2022-10-19T05:54:40.105Z"
   },
   {
    "duration": 129,
    "start_time": "2022-10-19T05:54:43.942Z"
   },
   {
    "duration": 137,
    "start_time": "2022-10-19T05:54:47.774Z"
   },
   {
    "duration": 104,
    "start_time": "2022-10-19T05:54:51.485Z"
   },
   {
    "duration": 131,
    "start_time": "2022-10-19T05:54:56.292Z"
   },
   {
    "duration": 117,
    "start_time": "2022-10-19T05:55:01.506Z"
   },
   {
    "duration": 122,
    "start_time": "2022-10-19T05:55:06.488Z"
   },
   {
    "duration": 126,
    "start_time": "2022-10-19T05:55:10.234Z"
   },
   {
    "duration": 135,
    "start_time": "2022-10-19T05:55:18.656Z"
   },
   {
    "duration": 135,
    "start_time": "2022-10-19T05:55:24.740Z"
   },
   {
    "duration": 219,
    "start_time": "2022-10-19T05:55:31.604Z"
   },
   {
    "duration": 5,
    "start_time": "2022-10-19T05:55:35.101Z"
   },
   {
    "duration": 5,
    "start_time": "2022-10-19T05:55:37.739Z"
   },
   {
    "duration": 216,
    "start_time": "2022-10-19T05:55:42.854Z"
   },
   {
    "duration": 218,
    "start_time": "2022-10-19T05:55:46.548Z"
   },
   {
    "duration": 234,
    "start_time": "2022-10-19T05:55:51.396Z"
   },
   {
    "duration": 21,
    "start_time": "2022-10-19T05:56:03.447Z"
   },
   {
    "duration": 13,
    "start_time": "2022-10-19T05:56:28.071Z"
   },
   {
    "duration": 14,
    "start_time": "2022-10-19T05:56:54.158Z"
   },
   {
    "duration": 163,
    "start_time": "2022-10-19T05:59:41.697Z"
   },
   {
    "duration": 224,
    "start_time": "2022-10-19T06:04:27.296Z"
   },
   {
    "duration": 191,
    "start_time": "2022-10-19T06:05:51.906Z"
   },
   {
    "duration": 150,
    "start_time": "2022-10-19T06:09:03.664Z"
   },
   {
    "duration": 148,
    "start_time": "2022-10-19T06:09:12.835Z"
   },
   {
    "duration": 178,
    "start_time": "2022-10-19T07:08:48.945Z"
   },
   {
    "duration": 171,
    "start_time": "2022-10-19T07:09:05.030Z"
   },
   {
    "duration": 164,
    "start_time": "2022-10-19T07:10:59.438Z"
   },
   {
    "duration": 182,
    "start_time": "2022-10-19T07:12:32.141Z"
   },
   {
    "duration": 18,
    "start_time": "2022-10-19T07:50:58.831Z"
   },
   {
    "duration": 139,
    "start_time": "2022-10-19T07:55:06.440Z"
   }
  ],
  "kernelspec": {
   "display_name": "Python 3 (ipykernel)",
   "language": "python",
   "name": "python3"
  },
  "language_info": {
   "codemirror_mode": {
    "name": "ipython",
    "version": 3
   },
   "file_extension": ".py",
   "mimetype": "text/x-python",
   "name": "python",
   "nbconvert_exporter": "python",
   "pygments_lexer": "ipython3",
   "version": "3.10.6"
  },
  "toc": {
   "base_numbering": 1,
   "nav_menu": {},
   "number_sections": true,
   "sideBar": true,
   "skip_h1_title": true,
   "title_cell": "Table of Contents",
   "title_sidebar": "Contents",
   "toc_cell": false,
   "toc_position": {},
   "toc_section_display": true,
   "toc_window_display": false
  }
 },
 "nbformat": 4,
 "nbformat_minor": 2
}
