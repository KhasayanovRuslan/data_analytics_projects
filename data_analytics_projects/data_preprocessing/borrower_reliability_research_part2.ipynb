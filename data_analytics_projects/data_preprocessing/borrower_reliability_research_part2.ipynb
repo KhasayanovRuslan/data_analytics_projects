{
 "cells": [
  {
   "cell_type": "markdown",
   "id": "1cf8bdd4",
   "metadata": {
    "deletable": false,
    "editable": false,
    "id": "c81daeeb"
   },
   "source": [
    "# Исследование надежности заемщиков\n"
   ]
  },
  {
   "cell_type": "markdown",
   "id": "ee20e484",
   "metadata": {
    "deletable": false,
    "editable": false,
    "id": "827c20bf"
   },
   "source": [
    "Во второй части проекта вы выполните шаги 3 и 4. Их вручную проверит ревьюер.\n",
    "Чтобы вам не пришлось писать код заново для шагов 1 и 2, мы добавили авторские решения в ячейки с кодом. \n",
    "\n"
   ]
  },
  {
   "cell_type": "markdown",
   "id": "80ea2d19",
   "metadata": {
    "deletable": false,
    "editable": false,
    "id": "744d7639"
   },
   "source": [
    "## Откройте таблицу и изучите общую информацию о данных"
   ]
  },
  {
   "cell_type": "markdown",
   "id": "337e43ef",
   "metadata": {
    "deletable": false,
    "editable": false,
    "id": "e7a14c31"
   },
   "source": [
    "**Задание 1. Импортируйте библиотеку pandas. Считайте данные из csv-файла в датафрейм и сохраните в переменную `data`. Путь к файлу:**\n",
    "\n",
    "`/datasets/data.csv`"
   ]
  },
  {
   "cell_type": "code",
   "execution_count": 2,
   "id": "b31d5d36",
   "metadata": {
    "deletable": false,
    "id": "7bcf75c9"
   },
   "outputs": [],
   "source": [
    "import pandas as pd\n",
    "\n",
    "try:\n",
    "    data = pd.read_csv('/datasets/data.csv')\n",
    "except:\n",
    "    data = pd.read_csv('https://code.s3.yandex.net/datasets/data.csv')"
   ]
  },
  {
   "cell_type": "markdown",
   "id": "48d13442",
   "metadata": {
    "deletable": false,
    "editable": false,
    "id": "b8038fe3"
   },
   "source": [
    "**Задание 2. Выведите первые 20 строчек датафрейма `data` на экран.**"
   ]
  },
  {
   "cell_type": "code",
   "execution_count": 3,
   "id": "9c16080b",
   "metadata": {
    "deletable": false,
    "id": "2a7cab99",
    "outputId": "1a8f3ef2-d323-4ec2-ddf7-89670b5944c4"
   },
   "outputs": [
    {
     "data": {
      "text/html": [
       "<div>\n",
       "<style scoped>\n",
       "    .dataframe tbody tr th:only-of-type {\n",
       "        vertical-align: middle;\n",
       "    }\n",
       "\n",
       "    .dataframe tbody tr th {\n",
       "        vertical-align: top;\n",
       "    }\n",
       "\n",
       "    .dataframe thead th {\n",
       "        text-align: right;\n",
       "    }\n",
       "</style>\n",
       "<table border=\"1\" class=\"dataframe\">\n",
       "  <thead>\n",
       "    <tr style=\"text-align: right;\">\n",
       "      <th></th>\n",
       "      <th>children</th>\n",
       "      <th>days_employed</th>\n",
       "      <th>dob_years</th>\n",
       "      <th>education</th>\n",
       "      <th>education_id</th>\n",
       "      <th>family_status</th>\n",
       "      <th>family_status_id</th>\n",
       "      <th>gender</th>\n",
       "      <th>income_type</th>\n",
       "      <th>debt</th>\n",
       "      <th>total_income</th>\n",
       "      <th>purpose</th>\n",
       "    </tr>\n",
       "  </thead>\n",
       "  <tbody>\n",
       "    <tr>\n",
       "      <th>0</th>\n",
       "      <td>1</td>\n",
       "      <td>-8437.673028</td>\n",
       "      <td>42</td>\n",
       "      <td>высшее</td>\n",
       "      <td>0</td>\n",
       "      <td>женат / замужем</td>\n",
       "      <td>0</td>\n",
       "      <td>F</td>\n",
       "      <td>сотрудник</td>\n",
       "      <td>0</td>\n",
       "      <td>253875.639453</td>\n",
       "      <td>покупка жилья</td>\n",
       "    </tr>\n",
       "    <tr>\n",
       "      <th>1</th>\n",
       "      <td>1</td>\n",
       "      <td>-4024.803754</td>\n",
       "      <td>36</td>\n",
       "      <td>среднее</td>\n",
       "      <td>1</td>\n",
       "      <td>женат / замужем</td>\n",
       "      <td>0</td>\n",
       "      <td>F</td>\n",
       "      <td>сотрудник</td>\n",
       "      <td>0</td>\n",
       "      <td>112080.014102</td>\n",
       "      <td>приобретение автомобиля</td>\n",
       "    </tr>\n",
       "    <tr>\n",
       "      <th>2</th>\n",
       "      <td>0</td>\n",
       "      <td>-5623.422610</td>\n",
       "      <td>33</td>\n",
       "      <td>Среднее</td>\n",
       "      <td>1</td>\n",
       "      <td>женат / замужем</td>\n",
       "      <td>0</td>\n",
       "      <td>M</td>\n",
       "      <td>сотрудник</td>\n",
       "      <td>0</td>\n",
       "      <td>145885.952297</td>\n",
       "      <td>покупка жилья</td>\n",
       "    </tr>\n",
       "    <tr>\n",
       "      <th>3</th>\n",
       "      <td>3</td>\n",
       "      <td>-4124.747207</td>\n",
       "      <td>32</td>\n",
       "      <td>среднее</td>\n",
       "      <td>1</td>\n",
       "      <td>женат / замужем</td>\n",
       "      <td>0</td>\n",
       "      <td>M</td>\n",
       "      <td>сотрудник</td>\n",
       "      <td>0</td>\n",
       "      <td>267628.550329</td>\n",
       "      <td>дополнительное образование</td>\n",
       "    </tr>\n",
       "    <tr>\n",
       "      <th>4</th>\n",
       "      <td>0</td>\n",
       "      <td>340266.072047</td>\n",
       "      <td>53</td>\n",
       "      <td>среднее</td>\n",
       "      <td>1</td>\n",
       "      <td>гражданский брак</td>\n",
       "      <td>1</td>\n",
       "      <td>F</td>\n",
       "      <td>пенсионер</td>\n",
       "      <td>0</td>\n",
       "      <td>158616.077870</td>\n",
       "      <td>сыграть свадьбу</td>\n",
       "    </tr>\n",
       "    <tr>\n",
       "      <th>5</th>\n",
       "      <td>0</td>\n",
       "      <td>-926.185831</td>\n",
       "      <td>27</td>\n",
       "      <td>высшее</td>\n",
       "      <td>0</td>\n",
       "      <td>гражданский брак</td>\n",
       "      <td>1</td>\n",
       "      <td>M</td>\n",
       "      <td>компаньон</td>\n",
       "      <td>0</td>\n",
       "      <td>255763.565419</td>\n",
       "      <td>покупка жилья</td>\n",
       "    </tr>\n",
       "    <tr>\n",
       "      <th>6</th>\n",
       "      <td>0</td>\n",
       "      <td>-2879.202052</td>\n",
       "      <td>43</td>\n",
       "      <td>высшее</td>\n",
       "      <td>0</td>\n",
       "      <td>женат / замужем</td>\n",
       "      <td>0</td>\n",
       "      <td>F</td>\n",
       "      <td>компаньон</td>\n",
       "      <td>0</td>\n",
       "      <td>240525.971920</td>\n",
       "      <td>операции с жильем</td>\n",
       "    </tr>\n",
       "    <tr>\n",
       "      <th>7</th>\n",
       "      <td>0</td>\n",
       "      <td>-152.779569</td>\n",
       "      <td>50</td>\n",
       "      <td>СРЕДНЕЕ</td>\n",
       "      <td>1</td>\n",
       "      <td>женат / замужем</td>\n",
       "      <td>0</td>\n",
       "      <td>M</td>\n",
       "      <td>сотрудник</td>\n",
       "      <td>0</td>\n",
       "      <td>135823.934197</td>\n",
       "      <td>образование</td>\n",
       "    </tr>\n",
       "    <tr>\n",
       "      <th>8</th>\n",
       "      <td>2</td>\n",
       "      <td>-6929.865299</td>\n",
       "      <td>35</td>\n",
       "      <td>ВЫСШЕЕ</td>\n",
       "      <td>0</td>\n",
       "      <td>гражданский брак</td>\n",
       "      <td>1</td>\n",
       "      <td>F</td>\n",
       "      <td>сотрудник</td>\n",
       "      <td>0</td>\n",
       "      <td>95856.832424</td>\n",
       "      <td>на проведение свадьбы</td>\n",
       "    </tr>\n",
       "    <tr>\n",
       "      <th>9</th>\n",
       "      <td>0</td>\n",
       "      <td>-2188.756445</td>\n",
       "      <td>41</td>\n",
       "      <td>среднее</td>\n",
       "      <td>1</td>\n",
       "      <td>женат / замужем</td>\n",
       "      <td>0</td>\n",
       "      <td>M</td>\n",
       "      <td>сотрудник</td>\n",
       "      <td>0</td>\n",
       "      <td>144425.938277</td>\n",
       "      <td>покупка жилья для семьи</td>\n",
       "    </tr>\n",
       "    <tr>\n",
       "      <th>10</th>\n",
       "      <td>2</td>\n",
       "      <td>-4171.483647</td>\n",
       "      <td>36</td>\n",
       "      <td>высшее</td>\n",
       "      <td>0</td>\n",
       "      <td>женат / замужем</td>\n",
       "      <td>0</td>\n",
       "      <td>M</td>\n",
       "      <td>компаньон</td>\n",
       "      <td>0</td>\n",
       "      <td>113943.491460</td>\n",
       "      <td>покупка недвижимости</td>\n",
       "    </tr>\n",
       "    <tr>\n",
       "      <th>11</th>\n",
       "      <td>0</td>\n",
       "      <td>-792.701887</td>\n",
       "      <td>40</td>\n",
       "      <td>среднее</td>\n",
       "      <td>1</td>\n",
       "      <td>женат / замужем</td>\n",
       "      <td>0</td>\n",
       "      <td>F</td>\n",
       "      <td>сотрудник</td>\n",
       "      <td>0</td>\n",
       "      <td>77069.234271</td>\n",
       "      <td>покупка коммерческой недвижимости</td>\n",
       "    </tr>\n",
       "    <tr>\n",
       "      <th>12</th>\n",
       "      <td>0</td>\n",
       "      <td>NaN</td>\n",
       "      <td>65</td>\n",
       "      <td>среднее</td>\n",
       "      <td>1</td>\n",
       "      <td>гражданский брак</td>\n",
       "      <td>1</td>\n",
       "      <td>M</td>\n",
       "      <td>пенсионер</td>\n",
       "      <td>0</td>\n",
       "      <td>NaN</td>\n",
       "      <td>сыграть свадьбу</td>\n",
       "    </tr>\n",
       "    <tr>\n",
       "      <th>13</th>\n",
       "      <td>0</td>\n",
       "      <td>-1846.641941</td>\n",
       "      <td>54</td>\n",
       "      <td>неоконченное высшее</td>\n",
       "      <td>2</td>\n",
       "      <td>женат / замужем</td>\n",
       "      <td>0</td>\n",
       "      <td>F</td>\n",
       "      <td>сотрудник</td>\n",
       "      <td>0</td>\n",
       "      <td>130458.228857</td>\n",
       "      <td>приобретение автомобиля</td>\n",
       "    </tr>\n",
       "    <tr>\n",
       "      <th>14</th>\n",
       "      <td>0</td>\n",
       "      <td>-1844.956182</td>\n",
       "      <td>56</td>\n",
       "      <td>высшее</td>\n",
       "      <td>0</td>\n",
       "      <td>гражданский брак</td>\n",
       "      <td>1</td>\n",
       "      <td>F</td>\n",
       "      <td>компаньон</td>\n",
       "      <td>1</td>\n",
       "      <td>165127.911772</td>\n",
       "      <td>покупка жилой недвижимости</td>\n",
       "    </tr>\n",
       "    <tr>\n",
       "      <th>15</th>\n",
       "      <td>1</td>\n",
       "      <td>-972.364419</td>\n",
       "      <td>26</td>\n",
       "      <td>среднее</td>\n",
       "      <td>1</td>\n",
       "      <td>женат / замужем</td>\n",
       "      <td>0</td>\n",
       "      <td>F</td>\n",
       "      <td>сотрудник</td>\n",
       "      <td>0</td>\n",
       "      <td>116820.904450</td>\n",
       "      <td>строительство собственной недвижимости</td>\n",
       "    </tr>\n",
       "    <tr>\n",
       "      <th>16</th>\n",
       "      <td>0</td>\n",
       "      <td>-1719.934226</td>\n",
       "      <td>35</td>\n",
       "      <td>среднее</td>\n",
       "      <td>1</td>\n",
       "      <td>женат / замужем</td>\n",
       "      <td>0</td>\n",
       "      <td>F</td>\n",
       "      <td>сотрудник</td>\n",
       "      <td>0</td>\n",
       "      <td>289202.704229</td>\n",
       "      <td>недвижимость</td>\n",
       "    </tr>\n",
       "    <tr>\n",
       "      <th>17</th>\n",
       "      <td>0</td>\n",
       "      <td>-2369.999720</td>\n",
       "      <td>33</td>\n",
       "      <td>высшее</td>\n",
       "      <td>0</td>\n",
       "      <td>гражданский брак</td>\n",
       "      <td>1</td>\n",
       "      <td>M</td>\n",
       "      <td>сотрудник</td>\n",
       "      <td>0</td>\n",
       "      <td>90410.586745</td>\n",
       "      <td>строительство недвижимости</td>\n",
       "    </tr>\n",
       "    <tr>\n",
       "      <th>18</th>\n",
       "      <td>0</td>\n",
       "      <td>400281.136913</td>\n",
       "      <td>53</td>\n",
       "      <td>среднее</td>\n",
       "      <td>1</td>\n",
       "      <td>вдовец / вдова</td>\n",
       "      <td>2</td>\n",
       "      <td>F</td>\n",
       "      <td>пенсионер</td>\n",
       "      <td>0</td>\n",
       "      <td>56823.777243</td>\n",
       "      <td>на покупку подержанного автомобиля</td>\n",
       "    </tr>\n",
       "    <tr>\n",
       "      <th>19</th>\n",
       "      <td>0</td>\n",
       "      <td>-10038.818549</td>\n",
       "      <td>48</td>\n",
       "      <td>СРЕДНЕЕ</td>\n",
       "      <td>1</td>\n",
       "      <td>в разводе</td>\n",
       "      <td>3</td>\n",
       "      <td>F</td>\n",
       "      <td>сотрудник</td>\n",
       "      <td>0</td>\n",
       "      <td>242831.107982</td>\n",
       "      <td>на покупку своего автомобиля</td>\n",
       "    </tr>\n",
       "  </tbody>\n",
       "</table>\n",
       "</div>"
      ],
      "text/plain": [
       "    children  days_employed  dob_years            education  education_id  \\\n",
       "0          1   -8437.673028         42               высшее             0   \n",
       "1          1   -4024.803754         36              среднее             1   \n",
       "2          0   -5623.422610         33              Среднее             1   \n",
       "3          3   -4124.747207         32              среднее             1   \n",
       "4          0  340266.072047         53              среднее             1   \n",
       "5          0    -926.185831         27               высшее             0   \n",
       "6          0   -2879.202052         43               высшее             0   \n",
       "7          0    -152.779569         50              СРЕДНЕЕ             1   \n",
       "8          2   -6929.865299         35               ВЫСШЕЕ             0   \n",
       "9          0   -2188.756445         41              среднее             1   \n",
       "10         2   -4171.483647         36               высшее             0   \n",
       "11         0    -792.701887         40              среднее             1   \n",
       "12         0            NaN         65              среднее             1   \n",
       "13         0   -1846.641941         54  неоконченное высшее             2   \n",
       "14         0   -1844.956182         56               высшее             0   \n",
       "15         1    -972.364419         26              среднее             1   \n",
       "16         0   -1719.934226         35              среднее             1   \n",
       "17         0   -2369.999720         33               высшее             0   \n",
       "18         0  400281.136913         53              среднее             1   \n",
       "19         0  -10038.818549         48              СРЕДНЕЕ             1   \n",
       "\n",
       "       family_status  family_status_id gender income_type  debt  \\\n",
       "0    женат / замужем                 0      F   сотрудник     0   \n",
       "1    женат / замужем                 0      F   сотрудник     0   \n",
       "2    женат / замужем                 0      M   сотрудник     0   \n",
       "3    женат / замужем                 0      M   сотрудник     0   \n",
       "4   гражданский брак                 1      F   пенсионер     0   \n",
       "5   гражданский брак                 1      M   компаньон     0   \n",
       "6    женат / замужем                 0      F   компаньон     0   \n",
       "7    женат / замужем                 0      M   сотрудник     0   \n",
       "8   гражданский брак                 1      F   сотрудник     0   \n",
       "9    женат / замужем                 0      M   сотрудник     0   \n",
       "10   женат / замужем                 0      M   компаньон     0   \n",
       "11   женат / замужем                 0      F   сотрудник     0   \n",
       "12  гражданский брак                 1      M   пенсионер     0   \n",
       "13   женат / замужем                 0      F   сотрудник     0   \n",
       "14  гражданский брак                 1      F   компаньон     1   \n",
       "15   женат / замужем                 0      F   сотрудник     0   \n",
       "16   женат / замужем                 0      F   сотрудник     0   \n",
       "17  гражданский брак                 1      M   сотрудник     0   \n",
       "18    вдовец / вдова                 2      F   пенсионер     0   \n",
       "19         в разводе                 3      F   сотрудник     0   \n",
       "\n",
       "     total_income                                 purpose  \n",
       "0   253875.639453                           покупка жилья  \n",
       "1   112080.014102                 приобретение автомобиля  \n",
       "2   145885.952297                           покупка жилья  \n",
       "3   267628.550329              дополнительное образование  \n",
       "4   158616.077870                         сыграть свадьбу  \n",
       "5   255763.565419                           покупка жилья  \n",
       "6   240525.971920                       операции с жильем  \n",
       "7   135823.934197                             образование  \n",
       "8    95856.832424                   на проведение свадьбы  \n",
       "9   144425.938277                 покупка жилья для семьи  \n",
       "10  113943.491460                    покупка недвижимости  \n",
       "11   77069.234271       покупка коммерческой недвижимости  \n",
       "12            NaN                         сыграть свадьбу  \n",
       "13  130458.228857                 приобретение автомобиля  \n",
       "14  165127.911772              покупка жилой недвижимости  \n",
       "15  116820.904450  строительство собственной недвижимости  \n",
       "16  289202.704229                            недвижимость  \n",
       "17   90410.586745              строительство недвижимости  \n",
       "18   56823.777243      на покупку подержанного автомобиля  \n",
       "19  242831.107982            на покупку своего автомобиля  "
      ]
     },
     "execution_count": 3,
     "metadata": {},
     "output_type": "execute_result"
    }
   ],
   "source": [
    "data.head(20)"
   ]
  },
  {
   "cell_type": "markdown",
   "id": "6f996475",
   "metadata": {
    "deletable": false,
    "editable": false,
    "id": "1c12e233"
   },
   "source": [
    "**Задание 3. Выведите основную информацию о датафрейме с помощью метода `info()`.**"
   ]
  },
  {
   "cell_type": "code",
   "execution_count": 4,
   "id": "acdbd637",
   "metadata": {
    "deletable": false,
    "id": "2b757bca",
    "outputId": "15376089-8dad-46c9-b520-c05248d43158"
   },
   "outputs": [
    {
     "name": "stdout",
     "output_type": "stream",
     "text": [
      "<class 'pandas.core.frame.DataFrame'>\n",
      "RangeIndex: 21525 entries, 0 to 21524\n",
      "Data columns (total 12 columns):\n",
      " #   Column            Non-Null Count  Dtype  \n",
      "---  ------            --------------  -----  \n",
      " 0   children          21525 non-null  int64  \n",
      " 1   days_employed     19351 non-null  float64\n",
      " 2   dob_years         21525 non-null  int64  \n",
      " 3   education         21525 non-null  object \n",
      " 4   education_id      21525 non-null  int64  \n",
      " 5   family_status     21525 non-null  object \n",
      " 6   family_status_id  21525 non-null  int64  \n",
      " 7   gender            21525 non-null  object \n",
      " 8   income_type       21525 non-null  object \n",
      " 9   debt              21525 non-null  int64  \n",
      " 10  total_income      19351 non-null  float64\n",
      " 11  purpose           21525 non-null  object \n",
      "dtypes: float64(2), int64(5), object(5)\n",
      "memory usage: 2.0+ MB\n"
     ]
    }
   ],
   "source": [
    "data.info()"
   ]
  },
  {
   "cell_type": "markdown",
   "id": "e8ba92c7",
   "metadata": {
    "deletable": false,
    "editable": false,
    "id": "333ec665"
   },
   "source": [
    "## Предобработка данных"
   ]
  },
  {
   "cell_type": "markdown",
   "id": "7c457e0b",
   "metadata": {
    "deletable": false,
    "editable": false,
    "id": "02d92d53"
   },
   "source": [
    "### Удаление пропусков"
   ]
  },
  {
   "cell_type": "markdown",
   "id": "262f60e3",
   "metadata": {
    "deletable": false,
    "editable": false,
    "id": "cd84967c"
   },
   "source": [
    "**Задание 4. Выведите количество пропущенных значений для каждого столбца. Используйте комбинацию двух методов.**"
   ]
  },
  {
   "cell_type": "code",
   "execution_count": 5,
   "id": "d289ac08",
   "metadata": {
    "deletable": false,
    "id": "7f9b2309",
    "outputId": "81f4d817-781c-465c-ed15-91ce4446810d"
   },
   "outputs": [
    {
     "data": {
      "text/plain": [
       "children               0\n",
       "days_employed       2174\n",
       "dob_years              0\n",
       "education              0\n",
       "education_id           0\n",
       "family_status          0\n",
       "family_status_id       0\n",
       "gender                 0\n",
       "income_type            0\n",
       "debt                   0\n",
       "total_income        2174\n",
       "purpose                0\n",
       "dtype: int64"
      ]
     },
     "execution_count": 5,
     "metadata": {},
     "output_type": "execute_result"
    }
   ],
   "source": [
    "data.isna().sum()"
   ]
  },
  {
   "cell_type": "markdown",
   "id": "3e5286ac",
   "metadata": {
    "deletable": false,
    "editable": false,
    "id": "db86e27b"
   },
   "source": [
    "**Задание 5. В двух столбцах есть пропущенные значения. Один из них — `days_employed`. Пропуски в этом столбце вы обработаете на следующем этапе. Другой столбец с пропущенными значениями — `total_income` — хранит данные о доходах. На сумму дохода сильнее всего влияет тип занятости, поэтому заполнить пропуски в этом столбце нужно медианным значением по каждому типу из столбца `income_type`. Например, у человека с типом занятости `сотрудник` пропуск в столбце `total_income` должен быть заполнен медианным доходом среди всех записей с тем же типом.**"
   ]
  },
  {
   "cell_type": "code",
   "execution_count": 6,
   "id": "dac0e8e9",
   "metadata": {
    "deletable": false,
    "id": "42006a93"
   },
   "outputs": [],
   "source": [
    "for t in data['income_type'].unique():\n",
    "    data.loc[(data['income_type'] == t) & (data['total_income'].isna()), 'total_income'] = \\\n",
    "    data.loc[(data['income_type'] == t), 'total_income'].median()"
   ]
  },
  {
   "cell_type": "markdown",
   "id": "727dece9",
   "metadata": {
    "deletable": false,
    "editable": false,
    "id": "89da5ece"
   },
   "source": [
    "### Обработка аномальных значений"
   ]
  },
  {
   "cell_type": "markdown",
   "id": "c4279fd2",
   "metadata": {
    "deletable": false,
    "editable": false,
    "id": "57964554"
   },
   "source": [
    "**Задание 6. В данных могут встречаться артефакты (аномалии) — значения, которые не отражают действительность и появились по какой-то ошибке. таким артефактом будет отрицательное количество дней трудового стажа в столбце `days_employed`. Для реальных данных это нормально. Обработайте значения в этом столбце: замените все отрицательные значения положительными с помощью метода `abs()`.**"
   ]
  },
  {
   "cell_type": "code",
   "execution_count": 7,
   "id": "108674ba",
   "metadata": {
    "deletable": false,
    "id": "f6f055bf"
   },
   "outputs": [],
   "source": [
    "data['days_employed'] = data['days_employed'].abs()"
   ]
  },
  {
   "cell_type": "markdown",
   "id": "09c85938",
   "metadata": {
    "deletable": false,
    "editable": false,
    "id": "6107dd2f"
   },
   "source": [
    "**Задание 7. Для каждого типа занятости выведите медианное значение трудового стажа `days_employed` в днях.**"
   ]
  },
  {
   "cell_type": "code",
   "execution_count": 8,
   "id": "ed7d72e8",
   "metadata": {
    "deletable": false,
    "id": "85a5faf6",
    "outputId": "801ef80e-522b-4668-f34e-565af7432bcf"
   },
   "outputs": [
    {
     "data": {
      "text/plain": [
       "income_type\n",
       "безработный        366413.652744\n",
       "в декрете            3296.759962\n",
       "госслужащий          2689.368353\n",
       "компаньон            1547.382223\n",
       "пенсионер          365213.306266\n",
       "предприниматель       520.848083\n",
       "сотрудник            1574.202821\n",
       "студент               578.751554\n",
       "Name: days_employed, dtype: float64"
      ]
     },
     "execution_count": 8,
     "metadata": {},
     "output_type": "execute_result"
    }
   ],
   "source": [
    "data.groupby('income_type')['days_employed'].agg('median')"
   ]
  },
  {
   "cell_type": "markdown",
   "id": "217175bc",
   "metadata": {
    "deletable": false,
    "editable": false,
    "id": "38d1a030"
   },
   "source": [
    "У двух типов (безработные и пенсионеры) получатся аномально большие значения. Исправить такие значения сложно, поэтому оставьте их как есть. Тем более этот столбец не понадобится вам для исследования."
   ]
  },
  {
   "cell_type": "markdown",
   "id": "92cf07a2",
   "metadata": {
    "deletable": false,
    "editable": false,
    "id": "d8a9f147"
   },
   "source": [
    "**Задание 8. Выведите перечень уникальных значений столбца `children`.**"
   ]
  },
  {
   "cell_type": "code",
   "execution_count": 9,
   "id": "5ce555c2",
   "metadata": {
    "deletable": false,
    "id": "ef5056eb",
    "outputId": "6975b15c-7f95-4697-d16d-a0c79b657b03"
   },
   "outputs": [
    {
     "data": {
      "text/plain": [
       "array([ 1,  0,  3,  2, -1,  4, 20,  5])"
      ]
     },
     "execution_count": 9,
     "metadata": {},
     "output_type": "execute_result"
    }
   ],
   "source": [
    "data['children'].unique()"
   ]
  },
  {
   "cell_type": "markdown",
   "id": "4f3129d5",
   "metadata": {
    "deletable": false,
    "editable": false,
    "id": "40b9ebf2"
   },
   "source": [
    "**Задание 9. В столбце `children` есть два аномальных значения. Удалите строки, в которых встречаются такие аномальные значения из датафрейма `data`.**"
   ]
  },
  {
   "cell_type": "code",
   "execution_count": 10,
   "id": "a89c6e9f",
   "metadata": {
    "deletable": false,
    "id": "3ff9801d"
   },
   "outputs": [],
   "source": [
    "data = data[(data['children'] != -1) & (data['children'] != 20)]"
   ]
  },
  {
   "cell_type": "markdown",
   "id": "b77f356c",
   "metadata": {
    "deletable": false,
    "editable": false,
    "id": "bbc4d0ce"
   },
   "source": [
    "**Задание 10. Ещё раз выведите перечень уникальных значений столбца `children`, чтобы убедиться, что артефакты удалены.**"
   ]
  },
  {
   "cell_type": "code",
   "execution_count": 11,
   "id": "0376dde3",
   "metadata": {
    "deletable": false,
    "id": "ad4fa8b7",
    "outputId": "b2097101-d49d-44d9-901b-32a65c9463d1"
   },
   "outputs": [
    {
     "data": {
      "text/plain": [
       "array([1, 0, 3, 2, 4, 5])"
      ]
     },
     "execution_count": 11,
     "metadata": {},
     "output_type": "execute_result"
    }
   ],
   "source": [
    "data['children'].unique()"
   ]
  },
  {
   "cell_type": "markdown",
   "id": "ab4db437",
   "metadata": {
    "deletable": false,
    "editable": false,
    "id": "75440b63"
   },
   "source": [
    "### Удаление пропусков (продолжение)"
   ]
  },
  {
   "cell_type": "markdown",
   "id": "8257d78c",
   "metadata": {
    "deletable": false,
    "editable": false,
    "id": "f4ea573f"
   },
   "source": [
    "**Задание 11. Заполните пропуски в столбце `days_employed` медианными значениями по каждого типа занятости `income_type`.**"
   ]
  },
  {
   "cell_type": "code",
   "execution_count": 12,
   "id": "eba77825",
   "metadata": {
    "deletable": false,
    "id": "af6b1a7e"
   },
   "outputs": [],
   "source": [
    "for t in data['income_type'].unique():\n",
    "    data.loc[(data['income_type'] == t) & (data['days_employed'].isna()), 'days_employed'] = \\\n",
    "    data.loc[(data['income_type'] == t), 'days_employed'].median()"
   ]
  },
  {
   "cell_type": "markdown",
   "id": "2b887c1e",
   "metadata": {
    "deletable": false,
    "editable": false,
    "id": "2753f40d"
   },
   "source": [
    "**Задание 12. Убедитесь, что все пропуски заполнены. Проверьте себя и ещё раз выведите количество пропущенных значений для каждого столбца с помощью двух методов.**"
   ]
  },
  {
   "cell_type": "code",
   "execution_count": 13,
   "id": "78011de4",
   "metadata": {
    "deletable": false,
    "id": "55f78bc2",
    "outputId": "8da1e4e1-358e-4e87-98c9-f261bce0a7b2"
   },
   "outputs": [
    {
     "data": {
      "text/plain": [
       "children            0\n",
       "days_employed       0\n",
       "dob_years           0\n",
       "education           0\n",
       "education_id        0\n",
       "family_status       0\n",
       "family_status_id    0\n",
       "gender              0\n",
       "income_type         0\n",
       "debt                0\n",
       "total_income        0\n",
       "purpose             0\n",
       "dtype: int64"
      ]
     },
     "execution_count": 13,
     "metadata": {},
     "output_type": "execute_result"
    }
   ],
   "source": [
    "data.isna().sum()"
   ]
  },
  {
   "cell_type": "markdown",
   "id": "57a1bb2d",
   "metadata": {
    "deletable": false,
    "editable": false,
    "id": "ddc81e43"
   },
   "source": [
    "### Изменение типов данных"
   ]
  },
  {
   "cell_type": "markdown",
   "id": "12d2c81c",
   "metadata": {
    "deletable": false,
    "editable": false,
    "id": "42d19d24"
   },
   "source": [
    "**Задание 13. Замените вещественный тип данных в столбце `total_income` на целочисленный с помощью метода `astype()`.**"
   ]
  },
  {
   "cell_type": "code",
   "execution_count": 14,
   "id": "7c3bc975",
   "metadata": {
    "deletable": false,
    "id": "920b65ad"
   },
   "outputs": [],
   "source": [
    "data['total_income'] = data['total_income'].astype(int)"
   ]
  },
  {
   "cell_type": "markdown",
   "id": "ea8a5711",
   "metadata": {
    "deletable": false,
    "editable": false,
    "id": "80c420ba"
   },
   "source": [
    "### Обработка дубликатов"
   ]
  },
  {
   "cell_type": "markdown",
   "id": "2d44facf",
   "metadata": {
    "deletable": false,
    "editable": false
   },
   "source": [
    "**Задание 14. Обработайте неявные дубликаты в столбце `education`. В этом столбце есть одни и те же значения, но записанные по-разному: с использованием заглавных и строчных букв. Приведите их к нижнему регистру. Проверьте остальные столбцы.**"
   ]
  },
  {
   "cell_type": "code",
   "execution_count": 15,
   "id": "a9c4278e",
   "metadata": {
    "deletable": false
   },
   "outputs": [],
   "source": [
    "data['education'] = data['education'].str.lower()"
   ]
  },
  {
   "cell_type": "markdown",
   "id": "841e9e04",
   "metadata": {
    "deletable": false,
    "editable": false,
    "id": "dc587695"
   },
   "source": [
    "**Задание 15. Выведите на экран количество строк-дубликатов в данных. Если такие строки присутствуют, удалите их.**"
   ]
  },
  {
   "cell_type": "code",
   "execution_count": 16,
   "id": "0ef60d38",
   "metadata": {
    "deletable": false,
    "id": "3ee445e4",
    "outputId": "9684deba-1934-42d1-99e1-cda61740f822"
   },
   "outputs": [
    {
     "data": {
      "text/plain": [
       "71"
      ]
     },
     "execution_count": 16,
     "metadata": {},
     "output_type": "execute_result"
    }
   ],
   "source": [
    "data.duplicated().sum()"
   ]
  },
  {
   "cell_type": "code",
   "execution_count": 17,
   "id": "109f469b",
   "metadata": {
    "deletable": false,
    "id": "8575fe05"
   },
   "outputs": [],
   "source": [
    "data = data.drop_duplicates()"
   ]
  },
  {
   "cell_type": "markdown",
   "id": "91c4e378",
   "metadata": {
    "deletable": false,
    "editable": false,
    "id": "9904cf55"
   },
   "source": [
    "### Категоризация данных"
   ]
  },
  {
   "cell_type": "markdown",
   "id": "2184f891",
   "metadata": {
    "deletable": false,
    "editable": false,
    "id": "72fcc8a2"
   },
   "source": [
    "**Задание 16. На основании диапазонов, указанных ниже, создайте в датафрейме `data` столбец `total_income_category` с категориями:**\n",
    "\n",
    "- 0–30000 — `'E'`;\n",
    "- 30001–50000 — `'D'`;\n",
    "- 50001–200000 — `'C'`;\n",
    "- 200001–1000000 — `'B'`;\n",
    "- 1000001 и выше — `'A'`.\n",
    "\n",
    "\n",
    "**Например, кредитополучателю с доходом 25000 нужно назначить категорию `'E'`, а клиенту, получающему 235000, — `'B'`. Используйте собственную функцию с именем `categorize_income()` и метод `apply()`.**"
   ]
  },
  {
   "cell_type": "code",
   "execution_count": 18,
   "id": "9d0f748a",
   "metadata": {
    "deletable": false,
    "id": "e1771346"
   },
   "outputs": [],
   "source": [
    "def categorize_income(income):\n",
    "    try:\n",
    "        if 0 <= income <= 30000:\n",
    "            return 'E'\n",
    "        elif 30001 <= income <= 50000:\n",
    "            return 'D'\n",
    "        elif 50001 <= income <= 200000:\n",
    "            return 'C'\n",
    "        elif 200001 <= income <= 1000000:\n",
    "            return 'B'\n",
    "        elif income >= 1000001:\n",
    "            return 'A'\n",
    "    except:\n",
    "        pass"
   ]
  },
  {
   "cell_type": "code",
   "execution_count": 19,
   "id": "645bca8c",
   "metadata": {
    "deletable": false,
    "id": "d5f3586d"
   },
   "outputs": [],
   "source": [
    "data['total_income_category'] = data['total_income'].apply(categorize_income)"
   ]
  },
  {
   "cell_type": "markdown",
   "id": "0a9dbb06",
   "metadata": {
    "deletable": false,
    "editable": false,
    "id": "dde49b5c"
   },
   "source": [
    "**Задание 17. Выведите на экран перечень уникальных целей взятия кредита из столбца `purpose`.**"
   ]
  },
  {
   "cell_type": "code",
   "execution_count": 20,
   "id": "b162d7ef",
   "metadata": {
    "deletable": false,
    "id": "f67ce9b3",
    "outputId": "673c12d9-7d7e-4ae0-9812-c622c89dd244"
   },
   "outputs": [
    {
     "data": {
      "text/plain": [
       "array(['покупка жилья', 'приобретение автомобиля',\n",
       "       'дополнительное образование', 'сыграть свадьбу',\n",
       "       'операции с жильем', 'образование', 'на проведение свадьбы',\n",
       "       'покупка жилья для семьи', 'покупка недвижимости',\n",
       "       'покупка коммерческой недвижимости', 'покупка жилой недвижимости',\n",
       "       'строительство собственной недвижимости', 'недвижимость',\n",
       "       'строительство недвижимости', 'на покупку подержанного автомобиля',\n",
       "       'на покупку своего автомобиля',\n",
       "       'операции с коммерческой недвижимостью',\n",
       "       'строительство жилой недвижимости', 'жилье',\n",
       "       'операции со своей недвижимостью', 'автомобили',\n",
       "       'заняться образованием', 'сделка с подержанным автомобилем',\n",
       "       'получение образования', 'автомобиль', 'свадьба',\n",
       "       'получение дополнительного образования', 'покупка своего жилья',\n",
       "       'операции с недвижимостью', 'получение высшего образования',\n",
       "       'свой автомобиль', 'сделка с автомобилем',\n",
       "       'профильное образование', 'высшее образование',\n",
       "       'покупка жилья для сдачи', 'на покупку автомобиля', 'ремонт жилью',\n",
       "       'заняться высшим образованием'], dtype=object)"
      ]
     },
     "execution_count": 20,
     "metadata": {},
     "output_type": "execute_result"
    }
   ],
   "source": [
    "data['purpose'].unique()"
   ]
  },
  {
   "cell_type": "markdown",
   "id": "28c94526",
   "metadata": {
    "deletable": false,
    "editable": false,
    "id": "85d0aef0"
   },
   "source": [
    "**Задание 18. Создайте функцию, которая на основании данных из столбца `purpose` сформирует новый столбец `purpose_category`, в который войдут следующие категории:**\n",
    "\n",
    "- `'операции с автомобилем'`,\n",
    "- `'операции с недвижимостью'`,\n",
    "- `'проведение свадьбы'`,\n",
    "- `'получение образования'`.\n",
    "\n",
    "**Например, если в столбце `purpose` находится подстрока `'на покупку автомобиля'`, то в столбце `purpose_category` должна появиться строка `'операции с автомобилем'`.**\n",
    "\n",
    "**Используйте собственную функцию с именем `categorize_purpose()` и метод `apply()`. Изучите данные в столбце `purpose` и определите, какие подстроки помогут вам правильно определить категорию.**"
   ]
  },
  {
   "cell_type": "code",
   "execution_count": 21,
   "id": "2501695e",
   "metadata": {
    "deletable": false,
    "id": "e149fab4"
   },
   "outputs": [],
   "source": [
    "def categorize_purpose(row):\n",
    "    try:\n",
    "        if 'автом' in row:\n",
    "            return 'операции с автомобилем'\n",
    "        elif 'жил' in row or 'недвиж' in row:\n",
    "            return 'операции с недвижимостью'\n",
    "        elif 'свад' in row:\n",
    "            return 'проведение свадьбы'\n",
    "        elif 'образов' in row:\n",
    "            return 'получение образования'\n",
    "    except:\n",
    "        return 'нет категории'"
   ]
  },
  {
   "cell_type": "code",
   "execution_count": 22,
   "id": "a9844bcd",
   "metadata": {
    "deletable": false,
    "id": "bf36e69b"
   },
   "outputs": [],
   "source": [
    "data['purpose_category'] = data['purpose'].apply(categorize_purpose)"
   ]
  },
  {
   "cell_type": "markdown",
   "id": "40073b37",
   "metadata": {
    "deletable": false,
    "editable": false,
    "id": "09b242bf"
   },
   "source": [
    "### Шаг 3. Исследуйте данные и ответьте на вопросы"
   ]
  },
  {
   "cell_type": "markdown",
   "id": "55f8f624",
   "metadata": {
    "deletable": false,
    "editable": false,
    "id": "c5d66278"
   },
   "source": [
    "#### 3.1 Есть ли зависимость между количеством детей и возвратом кредита в срок?"
   ]
  },
  {
   "cell_type": "code",
   "execution_count": 23,
   "id": "d762d0f1",
   "metadata": {
    "deletable": false,
    "id": "2cacfc4a"
   },
   "outputs": [
    {
     "data": {
      "text/plain": [
       "children\n",
       "0    1063\n",
       "1     444\n",
       "2     194\n",
       "3      27\n",
       "4       4\n",
       "5       0\n",
       "Name: debt, dtype: int64"
      ]
     },
     "metadata": {},
     "output_type": "display_data"
    },
    {
     "data": {
      "text/plain": [
       "children\n",
       "0    14091\n",
       "1     4808\n",
       "2     2052\n",
       "3      330\n",
       "4       41\n",
       "5        9\n",
       "Name: children, dtype: int64"
      ]
     },
     "metadata": {},
     "output_type": "display_data"
    },
    {
     "data": {
      "text/plain": [
       "children\n",
       "0    7.543822\n",
       "1    9.234609\n",
       "2    9.454191\n",
       "3    8.181818\n",
       "4    9.756098\n",
       "5    0.000000\n",
       "dtype: float64"
      ]
     },
     "metadata": {},
     "output_type": "display_data"
    }
   ],
   "source": [
    "# Ваш код будет здесь. Вы можете создавать новые ячейки.\n",
    "debtors = data.groupby('children')['debt'].sum()\n",
    "display(debtors)\n",
    "clients = data.groupby('children')['children'].count()\n",
    "display(clients)\n",
    "percentage_debtors = (debtors / clients) * 100\n",
    "display(percentage_debtors)"
   ]
  },
  {
   "cell_type": "markdown",
   "id": "1324c0fb",
   "metadata": {
    "deletable": false,
    "id": "3a6b99ec"
   },
   "source": [
    "**Вывод:** \n",
    "Посчитав долю должников в общем количестве заемщиков, сгруппированных по количеству детей, мы видим такую картину: при увеличении количества детей с 0 до 3 доля должников растет, но незначительно; дальше при увеличении количества детей в семье идет сначала уменьшение доли должников, затем незначительное увеличение; при количестве детей, равном 5, должников вообще нет. Таким образом, можно сделать вывод, что зависимости между количеством детей и возвратом кредита в срок нет."
   ]
  },
  {
   "cell_type": "code",
   "execution_count": 36,
   "id": "e9e2c0a3",
   "metadata": {},
   "outputs": [
    {
     "data": {
      "text/html": [
       "<div>\n",
       "<style scoped>\n",
       "    .dataframe tbody tr th:only-of-type {\n",
       "        vertical-align: middle;\n",
       "    }\n",
       "\n",
       "    .dataframe tbody tr th {\n",
       "        vertical-align: top;\n",
       "    }\n",
       "\n",
       "    .dataframe thead th {\n",
       "        text-align: right;\n",
       "    }\n",
       "</style>\n",
       "<table border=\"1\" class=\"dataframe\">\n",
       "  <thead>\n",
       "    <tr style=\"text-align: right;\">\n",
       "      <th></th>\n",
       "      <th>sum</th>\n",
       "      <th>count</th>\n",
       "      <th>mean</th>\n",
       "    </tr>\n",
       "    <tr>\n",
       "      <th>children</th>\n",
       "      <th></th>\n",
       "      <th></th>\n",
       "      <th></th>\n",
       "    </tr>\n",
       "  </thead>\n",
       "  <tbody>\n",
       "    <tr>\n",
       "      <th>0</th>\n",
       "      <td>1063</td>\n",
       "      <td>14091</td>\n",
       "      <td>0.075438</td>\n",
       "    </tr>\n",
       "    <tr>\n",
       "      <th>1</th>\n",
       "      <td>444</td>\n",
       "      <td>4808</td>\n",
       "      <td>0.092346</td>\n",
       "    </tr>\n",
       "    <tr>\n",
       "      <th>2</th>\n",
       "      <td>194</td>\n",
       "      <td>2052</td>\n",
       "      <td>0.094542</td>\n",
       "    </tr>\n",
       "    <tr>\n",
       "      <th>3</th>\n",
       "      <td>27</td>\n",
       "      <td>330</td>\n",
       "      <td>0.081818</td>\n",
       "    </tr>\n",
       "    <tr>\n",
       "      <th>4</th>\n",
       "      <td>4</td>\n",
       "      <td>41</td>\n",
       "      <td>0.097561</td>\n",
       "    </tr>\n",
       "    <tr>\n",
       "      <th>5</th>\n",
       "      <td>0</td>\n",
       "      <td>9</td>\n",
       "      <td>0.000000</td>\n",
       "    </tr>\n",
       "  </tbody>\n",
       "</table>\n",
       "</div>"
      ],
      "text/plain": [
       "           sum  count      mean\n",
       "children                       \n",
       "0         1063  14091  0.075438\n",
       "1          444   4808  0.092346\n",
       "2          194   2052  0.094542\n",
       "3           27    330  0.081818\n",
       "4            4     41  0.097561\n",
       "5            0      9  0.000000"
      ]
     },
     "execution_count": 36,
     "metadata": {},
     "output_type": "execute_result"
    }
   ],
   "source": [
    "data.groupby('children')['debt'].agg(['sum','count','mean'])"
   ]
  },
  {
   "cell_type": "markdown",
   "id": "26f9b9fe",
   "metadata": {
    "deletable": false,
    "editable": false,
    "id": "97be82ca"
   },
   "source": [
    "#### 3.2 Есть ли зависимость между семейным положением и возвратом кредита в срок?"
   ]
  },
  {
   "cell_type": "code",
   "execution_count": 25,
   "id": "021cd1b6",
   "metadata": {
    "deletable": false,
    "id": "dc3f7ee8"
   },
   "outputs": [
    {
     "data": {
      "text/plain": [
       "family_status\n",
       "Не женат / не замужем    273\n",
       "в разводе                 84\n",
       "вдовец / вдова            63\n",
       "гражданский брак         385\n",
       "женат / замужем          927\n",
       "Name: debt, dtype: int64"
      ]
     },
     "metadata": {},
     "output_type": "display_data"
    },
    {
     "data": {
      "text/plain": [
       "family_status\n",
       "Не женат / не замужем     2796\n",
       "в разводе                 1189\n",
       "вдовец / вдова             951\n",
       "гражданский брак          4134\n",
       "женат / замужем          12261\n",
       "Name: family_status, dtype: int64"
      ]
     },
     "metadata": {},
     "output_type": "display_data"
    },
    {
     "data": {
      "text/plain": [
       "family_status\n",
       "Не женат / не замужем    9.763948\n",
       "в разводе                7.064760\n",
       "вдовец / вдова           6.624606\n",
       "гражданский брак         9.313014\n",
       "женат / замужем          7.560558\n",
       "dtype: float64"
      ]
     },
     "metadata": {},
     "output_type": "display_data"
    }
   ],
   "source": [
    "# Ваш код будет здесь. Вы можете создавать новые ячейки.\n",
    "debtors = data.groupby('family_status')['debt'].sum()\n",
    "display(debtors)\n",
    "clients = data.groupby('family_status')['family_status'].count()\n",
    "display(clients)\n",
    "percentage_debtors = (debtors / clients) * 100\n",
    "display(percentage_debtors)"
   ]
  },
  {
   "cell_type": "markdown",
   "id": "e1c2750a",
   "metadata": {
    "deletable": false,
    "id": "1cef7837"
   },
   "source": [
    "**Вывод:** \n",
    "Больше всего должников среди категорий \"Не женат / не замужем\" и \"гражданский брак\", в диапазоне от 9 до 10%, в остальных категориях -- +- 7%. Данные показывают, что четкая связь между семейным положением и возвратом кредита в срок не прослеживается. Значит, зависимости нет."
   ]
  },
  {
   "cell_type": "markdown",
   "id": "028cc927",
   "metadata": {
    "deletable": false,
    "editable": false,
    "id": "1e8b2fca"
   },
   "source": [
    "#### 3.3 Есть ли зависимость между уровнем дохода и возвратом кредита в срок?"
   ]
  },
  {
   "cell_type": "code",
   "execution_count": 26,
   "id": "d8b38c0a",
   "metadata": {
    "deletable": false,
    "id": "cd7e3720"
   },
   "outputs": [
    {
     "data": {
      "text/plain": [
       "total_income_category\n",
       "A       2\n",
       "B     354\n",
       "C    1353\n",
       "D      21\n",
       "E       2\n",
       "Name: debt, dtype: int64"
      ]
     },
     "metadata": {},
     "output_type": "display_data"
    },
    {
     "data": {
      "text/plain": [
       "total_income_category\n",
       "A       25\n",
       "B     5014\n",
       "C    15921\n",
       "D      349\n",
       "E       22\n",
       "Name: total_income_category, dtype: int64"
      ]
     },
     "metadata": {},
     "output_type": "display_data"
    },
    {
     "data": {
      "text/plain": [
       "total_income_category\n",
       "A    8.000000\n",
       "B    7.060231\n",
       "C    8.498210\n",
       "D    6.017192\n",
       "E    9.090909\n",
       "dtype: float64"
      ]
     },
     "metadata": {},
     "output_type": "display_data"
    }
   ],
   "source": [
    "# Ваш код будет здесь. Вы можете создавать новые ячейки.\n",
    "debtors = data.groupby('total_income_category')['debt'].sum()\n",
    "display(debtors)\n",
    "clients = data.groupby('total_income_category')['total_income_category'].count()\n",
    "display(clients)\n",
    "percentage_debtors = (debtors / clients) * 100\n",
    "display(percentage_debtors)"
   ]
  },
  {
   "cell_type": "markdown",
   "id": "51273714",
   "metadata": {
    "deletable": false,
    "id": "e8593def"
   },
   "source": [
    "**Вывод:** \n",
    "Самые большие доли должников наблюдаются в категориях 'E', 'C' и 'A', самая маленькая -- в 'D'. Но в категориях 'E', 'D' и 'A' очень маленькие выборки по столбцу total_income_category. Это искажает общую картину распределения долей должников по категориям, поэтому по этим данным нельзя точно установить, есть ли зависимость между уровнем дохода и возвратом кредита в срок. "
   ]
  },
  {
   "cell_type": "markdown",
   "id": "d597ab22",
   "metadata": {
    "deletable": false,
    "editable": false,
    "id": "99ecbd1f"
   },
   "source": [
    "#### 3.4 Как разные цели кредита влияют на его возврат в срок?"
   ]
  },
  {
   "cell_type": "code",
   "execution_count": 27,
   "id": "9d55cfa1",
   "metadata": {
    "deletable": false,
    "id": "2b687290"
   },
   "outputs": [
    {
     "data": {
      "text/plain": [
       "purpose_category\n",
       "операции с автомобилем      400\n",
       "операции с недвижимостью    780\n",
       "получение образования       369\n",
       "проведение свадьбы          183\n",
       "Name: debt, dtype: int64"
      ]
     },
     "metadata": {},
     "output_type": "display_data"
    },
    {
     "data": {
      "text/plain": [
       "purpose_category\n",
       "операции с автомобилем       4279\n",
       "операции с недвижимостью    10751\n",
       "получение образования        3988\n",
       "проведение свадьбы           2313\n",
       "Name: purpose_category, dtype: int64"
      ]
     },
     "metadata": {},
     "output_type": "display_data"
    },
    {
     "data": {
      "text/plain": [
       "purpose_category\n",
       "операции с автомобилем      9.347978\n",
       "операции с недвижимостью    7.255139\n",
       "получение образования       9.252758\n",
       "проведение свадьбы          7.911803\n",
       "dtype: float64"
      ]
     },
     "metadata": {},
     "output_type": "display_data"
    }
   ],
   "source": [
    "# Ваш код будет здесь. Вы можете создавать новые ячейки.\n",
    "debtors = data.groupby('purpose_category')['debt'].sum()\n",
    "display(debtors)\n",
    "clients = data.groupby('purpose_category')['purpose_category'].count()\n",
    "display(clients)\n",
    "percentage_debtors = (debtors / clients) * 100\n",
    "display(percentage_debtors)"
   ]
  },
  {
   "cell_type": "markdown",
   "id": "f1ec37cc",
   "metadata": {
    "deletable": false,
    "id": "b4bb2ce6"
   },
   "source": [
    "**Вывод:** \n",
    "Самые большие доли должников среди заемщиков, которые берут кредит для получения образования или для того, чтобы произвести какие-либо операции с автомобилем. Самая маленькая доля должников в категории 'операции с недвижимостью' -- 7,26%."
   ]
  },
  {
   "cell_type": "markdown",
   "id": "2f94852e",
   "metadata": {
    "deletable": false,
    "editable": false,
    "id": "09c3ac4c"
   },
   "source": [
    "#### 3.5 Приведите возможные причины появления пропусков в исходных данных."
   ]
  },
  {
   "cell_type": "markdown",
   "id": "f05f03ab",
   "metadata": {
    "deletable": false,
    "id": "9da2ceda"
   },
   "source": [
    "*Ответ:* Возможными причинами появления пропусков в исходных данных могут быть ошибки ввода данных, сокрытие информации, фрод."
   ]
  },
  {
   "cell_type": "markdown",
   "id": "4132432d",
   "metadata": {
    "deletable": false,
    "editable": false,
    "id": "7b0487d6"
   },
   "source": [
    "#### 3.6 Объясните, почему заполнить пропуски медианным значением — лучшее решение для количественных переменных."
   ]
  },
  {
   "cell_type": "markdown",
   "id": "e1924b15",
   "metadata": {
    "deletable": false,
    "id": "7ecf2b8e"
   },
   "source": [
    "*Ответ:* Среднее значение некорректно характеризует данные, когда некоторые значения сильно выделяются среди большинства. Медиана предоставляет более объективную информацию, чем среднее значение. Пример: 5 сотрудников компании получают зарплату 100 000 рублей. Инвестор пригласил директора по маркетингу с зарплатой 300 000 рублей. На сколько процентов выросла средняя оплата труда в коллективе? Если для ответа на этот вопрос мы используем подсчет среднего арифметического, то получим значение -- на 33%. Но это не соответствует действительности, так как зарплата сотрудников осталась прежней. А зарплатная медиана как была равна 100, так и останется после прихода директора по маркетингу. И это является истиной."
   ]
  },
  {
   "cell_type": "markdown",
   "id": "7183bf02",
   "metadata": {
    "deletable": false,
    "editable": false,
    "id": "6db5255a"
   },
   "source": [
    "### Шаг 4: общий вывод."
   ]
  },
  {
   "cell_type": "markdown",
   "id": "bbeefa2b",
   "metadata": {
    "deletable": false,
    "id": "bad65432"
   },
   "source": [
    "В ходе исследования была проведена следующая работа:\n",
    "\n",
    "1. Изучена общая информация о данных, полученных из csv-файла.\n",
    "2. Произведена предобработка данных:\n",
    "  - были удалилены пропуски в столбцах days_employed и total_income\n",
    "  - обработаны аномальные значения в столбцах days_employed и children\n",
    "  - заполнены пропуски в столбце days_employed медианными значениями по каждому типу занятости income_type\n",
    "  - осуществлена замена вещественного типа данных в столбце total_income на целочисленный\n",
    "  - обработаны неявные дубликаты в столбце education путем приведения их к нижнему регистру, удалены строки-дубликаты\n",
    "  - были категоризированы данные по размерам дохода и целям кредита: созданы столбцы total_income_category и purpose_category\n",
    "\n",
    "Наблюдения по заемщикам.\n",
    "\n",
    "1. Зависимости между количеством детей и возвратом кредита в срок нет. При увеличении количества детей с 0 до 3 доля должников растет, но незначительно; дальше при увеличении количества детей в семье идет сначала уменьшение доли должников, затем незначительное увеличение; при количестве детей, равном 5, должников вообще нет.\n",
    "2. Зависимости между семейным положением и возвратом кредита в срок нет. Больше всего должников среди категорий \"Не женат / не замужем\" и \"гражданский брак\", в диапазоне от 9 до 10%.\n",
    "3. Зависимость между уровнем дохода и возвратом кредита в срок нельзя установить, так как в категориях 'E', 'D' и 'A' очень маленькие выборки(то есть в данных малое количество клиентов с соответствующим категории уровнем дохода) по столбцу total_income_category.\n",
    "4. Самые большие доли должников среди заемщиков, которые берут кредит для получения образования или для того, чтобы произвести какие-либо операции с автомобилем. Самая маленькая доля должников в категории 'операции с недвижимостью' -- 7,26%.\n",
    "\n",
    "Рекомендации.\n",
    "\n",
    "1. При принятии решения по выдаче кредита можно не учитывать количество детей в семье и семейное положение.\n",
    "2. Самыми надежными заемщиками являются те, которые берут кредит для каких-либо операций с недвижимостью. Заемщики, которые берут кредит для получения образования или для того, чтобы произвести какие-либо операции с автомобилем, требуют особого внимания, так как процент просроченных платежей по кредиту у них выше."
   ]
  }
 ],
 "metadata": {
  "ExecuteTimeLog": [
   {
    "duration": 1082,
    "start_time": "2022-09-14T12:31:15.691Z"
   },
   {
    "duration": 21,
    "start_time": "2022-09-14T12:31:23.155Z"
   },
   {
    "duration": 14,
    "start_time": "2022-09-14T12:31:50.081Z"
   },
   {
    "duration": 14,
    "start_time": "2022-09-14T12:31:58.135Z"
   },
   {
    "duration": 30,
    "start_time": "2022-09-14T12:32:52.226Z"
   },
   {
    "duration": 4,
    "start_time": "2022-09-14T12:32:57.995Z"
   },
   {
    "duration": 8,
    "start_time": "2022-09-14T12:34:22.551Z"
   },
   {
    "duration": 4,
    "start_time": "2022-09-14T12:34:34.476Z"
   },
   {
    "duration": 6,
    "start_time": "2022-09-14T12:34:42.851Z"
   },
   {
    "duration": 4,
    "start_time": "2022-09-14T12:35:00.248Z"
   },
   {
    "duration": 30,
    "start_time": "2022-09-14T12:35:18.372Z"
   },
   {
    "duration": 8,
    "start_time": "2022-09-14T12:35:22.039Z"
   },
   {
    "duration": 3,
    "start_time": "2022-09-14T12:35:37.269Z"
   },
   {
    "duration": 11,
    "start_time": "2022-09-14T12:35:54.183Z"
   },
   {
    "duration": 28,
    "start_time": "2022-09-14T12:35:57.531Z"
   },
   {
    "duration": 17,
    "start_time": "2022-09-14T12:36:04.114Z"
   },
   {
    "duration": 3,
    "start_time": "2022-09-14T12:38:11.087Z"
   },
   {
    "duration": 8,
    "start_time": "2022-09-14T12:38:16.928Z"
   },
   {
    "duration": 5,
    "start_time": "2022-09-14T12:38:19.933Z"
   },
   {
    "duration": 3,
    "start_time": "2022-09-14T12:38:59.232Z"
   },
   {
    "duration": 8,
    "start_time": "2022-09-14T12:39:31.684Z"
   },
   {
    "duration": 14,
    "start_time": "2022-09-14T12:44:16.530Z"
   },
   {
    "duration": 14,
    "start_time": "2022-09-14T12:51:07.429Z"
   },
   {
    "duration": 4,
    "start_time": "2022-09-14T12:53:03.952Z"
   },
   {
    "duration": 5,
    "start_time": "2022-09-14T12:53:29.380Z"
   },
   {
    "duration": 5,
    "start_time": "2022-09-14T12:53:40.633Z"
   },
   {
    "duration": 6,
    "start_time": "2022-09-14T12:56:13.869Z"
   },
   {
    "duration": 15,
    "start_time": "2022-09-14T13:04:06.213Z"
   },
   {
    "duration": 7,
    "start_time": "2022-09-14T13:05:19.868Z"
   },
   {
    "duration": 12,
    "start_time": "2022-09-14T13:22:09.448Z"
   },
   {
    "duration": 9,
    "start_time": "2022-09-14T13:23:29.611Z"
   },
   {
    "duration": 9,
    "start_time": "2022-09-14T13:23:39.314Z"
   },
   {
    "duration": 10,
    "start_time": "2022-09-14T13:35:13.610Z"
   },
   {
    "duration": 68,
    "start_time": "2022-09-14T13:41:51.707Z"
   },
   {
    "duration": 8,
    "start_time": "2022-09-14T13:42:24.504Z"
   },
   {
    "duration": 8,
    "start_time": "2022-09-14T13:50:10.793Z"
   },
   {
    "duration": 7,
    "start_time": "2022-09-14T13:50:26.930Z"
   },
   {
    "duration": 5,
    "start_time": "2022-09-14T13:51:05.885Z"
   },
   {
    "duration": 5,
    "start_time": "2022-09-14T13:51:22.101Z"
   },
   {
    "duration": 7,
    "start_time": "2022-09-14T13:51:45.122Z"
   },
   {
    "duration": 6,
    "start_time": "2022-09-14T13:55:57.347Z"
   },
   {
    "duration": 6,
    "start_time": "2022-09-14T13:56:01.563Z"
   },
   {
    "duration": 6,
    "start_time": "2022-09-14T13:56:05.532Z"
   },
   {
    "duration": 7,
    "start_time": "2022-09-14T13:56:09.219Z"
   },
   {
    "duration": 18,
    "start_time": "2022-09-14T14:10:19.996Z"
   },
   {
    "duration": 6,
    "start_time": "2022-09-14T14:13:56.155Z"
   },
   {
    "duration": 7,
    "start_time": "2022-09-14T14:14:13.048Z"
   },
   {
    "duration": 8,
    "start_time": "2022-09-14T14:58:23.859Z"
   },
   {
    "duration": 16,
    "start_time": "2022-09-14T14:59:32.222Z"
   },
   {
    "duration": 8,
    "start_time": "2022-09-14T15:00:26.054Z"
   },
   {
    "duration": 11,
    "start_time": "2022-09-14T15:06:07.297Z"
   },
   {
    "duration": 44,
    "start_time": "2022-09-15T08:46:27.113Z"
   },
   {
    "duration": 515,
    "start_time": "2022-09-15T08:46:53.933Z"
   },
   {
    "duration": 20,
    "start_time": "2022-09-15T08:46:57.471Z"
   },
   {
    "duration": 14,
    "start_time": "2022-09-15T08:47:03.015Z"
   },
   {
    "duration": 10,
    "start_time": "2022-09-15T08:47:08.669Z"
   },
   {
    "duration": 31,
    "start_time": "2022-09-15T08:47:13.095Z"
   },
   {
    "duration": 3,
    "start_time": "2022-09-15T08:47:50.368Z"
   },
   {
    "duration": 7,
    "start_time": "2022-09-15T08:48:00.353Z"
   },
   {
    "duration": 3,
    "start_time": "2022-09-15T08:48:06.142Z"
   },
   {
    "duration": 7,
    "start_time": "2022-09-15T08:48:09.144Z"
   },
   {
    "duration": 5,
    "start_time": "2022-09-15T08:48:11.959Z"
   },
   {
    "duration": 29,
    "start_time": "2022-09-15T08:48:19.086Z"
   },
   {
    "duration": 11,
    "start_time": "2022-09-15T08:48:22.673Z"
   },
   {
    "duration": 5,
    "start_time": "2022-09-15T08:48:27.656Z"
   },
   {
    "duration": 10,
    "start_time": "2022-09-15T08:48:31.468Z"
   },
   {
    "duration": 19,
    "start_time": "2022-09-15T08:48:34.229Z"
   },
   {
    "duration": 17,
    "start_time": "2022-09-15T08:48:36.461Z"
   },
   {
    "duration": 3,
    "start_time": "2022-09-15T08:48:41.662Z"
   },
   {
    "duration": 10,
    "start_time": "2022-09-15T08:48:46.024Z"
   },
   {
    "duration": 6,
    "start_time": "2022-09-15T08:48:49.768Z"
   },
   {
    "duration": 4,
    "start_time": "2022-09-15T08:48:57.541Z"
   },
   {
    "duration": 9,
    "start_time": "2022-09-15T08:49:01.916Z"
   },
   {
    "duration": 18,
    "start_time": "2022-09-15T08:49:09.947Z"
   },
   {
    "duration": 6,
    "start_time": "2022-09-15T08:51:44.161Z"
   },
   {
    "duration": 5,
    "start_time": "2022-09-15T08:56:09.114Z"
   },
   {
    "duration": 7,
    "start_time": "2022-09-15T08:56:19.692Z"
   },
   {
    "duration": 18,
    "start_time": "2022-09-15T08:56:50.152Z"
   },
   {
    "duration": 6,
    "start_time": "2022-09-15T08:57:25.409Z"
   },
   {
    "duration": 4,
    "start_time": "2022-09-15T08:59:14.713Z"
   },
   {
    "duration": 3,
    "start_time": "2022-09-15T08:59:36.265Z"
   },
   {
    "duration": 6,
    "start_time": "2022-09-15T09:01:52.774Z"
   },
   {
    "duration": 9,
    "start_time": "2022-09-15T09:02:11.873Z"
   },
   {
    "duration": 7,
    "start_time": "2022-09-15T09:03:49.223Z"
   },
   {
    "duration": 7,
    "start_time": "2022-09-15T09:04:01.492Z"
   },
   {
    "duration": 8,
    "start_time": "2022-09-15T09:04:25.562Z"
   },
   {
    "duration": 12,
    "start_time": "2022-09-15T09:52:24.356Z"
   },
   {
    "duration": 24,
    "start_time": "2022-09-15T10:07:19.971Z"
   },
   {
    "duration": 11,
    "start_time": "2022-09-15T10:13:00.848Z"
   },
   {
    "duration": 11,
    "start_time": "2022-09-15T10:13:31.828Z"
   },
   {
    "duration": 11,
    "start_time": "2022-09-15T10:13:36.880Z"
   },
   {
    "duration": 9,
    "start_time": "2022-09-15T10:13:50.993Z"
   },
   {
    "duration": 15,
    "start_time": "2022-09-15T10:14:07.605Z"
   },
   {
    "duration": 17,
    "start_time": "2022-09-15T10:14:12.074Z"
   },
   {
    "duration": 10,
    "start_time": "2022-09-15T10:21:54.897Z"
   },
   {
    "duration": 21,
    "start_time": "2022-09-15T10:22:04.107Z"
   },
   {
    "duration": 14,
    "start_time": "2022-09-15T10:22:10.806Z"
   },
   {
    "duration": 14,
    "start_time": "2022-09-15T11:22:25.714Z"
   },
   {
    "duration": 15,
    "start_time": "2022-09-15T11:48:41.689Z"
   },
   {
    "duration": 669,
    "start_time": "2022-09-15T16:38:24.074Z"
   },
   {
    "duration": 24,
    "start_time": "2022-09-15T16:38:24.746Z"
   },
   {
    "duration": 16,
    "start_time": "2022-09-15T16:38:24.772Z"
   },
   {
    "duration": 9,
    "start_time": "2022-09-15T16:38:24.790Z"
   },
   {
    "duration": 51,
    "start_time": "2022-09-15T16:38:24.801Z"
   },
   {
    "duration": 3,
    "start_time": "2022-09-15T16:38:24.854Z"
   },
   {
    "duration": 11,
    "start_time": "2022-09-15T16:38:24.859Z"
   },
   {
    "duration": 4,
    "start_time": "2022-09-15T16:38:24.872Z"
   },
   {
    "duration": 10,
    "start_time": "2022-09-15T16:38:24.877Z"
   },
   {
    "duration": 31,
    "start_time": "2022-09-15T16:38:24.890Z"
   },
   {
    "duration": 34,
    "start_time": "2022-09-15T16:38:24.923Z"
   },
   {
    "duration": 10,
    "start_time": "2022-09-15T16:38:24.959Z"
   },
   {
    "duration": 4,
    "start_time": "2022-09-15T16:38:24.971Z"
   },
   {
    "duration": 17,
    "start_time": "2022-09-15T16:38:24.977Z"
   },
   {
    "duration": 43,
    "start_time": "2022-09-15T16:38:24.995Z"
   },
   {
    "duration": 19,
    "start_time": "2022-09-15T16:38:25.040Z"
   },
   {
    "duration": 4,
    "start_time": "2022-09-15T16:38:25.060Z"
   },
   {
    "duration": 16,
    "start_time": "2022-09-15T16:38:25.066Z"
   },
   {
    "duration": 11,
    "start_time": "2022-09-15T16:38:25.083Z"
   },
   {
    "duration": 27,
    "start_time": "2022-09-15T16:38:25.096Z"
   },
   {
    "duration": 13,
    "start_time": "2022-09-15T16:38:25.125Z"
   },
   {
    "duration": 12,
    "start_time": "2022-09-15T16:38:25.140Z"
   },
   {
    "duration": 14,
    "start_time": "2022-09-15T16:38:29.064Z"
   },
   {
    "duration": 43,
    "start_time": "2022-09-15T17:52:02.344Z"
   },
   {
    "duration": 510,
    "start_time": "2022-09-15T17:52:42.202Z"
   },
   {
    "duration": 20,
    "start_time": "2022-09-15T17:52:45.726Z"
   },
   {
    "duration": 14,
    "start_time": "2022-09-15T17:52:50.446Z"
   },
   {
    "duration": 9,
    "start_time": "2022-09-15T17:52:54.059Z"
   },
   {
    "duration": 28,
    "start_time": "2022-09-15T17:52:58.965Z"
   },
   {
    "duration": 3,
    "start_time": "2022-09-15T17:53:02.470Z"
   },
   {
    "duration": 7,
    "start_time": "2022-09-15T17:53:05.389Z"
   },
   {
    "duration": 4,
    "start_time": "2022-09-15T17:53:12.374Z"
   },
   {
    "duration": 6,
    "start_time": "2022-09-15T17:53:15.758Z"
   },
   {
    "duration": 5,
    "start_time": "2022-09-15T17:53:18.220Z"
   },
   {
    "duration": 30,
    "start_time": "2022-09-15T17:53:21.792Z"
   },
   {
    "duration": 10,
    "start_time": "2022-09-15T17:53:24.016Z"
   },
   {
    "duration": 4,
    "start_time": "2022-09-15T17:53:27.264Z"
   },
   {
    "duration": 11,
    "start_time": "2022-09-15T17:53:30.112Z"
   },
   {
    "duration": 17,
    "start_time": "2022-09-15T17:53:32.356Z"
   },
   {
    "duration": 15,
    "start_time": "2022-09-15T17:53:35.256Z"
   },
   {
    "duration": 3,
    "start_time": "2022-09-15T17:53:39.590Z"
   },
   {
    "duration": 10,
    "start_time": "2022-09-15T17:53:41.805Z"
   },
   {
    "duration": 5,
    "start_time": "2022-09-15T17:53:44.608Z"
   },
   {
    "duration": 3,
    "start_time": "2022-09-15T17:53:51.074Z"
   },
   {
    "duration": 7,
    "start_time": "2022-09-15T17:53:53.459Z"
   },
   {
    "duration": 11,
    "start_time": "2022-09-15T17:53:58.726Z"
   },
   {
    "duration": 11,
    "start_time": "2022-09-15T17:54:05.089Z"
   },
   {
    "duration": 15,
    "start_time": "2022-09-15T17:54:16.508Z"
   },
   {
    "duration": 15,
    "start_time": "2022-09-15T17:54:22.488Z"
   },
   {
    "duration": 17,
    "start_time": "2022-09-15T17:54:27.729Z"
   },
   {
    "duration": 7,
    "start_time": "2022-09-15T17:57:20.144Z"
   },
   {
    "duration": 9,
    "start_time": "2022-09-15T17:57:28.862Z"
   },
   {
    "duration": 8,
    "start_time": "2022-09-15T17:58:39.629Z"
   },
   {
    "duration": 9,
    "start_time": "2022-09-15T17:59:38.699Z"
   },
   {
    "duration": 7,
    "start_time": "2022-09-15T17:59:52.795Z"
   },
   {
    "duration": 8,
    "start_time": "2022-09-15T18:00:09.139Z"
   },
   {
    "duration": 7,
    "start_time": "2022-09-15T18:00:21.387Z"
   },
   {
    "duration": 8,
    "start_time": "2022-09-15T18:00:38.825Z"
   },
   {
    "duration": 12,
    "start_time": "2022-09-15T18:00:57.473Z"
   }
  ],
  "colab": {
   "name": "dpp_template_part2.ipynb",
   "provenance": []
  },
  "kernelspec": {
   "display_name": "Python 3 (ipykernel)",
   "language": "python",
   "name": "python3"
  },
  "language_info": {
   "codemirror_mode": {
    "name": "ipython",
    "version": 3
   },
   "file_extension": ".py",
   "mimetype": "text/x-python",
   "name": "python",
   "nbconvert_exporter": "python",
   "pygments_lexer": "ipython3",
   "version": "3.10.6"
  },
  "toc": {
   "base_numbering": 1,
   "nav_menu": {},
   "number_sections": true,
   "sideBar": true,
   "skip_h1_title": true,
   "title_cell": "Table of Contents",
   "title_sidebar": "Contents",
   "toc_cell": false,
   "toc_position": {},
   "toc_section_display": true,
   "toc_window_display": false
  }
 },
 "nbformat": 4,
 "nbformat_minor": 5
}
